{
 "cells": [
  {
   "cell_type": "markdown",
   "id": "bc8e5b9d",
   "metadata": {},
   "source": [
    "# 01-Python Basic Assignment"
   ]
  },
  {
   "cell_type": "markdown",
   "id": "42d7098f",
   "metadata": {},
   "source": [
    "**1. In the below elements which of them are values or an expression? eg:- values can be\n",
    "integer or string and expressions will be mathematical operators.**\n",
    "*\n",
    "&#39;hello&#39;\n",
    "-87.8\n",
    "-\n",
    "/\n",
    "+\n",
    "6"
   ]
  },
  {
   "cell_type": "markdown",
   "id": "ecd28ee7",
   "metadata": {},
   "source": [
    "In the given elements:\n",
    "   - '*' : This is a mathematical operator (expression).\n",
    "   - 'hello' : This is a string value.\n",
    "   - -87.8 : This is a floating-point number value.\n",
    "   - - : This is a mathematical operator (expression).\n",
    "   - / : This is a mathematical operator (expression).\n",
    "   - + : This is a mathematical operator (expression).\n",
    "   - 6 : This is an integer value."
   ]
  },
  {
   "cell_type": "markdown",
   "id": "8b509a83",
   "metadata": {},
   "source": [
    "**2. What is the difference between string and variable?**"
   ]
  },
  {
   "cell_type": "markdown",
   "id": "bc27ec93",
   "metadata": {},
   "source": [
    "The difference between a string and a variable:\n",
    "   - String: A string is a sequence of characters enclosed in quotes (either single quotes or double quotes). It represents textual data and can be used to store and manipulate text.\n",
    "   - Variable: A variable is a named placeholder for storing data. It can hold different types of values, including strings. Variables are used to store and retrieve data during program execution."
   ]
  },
  {
   "cell_type": "markdown",
   "id": "8d5f52ce",
   "metadata": {},
   "source": [
    "**3. Describe three different data types.**"
   ]
  },
  {
   "cell_type": "markdown",
   "id": "8d176d4a",
   "metadata": {},
   "source": [
    "Three different data types:\n",
    "   - Integer: This data type represents whole numbers without any decimal point, such as 1, 10, -5, etc.\n",
    "   - Float: This data type represents numbers with decimal points, such as 3.14, -2.5, 0.75, etc.\n",
    "   - String: This data type represents textual data enclosed in quotes, such as 'hello', \"world\", \"42\", etc."
   ]
  },
  {
   "cell_type": "markdown",
   "id": "ed49a787",
   "metadata": {},
   "source": [
    "**4. What is an expression made up of? What do all expressions do?**"
   ]
  },
  {
   "cell_type": "markdown",
   "id": "73960369",
   "metadata": {},
   "source": [
    "An expression is made up of variables, values, and operators combined together to produce a new value. Expressions can include mathematical operations, logical operations, and more. All expressions evaluate to a value, which can be stored in a variable or used in other expressions."
   ]
  },
  {
   "cell_type": "markdown",
   "id": "e2d67199",
   "metadata": {},
   "source": [
    "**5. This assignment statements, like spam = 10. What is the difference between an\n",
    "expression and a statement?**"
   ]
  },
  {
   "cell_type": "markdown",
   "id": "661d2a27",
   "metadata": {},
   "source": [
    "An expression is a combination of values, variables, and operators that produces a result, whereas a statement is a complete line of code that performs an action or assignment. In the assignment statement \"spam = 10,\" it assigns the value 10 to the variable \"spam.\" The expression \"10\" is evaluated and assigned to the variable \"spam\" in the statement."
   ]
  },
  {
   "cell_type": "markdown",
   "id": "fb2e18a9",
   "metadata": {},
   "source": [
    "**6. After running the following code, what does the variable bacon contain?\n",
    "bacon = 22\n",
    "bacon + 1**"
   ]
  },
  {
   "cell_type": "markdown",
   "id": "cf74243a",
   "metadata": {},
   "source": [
    "6. After running the code, the variable \"bacon\" will contain the value 22. The expression \"bacon + 1\" adds 1 to the current value of \"bacon\" (which is 22) but does not modify the variable itself. So, the value of \"bacon\" remains 22."
   ]
  },
  {
   "cell_type": "markdown",
   "id": "d5c9b7c5",
   "metadata": {},
   "source": [
    "**7. What should the values of the following two terms be?\n",
    "&#39;spam&#39; + &#39;spamspam&#39;\n",
    "&#39;spam&#39; * 3**"
   ]
  },
  {
   "cell_type": "markdown",
   "id": "78ec3876",
   "metadata": {},
   "source": [
    "The values of the following terms will be:\n",
    "   - 'spam' + 'spamspam' = 'spamspamspam': The '+' operator concatenates the two strings, resulting in 'spamspamspam'.\n",
    "   - 'spam' * 3 = 'spamspamspam': The '*' operator repeats the string 'spam' three times, resulting in 'spamspamspam'."
   ]
  },
  {
   "cell_type": "markdown",
   "id": "e94951ab",
   "metadata": {},
   "source": [
    "**8. Why is eggs a valid variable name while 100 is invalid?**"
   ]
  },
  {
   "cell_type": "markdown",
   "id": "f877ecb0",
   "metadata": {},
   "source": [
    "In Python, variable names cannot start with a number. \"eggs\" is a valid variable name because it starts with a letter. On the other hand, \"100\" is invalid as a variable name because it starts with a number. Variable names should follow certain rules, such as starting with a letter or underscore, and consisting of letters, numbers, or underscores."
   ]
  },
  {
   "cell_type": "markdown",
   "id": "871d97a1",
   "metadata": {},
   "source": [
    "**9. What three functions can be used to get the integer, floating-point number, or string\n",
    "version of a value?**"
   ]
  },
  {
   "cell_type": "markdown",
   "id": "ef38d0fd",
   "metadata": {},
   "source": [
    "9. Three functions that can be used to get the integer, floating-point number, or string version of a value are:\n",
    "   - Integer: The function `int()` can be used to convert a value to an integer. For example, `int(3.14)` will result in 3.\n",
    "   - Floating-point number: The function `float()` can be used to convert a value to a floating-point number. For example, `float(42)` will result in 42.0.\n",
    "   - String: The function `str()` can be used to convert a value to a string. For example, `str(10)` will result in '10'."
   ]
  },
  {
   "cell_type": "markdown",
   "id": "74cea409",
   "metadata": {},
   "source": [
    "**10. Why does this expression cause an error? How can you fix it?\n",
    "&#39;I have eaten &#39; + 99 + &#39; burritos.&#39;**"
   ]
  },
  {
   "cell_type": "markdown",
   "id": "4573bea3",
   "metadata": {},
   "source": [
    "10. The expression 'I have eaten ' +\n",
    "\n",
    " 99 + ' burritos.' causes an error because it tries to concatenate a string ('I have eaten ') with an integer (99) directly. In Python, you cannot concatenate different data types without converting them. To fix the error, you can convert the integer to a string using the `str()` function. Here's the corrected expression: 'I have eaten ' + str(99) + ' burritos.'"
   ]
  }
 ],
 "metadata": {
  "kernelspec": {
   "display_name": "Python 3 (ipykernel)",
   "language": "python",
   "name": "python3"
  },
  "language_info": {
   "codemirror_mode": {
    "name": "ipython",
    "version": 3
   },
   "file_extension": ".py",
   "mimetype": "text/x-python",
   "name": "python",
   "nbconvert_exporter": "python",
   "pygments_lexer": "ipython3",
   "version": "3.9.16"
  }
 },
 "nbformat": 4,
 "nbformat_minor": 5
}
