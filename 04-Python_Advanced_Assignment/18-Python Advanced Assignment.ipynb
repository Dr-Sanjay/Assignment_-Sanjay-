{
 "cells": [
  {
   "cell_type": "markdown",
   "id": "eacd6b9e",
   "metadata": {},
   "source": [
    "# 18-Python Advanced Assignment"
   ]
  },
  {
   "cell_type": "markdown",
   "id": "e38ba8c5",
   "metadata": {},
   "source": [
    "**Q1. Describe the differences between text and binary files in a single paragraph.**"
   ]
  },
  {
   "cell_type": "markdown",
   "id": "dfcdcd50",
   "metadata": {},
   "source": [
    "Text files store data as text, while binary files store data as binary. This means that text files can be read and written by humans, while binary files can only be read and written by machines.\n",
    "\n",
    "Text files are typically used for storing data that is meant to be human-readable, such as configuration files, log files, and text documents. Binary files are typically used for storing data that is meant to be machine-readable, such as images, audio files, and executable files."
   ]
  },
  {
   "cell_type": "markdown",
   "id": "cabe5a5d",
   "metadata": {},
   "source": [
    "**Q2. What are some scenarios where using text files will be the better option? When would you like to use binary files instead of text files?**"
   ]
  },
  {
   "cell_type": "markdown",
   "id": "08b9f1d7",
   "metadata": {},
   "source": [
    "Some scenarios where using text files will be the better option include:\n",
    "\n",
    "* When you need to be able to read and write the data with a text editor.\n",
    "* When you need to be able to share the data with someone who does not have Python.\n",
    "* When you need to be able to search the data for text strings.\n",
    "\n",
    "Some scenarios where you might want to use binary files instead of text files include:\n",
    "\n",
    "* When you need to store data that is not human-readable.\n",
    "* When you need to store data that is highly compressed.\n",
    "* When you need to store data that needs to be accessed very quickly."
   ]
  },
  {
   "cell_type": "markdown",
   "id": "df1ddd58",
   "metadata": {},
   "source": [
    "**Q3. What are some of the issues with using binary operations to read and write a Python integer directly to disc?**"
   ]
  },
  {
   "cell_type": "markdown",
   "id": "6311ee6c",
   "metadata": {},
   "source": [
    "Some of the issues with using binary operations to read and write a Python integer directly to disc include:\n",
    "\n",
    "* The data is not human-readable.\n",
    "* The data is not portable to other platforms.\n",
    "* The data is not easily searchable.\n"
   ]
  },
  {
   "cell_type": "markdown",
   "id": "e24ef9cd",
   "metadata": {},
   "source": [
    "**Q4. Describe a benefit of using the with keyword instead of explicitly opening a file.**"
   ]
  },
  {
   "cell_type": "markdown",
   "id": "853a62e8",
   "metadata": {},
   "source": [
    "The with keyword provides a number of benefits over explicitly opening a file. These benefits include:\n",
    "\n",
    "* The file is automatically closed when the with block is finished.\n",
    "* Any exceptions that occur during the with block are automatically handled.\n",
    "* The file handle is automatically cleaned up, even if an exception occurs."
   ]
  },
  {
   "cell_type": "markdown",
   "id": "a4302b52",
   "metadata": {},
   "source": [
    "**Q5. Does Python have the trailing newline while reading a line of text? Does Python append a newline when you write a line of text?**"
   ]
  },
  {
   "cell_type": "markdown",
   "id": "81b5b30e",
   "metadata": {},
   "source": [
    "Python does not have the trailing newline while reading a line of text. However, Python will append a newline when you write a line of text."
   ]
  },
  {
   "cell_type": "markdown",
   "id": "da331c99",
   "metadata": {},
   "source": [
    "**Q6. What file operations enable for random-access operation?**"
   ]
  },
  {
   "cell_type": "markdown",
   "id": "981fbb73",
   "metadata": {},
   "source": [
    "The following file operations enable for random-access operation:\n",
    "\n",
    "* `seek()`\n",
    "* `tell()`\n",
    "* `read()`\n",
    "* `write()`"
   ]
  },
  {
   "cell_type": "markdown",
   "id": "5959059d",
   "metadata": {},
   "source": [
    "**Q7. When do you think you'll use the struct package the most?**"
   ]
  },
  {
   "cell_type": "markdown",
   "id": "3eb1f68e",
   "metadata": {},
   "source": [
    "I think I'll use the struct package the most when I need to store data in a specific format that is not human-readable. For example, I might use the struct package to store data in a binary format that can be read by a machine."
   ]
  },
  {
   "cell_type": "markdown",
   "id": "0a1c2688",
   "metadata": {},
   "source": [
    "**Q8. When is pickling the best option?**"
   ]
  },
  {
   "cell_type": "markdown",
   "id": "23fa8c8c",
   "metadata": {},
   "source": [
    "Pickling is the best option when you need to store a Python object in a way that can be restored later. For example, you might use pickling to store a configuration object or a data model."
   ]
  },
  {
   "cell_type": "markdown",
   "id": "7b68348b",
   "metadata": {},
   "source": [
    "**Q9. When will it be best to use the shelve package?**"
   ]
  },
  {
   "cell_type": "markdown",
   "id": "1f92da05",
   "metadata": {},
   "source": [
    "The shelve package is best used when you need to store a collection of Python objects in a way that is easy to access. For example, you might use the shelve package to store a database of users or a collection of files."
   ]
  },
  {
   "cell_type": "markdown",
   "id": "d8453327",
   "metadata": {},
   "source": [
    "**Q10. What is a special restriction when using the shelve package, as opposed to using other data dictionaries?**"
   ]
  },
  {
   "cell_type": "markdown",
   "id": "1e6fd611",
   "metadata": {},
   "source": [
    "A special restriction when using the shelve package, as opposed to using other data dictionaries, is that the shelve package can only be used with files that are opened in binary mode."
   ]
  }
 ],
 "metadata": {
  "kernelspec": {
   "display_name": "Python 3 (ipykernel)",
   "language": "python",
   "name": "python3"
  },
  "language_info": {
   "codemirror_mode": {
    "name": "ipython",
    "version": 3
   },
   "file_extension": ".py",
   "mimetype": "text/x-python",
   "name": "python",
   "nbconvert_exporter": "python",
   "pygments_lexer": "ipython3",
   "version": "3.9.16"
  }
 },
 "nbformat": 4,
 "nbformat_minor": 5
}
