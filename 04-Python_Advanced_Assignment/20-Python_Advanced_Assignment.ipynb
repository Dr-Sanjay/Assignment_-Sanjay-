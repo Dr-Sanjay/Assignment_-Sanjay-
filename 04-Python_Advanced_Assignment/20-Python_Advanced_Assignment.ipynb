{
 "cells": [
  {
   "cell_type": "markdown",
   "id": "41fe45a3",
   "metadata": {},
   "source": [
    "# 20-Python Advanced Assignment"
   ]
  },
  {
   "cell_type": "markdown",
   "id": "ca84b8f3",
   "metadata": {},
   "source": [
    "**1. Compare and contrast the float and Decimal classes' benefits and drawbacks.**\n",
    "\n",
    "The float and Decimal classes are both used to represent floating-point numbers in Python. However, they have different benefits and drawbacks.\n",
    "\n",
    "**Floats**\n",
    "\n",
    "* Benefits:\n",
    "    * They are more efficient than Decimals.\n",
    "    * They are supported by more libraries and frameworks.\n",
    "* Drawbacks:\n",
    "    * They have less precision than Decimals.\n",
    "    * They can be inaccurate when performing calculations with small numbers.\n",
    "\n",
    "**Decimals**\n",
    "\n",
    "* Benefits:\n",
    "    * They have more precision than floats.\n",
    "    * They are more accurate when performing calculations with small numbers.\n",
    "* Drawbacks:\n",
    "    * They are less efficient than floats.\n",
    "    * They are not supported by as many libraries and frameworks."
   ]
  },
  {
   "cell_type": "markdown",
   "id": "c4dbb068",
   "metadata": {},
   "source": [
    "**2. Decimal('1.200') and Decimal('1.2') are two objects to consider. In what sense are these the same object? Are these just two ways of representing the exact same value, or do they correspond to different internal states?**"
   ]
  },
  {
   "cell_type": "markdown",
   "id": "afc56653",
   "metadata": {},
   "source": [
    "Decimal('1.200') and Decimal('1.2') are the same object in the sense that they represent the same value. However, they do not correspond to different internal states. They are both created with the same precision, and they will both behave the same way when they are used in calculations."
   ]
  },
  {
   "cell_type": "markdown",
   "id": "05ed1b20",
   "metadata": {},
   "source": [
    "**3. What happens if the equality of Decimal('1.200') and Decimal('1.2') is checked?**"
   ]
  },
  {
   "cell_type": "markdown",
   "id": "901acdc4",
   "metadata": {},
   "source": [
    "If the equality of Decimal('1.200') and Decimal('1.2') is checked, the result will be True. This is because they represent the same value."
   ]
  },
  {
   "cell_type": "markdown",
   "id": "9a5efe7e",
   "metadata": {},
   "source": [
    "**4. Why is it preferable to start a Decimal object with a string rather than a floating-point value?**"
   ]
  },
  {
   "cell_type": "markdown",
   "id": "1cc2d756",
   "metadata": {},
   "source": [
    "It is preferable to start a Decimal object with a string rather than a floating-point value because strings are more precise. When a floating-point value is converted to a Decimal, it is rounded to the precision of the Decimal. This can lead to errors if the floating-point value has more precision than the Decimal."
   ]
  },
  {
   "cell_type": "markdown",
   "id": "526b0b22",
   "metadata": {},
   "source": [
    "**5. In an arithmetic phrase, how simple is it to combine Decimal objects with integers?**"
   ]
  },
  {
   "cell_type": "markdown",
   "id": "b02ff7b4",
   "metadata": {},
   "source": [
    "It is very simple to combine Decimal objects with integers in an arithmetic phrase. Decimal objects and integers can be added, subtracted, multiplied, and divided together without any problems."
   ]
  },
  {
   "cell_type": "markdown",
   "id": "583494a3",
   "metadata": {},
   "source": [
    "**6. Can Decimal objects and floating-point values be combined easily?**"
   ]
  },
  {
   "cell_type": "markdown",
   "id": "87142c87",
   "metadata": {},
   "source": [
    "Yes, Decimal objects and floating-point values can be combined easily. When a Decimal object is combined with a floating-point value, the floating-point value is converted to a Decimal before the operation is performed."
   ]
  },
  {
   "cell_type": "markdown",
   "id": "7451f0e6",
   "metadata": {},
   "source": [
    "**7. Using the Fraction class but not the Decimal class, give an example of a quantity that can be expressed with absolute precision.**"
   ]
  },
  {
   "cell_type": "markdown",
   "id": "f2f4ad84",
   "metadata": {},
   "source": [
    "The Fraction class can be used to represent quantities that can be expressed with absolute precision. For example, the fraction 1/3 can be expressed with absolute precision, because it is a ratio of two integers."
   ]
  },
  {
   "cell_type": "markdown",
   "id": "848f480f",
   "metadata": {},
   "source": [
    "**8. Describe a quantity that can be accurately expressed by the Decimal or Fraction classes but not by a floating-point value.**"
   ]
  },
  {
   "cell_type": "markdown",
   "id": "7d15d6bf",
   "metadata": {},
   "source": [
    "The quantity pi can be accurately expressed by the Decimal or Fraction classes but not by a floating-point value. This is because pi is an irrational number, and it cannot be represented exactly as a floating-point value."
   ]
  },
  {
   "cell_type": "markdown",
   "id": "f9263969",
   "metadata": {},
   "source": [
    "**9. Consider the following two fraction objects: Fraction(1, 2) and Fraction(1, 2). (5, 10). Is the internal state of these two objects the same? Why do you think that is?**"
   ]
  },
  {
   "cell_type": "markdown",
   "id": "0d28451c",
   "metadata": {},
   "source": [
    "The internal state of the two fraction objects Fraction(1, 2) and Fraction(1, 2). (5, 10) is the same. This is because they both represent the same fraction, which is 1/2. The only difference between the two objects is the way that they are initialized. The first object is initialized with two integers, while the second object is initialized with a fraction and an integer."
   ]
  },
  {
   "cell_type": "markdown",
   "id": "5fc5bc5e",
   "metadata": {},
   "source": [
    "**10. How do the Fraction class and the integer type (int) relate to each other? Containment or inheritance?**"
   ]
  },
  {
   "cell_type": "markdown",
   "id": "6606e0d5",
   "metadata": {},
   "source": [
    "The Fraction class and the integer type (int) do not relate to each other through containment or inheritance. The Fraction class is a separate class that is not related to the int type."
   ]
  }
 ],
 "metadata": {
  "kernelspec": {
   "display_name": "Python 3 (ipykernel)",
   "language": "python",
   "name": "python3"
  },
  "language_info": {
   "codemirror_mode": {
    "name": "ipython",
    "version": 3
   },
   "file_extension": ".py",
   "mimetype": "text/x-python",
   "name": "python",
   "nbconvert_exporter": "python",
   "pygments_lexer": "ipython3",
   "version": "3.9.16"
  }
 },
 "nbformat": 4,
 "nbformat_minor": 5
}
