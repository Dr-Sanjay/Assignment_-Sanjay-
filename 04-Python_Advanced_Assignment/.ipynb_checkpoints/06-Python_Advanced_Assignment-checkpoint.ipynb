{
 "cells": [
  {
   "cell_type": "markdown",
   "id": "f0222b66",
   "metadata": {},
   "source": [
    "# 06-Python Advanced Assignment"
   ]
  },
  {
   "cell_type": "markdown",
   "id": "fa720bc3",
   "metadata": {},
   "source": [
    "**Q1. Describe three applications for exception processing.**"
   ]
  },
  {
   "cell_type": "markdown",
   "id": "c10819a3",
   "metadata": {},
   "source": [
    "* **To handle errors that can occur during program execution.** For example, if you try to divide a number by zero, an exception will be raised. You can use exception processing to handle this error and prevent your program from crashing.\n",
    "* **To provide a graceful way to exit a program.** For example, if you reach the end of a file, you can use exception processing to gracefully exit the program instead of just crashing.\n",
    "* **To control the flow of your program.** For example, you can use exception processing to check for certain conditions and then take different actions depending on whether or not the condition is met."
   ]
  },
  {
   "cell_type": "markdown",
   "id": "60b1bf56",
   "metadata": {},
   "source": [
    "**Q2. What happens if you don't do something extra to treat an exception?**"
   ]
  },
  {
   "cell_type": "markdown",
   "id": "9dc21480",
   "metadata": {},
   "source": [
    "If you don't do something extra to treat an exception, your program will crash. This is because the Python interpreter will not know how to handle the error and will simply stop executing your program."
   ]
  },
  {
   "cell_type": "markdown",
   "id": "f588cc04",
   "metadata": {},
   "source": [
    "**Q3. What are your options for recovering from an exception in your script?**"
   ]
  },
  {
   "cell_type": "markdown",
   "id": "6693f63b",
   "metadata": {},
   "source": [
    "There are a few different options you have for recovering from an exception in your script. You can:\n",
    "\n",
    "* **Handle the exception.** This means that you can write code that will be executed when the exception is raised. This code can be used to print an error message, log the error, or take other actions to try to recover from the error.\n",
    "* **Reraise the exception.** This means that you can pass the exception back to the Python interpreter. This will cause the interpreter to stop executing your program, but it will also give you a chance to debug the error.\n",
    "* **Ignore the exception.** This means that you can simply do nothing when the exception is raised. This is not recommended, as it will prevent your program from handling the error and could lead to further problems."
   ]
  },
  {
   "cell_type": "markdown",
   "id": "a4f4bef1",
   "metadata": {},
   "source": [
    "**Q4. Describe two methods for triggering exceptions in your script.**"
   ]
  },
  {
   "cell_type": "markdown",
   "id": "f3fcdc9d",
   "metadata": {},
   "source": [
    "There are a few different ways to trigger exceptions in your Python script. Two common methods are:\n",
    "\n",
    "* **Using the `raise` keyword.** This keyword allows you to explicitly raise an exception. For example, you could use the following code to raise a `ValueError` exception:\n",
    "\n",
    "```python\n",
    "raise ValueError(\"This is an invalid value.\")\n",
    "```\n",
    "\n",
    "* **Using the `assert` statement.** `assert` statement allows you to check for a condition. If the condition is not met, an exception will be raised. For example, you could use the following code to check if a value is greater than 0. If the value is not greater than 0, an `AssertionError` exception will be raised:\n",
    "\n",
    "```python\n",
    "assert value > 0, \"Value must be greater than 0.\"\n",
    "```"
   ]
  },
  {
   "cell_type": "markdown",
   "id": "2a9f9dc5",
   "metadata": {},
   "source": [
    "**Q5. Identify two methods for specifying actions to be executed at termination time, regardless of whether or not an exception exists.**"
   ]
  },
  {
   "cell_type": "markdown",
   "id": "72fcb8e6",
   "metadata": {},
   "source": [
    "There are two methods for specifying actions to be executed at termination time, regardless of whether or not an exception exists:\n",
    "\n",
    "* **The `finally` clause.** The `finally` clause is executed at the end of a `try` block, regardless of whether or not an exception is raised. This can be used to perform cleanup tasks, such as closing files or releasing resources.\n",
    "* **The `atexit` hook.** `atexit` hook is a function that is called when the Python interpreter is about to exit. This can be used to perform any tasks that need to be executed before the program terminates."
   ]
  }
 ],
 "metadata": {
  "kernelspec": {
   "display_name": "Python 3 (ipykernel)",
   "language": "python",
   "name": "python3"
  },
  "language_info": {
   "codemirror_mode": {
    "name": "ipython",
    "version": 3
   },
   "file_extension": ".py",
   "mimetype": "text/x-python",
   "name": "python",
   "nbconvert_exporter": "python",
   "pygments_lexer": "ipython3",
   "version": "3.9.16"
  }
 },
 "nbformat": 4,
 "nbformat_minor": 5
}
