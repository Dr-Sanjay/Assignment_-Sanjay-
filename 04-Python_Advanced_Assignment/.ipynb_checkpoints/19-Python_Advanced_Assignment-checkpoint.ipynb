{
 "cells": [
  {
   "cell_type": "markdown",
   "id": "eed73314",
   "metadata": {},
   "source": [
    "# 19-Python Advanced Assignment"
   ]
  },
  {
   "cell_type": "markdown",
   "id": "4da64a67",
   "metadata": {},
   "source": [
    "**Q1. Define the relationship between a class and its instances. Is it a one-to-one or a one-to-many partnership, for example?**"
   ]
  },
  {
   "cell_type": "markdown",
   "id": "24ef17ea",
   "metadata": {},
   "source": [
    "A class and its instances have a one-to-many relationship. This means that a class can have many instances, but each instance can only belong to one class."
   ]
  },
  {
   "cell_type": "markdown",
   "id": "7ec5ee46",
   "metadata": {},
   "source": [
    "**Q2. What kind of data is held only in an instance?**"
   ]
  },
  {
   "cell_type": "markdown",
   "id": "dc3a9750",
   "metadata": {},
   "source": [
    "Instance data is data that is unique to each instance of a class. This data is stored in the instance's __dict__ attribute."
   ]
  },
  {
   "cell_type": "markdown",
   "id": "67509b47",
   "metadata": {},
   "source": [
    "**Q3. What kind of knowledge is stored in a class?**"
   ]
  },
  {
   "cell_type": "markdown",
   "id": "db4d3e28",
   "metadata": {},
   "source": [
    "Class knowledge is data that is shared by all instances of a class. This data is stored in the class's __dict__ attribute."
   ]
  },
  {
   "cell_type": "markdown",
   "id": "9a850195",
   "metadata": {},
   "source": [
    "**Q4. What exactly is a method, and how is it different from a regular function?**"
   ]
  },
  {
   "cell_type": "markdown",
   "id": "20b59582",
   "metadata": {},
   "source": [
    "A method is a function that is defined within a class. Methods can access the class's data and methods, and they can also be called on instances of the class.\n",
    "\n",
    "The main difference between a method and a regular function is that a method is bound to a particular class, while a regular function is not. This means that a method can access the class's data and methods, while a regular function cannot."
   ]
  },
  {
   "cell_type": "markdown",
   "id": "7db41c18",
   "metadata": {},
   "source": [
    "**Q5. Is inheritance supported in Python, and if so, what is the syntax?**"
   ]
  },
  {
   "cell_type": "markdown",
   "id": "769112cd",
   "metadata": {},
   "source": [
    "Yes, inheritance is supported in Python. The syntax for inheritance is:\n",
    "\n",
    "```python\n",
    "class ChildClass(ParentClass):\n",
    "    pass\n",
    "```\n",
    "\n",
    "This code creates a new class called `ChildClass` that inherits from the `ParentClass` class."
   ]
  },
  {
   "cell_type": "markdown",
   "id": "22e1d923",
   "metadata": {},
   "source": [
    "**Q6. How much encapsulation (making instance or class variables private) does Python support?**"
   ]
  },
  {
   "cell_type": "markdown",
   "id": "7ea9dfa4",
   "metadata": {},
   "source": [
    "Python supports a limited amount of encapsulation. Instance variables can be made private by using the `__` prefix. For example, the following code defines an instance variable called `__secret` that is private:\n",
    "\n",
    "```python\n",
    "class MyClass:\n",
    "    __secret = 10\n",
    "\n",
    "    def __init__(self):\n",
    "        self.__secret = 20\n",
    "```"
   ]
  },
  {
   "cell_type": "markdown",
   "id": "844a1eac",
   "metadata": {},
   "source": [
    "**Q7. How do you distinguish between a class variable and an instance variable?**"
   ]
  },
  {
   "cell_type": "markdown",
   "id": "7766c380",
   "metadata": {},
   "source": [
    "Class variables are defined outside of any methods, while instance variables are defined within methods. Class variables are shared by all instances of a class, while instance variables are unique to each instance."
   ]
  },
  {
   "cell_type": "markdown",
   "id": "d9ac8fc2",
   "metadata": {},
   "source": [
    "**Q8. When, if ever, can self be included in a class's method definitions?**"
   ]
  },
  {
   "cell_type": "markdown",
   "id": "6f1e275f",
   "metadata": {},
   "source": [
    "The `self` keyword must be included in a class's method definitions. The `self` keyword refers to the current instance of the class."
   ]
  },
  {
   "cell_type": "markdown",
   "id": "b83ea476",
   "metadata": {},
   "source": [
    "**Q9. What is the difference between the _ _add_ _ and the _ _radd_ _ methods?**"
   ]
  },
  {
   "cell_type": "markdown",
   "id": "a0e109f5",
   "metadata": {},
   "source": [
    "The `_ _add_ _` method is called when an instance of a class is added to another object. The `_ _radd_ _` method is called when an object is added to an instance of a class."
   ]
  },
  {
   "cell_type": "markdown",
   "id": "1a383f23",
   "metadata": {},
   "source": [
    "**Q10. When is it necessary to use a reflection method? When do you not need it, even though you support the operation in question?**"
   ]
  },
  {
   "cell_type": "markdown",
   "id": "1a3bac27",
   "metadata": {},
   "source": [
    "Reflection methods are used to get information about an object at runtime. For example, you can use a reflection method to get the name of a class's methods.\n",
    "\n",
    "You do not need to use a reflection method if you already know the information you need. For example, if you know the name of a class's method, you do not need to use a reflection method to get the method's definition."
   ]
  },
  {
   "cell_type": "markdown",
   "id": "2f13ee0d",
   "metadata": {},
   "source": [
    "**Q11. What is the _ _iadd_ _ method called?**"
   ]
  },
  {
   "cell_type": "markdown",
   "id": "8fff7c6d",
   "metadata": {},
   "source": [
    "The `_ _iadd_ _` method is called when an instance of a class is incremented."
   ]
  },
  {
   "cell_type": "markdown",
   "id": "3ba64b64",
   "metadata": {},
   "source": [
    "**Q12. Is the _ _init_ _ method inherited by subclasses? What do you do if you need to customize its behavior within a subclass?**"
   ]
  },
  {
   "cell_type": "markdown",
   "id": "b3abba60",
   "metadata": {},
   "source": [
    "Yes, the `_ _init_ _` method is inherited by subclasses. If you need to customize the behavior of the `_ _init_ _` method within a subclass, you can override the method.\n",
    "\n",
    "To override the `_ _init_ _` method, you need to define a method with the same name in the subclass. The subclass's `_ _init_ _` method will be called after the superclass's `_ _init_ _` method."
   ]
  }
 ],
 "metadata": {
  "kernelspec": {
   "display_name": "Python 3 (ipykernel)",
   "language": "python",
   "name": "python3"
  },
  "language_info": {
   "codemirror_mode": {
    "name": "ipython",
    "version": 3
   },
   "file_extension": ".py",
   "mimetype": "text/x-python",
   "name": "python",
   "nbconvert_exporter": "python",
   "pygments_lexer": "ipython3",
   "version": "3.9.16"
  }
 },
 "nbformat": 4,
 "nbformat_minor": 5
}
