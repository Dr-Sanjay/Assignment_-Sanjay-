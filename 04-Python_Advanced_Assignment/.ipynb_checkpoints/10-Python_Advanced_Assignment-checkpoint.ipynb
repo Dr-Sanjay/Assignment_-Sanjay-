{
 "cells": [
  {
   "cell_type": "markdown",
   "id": "95b30eda",
   "metadata": {},
   "source": [
    "# 10-Python Advanced Assignment"
   ]
  },
  {
   "cell_type": "markdown",
   "id": "5e348871",
   "metadata": {},
   "source": [
    "**Q1. What is the difference between __getattr__ and __getattribute__?**"
   ]
  },
  {
   "cell_type": "markdown",
   "id": "a994d946",
   "metadata": {},
   "source": [
    "The `__getattr__` and `__getattribute__` methods are both used to handle attribute access in Python. However, they have different purposes and are called at different times.\n",
    "\n",
    "The `__getattr__` method is called when an attribute is accessed that does not exist. The `__getattribute__` method is called every time an attribute is accessed, whether or not it exists.\n",
    "\n",
    "The `__getattr__` method can be used to provide a custom way of handling attribute access. For example, you could use the `__getattr__` method to create a proxy object that wraps another object and provides additional functionality.\n",
    "\n",
    "The `__getattribute__` method is used by Python to find the value of an attribute. If the attribute does not exist, the `__getattribute__` method will call the `__getattr__` method."
   ]
  },
  {
   "cell_type": "markdown",
   "id": "f689e6a3",
   "metadata": {},
   "source": [
    "**Q2. What is the difference between properties and descriptors?**"
   ]
  },
  {
   "cell_type": "markdown",
   "id": "ca06e3eb",
   "metadata": {},
   "source": [
    "Properties and descriptors are both used to provide a way of accessing attributes in Python. However, they have different implementations and purposes.\n",
    "\n",
    "Properties are a simpler way of accessing attributes. They are implemented as a special type of method that is called when an attribute is accessed.\n",
    "\n",
    "Descriptors are a more complex way of accessing attributes. They are implemented as a class that can be used to define the behavior of an attribute.\n",
    "\n",
    "The main difference between properties and descriptors is that properties are evaluated every time an attribute is accessed, while descriptors are only evaluated once, when the descriptor is created."
   ]
  },
  {
   "cell_type": "markdown",
   "id": "f728da6b",
   "metadata": {},
   "source": [
    "**Q3. What are the key differences in functionality between __getattr__ and __getattribute__, as well as properties and descriptors?**"
   ]
  },
  {
   "cell_type": "markdown",
   "id": "b353fac6",
   "metadata": {},
   "source": [
    "The key differences in functionality between `__getattr__` and `__getattribute__`, as well as properties and descriptors, are:\n",
    "\n",
    "* **`__getattr__` is called when an attribute does not exist, while `__getattribute__` is called every time an attribute is accessed.**\n",
    "* **Properties are a simpler way of accessing attributes, while descriptors are a more complex way of accessing attributes.**\n",
    "* **Properties are evaluated every time an attribute is accessed, while descriptors are only evaluated once, when the descriptor is created.**\n",
    "\n",
    "In general, properties are a good choice for simple attribute access, while descriptors are a good choice for more complex attribute access."
   ]
  }
 ],
 "metadata": {
  "kernelspec": {
   "display_name": "Python 3 (ipykernel)",
   "language": "python",
   "name": "python3"
  },
  "language_info": {
   "codemirror_mode": {
    "name": "ipython",
    "version": 3
   },
   "file_extension": ".py",
   "mimetype": "text/x-python",
   "name": "python",
   "nbconvert_exporter": "python",
   "pygments_lexer": "ipython3",
   "version": "3.9.16"
  }
 },
 "nbformat": 4,
 "nbformat_minor": 5
}
