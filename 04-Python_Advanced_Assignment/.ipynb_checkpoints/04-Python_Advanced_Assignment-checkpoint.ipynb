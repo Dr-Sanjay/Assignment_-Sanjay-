{
 "cells": [
  {
   "cell_type": "markdown",
   "id": "acbd6e6e",
   "metadata": {},
   "source": [
    "# 04-Python Advanced Assignment"
   ]
  },
  {
   "cell_type": "markdown",
   "id": "d05dacf3",
   "metadata": {},
   "source": [
    "**Q1. Which two operator overloading methods can you use in your classes to support iteration?**"
   ]
  },
  {
   "cell_type": "markdown",
   "id": "abef5df2",
   "metadata": {},
   "source": [
    "The two operator overloading methods that can be used in classes to support iteration are `__getitem__()` and `__len__()`. The `__getitem__()` method is called when an object is indexed, and the `__len__()` method is called when the length of an object is requested. By overloading these methods, you can customize the way that your objects are iterated over and their length is determined."
   ]
  },
  {
   "cell_type": "markdown",
   "id": "318c4182",
   "metadata": {},
   "source": [
    "**Q2. In what contexts do the two operator overloading methods manage printing?**"
   ]
  },
  {
   "cell_type": "markdown",
   "id": "0559ed75",
   "metadata": {},
   "source": [
    "The `__getitem__()` method is also called when an object is printed, so it can be used to customize the way that your objects are printed. The `__len__()` method is not called when an object is printed, so it does not affect the way that your objects are printed."
   ]
  },
  {
   "cell_type": "markdown",
   "id": "905d123b",
   "metadata": {},
   "source": [
    "**Q3. In a class, how do you intercept slice operations?**"
   ]
  },
  {
   "cell_type": "markdown",
   "id": "abecf41e",
   "metadata": {},
   "source": [
    "To intercept slice operations in a class, you can overload the `__getitem__()` method. The `__getitem__()` method is called when an object is indexed, and it can be used to return a slice of the object. For example, the following code shows how to intercept slice operations in a class:\n",
    "\n",
    "```python\n",
    "class MyClass:\n",
    "    def __init__(self, data):\n",
    "        self.data = data\n",
    "\n",
    "    def __getitem__(self, index):\n",
    "        if isinstance(index, slice):\n",
    "            return self.data[index]\n",
    "        else:\n",
    "            return self.data[index]\n",
    "\n",
    "my_class = MyClass([1, 2, 3, 4, 5])\n",
    "print(my_class[1:3])\n",
    "# Output: [2, 3]\n",
    "```"
   ]
  },
  {
   "cell_type": "markdown",
   "id": "22c13489",
   "metadata": {},
   "source": [
    "**Q4. In a class, how do you capture in-place addition?**"
   ]
  },
  {
   "cell_type": "markdown",
   "id": "88acc382",
   "metadata": {},
   "source": [
    "To capture in-place addition in a class, you can overload the `__add__()` method. The `__add__()` method is called when two objects are added together, and it can be used to return a new object that is the result of the addition. For example, the following code shows how to capture in-place addition in a class:\n",
    "\n",
    "```python\n",
    "class MyClass:\n",
    "    def __init__(self, data):\n",
    "        self.data = data\n",
    "\n",
    "    def __add__(self, other):\n",
    "        new_data = self.data + other.data\n",
    "        return MyClass(new_data)\n",
    "\n",
    "my_class1 = MyClass([1, 2, 3])\n",
    "my_class2 = MyClass([4, 5, 6])\n",
    "\n",
    "new_class = my_class1 + my_class2\n",
    "print(new_class.data)\n",
    "# Output: [5, 7, 9]\n",
    "```"
   ]
  },
  {
   "cell_type": "markdown",
   "id": "813765e9",
   "metadata": {},
   "source": [
    "**Q5. When is it appropriate to use operator overloading?**"
   ]
  },
  {
   "cell_type": "markdown",
   "id": "b5672c5f",
   "metadata": {},
   "source": [
    "Operator overloading can be used to make your code more readable and concise. It can also be used to provide custom functionality for your objects. However, it is important to use operator overloading sparingly, as it can make your code less readable and more difficult to maintain.\n",
    "\n",
    "Here are some examples of when it is appropriate to use operator overloading:\n",
    "\n",
    "* When we want to customize the way that your objects are iterated over.\n",
    "* When we want to customize the way that your objects are printed.\n",
    "* When we want to capture in-place operations such as addition and subtraction."
   ]
  }
 ],
 "metadata": {
  "kernelspec": {
   "display_name": "Python 3 (ipykernel)",
   "language": "python",
   "name": "python3"
  },
  "language_info": {
   "codemirror_mode": {
    "name": "ipython",
    "version": 3
   },
   "file_extension": ".py",
   "mimetype": "text/x-python",
   "name": "python",
   "nbconvert_exporter": "python",
   "pygments_lexer": "ipython3",
   "version": "3.9.16"
  }
 },
 "nbformat": 4,
 "nbformat_minor": 5
}
