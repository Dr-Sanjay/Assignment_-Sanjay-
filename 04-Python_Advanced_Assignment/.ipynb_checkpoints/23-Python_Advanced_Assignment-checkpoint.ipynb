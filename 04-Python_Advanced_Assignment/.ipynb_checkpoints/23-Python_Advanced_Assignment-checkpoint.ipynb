{
 "cells": [
  {
   "cell_type": "markdown",
   "id": "bf81b973",
   "metadata": {},
   "source": [
    "# 23-Python Advanced Assignment"
   ]
  },
  {
   "cell_type": "markdown",
   "id": "b21e5e7a",
   "metadata": {},
   "source": [
    "**Q1. If you have any, what are your choices for increasing the comparison between different figures on the same graph?**"
   ]
  },
  {
   "cell_type": "markdown",
   "id": "2f5cea11",
   "metadata": {},
   "source": [
    "There are a few things you can do to increase the comparison between different figures on the same graph:\n",
    "\n",
    "* Use different colors for each figure.\n",
    "* Use different line styles for each figure.\n",
    "* Use different markers for each figure.\n",
    "* Change the aspect ratio of the graph.\n",
    "* Add a legend to the graph."
   ]
  },
  {
   "cell_type": "markdown",
   "id": "e8cf31a6",
   "metadata": {},
   "source": [
    "**Q2. Can you explain the benefit of compound interest over a higher rate of interest that does not compound after reading this chapter?**"
   ]
  },
  {
   "cell_type": "markdown",
   "id": "83512375",
   "metadata": {},
   "source": [
    "Compound interest is when interest is earned on interest. This means that the interest you earn in the first year is added to your balance, and then interest is earned on that balance in the second year. This can lead to significant growth over time, even if the interest rate is relatively low.\n",
    "\n",
    "For example, if you invest \\$100 at an interest rate of 5% that compounds annually, you will have \\$127.63 after 5 years. However, if you invest \\$100 at an interest rate of 10% that does not compound, you will only have \\$165 after 5 years."
   ]
  },
  {
   "cell_type": "markdown",
   "id": "853d3024",
   "metadata": {},
   "source": [
    "**Q3. What is a histogram, exactly? Name a numpy method for creating such a graph.**"
   ]
  },
  {
   "cell_type": "markdown",
   "id": "05aa2342",
   "metadata": {},
   "source": [
    "A histogram is a graph that shows the distribution of data. It is a bar graph where the height of each bar represents the number of data points that fall within a certain range.\n",
    "\n",
    "The numpy method for creating a histogram is `numpy.histogram()`. This method takes two arguments: the data and the number of bins. The bins are the ranges that the data will be divided into."
   ]
  },
  {
   "cell_type": "markdown",
   "id": "03a8c663",
   "metadata": {},
   "source": [
    "**Q4. If necessary, how do you change the aspect ratios between the X and Y axes?**"
   ]
  },
  {
   "cell_type": "markdown",
   "id": "26bfc436",
   "metadata": {},
   "source": [
    "The aspect ratio of a graph is the ratio of the width to the height. You can change the aspect ratio of a graph by using the `aspect` keyword argument in the `matplotlib.pyplot.plot()` function.\n",
    "\n",
    "For example, to set the aspect ratio to 1:1, you would use the following code:\n",
    "\n",
    "```python\n",
    "import matplotlib.pyplot as plt\n",
    "\n",
    "data = [1, 2, 3, 4, 5]\n",
    "\n",
    "plt.plot(data, data, aspect=1)\n",
    "\n",
    "plt.show()\n",
    "```"
   ]
  },
  {
   "cell_type": "markdown",
   "id": "c184096a",
   "metadata": {},
   "source": [
    "**Q5. Compare and contrast the three types of array multiplication between two numpy arrays: dot product, outer product, and regular multiplication of two numpy arrays.**"
   ]
  },
  {
   "cell_type": "markdown",
   "id": "9cd038a9",
   "metadata": {},
   "source": [
    "The dot product is the sum of the products of the corresponding elements in two arrays. The outer product is the product of two arrays, where each element in the resulting array is the product of the corresponding elements in the two input arrays. Regular multiplication is the element-wise multiplication of two arrays.\n",
    "\n",
    "The dot product is used to calculate the similarity between two vectors. The outer product is used to create a matrix that represents all possible pairs of elements from two vectors. Regular multiplication is used to calculate the product of two matrices."
   ]
  },
  {
   "cell_type": "markdown",
   "id": "c5a26151",
   "metadata": {},
   "source": [
    "**Q6. Before you buy a home, which numpy function will you use to measure your monthly mortgage payment?**"
   ]
  },
  {
   "cell_type": "markdown",
   "id": "a4449c6b",
   "metadata": {},
   "source": [
    "The numpy function that you will use to measure your monthly mortgage payment is `numpy.pmt()`. This function takes three arguments: the principal amount, the interest rate, and the number of years.\n",
    "\n",
    "For example, to calculate your monthly mortgage payment if you have a principal amount of \\$200,000, an interest rate of 5%, and a loan term of 30 years, you would use the following code:\n",
    "\n",
    "```python\n",
    "import numpy as np\n",
    "\n",
    "principal = 200000\n",
    "interest = 0.05\n",
    "years = 30\n",
    "\n",
    "monthly_payment = np.pmt(interest, years, principal)\n",
    "\n",
    "print(monthly_payment)\n",
    "```\n",
    "\n",
    "This code will print the following output:\n",
    "\n",
    "```\n",
    "$1,094.96\n",
    "```"
   ]
  },
  {
   "cell_type": "markdown",
   "id": "9c8e0bea",
   "metadata": {},
   "source": [
    "**Q7. Can string data be stored in numpy arrays? If so, list at least one restriction that applies to this data.**"
   ]
  },
  {
   "cell_type": "markdown",
   "id": "42848cd9",
   "metadata": {},
   "source": [
    "Yes, string data can be stored in numpy arrays. However, there are a few restrictions that apply to this data:\n",
    "\n",
    "* Strings must be encoded as bytes.\n",
    "* Strings must be of the same length.\n",
    "* Strings must be stored in contiguous memory.\n",
    "\n",
    "If you try to store strings that do not meet these restrictions, you will get an error."
   ]
  }
 ],
 "metadata": {
  "kernelspec": {
   "display_name": "Python 3 (ipykernel)",
   "language": "python",
   "name": "python3"
  },
  "language_info": {
   "codemirror_mode": {
    "name": "ipython",
    "version": 3
   },
   "file_extension": ".py",
   "mimetype": "text/x-python",
   "name": "python",
   "nbconvert_exporter": "python",
   "pygments_lexer": "ipython3",
   "version": "3.9.16"
  }
 },
 "nbformat": 4,
 "nbformat_minor": 5
}
