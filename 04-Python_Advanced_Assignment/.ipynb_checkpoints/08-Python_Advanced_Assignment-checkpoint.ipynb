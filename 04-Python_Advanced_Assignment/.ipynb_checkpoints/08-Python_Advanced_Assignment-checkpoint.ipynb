{
 "cells": [
  {
   "cell_type": "markdown",
   "id": "d293f31d",
   "metadata": {},
   "source": [
    "# 08-Python Advanced Assignment"
   ]
  },
  {
   "cell_type": "markdown",
   "id": "4e67d2f7",
   "metadata": {},
   "source": [
    "**Q1. What are the two latest user-defined exception constraints in Python 3.X?**"
   ]
  },
  {
   "cell_type": "markdown",
   "id": "111ad2ca",
   "metadata": {},
   "source": [
    "The two latest user-defined exception constraints in Python 3.X are:\n",
    "\n",
    "* **The `__cause__` attribute:** This attribute stores the exception that caused the current exception to be raised.\n",
    "* **The `__context__` attribute:** This attribute stores a tuple of exceptions that were active when the current exception was raised."
   ]
  },
  {
   "cell_type": "markdown",
   "id": "c4dcbba5",
   "metadata": {},
   "source": [
    "**Q2. How are class-based exceptions that have been raised matched to handlers?**"
   ]
  },
  {
   "cell_type": "markdown",
   "id": "2f93f1cd",
   "metadata": {},
   "source": [
    "Class-based exceptions that have been raised are matched to handlers by their class hierarchy. The first handler that matches the class of the exception will be executed. If no handler matches the class of the exception, the exception will propagate to the next level of the call stack."
   ]
  },
  {
   "cell_type": "markdown",
   "id": "b58db848",
   "metadata": {},
   "source": [
    "**Q3. Describe two methods for attaching context information to exception artefacts.**"
   ]
  },
  {
   "cell_type": "markdown",
   "id": "4cafa819",
   "metadata": {},
   "source": [
    "There are two methods for attaching context information to exception artefacts:\n",
    "\n",
    "* **The `__context__` attribute:** This attribute can be used to store a tuple of context information that will be passed to the handlers that catch the exception.\n",
    "* **The `with` statement:** The `with` statement can be used to attach context information to an exception by using the `as` clause. The value that is assigned to the `as` variable will be the context information that is attached to the exception."
   ]
  },
  {
   "cell_type": "markdown",
   "id": "cbefe2e9",
   "metadata": {},
   "source": [
    "**Q4. Describe two methods for specifying the text of an exception object's error message.**"
   ]
  },
  {
   "cell_type": "markdown",
   "id": "2e6e465e",
   "metadata": {},
   "source": [
    "There are two methods for specifying the text of an exception object's error message:\n",
    "\n",
    "* **The `__str__` method:** This method is called when the exception object is converted to a string. The `__str__` method can be overridden to specify the text of the error message.\n",
    "* **The `__repr__` method:** This method is called when the exception object is printed. The `__repr__` method can be overridden to specify the text of the error message that is printed."
   ]
  },
  {
   "cell_type": "markdown",
   "id": "2f0c233d",
   "metadata": {},
   "source": [
    "**Q5. Why do you no longer use string-based exceptions?**"
   ]
  },
  {
   "cell_type": "markdown",
   "id": "c85f1a1f",
   "metadata": {},
   "source": [
    "String-based exceptions are no longer used in Python because they are not as flexible or as powerful as class-based exceptions. Class-based exceptions allow you to store more information about the exception, such as the class of the exception, the context information, and the error message. Class-based exceptions also allow you to create your own custom exceptions."
   ]
  }
 ],
 "metadata": {
  "kernelspec": {
   "display_name": "Python 3 (ipykernel)",
   "language": "python",
   "name": "python3"
  },
  "language_info": {
   "codemirror_mode": {
    "name": "ipython",
    "version": 3
   },
   "file_extension": ".py",
   "mimetype": "text/x-python",
   "name": "python",
   "nbconvert_exporter": "python",
   "pygments_lexer": "ipython3",
   "version": "3.9.16"
  }
 },
 "nbformat": 4,
 "nbformat_minor": 5
}
