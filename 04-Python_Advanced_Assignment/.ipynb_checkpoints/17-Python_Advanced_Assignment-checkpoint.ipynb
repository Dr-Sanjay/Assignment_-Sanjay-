{
 "cells": [
  {
   "cell_type": "markdown",
   "id": "856a83c4",
   "metadata": {},
   "source": [
    "# 17-Python Advanced Assignment"
   ]
  },
  {
   "cell_type": "markdown",
   "id": "b9fe0de8",
   "metadata": {},
   "source": [
    "**Q1. Explain the difference between greedy and non-greedy syntax with visual terms in as few words as possible. What is the bare minimum effort required to transform a greedy pattern into a non-greedy one? What characters or characters can you introduce or change?**"
   ]
  },
  {
   "cell_type": "markdown",
   "id": "56afe990",
   "metadata": {},
   "source": [
    "Greedy matching is the default behavior of regular expressions, where the regular expression engine will try to match as much text as possible. Non-greedy matching, also known as lazy matching, tries to match as little text as possible.\n",
    "\n",
    "Visually, greedy matching is like a greedy person who will take as much food as they can fit on their plate, while non-greedy matching is like a person who will only take enough food to satisfy their hunger.\n",
    "\n",
    "To transform a greedy pattern into a non-greedy one, we can simply add a `?` after the quantifier. For example, the greedy pattern `.*` matches as much text as possible, while the non-greedy pattern `.*?` matches as little text as possible."
   ]
  },
  {
   "cell_type": "markdown",
   "id": "42a22401",
   "metadata": {},
   "source": [
    "**Q2. When exactly does greedy versus non-greedy make a difference?  What if you're looking for a non-greedy match but the only one available is greedy?**"
   ]
  },
  {
   "cell_type": "markdown",
   "id": "62cde998",
   "metadata": {},
   "source": [
    "Greedy versus non-greedy matching makes a difference when we want to match a specific amount of text. For example, if we want to match the word \"the\" in a string, we would use the greedy pattern `the`. This will match the entire word, even if it is surrounded by other text. However, if we want to match only the first occurrence of the word \"the\", we would use the non-greedy pattern `the?`. This will match the word \"the\" only if it is not followed by any other text.\n",
    "\n",
    "If you are looking for a non-greedy match but the only one available is greedy, you can use a look-ahead condition. A look-ahead condition is a special type of regular expression that matches a pattern but does not consume the characters it examines. This means that the regular expression engine will continue to search for other matches after it has found a match for the look-ahead condition."
   ]
  },
  {
   "cell_type": "markdown",
   "id": "67a7dd21",
   "metadata": {},
   "source": [
    "**Q3. In a simple match of a string, which looks only for one match and does not do any replacement, is the use of a nontagged group likely to make any practical difference?**"
   ]
  },
  {
   "cell_type": "markdown",
   "id": "1bed2d55",
   "metadata": {},
   "source": [
    "In a simple match of a string, which looks only for one match and does not do any replacement, the use of a nontagged group is not likely to make any practical difference. This is because the nontagged group will simply be ignored by the regular expression engine.\n",
    "\n",
    "However, if you are doing more complex operations with the regular expression, such as replacing text or extracting information from the matched text, then the use of a nontagged group can make a difference. This is because the nontagged group will be available to your program after the regular expression has matched the string."
   ]
  },
  {
   "cell_type": "markdown",
   "id": "4cce2028",
   "metadata": {},
   "source": [
    "**Q4. Describe a scenario in which using a nontagged category would have a significant impact on the program's outcomes.**"
   ]
  },
  {
   "cell_type": "markdown",
   "id": "4c653604",
   "metadata": {},
   "source": [
    "A scenario in which using a nontagged group would have a significant impact on the program's results is if you are trying to extract information from a string. For example, if you are trying to extract the first word from a string, you could use the regular expression `\\b(\\w+)\\b`. This will match the first word in the string, and the nontagged group `\\w+` will contain the matched text.\n",
    "\n",
    "If you used the greedy version of this regular expression, `\\b(\\w+)`, the regular expression engine would match the longest possible word in the string. This could cause problems if the first word in the string is actually a substring of a longer word. For example, the string \"The cow jumped over the moon\" would match the word \"cow\" if you used the greedy version of the regular expression. However, if you used the nontagged version of the regular expression, the regular expression engine would only match the first word in the string, which is \"The\"."
   ]
  },
  {
   "cell_type": "markdown",
   "id": "999d3550",
   "metadata": {},
   "source": [
    "**Q5. Unlike a normal regex pattern, a look-ahead condition does not consume the characters it examines. Describe a situation in which this could make a difference in the results of your programme.**"
   ]
  },
  {
   "cell_type": "markdown",
   "id": "da3cf204",
   "metadata": {},
   "source": [
    "Unlike a normal regex pattern, a look-ahead condition does not consume the characters it examines. This means that the regular expression engine will continue to search for other matches after it has found a match for the look-ahead condition.\n",
    "\n",
    "This can make a difference in the results of your program if you are using the look-ahead condition to match a pattern that is not followed by a specific other pattern. For example, the regular expression `\\b(the)\\b(?= )` matches the word \"the\" if it is followed by a space. However, the regular expression `\\b(the)\\b` would also match the word \"the\" if it is followed by another word."
   ]
  },
  {
   "cell_type": "markdown",
   "id": "3f6fadb7",
   "metadata": {},
   "source": [
    "**Q6. In standard expressions, what is the difference between positive look-ahead and negative look-ahead?**"
   ]
  },
  {
   "cell_type": "markdown",
   "id": "df0bd375",
   "metadata": {},
   "source": [
    "The difference between positive look-ahead and negative look-ahead is that positive look-ahead matches a pattern if it is followed by a specific other pattern, while negative look-ahead matches a pattern if it is not followed by a specific other pattern.\n",
    "\n",
    "For example, the regular expression `\\b(the)\\b(?= )` matches the word \"the\" if it is followed by a space. This is an example of positive look-ahead.\n",
    "\n",
    "The regular expression `\\b(the)\\b(?! )` matches the word \"the\" if it is not followed by a space. This is an example of negative"
   ]
  },
  {
   "cell_type": "markdown",
   "id": "19a9a83d",
   "metadata": {},
   "source": [
    "**Q7. What is the benefit of referring to groups by name rather than by number in a standard expression?**"
   ]
  },
  {
   "cell_type": "markdown",
   "id": "d781276a",
   "metadata": {},
   "source": [
    "The benefit of referring to groups by name rather than by number in a standard expression is that it makes your regular expression more readable and maintainable. This is because you can refer to the groups by their names in your code, rather than having to remember their numbers.\n",
    "\n",
    "For example, the regular expression `(?<name>\\w+) (?<age>\\d+)` matches a name and an age. The names of the groups are `name` and `age`, so you can refer to them by these names in your code. For example, you could use the code `print(group(\"name\"))` to print the name of the person."
   ]
  },
  {
   "cell_type": "markdown",
   "id": "db03aa0b",
   "metadata": {},
   "source": [
    "**Q8. Can you identify repeated items within a target string using named groups, as in \"The cow jumped over the moon\"?**"
   ]
  },
  {
   "cell_type": "markdown",
   "id": "bda6967c",
   "metadata": {},
   "source": [
    "Yes, you can identify repeated items within a target string using named groups. For example, the regular expression `(?<word>\\w+) (?<count>\\d+)(?=\\b)` matches a word and a count of the number of times the word appears in the string. The name of the group that matches the word is `word`, and the name of the group that matches the count is `count`.\n",
    "\n",
    "You can use the `group()` function to access the matched text from a named group. For example, the code `print(group(\"word\"))` would print the word that was matched by the group `word`."
   ]
  },
  {
   "cell_type": "markdown",
   "id": "290fc506",
   "metadata": {},
   "source": [
    "**Q9. When parsing a string, what is at least one thing that the Scanner interface does for you that the re.findall feature does not?**"
   ]
  },
  {
   "cell_type": "markdown",
   "id": "e231cc3f",
   "metadata": {},
   "source": [
    "The Scanner interface does a few things for you that the `re.findall()` feature does not. First, the Scanner interface can handle multiple types of input, such as files, strings, and streams. Second, the Scanner interface can provide you with more information about the matches that it finds, such as the start and end positions of the matches. Third, the Scanner interface can be used to read and parse other types of data, such as XML and JSON."
   ]
  },
  {
   "cell_type": "markdown",
   "id": "5d262d6e",
   "metadata": {},
   "source": [
    "**Q10. Does a scanner object have to be named scanner?**"
   ]
  },
  {
   "cell_type": "markdown",
   "id": "a816533b",
   "metadata": {},
   "source": [
    "No, a scanner object does not have to be named `scanner`. You can name it whatever you want. However, it is common practice to name it `scanner` because this is the name that is used in the standard library documentation."
   ]
  }
 ],
 "metadata": {
  "kernelspec": {
   "display_name": "Python 3 (ipykernel)",
   "language": "python",
   "name": "python3"
  },
  "language_info": {
   "codemirror_mode": {
    "name": "ipython",
    "version": 3
   },
   "file_extension": ".py",
   "mimetype": "text/x-python",
   "name": "python",
   "nbconvert_exporter": "python",
   "pygments_lexer": "ipython3",
   "version": "3.9.16"
  }
 },
 "nbformat": 4,
 "nbformat_minor": 5
}
