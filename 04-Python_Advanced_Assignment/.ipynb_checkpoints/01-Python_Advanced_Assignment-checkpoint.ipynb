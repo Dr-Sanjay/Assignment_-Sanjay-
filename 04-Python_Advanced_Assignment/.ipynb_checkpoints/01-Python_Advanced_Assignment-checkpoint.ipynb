{
 "cells": [
  {
   "cell_type": "markdown",
   "id": "fd2cf497",
   "metadata": {},
   "source": [
    "# 01-Python Advanced Assignment"
   ]
  },
  {
   "cell_type": "markdown",
   "id": "0cd2221f",
   "metadata": {},
   "source": [
    "**Q1. What is the purpose of Python's OOP?**"
   ]
  },
  {
   "cell_type": "markdown",
   "id": "b0410703",
   "metadata": {},
   "source": [
    "Object-oriented programming (OOP) is a programming paradigm that uses objects to represent data and behavior. In Python, OOP is used to create reusable and maintainable code. Classes are the blueprint for creating objects, and they define the attributes and methods that objects can have.\n",
    "\n",
    "The purpose of Python's OOP is to:\n",
    "\n",
    "* **Encapsulate data and behavior:** Classes encapsulate data and behavior, which means that they keep the data and code that represent an object together. This makes code more organized and easier to understand.\n",
    "* **Reuse code:** Classes can be reused to create new objects. This makes it easier to develop large and complex applications.\n",
    "* **Abstraction:** Classes can be used to abstract away the details of how an object works. This makes code more modular and easier to maintain.\n",
    "* **Polymorphism:** Classes can be used to create polymorphic objects. This means that objects of different classes can have the same methods. This can be used to create more flexible and extensible code."
   ]
  },
  {
   "cell_type": "markdown",
   "id": "9c6fa863",
   "metadata": {},
   "source": [
    "**Q2. Where does an inheritance search look for an attribute?**"
   ]
  },
  {
   "cell_type": "markdown",
   "id": "dc692e59",
   "metadata": {},
   "source": [
    "When an inheritance search looks for an attribute, it starts with the class of the object that is calling the attribute. If the attribute is not found in the class of the object, the search continues up the inheritance chain. The search stops when the attribute is found or when it reaches the top of the inheritance chain.\n",
    "\n",
    "For example, if a class `Dog` inherits from a class `Animal`, and a `Dog` object has an attribute `name`, the inheritance search will first look for the `name` attribute in the `Dog` class. If the `name` attribute is not found in the `Dog` class, the search will continue up the inheritance chain and look for the `name` attribute in the `Animal` class. If the `name` attribute is not found in the `Animal` class, the search will stop."
   ]
  },
  {
   "cell_type": "markdown",
   "id": "e639816a",
   "metadata": {},
   "source": [
    "**Q3. How do you distinguish between a class object and an instance object?**"
   ]
  },
  {
   "cell_type": "markdown",
   "id": "bb615505",
   "metadata": {},
   "source": [
    "A class object is the blueprint for creating objects. It defines the attributes and methods that objects can have. An instance object is a specific object that was created from a class. It has the attributes and methods that were defined in the class.\n",
    "\n",
    "The main difference between a class object and an instance object is that a class object cannot be used to perform any actions. It is simply a blueprint. An instance object, on the other hand, can be used to perform actions. It has the attributes and methods that were defined in the class."
   ]
  },
  {
   "cell_type": "markdown",
   "id": "c1920cd2",
   "metadata": {},
   "source": [
    "**Q4. What makes the first argument in a class’s method function special?**"
   ]
  },
  {
   "cell_type": "markdown",
   "id": "a7f2896a",
   "metadata": {},
   "source": [
    "The first argument in a class's method function is special because it refers to the object that is calling the method. This argument is usually named `self`.\n",
    "\n",
    "The `self` argument is used to access the attributes and methods of the object that is calling the method. For example, the following code shows how the `self` argument can be used to access the `name` attribute of an object:\n",
    "\n",
    "```python\n",
    "class Person:\n",
    "    def __init__(self, name):\n",
    "        self.name = name\n",
    "\n",
    "    def say_hello(self):\n",
    "        print(\"Hello, my name is {}.\".format(self.name))\n",
    "\n",
    "person = Person(\"Sanjay\")\n",
    "person.say_hello()\n",
    "```\n",
    "\n",
    "In this code, the `say_hello()` method is called on the `person` object. The `self` argument in the `say_hello()` method refers to the `person` object. This means that the `name` attribute of the `person` object can be accessed using the `self.name` syntax."
   ]
  },
  {
   "cell_type": "markdown",
   "id": "7133c665",
   "metadata": {},
   "source": [
    "**Q5. What is the purpose of the __init__ method?**"
   ]
  },
  {
   "cell_type": "markdown",
   "id": "5cfec697",
   "metadata": {},
   "source": [
    "The `__init__` method is a special method that is called when an object is created. It is used to initialize the object's attributes. The `__init__` method is always called with the `self` argument.\n",
    "\n",
    "The `__init__` method is not required, but it is a good practice to use it to initialize the object's attributes. This makes the code more organized and easier to understand."
   ]
  },
  {
   "cell_type": "markdown",
   "id": "d3a72fcd",
   "metadata": {},
   "source": [
    "**Q6. What is the process for creating a class instance?**"
   ]
  },
  {
   "cell_type": "markdown",
   "id": "c0efe712",
   "metadata": {},
   "source": [
    "To create a class instance, you need to call the class with the desired arguments. For example, the following code creates a `Person` object with the name \"Sanjay\":\n",
    "\n",
    "```python\n",
    "class Person:\n",
    "    def __init__(self, name):\n",
    "        self.name = name\n",
    "\n",
    "person = Person(\"Sanjay\")\n",
    "```\n",
    "\n",
    "In this code, the `Person` class is called with the argument \"Sanjay\""
   ]
  },
  {
   "cell_type": "markdown",
   "id": "a462af06",
   "metadata": {},
   "source": [
    "**Q7. What is the process for creating a class?**"
   ]
  },
  {
   "cell_type": "markdown",
   "id": "00831b65",
   "metadata": {},
   "source": [
    "```python\n",
    "class Classname:  \n",
    "    def __init__(self, arguments):  \n",
    "        # code to initialize the object's attributes  \n",
    "\n",
    "    def method1(self):\n",
    "        # code for method1\n",
    "\n",
    "    def method2(self):\n",
    "        # code for method2\n",
    "```"
   ]
  },
  {
   "cell_type": "markdown",
   "id": "1da63c29",
   "metadata": {},
   "source": [
    "**Q8. How would you define the superclasses of a class?**"
   ]
  },
  {
   "cell_type": "code",
   "execution_count": 6,
   "id": "86385871",
   "metadata": {},
   "outputs": [
    {
     "name": "stdout",
     "output_type": "stream",
     "text": [
      "(<class '__main__.Animal'>,)\n"
     ]
    }
   ],
   "source": [
    "#The superclasses of a class are the classes that the class inherits from. \n",
    "#The superclasses of a class are defined in the __bases__ attribute of the class. \n",
    "#For example, the following code defines a class Dog that inherits from a class Animal:\n",
    "\n",
    "class Animal:\n",
    "    pass\n",
    "\n",
    "class Dog(Animal):\n",
    "    pass\n",
    "\n",
    "print(Dog.__bases__)\n"
   ]
  }
 ],
 "metadata": {
  "kernelspec": {
   "display_name": "Python 3 (ipykernel)",
   "language": "python",
   "name": "python3"
  },
  "language_info": {
   "codemirror_mode": {
    "name": "ipython",
    "version": 3
   },
   "file_extension": ".py",
   "mimetype": "text/x-python",
   "name": "python",
   "nbconvert_exporter": "python",
   "pygments_lexer": "ipython3",
   "version": "3.9.16"
  }
 },
 "nbformat": 4,
 "nbformat_minor": 5
}
