{
 "cells": [
  {
   "cell_type": "markdown",
   "id": "57b831ea",
   "metadata": {},
   "source": [
    "# 13-Python Advanced Assignment"
   ]
  },
  {
   "cell_type": "markdown",
   "id": "50880e86",
   "metadata": {},
   "source": [
    "**Q1. Can you create a programme or function that employs both positive and negative indexing? Is there any repercussion if you do so?**"
   ]
  },
  {
   "cell_type": "markdown",
   "id": "269691f2",
   "metadata": {},
   "source": [
    "Yes, we can create a program or function that employs both positive and negative indexing. There is no repercussion if we do so. In fact, it can be useful in some cases. For example, we might want to use negative indexing to access elements from the end of a list, or might want to use both positive and negative indexing to iterate over a list in a specific order.\n",
    "\n",
    "Here is an example of a program that uses both positive and negative indexing:\n",
    "\n",
    "```python\n",
    "def list_manipulation(list1):\n",
    "    # Get the first element in the list.\n",
    "    first_element = list1[0]\n",
    "\n",
    "    # Get the last element in the list.\n",
    "    last_element = list1[-1]\n",
    "\n",
    "    # Get all the elements in the list, starting from the second element.\n",
    "    second_to_last = list1[1:]\n",
    "\n",
    "    # Get all the elements in the list, starting from the last element.\n",
    "    last_to_first = list1[-1::-1]\n",
    "\n",
    "    return first_element, last_element, second_to_last, last_to_first\n",
    "\n",
    "list1 = [1, 2, 3, 4, 5]\n",
    "first_element, last_element, second_to_last, last_to_first = list_manipulation(list1)\n",
    "\n",
    "print(first_element)  # 1\n",
    "print(last_element)  # 5\n",
    "print(second_to_last)  # [2, 3, 4]\n",
    "print(last_to_first)  # [5, 4, 3, 2, 1]\n",
    "```"
   ]
  },
  {
   "cell_type": "markdown",
   "id": "0e4ba938",
   "metadata": {},
   "source": [
    "**Q2. What is the most effective way of starting with 1,000 elements in a Python list? Assume that all elements should be set to the same value.**"
   ]
  },
  {
   "cell_type": "markdown",
   "id": "e4f7bb89",
   "metadata": {},
   "source": [
    "The most effective way of starting with 1,000 elements in a Python list is to use a list comprehension. A list comprehension is a concise way of creating a list. Here is an example of how to use a list comprehension to create a list with 1,000 elements, all set to the value 0:\n",
    "\n",
    "```python\n",
    "list_of_zeros = [0] * 1000\n",
    "```\n",
    "\n",
    "This code will create a list called `list_of_zeros` with 1,000 elements, all set to the value 0.\n",
    "\n",
    "Another way to create a list with 1,000 elements is to use a for loop. Here is an example of how to do this:\n",
    "\n",
    "```python\n",
    "list_of_zeros = []\n",
    "for i in range(1000):\n",
    "    list_of_zeros.append(0)\n",
    "```\n",
    "\n",
    "This code will also create a list called `list_of_zeros` with 1,000 elements, all set to the value 0."
   ]
  },
  {
   "cell_type": "markdown",
   "id": "ca727df4",
   "metadata": {},
   "source": [
    "**Q3. How do you slice a list to get any other part while missing the rest? (For example, suppose you want to make a new list with the elements first, third, fifth, seventh, and so on.)**"
   ]
  },
  {
   "cell_type": "markdown",
   "id": "a19baab6",
   "metadata": {},
   "source": [
    "To slice a list to get any other part while missing the rest, you can use the `step` argument to the slicing operator. The `step` argument specifies the increment between elements in the slice. For example, to slice a list to get the elements first, third, fifth, seventh, and so on, you would use the following code:\n",
    "\n",
    "```python\n",
    "list1 = [1, 2, 3, 4, 5, 6, 7, 8, 9, 10]\n",
    "\n",
    "# Get the elements first, third, fifth, seventh, and so on.\n",
    "new_list = list1[::2]\n",
    "\n",
    "print(new_list)  # [1, 3, 5, 7, 9]\n",
    "```\n",
    "\n",
    "This code will create a new list called `new_list` that contains the elements first, third, fifth, seventh, and ninth from the list `list1`."
   ]
  },
  {
   "cell_type": "markdown",
   "id": "2bcc7e35",
   "metadata": {},
   "source": [
    "**Q4. Explain the distinctions between indexing and slicing.**"
   ]
  },
  {
   "cell_type": "markdown",
   "id": "72f8e6a5",
   "metadata": {},
   "source": [
    "Indexing is a way of accessing a single element in a list. The index of an element is its position in the list. For example, the index of the first element in a list is 0, the index of the second element is 1, and so on."
   ]
  },
  {
   "cell_type": "markdown",
   "id": "87edf9bc",
   "metadata": {},
   "source": [
    "**Q5. What happens if one of the slicing expression's indexes is out of range?**"
   ]
  },
  {
   "cell_type": "markdown",
   "id": "b399f00f",
   "metadata": {},
   "source": [
    "If one of the slicing expressions' indexes is out of range, Python will return an empty list. For example, if you try to slice a list from index 10 to index 15, and the list only has 5 elements, Python will return an empty list."
   ]
  },
  {
   "cell_type": "markdown",
   "id": "2528e99a",
   "metadata": {},
   "source": [
    "**Q6. If you pass a list to a function, and if you want the function to be able to change the values of the list—so that the list is different after the function returns—what action should you avoid?**"
   ]
  },
  {
   "cell_type": "markdown",
   "id": "deb188ad",
   "metadata": {},
   "source": [
    "If you pass a list to a function, and you want the function to be able to change the values of the list, you should avoid passing the list by value. Passing a list by value means that the function will only get a copy of the list, and any changes that the function makes to the copy will not be reflected in the original list.\n",
    "\n",
    "To pass a list to a function so that the function can change the values of the list, you should pass the list by reference. Passing a list by reference means that the function will get a pointer to the list, and any changes that the function makes to the list will be reflected in the original list."
   ]
  },
  {
   "cell_type": "markdown",
   "id": "08c3c39a",
   "metadata": {},
   "source": [
    "**Q7. What is the concept of an unbalanced matrix?**"
   ]
  },
  {
   "cell_type": "markdown",
   "id": "7957490b",
   "metadata": {},
   "source": [
    "An unbalanced matrix is a matrix in which the number of rows is not equal to the number of columns. For example, a 3x2 matrix is an unbalanced matrix because it has 3 rows and 2 columns.\n",
    "\n",
    "Unbalanced matrices can be useful in some cases. For example, you might use an unbalanced matrix to store data that is not evenly distributed."
   ]
  },
  {
   "cell_type": "markdown",
   "id": "1069b33a",
   "metadata": {},
   "source": [
    "**Q8. Why is it necessary to use either list comprehension or a loop to create arbitrarily large matrices?**"
   ]
  },
  {
   "cell_type": "markdown",
   "id": "6695e802",
   "metadata": {},
   "source": [
    "It is necessary to use either list comprehension or a loop to create arbitrarily large matrices because Python does not have a built-in function for creating matrices. List comprehension and loops are the only way to create matrices of arbitrary size in Python.\n",
    "\n",
    "Here is an example of how to create an arbitrarily large matrix using list comprehension:\n",
    "\n",
    "```python\n",
    "def create_matrix(rows, columns):\n",
    "    return [[0 for i in range(columns)] for j in range(rows)]\n",
    "\n",
    "matrix = create_matrix(100, 100)\n",
    "```\n",
    "\n",
    "This code will create a 100x100 matrix filled with zeros.\n",
    "\n",
    "Here is an example of how to create an arbitrarily large matrix using a loop:\n",
    "\n",
    "```python\n",
    "def create_matrix(rows, columns):\n",
    "    matrix = []\n",
    "    for i in range(rows):\n",
    "        matrix.append([])\n",
    "        for j in range(columns):\n",
    "            matrix[i].append(0)\n",
    "    return matrix\n",
    "\n",
    "matrix = create_matrix(100, 100)\n",
    "```\n",
    "\n",
    "This code will also create a 100x100 matrix filled with zeros."
   ]
  }
 ],
 "metadata": {
  "kernelspec": {
   "display_name": "Python 3 (ipykernel)",
   "language": "python",
   "name": "python3"
  },
  "language_info": {
   "codemirror_mode": {
    "name": "ipython",
    "version": 3
   },
   "file_extension": ".py",
   "mimetype": "text/x-python",
   "name": "python",
   "nbconvert_exporter": "python",
   "pygments_lexer": "ipython3",
   "version": "3.9.16"
  }
 },
 "nbformat": 4,
 "nbformat_minor": 5
}
