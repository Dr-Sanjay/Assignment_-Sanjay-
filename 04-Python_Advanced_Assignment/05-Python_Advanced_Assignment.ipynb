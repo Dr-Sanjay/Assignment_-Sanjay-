{
 "cells": [
  {
   "cell_type": "markdown",
   "id": "b597eee4",
   "metadata": {},
   "source": [
    "# 05-Python Advanced Assignment "
   ]
  },
  {
   "cell_type": "markdown",
   "id": "d9797806",
   "metadata": {},
   "source": [
    "**Q1. What is the meaning of multiple inheritance?**"
   ]
  },
  {
   "cell_type": "markdown",
   "id": "b7ef59fb",
   "metadata": {},
   "source": [
    "Multiple inheritance refers to a feature in object-oriented programming languages, where a class can inherit characteristics and behavior from multiple parent classes. In other words, a class can have more than one direct superclass. By inheriting from multiple classes, a subclass can acquire attributes and methods from all of its parent classes, allowing for code reuse and flexibility. However, multiple inheritance can lead to complexities in the class hierarchy and potential conflicts if there are naming collisions or overlapping functionality between the parent classes."
   ]
  },
  {
   "cell_type": "markdown",
   "id": "009a45fd",
   "metadata": {},
   "source": [
    "**Q2. What is the concept of delegation?**"
   ]
  },
  {
   "cell_type": "markdown",
   "id": "d699d8c4",
   "metadata": {},
   "source": [
    "Delegation is a programming concept where an object forwards or delegates a specific task to another object to perform on its behalf. Instead of implementing the functionality directly, the delegating object relies on the delegated object to handle the task. This allows for modular and flexible code organization, as it separates the responsibilities between different objects. Delegation enables objects to collaborate and interact with each other by passing certain operations or responsibilities to other objects, promoting code reuse and maintainability."
   ]
  },
  {
   "cell_type": "markdown",
   "id": "dc019bdc",
   "metadata": {},
   "source": [
    "**Q3. What is the concept of composition?**"
   ]
  },
  {
   "cell_type": "markdown",
   "id": "8925f6ac",
   "metadata": {},
   "source": [
    "Composition is a design concept in object-oriented programming that involves creating complex objects by combining simpler objects or components. In composition, an object is made up of one or more other objects, which are usually instances of other classes. The composed object owns the composed objects/components and is responsible for their lifecycle. It achieves code reuse by creating relationships between objects, allowing for more flexible and modular designs. Composition promotes encapsulation and can often be a preferred alternative to inheritance when creating complex object structures."
   ]
  },
  {
   "cell_type": "markdown",
   "id": "071bf377",
   "metadata": {},
   "source": [
    "**Q4. What are bound methods and how do we use them?**"
   ]
  },
  {
   "cell_type": "markdown",
   "id": "3066f6ec",
   "metadata": {},
   "source": [
    "Bound methods are methods that are associated with a specific instance of a class. When a method is accessed through an instance, it becomes a bound method, which automatically passes the instance as the first argument (usually referred to as `self`) to the method. Bound methods are used to access and manipulate the instance's attributes and perform actions specific to that instance. They provide a way to encapsulate behavior within an instance and are commonly used to define the behavior of an object."
   ]
  },
  {
   "cell_type": "markdown",
   "id": "74bc0e58",
   "metadata": {},
   "source": [
    "**Q5. What is the purpose of pseudoprivate attributes?**"
   ]
  },
  {
   "cell_type": "markdown",
   "id": "9ef37bd2",
   "metadata": {},
   "source": [
    "Pseudoprivate attributes (also known as name mangling) in Python are a naming convention that allows class attributes to be \"hidden\" or made less accessible from outside the class. By prefixing an attribute name with two underscores (e.g., `__attribute`), the attribute is \"mangled\" by the Python interpreter, adding the class name as a prefix to avoid naming conflicts in subclasses. Pseudoprivate attributes are not truly private or inaccessible, but their names are transformed to make accidental name clashes less likely. They are primarily used to indicate that an attribute is intended for internal use within the class and discourage direct access from outside the class."
   ]
  }
 ],
 "metadata": {
  "kernelspec": {
   "display_name": "Python 3 (ipykernel)",
   "language": "python",
   "name": "python3"
  },
  "language_info": {
   "codemirror_mode": {
    "name": "ipython",
    "version": 3
   },
   "file_extension": ".py",
   "mimetype": "text/x-python",
   "name": "python",
   "nbconvert_exporter": "python",
   "pygments_lexer": "ipython3",
   "version": "3.9.16"
  }
 },
 "nbformat": 4,
 "nbformat_minor": 5
}
