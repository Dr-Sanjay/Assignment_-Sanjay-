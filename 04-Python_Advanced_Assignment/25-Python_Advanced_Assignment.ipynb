{
 "cells": [
  {
   "cell_type": "markdown",
   "id": "ee132144",
   "metadata": {},
   "source": [
    "# 25-Python Advanced Assignment"
   ]
  },
  {
   "cell_type": "markdown",
   "id": "d8a877e2",
   "metadata": {},
   "source": [
    "**Q1. What is the distinction between a numpy array and a pandas data frame? Is there a way to convert between the two if there is?**"
   ]
  },
  {
   "cell_type": "markdown",
   "id": "e2283df9",
   "metadata": {},
   "source": [
    "A NumPy array is a multidimensional array of data, while a Pandas DataFrame is a two-dimensional data structure that combines the features of a NumPy array and a Python dictionary.\n",
    "\n",
    "The main difference between a NumPy array and a Pandas DataFrame is that a Pandas DataFrame has an index and column names, while a NumPy array does not. This makes it easier to work with Pandas DataFrames, as you can access data by index or column name.\n",
    "\n",
    "There are a few ways to convert between a NumPy array and a Pandas DataFrame. One way is to use the `to_frame()` method on a NumPy array. This will create a Pandas DataFrame with the same data as the NumPy array.\n",
    "\n",
    "Another way to convert between a NumPy array and a Pandas DataFrame is to use the `DataFrame()` constructor. This constructor takes a NumPy array as input and creates a Pandas DataFrame with the same data."
   ]
  },
  {
   "cell_type": "markdown",
   "id": "b4ac87b2",
   "metadata": {},
   "source": [
    "**Q2. What can go wrong when an user enters in a stock-ticker symbol, and how do you handle it?**"
   ]
  },
  {
   "cell_type": "markdown",
   "id": "30fb6310",
   "metadata": {},
   "source": [
    "There are a few things that can go wrong when an user enters in a stock-ticker symbol. One possibility is that the symbol does not exist. Another possibility is that the symbol is not traded on the exchange that the user is interested in.\n",
    "\n",
    "To handle these errors, you can use the `try-except` statement. The `try-except` statement allows you to execute code that might cause an error, and then handle the error if it occurs.\n",
    "\n",
    "For example, the following code tries to get the price of a stock with the ticker symbol \"AAPL\". If the symbol does not exist, the `except` block will be executed.\n",
    "\n",
    "```python\n",
    "try:\n",
    "  price = get_price(\"AAPL\")\n",
    "except:\n",
    "  print(\"The symbol 'AAPL' does not exist.\")\n",
    "```"
   ]
  },
  {
   "cell_type": "markdown",
   "id": "53a096bb",
   "metadata": {},
   "source": [
    "**Q3. Identify some of the plotting techniques that are used to produce a stock-market chart.**"
   ]
  },
  {
   "cell_type": "markdown",
   "id": "8a05ee72",
   "metadata": {},
   "source": [
    "Some of the plotting techniques that are used to produce a stock-market chart include:\n",
    "\n",
    "* **Line charts:** Line charts are the most common type of chart used to track stock prices. They show the closing price of a stock over time.\n",
    "* **Bar charts:** Bar charts are used to show the opening, high, low, and closing prices of a stock over time.\n",
    "* **Candlestick charts:** Candlestick charts are a type of bar chart that shows the opening, high, low, and closing prices of a stock, as well as the volume of trading.\n",
    "* **Volume charts:** Volume charts show the volume of trading for a stock over time."
   ]
  },
  {
   "cell_type": "markdown",
   "id": "d76fdd06",
   "metadata": {},
   "source": [
    "**Q4. Why is it essential to print a legend on a stock market chart?**"
   ]
  },
  {
   "cell_type": "markdown",
   "id": "9f3df7ca",
   "metadata": {},
   "source": [
    "A legend is essential to print on a stock market chart because it tells the viewer what the different lines on the chart represent. Without a legend, it would be difficult to understand what the chart is showing."
   ]
  },
  {
   "cell_type": "markdown",
   "id": "4646bcae",
   "metadata": {},
   "source": [
    "**Q5. What is the best way to limit the length of a pandas data frame to less than a year?**"
   ]
  },
  {
   "cell_type": "markdown",
   "id": "1ca9eff0",
   "metadata": {},
   "source": [
    "The best way to limit the length of a Pandas DataFrame to less than a year is to use the `to_datetime()` method to convert the `Date` column to a datetime object. Then, you can use the `query()` method to filter the DataFrame to only include rows where the `Date` column is within the past year.\n",
    "\n",
    "For example, the following code limits the length of a Pandas DataFrame to less than a year:\n",
    "\n",
    "```python\n",
    "import pandas as pd\n",
    "\n",
    "df = pd.read_csv(\"stock_data.csv\")\n",
    "\n",
    "df['Date'] = pd.to_datetime(df['Date'])\n",
    "\n",
    "df = df.query(\"Date >= '2022-01-01' and Date <= '2022-12-31'\")\n",
    "\n",
    "print(df)\n",
    "```"
   ]
  },
  {
   "cell_type": "markdown",
   "id": "4dd0dc08",
   "metadata": {},
   "source": [
    "**Q6. What is the definition of a 180-day moving average?**"
   ]
  },
  {
   "cell_type": "markdown",
   "id": "62864db0",
   "metadata": {},
   "source": [
    "A 180-day moving average is a technical indicator that is used to smooth out price data and identify trends. It is calculated by taking the average of the closing prices of a stock over the past 180 days.\n",
    "\n",
    "A 180-day moving average can be used to identify when a stock is overbought or oversold. When the price of a stock is above its 180-day"
   ]
  },
  {
   "cell_type": "markdown",
   "id": "ce2ebea5",
   "metadata": {},
   "source": [
    "**Q7. Did the chapter's final example use \"indirect\" importing? If so, how exactly do you do it?**"
   ]
  },
  {
   "cell_type": "markdown",
   "id": "4256a0e6",
   "metadata": {},
   "source": [
    "Yes, the chapter's final example used indirect importing. Indirect importing is a way to import a module by name, without having to specify the full path to the module.\n",
    "\n",
    "In the chapter's final example, the following code was used to import the `ta` module:\n",
    "\n",
    "```python\n",
    "import ta\n",
    "```\n",
    "\n",
    "The `ta` module is not installed by default, so the `import ta` statement will not work. To make the `import ta` statement work, you need to install the `ta` module first.\n",
    "\n",
    "You can install the `ta` module by running the following command in your terminal:\n",
    "\n",
    "```\n",
    "pip install ta\n",
    "```\n",
    "\n",
    "Once the `ta` module is installed, you can use the `import ta` statement to import the module.\n",
    "\n",
    "Here is how indirect importing works:\n",
    "\n",
    "1. The `import ta` statement looks for a module called `ta` in the current directory.\n",
    "2. If the `ta` module is not found in the current directory, the `import ta` statement looks for a module called `ta` in the Python standard library.\n",
    "3. If the `ta` module is not found in the Python standard library, the `import ta` statement raises an error.\n",
    "\n",
    "You can also use indirect importing to import modules from other directories. To do this, you need to specify the full path to the directory where the module is located.\n",
    "\n",
    "For example, the following code imports the `ta` module from the `/path/to/ta` directory:\n",
    "\n",
    "```python\n",
    "import ta._ta_lib\n",
    "```\n",
    "\n",
    "**Indirect importing is a useful technique for importing modules that are not installed by default.** It is also a useful technique for importing modules from other directories."
   ]
  }
 ],
 "metadata": {
  "kernelspec": {
   "display_name": "Python 3 (ipykernel)",
   "language": "python",
   "name": "python3"
  },
  "language_info": {
   "codemirror_mode": {
    "name": "ipython",
    "version": 3
   },
   "file_extension": ".py",
   "mimetype": "text/x-python",
   "name": "python",
   "nbconvert_exporter": "python",
   "pygments_lexer": "ipython3",
   "version": "3.9.16"
  }
 },
 "nbformat": 4,
 "nbformat_minor": 5
}
