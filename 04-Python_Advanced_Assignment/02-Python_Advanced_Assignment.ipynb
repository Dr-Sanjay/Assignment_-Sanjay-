{
 "cells": [
  {
   "cell_type": "markdown",
   "id": "426a031c",
   "metadata": {},
   "source": [
    "# 02-Python Advanced Assignment"
   ]
  },
  {
   "cell_type": "markdown",
   "id": "5a88c7b5",
   "metadata": {},
   "source": [
    "**Q1. What is the relationship between classes and modules?**"
   ]
  },
  {
   "cell_type": "markdown",
   "id": "156ea37a",
   "metadata": {},
   "source": [
    "Classes and modules are both important concepts in Python, but they serve different purposes. Classes are used to create user-defined data types, while modules are used to organize code into reusable units.\n",
    "\n",
    "A class can be thought of as a blueprint for creating objects. When we create a class, we define the attributes and methods that will be associated with the objects that are created from that class.\n",
    "\n",
    "A module, on the other hand, is a collection of related functions and variables. Modules can be imported into other Python scripts, which allows us to reuse code that has already been written.\n",
    "\n",
    "The relationship between classes and modules is that classes can be defined within modules. This means that we can create a module that contains a class definition, and then import that module into other scripts to create objects from the class."
   ]
  },
  {
   "cell_type": "markdown",
   "id": "57b34194",
   "metadata": {},
   "source": [
    "**Q2. How do you make instances and classes?**"
   ]
  },
  {
   "cell_type": "markdown",
   "id": "cb6a75b9",
   "metadata": {},
   "source": [
    "To make an instance of a class, you use the `__init__()` method. The `__init__()` method is a special method that is called when an object is created from a class. The `__init__()` method is used to initialize the object's attributes.\n",
    "\n",
    "To create a class, you use the `class` keyword. The syntax for creating a class is as follows:\n",
    "\n",
    "```python\n",
    "class MyClass:\n",
    "    pass\n",
    "```\n",
    "\n",
    "The `MyClass` class is now defined. We can create an instance of the `MyClass` class by using the following code:\n",
    "\n",
    "```python\n",
    "my_object = MyClass()\n",
    "```"
   ]
  },
  {
   "cell_type": "markdown",
   "id": "331bbd02",
   "metadata": {},
   "source": [
    "**Q3. Where and how should be class attributes created?**"
   ]
  },
  {
   "cell_type": "markdown",
   "id": "a2c9e11b",
   "metadata": {},
   "source": [
    "Class attributes are created in the class definition. They are defined outside of any methods, and they are shared by all instances of the class.\n",
    "\n",
    "To create a class attribute, we use the `self` keyword. The `self` keyword refers to the current instance of the class.\n",
    "\n",
    "For example, the following code creates a class attribute called `name`. The `name` attribute is shared by all instances of the class.\n",
    "\n",
    "```python\n",
    "class MyClass:\n",
    "    name = \"MyClass\"\n",
    "```"
   ]
  },
  {
   "cell_type": "markdown",
   "id": "d734dd92",
   "metadata": {},
   "source": [
    "**Q4. Where and how are instance attributes created?**"
   ]
  },
  {
   "cell_type": "markdown",
   "id": "95681586",
   "metadata": {},
   "source": [
    "Instance attributes are created in the `__init__()` method. They are unique to each instance of the class.\n",
    "\n",
    "To create an instance attribute, we use the `self` keyword. The `self` keyword refers to the current instance of the class.\n",
    "\n",
    "For example, the following code creates an instance attribute called `age`. The `age` attribute is unique to each instance of the class.\n",
    "\n",
    "```python\n",
    "class MyClass:\n",
    "    def __init__(self, age):\n",
    "        self.age = age\n",
    "```"
   ]
  },
  {
   "cell_type": "markdown",
   "id": "bdde4230",
   "metadata": {},
   "source": [
    "**Q5. What does the term \"self\" in a Python class mean?**"
   ]
  },
  {
   "cell_type": "markdown",
   "id": "6cfcc421",
   "metadata": {},
   "source": [
    "The term `self` in a Python class refers to the current instance of the class. It is used to access the attributes and methods of the current instance.\n",
    "\n",
    "For example, the following code uses the `self` keyword to access the `name` attribute of the current instance of the class.\n",
    "\n",
    "```python\n",
    "class MyClass:\n",
    "    name = \"MyClass\"\n",
    "\n",
    "    def __init__(self, age):\n",
    "        self.age = age\n",
    "\n",
    "    def print_name(self):\n",
    "        print(self.name)\n",
    "\n",
    "my_object = MyClass(20)\n",
    "my_object.print_name()\n",
    "```"
   ]
  },
  {
   "cell_type": "markdown",
   "id": "13f3a4ee",
   "metadata": {},
   "source": [
    "**Q6. How does a Python class handle operator overloading?**"
   ]
  },
  {
   "cell_type": "markdown",
   "id": "e0e88334",
   "metadata": {},
   "source": [
    "Operator overloading in Python allows you to redefine the behavior of operators for user-defined classes. This can be useful for making your classes more intuitive and easy to use.\n",
    "\n",
    "For example, we could overload the `+` operator for a class of geometric shapes to add the shapes together.\n",
    "\n",
    "To overload an operator, you need to define a special method with the same name as the operator. For example, to overload the `+` operator, we would define a method called `__add__()`.\n",
    "\n",
    "The `__add__()` method takes two arguments: the current instance of the class and the other object that is being added. The `__add__()` method should return the result of adding the two objects together."
   ]
  },
  {
   "cell_type": "markdown",
   "id": "03c192e0",
   "metadata": {},
   "source": [
    "**Q7. When do you consider allowing operator overloading of your classes?**"
   ]
  },
  {
   "cell_type": "markdown",
   "id": "68d04982",
   "metadata": {},
   "source": [
    "We should only allow operator overloading of your classes when it makes sense to do so. Operator overloading can make your classes more intuitive and easy to use, but it can also make your code more difficult to understand.\n",
    "\n",
    "If you are not sure whether or not to allow operator overloading, it is best to err on the side of caution and not allow"
   ]
  },
  {
   "cell_type": "markdown",
   "id": "7f4717bd",
   "metadata": {},
   "source": [
    "**Q8. What is the most popular form of operator overloading?**"
   ]
  },
  {
   "cell_type": "markdown",
   "id": "dcca4b6f",
   "metadata": {},
   "source": [
    "The most popular form of operator overloading in Python is the `__add__()` method. This method is used to overload the `+` operator.\n",
    "\n",
    "The `__add__()` method takes two arguments: the current instance of the class and the other object that is being added. The `__add__()` method should return the result of adding the two objects together."
   ]
  },
  {
   "cell_type": "markdown",
   "id": "d056c113",
   "metadata": {},
   "source": [
    "**Q9. What are the two most important concepts to grasp in order to comprehend Python OOP code?**"
   ]
  },
  {
   "cell_type": "markdown",
   "id": "b7b4772d",
   "metadata": {},
   "source": [
    "The two most important concepts to grasp in order to comprehend Python OOP code are:\n",
    "\n",
    "* **Classes and objects:** Classes are the blueprints for creating objects. Objects are instances of classes.\n",
    "* **Inheritance:** Inheritance is the ability of one class to inherit the attributes and methods of another class."
   ]
  }
 ],
 "metadata": {
  "kernelspec": {
   "display_name": "Python 3 (ipykernel)",
   "language": "python",
   "name": "python3"
  },
  "language_info": {
   "codemirror_mode": {
    "name": "ipython",
    "version": 3
   },
   "file_extension": ".py",
   "mimetype": "text/x-python",
   "name": "python",
   "nbconvert_exporter": "python",
   "pygments_lexer": "ipython3",
   "version": "3.9.16"
  }
 },
 "nbformat": 4,
 "nbformat_minor": 5
}
