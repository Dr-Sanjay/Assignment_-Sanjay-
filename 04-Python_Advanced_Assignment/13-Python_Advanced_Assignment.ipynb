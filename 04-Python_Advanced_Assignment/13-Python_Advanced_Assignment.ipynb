{
 "cells": [
  {
   "cell_type": "markdown",
   "id": "57b831ea",
   "metadata": {},
   "source": [
    "# 13-Python Advanced Assignment"
   ]
  },
  {
   "cell_type": "markdown",
   "id": "50880e86",
   "metadata": {},
   "source": [
    "**Q1. Can you create a programme or function that employs both positive and negative indexing? Is there any repercussion if you do so?**"
   ]
  },
  {
   "cell_type": "markdown",
   "id": "269691f2",
   "metadata": {},
   "source": []
  },
  {
   "cell_type": "markdown",
   "id": "0e4ba938",
   "metadata": {},
   "source": []
  },
  {
   "cell_type": "markdown",
   "id": "e4f7bb89",
   "metadata": {},
   "source": []
  },
  {
   "cell_type": "markdown",
   "id": "ca727df4",
   "metadata": {},
   "source": []
  },
  {
   "cell_type": "markdown",
   "id": "221822f1",
   "metadata": {},
   "source": []
  },
  {
   "cell_type": "markdown",
   "id": "bf769fec",
   "metadata": {},
   "source": [
    "**Q2. What is the most effective way of starting with 1,000 elements in a Python list? Assume that all elements should be set to the same value.**"
   ]
  },
  {
   "cell_type": "markdown",
   "id": "fa100628",
   "metadata": {},
   "source": []
  },
  {
   "cell_type": "markdown",
   "id": "d9090405",
   "metadata": {},
   "source": [
    "**Q3. How do you slice a list to get any other part while missing the rest? (For example, suppose you want to make a new list with the elements first, third, fifth, seventh, and so on.)**"
   ]
  },
  {
   "cell_type": "markdown",
   "id": "a19baab6",
   "metadata": {},
   "source": []
  },
  {
   "cell_type": "markdown",
   "id": "2bcc7e35",
   "metadata": {},
   "source": [
    "**Q4. Explain the distinctions between indexing and slicing.**"
   ]
  },
  {
   "cell_type": "markdown",
   "id": "72f8e6a5",
   "metadata": {},
   "source": []
  },
  {
   "cell_type": "markdown",
   "id": "87edf9bc",
   "metadata": {},
   "source": [
    "**Q5. What happens if one of the slicing expression's indexes is out of range?**"
   ]
  },
  {
   "cell_type": "markdown",
   "id": "b399f00f",
   "metadata": {},
   "source": []
  },
  {
   "cell_type": "markdown",
   "id": "2528e99a",
   "metadata": {},
   "source": [
    "**Q6. If you pass a list to a function, and if you want the function to be able to change the values of the list—so that the list is different after the function returns—what action should you avoid?**"
   ]
  },
  {
   "cell_type": "markdown",
   "id": "deb188ad",
   "metadata": {},
   "source": []
  },
  {
   "cell_type": "markdown",
   "id": "08c3c39a",
   "metadata": {},
   "source": [
    "**Q7. What is the concept of an unbalanced matrix?**"
   ]
  },
  {
   "cell_type": "markdown",
   "id": "7957490b",
   "metadata": {},
   "source": []
  },
  {
   "cell_type": "markdown",
   "id": "1069b33a",
   "metadata": {},
   "source": [
    "**Q8. Why is it necessary to use either list comprehension or a loop to create arbitrarily large matrices?**"
   ]
  },
  {
   "cell_type": "markdown",
   "id": "6695e802",
   "metadata": {},
   "source": []
  }
 ],
 "metadata": {
  "kernelspec": {
   "display_name": "Python 3 (ipykernel)",
   "language": "python",
   "name": "python3"
  },
  "language_info": {
   "codemirror_mode": {
    "name": "ipython",
    "version": 3
   },
   "file_extension": ".py",
   "mimetype": "text/x-python",
   "name": "python",
   "nbconvert_exporter": "python",
   "pygments_lexer": "ipython3",
   "version": "3.9.16"
  }
 },
 "nbformat": 4,
 "nbformat_minor": 5
}
