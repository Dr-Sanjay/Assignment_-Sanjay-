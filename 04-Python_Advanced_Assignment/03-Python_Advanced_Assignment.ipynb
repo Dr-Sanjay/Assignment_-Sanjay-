{
 "cells": [
  {
   "cell_type": "markdown",
   "id": "d02d09a7",
   "metadata": {},
   "source": [
    "# 03-Python Advanced Assignment"
   ]
  },
  {
   "cell_type": "markdown",
   "id": "ed92c086",
   "metadata": {},
   "source": [
    "**1. What is the concept of an abstract superclass?**"
   ]
  },
  {
   "cell_type": "markdown",
   "id": "d0018393",
   "metadata": {},
   "source": [
    "An abstract superclass is a class that cannot be instantiated directly. It is used to provide common functionality to subclasses, which can then override or extend that functionality as needed. Abstract superclasses are often used to enforce certain constraints on subclasses, such as requiring them to implement certain methods."
   ]
  },
  {
   "cell_type": "markdown",
   "id": "2000231d",
   "metadata": {},
   "source": [
    "**2. What happens when a class statement's top level contains a basic assignment statement?**"
   ]
  },
  {
   "cell_type": "markdown",
   "id": "ee970f23",
   "metadata": {},
   "source": [
    "When a class statement's top level contains a basic assignment statement, the value of the assignment is assigned to a variable in the class's namespace. For example, the following code:\n",
    "\n",
    "```python\n",
    "class MyClass:\n",
    "    x = 10\n",
    "```\n",
    "\n",
    "creates a class named `MyClass` with a single variable named `x` that is initialized to the value 10."
   ]
  },
  {
   "cell_type": "markdown",
   "id": "da150142",
   "metadata": {},
   "source": [
    "**3. Why does a class need to manually call a superclass's __init__ method?**"
   ]
  },
  {
   "cell_type": "markdown",
   "id": "fd873d53",
   "metadata": {},
   "source": [
    "A class needs to manually call a superclass's `__init__` method because the `__init__` method is responsible for initializing the superclass's attributes. If a subclass does not call the superclass's `__init__` method, the superclass's attributes will not be initialized, which can lead to unexpected behavior."
   ]
  },
  {
   "cell_type": "markdown",
   "id": "6cdf19b5",
   "metadata": {},
   "source": [
    "**4. How can you augment, instead of completely replacing, an inherited method?**"
   ]
  },
  {
   "cell_type": "markdown",
   "id": "6c43b806",
   "metadata": {},
   "source": [
    "we can augment, instead of completely replacing, an inherited method by using the `super()` keyword. The `super()` keyword allows you to call the superclass's version of the method, and then add your own code to the method. For example, the following code:\n",
    "\n",
    "```python\n",
    "class MyClass(object):\n",
    "    def __init__(self, name):\n",
    "        super().__init__()\n",
    "        self.name = name\n",
    "\n",
    "    def say_hello(self):\n",
    "        print(\"Hello, my name is {}\".format(self.name))\n",
    "\n",
    "class MySubclass(MyClass):\n",
    "    def say_hello(self):\n",
    "        super().say_hello()\n",
    "        print(\"I am a subclass!\")\n",
    "```\n",
    "\n",
    "This code creates a subclass of `MyClass` called `MySubclass`. The `MySubclass` class overrides the `say_hello()` method, but it also calls the superclass's version of the method first. This ensures that the superclass's version of the method is executed, and then the subclass's version of the method is executed."
   ]
  },
  {
   "cell_type": "markdown",
   "id": "3e8a3ee9",
   "metadata": {},
   "source": [
    "**5. How is the local scope of a class different from that of a function?**"
   ]
  },
  {
   "cell_type": "markdown",
   "id": "322626e0",
   "metadata": {},
   "source": [
    "The local scope of a class is different from that of a function in a few ways. \n",
    "*  First, the local scope of a class includes all of the attributes of the class, as well as all of the methods of the class. The local scope of a function only includes the variables that are defined in the function's body. \n",
    "*  Second, the local scope of a class is inherited by subclasses, while the local scope of a function is not. This means that a subclass can access the attributes and methods of its superclass, but it cannot access the attributes and methods of a function that is defined in another scope."
   ]
  }
 ],
 "metadata": {
  "kernelspec": {
   "display_name": "Python 3 (ipykernel)",
   "language": "python",
   "name": "python3"
  },
  "language_info": {
   "codemirror_mode": {
    "name": "ipython",
    "version": 3
   },
   "file_extension": ".py",
   "mimetype": "text/x-python",
   "name": "python",
   "nbconvert_exporter": "python",
   "pygments_lexer": "ipython3",
   "version": "3.9.16"
  }
 },
 "nbformat": 4,
 "nbformat_minor": 5
}
