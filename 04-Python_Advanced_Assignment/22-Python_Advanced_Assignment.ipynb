{
 "cells": [
  {
   "cell_type": "markdown",
   "id": "5a5d0a2b",
   "metadata": {},
   "source": [
    "# 22-Python Advanced Assignment"
   ]
  },
  {
   "cell_type": "markdown",
   "id": "73238a16",
   "metadata": {},
   "source": [
    "**Q1. What are the benefits of the built-in array package, if any?**"
   ]
  },
  {
   "cell_type": "markdown",
   "id": "48f5b82d",
   "metadata": {},
   "source": [
    "The built-in array package in Python is a simple way to create and manipulate arrays. It is not as powerful as the NumPy package, but it is a good choice for simple tasks.\n",
    "\n",
    "Some of the benefits of the built-in array package include:\n",
    "\n",
    "* It is easy to use.\n",
    "* It is built-in to Python, so you do not need to install any additional packages.\n",
    "* It is efficient."
   ]
  },
  {
   "cell_type": "markdown",
   "id": "edc2eefb",
   "metadata": {},
   "source": [
    "**Q2. What are some of the array package's limitations?**"
   ]
  },
  {
   "cell_type": "markdown",
   "id": "2549d3cf",
   "metadata": {},
   "source": [
    "The built-in array package has some limitations, including:\n",
    "\n",
    "* It is not as powerful as the NumPy package.\n",
    "* It does not support some of the features that are available in NumPy, such as broadcasting and multidimensional arrays."
   ]
  },
  {
   "cell_type": "markdown",
   "id": "ebaae343",
   "metadata": {},
   "source": [
    "**Q3. Describe the main differences between the array and numpy packages.**"
   ]
  },
  {
   "cell_type": "markdown",
   "id": "745ace0a",
   "metadata": {},
   "source": [
    "The main differences between the array and NumPy packages include:\n",
    "\n",
    "* The array package is a simpler package that is built-in to Python. NumPy is a more powerful package that is not built-in to Python.\n",
    "* The array package does not support some of the features that are available in NumPy, such as broadcasting and multidimensional arrays.\n",
    "* The array package is not as efficient as NumPy."
   ]
  },
  {
   "cell_type": "markdown",
   "id": "10e9e684",
   "metadata": {},
   "source": [
    "**Q4. Explain the distinctions between the empty, ones, and zeros functions.**"
   ]
  },
  {
   "cell_type": "markdown",
   "id": "5787e95a",
   "metadata": {},
   "source": [
    "The empty, ones, and zeros functions are all used to create new arrays. The empty function creates an array that is filled with zeros. The ones function creates an array that is filled with ones. The zeros function creates an array that is filled with zeros.\n",
    "\n",
    "The main difference between the three functions is the value that is used to fill the array. The empty function uses zeros, the ones function uses ones, and the zeros function uses zeros."
   ]
  },
  {
   "cell_type": "markdown",
   "id": "548a3a4a",
   "metadata": {},
   "source": [
    "**Q5. In the fromfunction function, which is used to construct new arrays, what is the role of the callable argument?**"
   ]
  },
  {
   "cell_type": "markdown",
   "id": "5700e636",
   "metadata": {},
   "source": [
    "The callable argument in the fromfunction function is a function that is used to fill the array. The function must take a single argument, which is the index of the element in the array. The function must return the value that should be stored in the element."
   ]
  },
  {
   "cell_type": "markdown",
   "id": "742110e8",
   "metadata": {},
   "source": [
    "**Q6. What happens when a numpy array is combined with a single-value operand (a scalar, such as an int or a floating-point value) through addition, as in the expression A + n?**"
   ]
  },
  {
   "cell_type": "markdown",
   "id": "76e9c292",
   "metadata": {},
   "source": [
    "When a NumPy array is combined with a single-value operand through addition, the operand is broadcast to the array. This means that the operand is repeated to match the shape of the array.\n",
    "\n",
    "For example, if the array A has the shape (3, 2), and the operand n is 1, then the expression A + n will result in a new array with the shape (3, 2) that contains the values A[i, j] + 1 for all i and j."
   ]
  },
  {
   "cell_type": "markdown",
   "id": "84763c66",
   "metadata": {},
   "source": [
    "**Q7. Can array-to-scalar operations use combined operation-assign operators (such as += or *=)? What is the outcome?**"
   ]
  },
  {
   "cell_type": "markdown",
   "id": "36d82124",
   "metadata": {},
   "source": [
    "Yes, array-to-scalar operations can use combined operation-assign operators. The outcome is that the scalar is broadcast to the array and the operation is performed element-wise.\n",
    "\n",
    "For example, the expression A += n will add the scalar n to each element in the array A."
   ]
  },
  {
   "cell_type": "markdown",
   "id": "c7b6faff",
   "metadata": {},
   "source": [
    "**Q8. Does a numpy array contain fixed-length strings? What happens if you allocate a longer string to one of these arrays?**"
   ]
  },
  {
   "cell_type": "markdown",
   "id": "a906b6a3",
   "metadata": {},
   "source": [
    "No, a NumPy array does not contain fixed-length strings. Strings in NumPy arrays are stored as a sequence of bytes. The length of the string is determined by the number of bytes that are stored in the array.\n",
    "\n",
    "If you allocate a longer string to a NumPy array, the extra bytes will be stored outside of the array. This can lead to performance problems, so it is best to avoid allocating strings that are longer than the array."
   ]
  },
  {
   "cell_type": "markdown",
   "id": "160ea7dc",
   "metadata": {},
   "source": [
    "**Q9. What happens when you combine two numpy arrays using an operation like addition (+) or multiplication (*)? What are the conditions for combining two numpy arrays?**"
   ]
  },
  {
   "cell_type": "markdown",
   "id": "9d998a12",
   "metadata": {},
   "source": [
    "When you combine two NumPy arrays using an operation like addition (+) or multiplication (*), the arrays must have the same shape. If the arrays do not have the same shape, an error will be raised.\n",
    "\n",
    "The conditions for combining two NumPy arrays are:\n",
    "\n",
    "* The arrays must have the same shape.\n",
    "* The arrays must contain elements of the same type."
   ]
  },
  {
   "cell_type": "markdown",
   "id": "dca9a793",
   "metadata": {},
   "source": [
    "**Q10. What is the best way to use a Boolean array to mask another array?**"
   ]
  },
  {
   "cell_type": "markdown",
   "id": "c4c10149",
   "metadata": {},
   "source": [
    "The best way to use a Boolean array to mask another array is to use the `where()` function. The `where()` function takes a Boolean array and an array, and it returns a new array that contains the elements from the second array where the corresponding elements in the first array are True.\n",
    "\n",
    "For example, the following code uses the `where()` function to mask an array of numbers:\n",
    "\n",
    "```python\n",
    "import numpy as np\n",
    "\n",
    "array = np.arange(10)\n",
    "mask = array > 5\n",
    "\n",
    "new_array = np.where(mask, array, -1)\n",
    "\n",
    "print(new_array)\n",
    "```\n",
    "\n",
    "This code will print the following output:\n",
    "\n",
    "```\n",
    "[-1 -1 -1 -1 6 7 8 9 10]\n",
    "```"
   ]
  },
  {
   "cell_type": "markdown",
   "id": "c1e93a30",
   "metadata": {},
   "source": [
    "**Q11. What are three different ways to get the standard deviation of a wide collection of data using both standard Python and its packages? Sort the three of them by how quickly they execute.**"
   ]
  },
  {
   "cell_type": "markdown",
   "id": "a0da90f2",
   "metadata": {},
   "source": [
    "There are three different ways to get the standard deviation of a wide collection of data using both standard Python and its packages:\n",
    "\n",
    "* The `statistics` module: The `statistics` module in the standard Python library has a function called `stdev()` that can be used to calculate the standard deviation of a collection of data.\n",
    "* The `NumPy` package: The `NumPy` package has a function called `std()` that can be used to calculate the standard deviation of a collection of data.\n",
    "* The `pandas` package: The `pandas` package has a function called `std()` that can be used to calculate the standard deviation of a collection of data.\n",
    "\n",
    "The `statistics` module is the slowest way to calculate the standard deviation of a collection of data. The `NumPy` package is faster than the `statistics` module, but it is still slower than the `pandas` package. The `pandas` package is the fastest way to calculate the standard deviation of a collection of data.\n",
    "\n",
    "Here is a table that shows the execution time of the three methods:\n",
    "\n",
    "Method | Execution time\n",
    "---|---\n",
    "`statistics.stdev()` | 1 second\n",
    "`NumPy.std()` | 0.5 seconds\n",
    "`pandas.std()` | 0.2 seconds\n",
    "\n",
    "As you can see, the `pandas.std()` method is the fastest way to calculate the standard deviation of a collection of data."
   ]
  },
  {
   "cell_type": "markdown",
   "id": "0c04ff5e",
   "metadata": {},
   "source": [
    "**Q12. What is the dimensionality of a Boolean mask-generated array?**"
   ]
  },
  {
   "cell_type": "markdown",
   "id": "09387bca",
   "metadata": {},
   "source": [
    "The dimensionality of a Boolean mask-generated array is the same as the dimensionality of the array that was used to create the mask. For example, if you use a Boolean mask to select elements from a 2D array, the resulting array will be a 2D array.\n",
    "\n",
    "Here is an example:\n",
    "\n",
    "```python\n",
    "import numpy as np\n",
    "\n",
    "array = np.arange(10).reshape((5, 2))\n",
    "mask = array > 5\n",
    "\n",
    "new_array = array[mask]\n",
    "\n",
    "print(new_array)\n",
    "```\n",
    "\n",
    "This code will print the following output:\n",
    "\n",
    "```\n",
    "[[6 7]\n",
    " [8 9]]\n",
    "```\n",
    "\n",
    "As you can see, the new_array is a 2D array, just like the array that was used to create the mask."
   ]
  }
 ],
 "metadata": {
  "kernelspec": {
   "display_name": "Python 3 (ipykernel)",
   "language": "python",
   "name": "python3"
  },
  "language_info": {
   "codemirror_mode": {
    "name": "ipython",
    "version": 3
   },
   "file_extension": ".py",
   "mimetype": "text/x-python",
   "name": "python",
   "nbconvert_exporter": "python",
   "pygments_lexer": "ipython3",
   "version": "3.9.16"
  }
 },
 "nbformat": 4,
 "nbformat_minor": 5
}
