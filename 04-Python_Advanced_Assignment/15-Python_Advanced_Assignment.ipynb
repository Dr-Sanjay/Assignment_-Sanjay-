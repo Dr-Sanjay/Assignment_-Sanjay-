{
 "cells": [
  {
   "cell_type": "markdown",
   "id": "347f4be7",
   "metadata": {},
   "source": [
    "# 15-Python Advanced Assignment"
   ]
  },
  {
   "cell_type": "markdown",
   "id": "938a56f9",
   "metadata": {},
   "source": [
    "**1.\tWhat are the new features added in Python 3.8 version?**"
   ]
  },
  {
   "cell_type": "markdown",
   "id": "4771b538",
   "metadata": {},
   "source": [
    "Python 3.8 was released on October 14, 2019. It includes a number of new features, including:\n",
    "\n",
    "* **New data types:** The `match` and `case` statements were added to Python 3.8. These statements allow you to match patterns in strings and other iterables.\n",
    "* **New syntax:** The `f-strings` were added to Python 3.8. These strings allow you to insert variables and expressions into strings using a format string syntax.\n",
    "* **New functions:** The `sorted()` function was updated to allow you to sort objects by multiple keys. The `zip()` function was also updated to allow you to zip objects of different lengths.\n",
    "* **New modules:** The `importlib.metadata` module was added to Python 3.8. This module allows you to access the metadata of Python modules.\n",
    "\n",
    "For a complete list of new features in Python 3.8, you can refer to the official release notes: https://docs.python.org/3/whatsnew/3.8.html."
   ]
  },
  {
   "cell_type": "markdown",
   "id": "aea36392",
   "metadata": {},
   "source": [
    "**2.\tWhat is monkey patching in Python?**"
   ]
  },
  {
   "cell_type": "markdown",
   "id": "3a0b923e",
   "metadata": {},
   "source": [
    "Monkey patching is a technique in Python that allows you to modify the behavior of a class or module at runtime. This is done by assigning a new value to an attribute of the class or module.\n",
    "\n",
    "For example, the following code monkey patches the `str` class to add a new method called `upper()`:\n",
    "\n",
    "```python\n",
    "def upper(self):\n",
    "    return self.upper()\n",
    "\n",
    "str.upper = upper\n",
    "```\n",
    "\n",
    "Now, any time you call the `upper()` method on a string, it will use the new method that you defined.\n",
    "\n",
    "Monkey patching can be a powerful tool, but it should be used with caution. If you monkey patch a class or module that is used by other code, you may introduce unexpected bugs."
   ]
  },
  {
   "cell_type": "markdown",
   "id": "7934ff0e",
   "metadata": {},
   "source": [
    "**3.\tWhat is the difference between a shallow copy and deep copy?**"
   ]
  },
  {
   "cell_type": "markdown",
   "id": "591f5780",
   "metadata": {},
   "source": [
    "A shallow copy is a copy of an object that only copies the object's references. This means that the new object will point to the same data as the original object.\n",
    "\n",
    "A deep copy is a copy of an object that copies the object's references and the data that the references point to. This means that the new object will have its own copy of the data.\n",
    "\n",
    "The main difference between a shallow copy and a deep copy is that a shallow copy does not create a new copy of the data, while a deep copy does."
   ]
  },
  {
   "cell_type": "markdown",
   "id": "15d2e62e",
   "metadata": {},
   "source": [
    "**4.\tWhat is the maximum possible length of an identifier?**"
   ]
  },
  {
   "cell_type": "markdown",
   "id": "8a1bc324",
   "metadata": {},
   "source": [
    "The maximum possible length of an identifier in Python is 63 characters. This includes the letters, numbers, and underscores.\n",
    "\n",
    "If you try to create an identifier that is longer than 63 characters, Python will raise an error."
   ]
  },
  {
   "cell_type": "markdown",
   "id": "8d3bf732",
   "metadata": {},
   "source": [
    "**5.\tWhat is generator comprehension?**"
   ]
  },
  {
   "cell_type": "markdown",
   "id": "61a2d234",
   "metadata": {},
   "source": [
    "Generator comprehension is a concise way of creating a generator. A generator is a function that produces a sequence of values.\n",
    "\n",
    "Generator comprehensions are similar to list comprehensions, but they do not actually create a list. Instead, they create a generator object.\n",
    "\n",
    "The syntax for a generator comprehension is similar to the syntax for a list comprehension, but the `list` keyword is replaced with the `yield` keyword.\n",
    "\n",
    "For example, the following code creates a generator comprehension that produces a sequence of squares:\n",
    "\n",
    "```python\n",
    "squares = (x * x for x in range(10))\n",
    "```\n",
    "\n",
    "This code will create a generator object that produces the squares of the numbers from 0 to 9.\n",
    "\n",
    "Generator comprehensions are a powerful tool that can be used to create generators in a concise and efficient way."
   ]
  }
 ],
 "metadata": {
  "kernelspec": {
   "display_name": "Python 3 (ipykernel)",
   "language": "python",
   "name": "python3"
  },
  "language_info": {
   "codemirror_mode": {
    "name": "ipython",
    "version": 3
   },
   "file_extension": ".py",
   "mimetype": "text/x-python",
   "name": "python",
   "nbconvert_exporter": "python",
   "pygments_lexer": "ipython3",
   "version": "3.9.16"
  }
 },
 "nbformat": 4,
 "nbformat_minor": 5
}
