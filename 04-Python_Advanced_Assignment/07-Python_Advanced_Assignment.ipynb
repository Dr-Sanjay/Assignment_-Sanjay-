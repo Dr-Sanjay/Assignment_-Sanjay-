{
 "cells": [
  {
   "cell_type": "markdown",
   "id": "9342a264",
   "metadata": {},
   "source": [
    "# 07-Python Advanced Assignment"
   ]
  },
  {
   "cell_type": "markdown",
   "id": "e8e9f9c1",
   "metadata": {},
   "source": [
    "**Q1. What is the purpose of the try statement?**"
   ]
  },
  {
   "cell_type": "markdown",
   "id": "2439c207",
   "metadata": {},
   "source": [
    "The `try` statement is used to execute a block of code that may potentially raise an exception. If an exception is raised, the `try` statement will transfer control to the `except` clause, which will handle the exception."
   ]
  },
  {
   "cell_type": "markdown",
   "id": "f478565a",
   "metadata": {},
   "source": [
    "**Q2. What are the two most popular try statement variations?**"
   ]
  },
  {
   "cell_type": "markdown",
   "id": "7ffac008",
   "metadata": {},
   "source": [
    "The two most popular try statement variations are:\n",
    "\n",
    "* **The `try`-`except` statement:** This is the simplest form of the `try` statement. It consists of a `try` clause, followed by an `except` clause. The `except` clause will be executed if an exception is raised in the `try` clause.\n",
    "* **The `try`-`except`-`else` statement:** This form of the `try` statement adds an `else` clause to the end. The `else` clause will be executed if no exception is raised in the `try` clause."
   ]
  },
  {
   "cell_type": "markdown",
   "id": "71d74a6e",
   "metadata": {},
   "source": [
    "**Q3. What is the purpose of the raise statement?**"
   ]
  },
  {
   "cell_type": "markdown",
   "id": "e144374f",
   "metadata": {},
   "source": [
    "The `raise` statement is used to explicitly raise an exception. This can be useful for handling errors that occur in your code, or for testing the behavior of your code when exceptions are raised."
   ]
  },
  {
   "cell_type": "markdown",
   "id": "9809d341",
   "metadata": {},
   "source": [
    "**Q4. What does the assert statement do, and what other statement is it like?**"
   ]
  },
  {
   "cell_type": "markdown",
   "id": "128c7c29",
   "metadata": {},
   "source": [
    "The `assert` statement is used to check for a condition. If the condition is not met, an exception will be raised. The `assert` statement is similar to the `if` statement, but it is used to check for errors, rather than to control the flow of your code."
   ]
  },
  {
   "cell_type": "markdown",
   "id": "0c079338",
   "metadata": {},
   "source": [
    "**Q5. What is the purpose of the with/as argument, and what other statement is it like?**"
   ]
  },
  {
   "cell_type": "markdown",
   "id": "0c38c588",
   "metadata": {},
   "source": [
    "The `with` statement is used to manage resources, such as files and database connections. The `with` statement is similar to the `try` statement, but it ensures that the resource is closed properly, even if an exception is raised."
   ]
  }
 ],
 "metadata": {
  "kernelspec": {
   "display_name": "Python 3 (ipykernel)",
   "language": "python",
   "name": "python3"
  },
  "language_info": {
   "codemirror_mode": {
    "name": "ipython",
    "version": 3
   },
   "file_extension": ".py",
   "mimetype": "text/x-python",
   "name": "python",
   "nbconvert_exporter": "python",
   "pygments_lexer": "ipython3",
   "version": "3.9.16"
  }
 },
 "nbformat": 4,
 "nbformat_minor": 5
}
