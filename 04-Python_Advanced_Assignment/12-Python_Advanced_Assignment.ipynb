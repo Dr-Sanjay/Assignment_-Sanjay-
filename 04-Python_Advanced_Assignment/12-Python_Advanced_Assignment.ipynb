{
 "cells": [
  {
   "cell_type": "markdown",
   "id": "cbf7a1e3",
   "metadata": {},
   "source": [
    "# 12-Python Advanced Assignment"
   ]
  },
  {
   "cell_type": "markdown",
   "id": "0739698f",
   "metadata": {},
   "source": [
    "**Q1. Does assigning a value to a string's indexed character violate Python's string immutability?**"
   ]
  },
  {
   "cell_type": "markdown",
   "id": "d5888858",
   "metadata": {},
   "source": [
    "Yes, assigning a value to a string's indexed character violates Python's string immutability. Strings are immutable in Python, which means that they cannot be changed once they are created. If you try to assign a value to a string's indexed character, you will get an error."
   ]
  },
  {
   "cell_type": "markdown",
   "id": "c31cba40",
   "metadata": {},
   "source": [
    "**Q2. Does using the += operator to concatenate strings violate Python's string immutability? Why or why not?**"
   ]
  },
  {
   "cell_type": "markdown",
   "id": "d7dc0944",
   "metadata": {},
   "source": [
    "No, using the += operator to concatenate strings does not violate Python's string immutability. The += operator creates a new string that is the concatenation of the two strings, and the original strings are not modified."
   ]
  },
  {
   "cell_type": "markdown",
   "id": "882ab447",
   "metadata": {},
   "source": [
    "**Q3. In Python, how many different ways are there to index a character?**"
   ]
  },
  {
   "cell_type": "markdown",
   "id": "94d56904",
   "metadata": {},
   "source": [
    "There are two different ways to index a character in Python:\n",
    "\n",
    "* **Using the `[]` operator:** This is the most common way to index a character. For example, the following code will index the first character in the string \"hello\":\n",
    "\n",
    "```python\n",
    ">>> \"hello\"[0]\n",
    "'h'\n",
    "```\n",
    "\n",
    "* **Using the `ord()` function:** The `ord()` function returns the Unicode code point of a character. For example, the following code will return the Unicode code point of the first character in the string \"hello\":\n",
    "\n",
    "```python\n",
    ">>> ord(\"hello\"[0])\n",
    "104\n",
    "```"
   ]
  },
  {
   "cell_type": "markdown",
   "id": "1d18aaf8",
   "metadata": {},
   "source": [
    "**Q4. What is the relationship between indexing and slicing?**"
   ]
  },
  {
   "cell_type": "markdown",
   "id": "79b772d1",
   "metadata": {},
   "source": [
    "Indexing and slicing are both ways to access parts of a string. Indexing allows you to access a single character, while slicing allows you to access a range of characters. For example, the following code will index the first character in the string \"hello\" and the range of characters from the second to the fourth:\n",
    "\n",
    "```python\n",
    ">>> \"hello\"[0]\n",
    "'h'\n",
    ">>> \"hello\"[1:4]\n",
    "'ell'\n",
    "```"
   ]
  },
  {
   "cell_type": "markdown",
   "id": "566c785b",
   "metadata": {},
   "source": [
    "**Q5. What is an indexed character's exact data type? What is the data form of a slicing-generated substring?**"
   ]
  },
  {
   "cell_type": "markdown",
   "id": "92bd483a",
   "metadata": {},
   "source": [
    "An indexed character's exact data type is `str`. The data form of a slicing-generated substring is also `str`."
   ]
  },
  {
   "cell_type": "markdown",
   "id": "abc1a032",
   "metadata": {},
   "source": [
    "**Q6. What is the relationship between string and character \"types\" in Python?**"
   ]
  },
  {
   "cell_type": "markdown",
   "id": "2d43a9b9",
   "metadata": {},
   "source": [
    "In Python, there is no separate \"character\" type. A character is simply a string of length 1. This means that the `str` type can be used to represent both strings and characters."
   ]
  },
  {
   "cell_type": "markdown",
   "id": "815f0ec7",
   "metadata": {},
   "source": [
    "**Q7. Identify at least two operators and one method that allow you to combine one or more smaller strings to create a larger string.**"
   ]
  },
  {
   "cell_type": "markdown",
   "id": "7d1a2a5d",
   "metadata": {},
   "source": [
    "The following operators and methods can be used to combine one or more smaller strings to create a larger string:\n",
    "\n",
    "* The `+` operator: This operator concatenates two strings.\n",
    "* The `+=` operator: This operator appends a string to another string.\n",
    "* The `str.join()` method: This method joins a sequence of strings together."
   ]
  },
  {
   "cell_type": "markdown",
   "id": "b10581c9",
   "metadata": {},
   "source": [
    "**Q8. What is the benefit of first checking the target string with in or not in before using the index method to find a substring?**"
   ]
  },
  {
   "cell_type": "markdown",
   "id": "7b699c1a",
   "metadata": {},
   "source": [
    "The benefit of first checking the target string with `in` or `not in` before using the index method to find a substring is that it can prevent errors. If the substring is not in the target string, the index method will raise an error. By first checking the target string with `in` or `not in`, you can avoid this error."
   ]
  },
  {
   "cell_type": "markdown",
   "id": "5f03cab6",
   "metadata": {},
   "source": [
    "**Q9. Which operators and built-in string methods produce simple Boolean (true/false) results?**"
   ]
  },
  {
   "cell_type": "markdown",
   "id": "31435325",
   "metadata": {},
   "source": [
    "The following operators and built-in string methods produce simple Boolean (true/false) results:\n",
    "\n",
    "* `in`: This operator returns `True` if the substring is in the target string, and `False` otherwise.\n",
    "* `not in`: This operator returns `False` if the substring is in the target string, and `True` otherwise.\n",
    "* `len()`: This method returns the length of the string.\n",
    "* `str.isalpha()`: This method returns `True` if the string is only alphabetic characters, and `False` otherwise.\n",
    "* `str.isdigit()`: This method returns `True` if the string is only numeric characters, and `False` otherwise."
   ]
  }
 ],
 "metadata": {
  "kernelspec": {
   "display_name": "Python 3 (ipykernel)",
   "language": "python",
   "name": "python3"
  },
  "language_info": {
   "codemirror_mode": {
    "name": "ipython",
    "version": 3
   },
   "file_extension": ".py",
   "mimetype": "text/x-python",
   "name": "python",
   "nbconvert_exporter": "python",
   "pygments_lexer": "ipython3",
   "version": "3.9.16"
  }
 },
 "nbformat": 4,
 "nbformat_minor": 5
}
