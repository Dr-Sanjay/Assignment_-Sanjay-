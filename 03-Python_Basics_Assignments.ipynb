{
 "cells": [
  {
   "cell_type": "markdown",
   "id": "2f0dff41",
   "metadata": {},
   "source": [
    "# 02-Python Basic Assignment"
   ]
  },
  {
   "cell_type": "markdown",
   "id": "64d2c0b1",
   "metadata": {},
   "source": [
    "**1.What are the two values of the Boolean data type? How do you write them?**"
   ]
  },
  {
   "cell_type": "markdown",
   "id": "df2d2efa",
   "metadata": {},
   "source": [
    "The two values of the Boolean data type are True and False. They are written as capital words without quotes."
   ]
  },
  {
   "cell_type": "markdown",
   "id": "bc2f1561",
   "metadata": {},
   "source": [
    "**2. What are the three different types of Boolean operators?**"
   ]
  },
  {
   "cell_type": "markdown",
   "id": "5f15e3d7",
   "metadata": {},
   "source": [
    "The three different types of Boolean operators are:\n",
    "   - AND: Returns True if both operands are True.\n",
    "   - OR: Returns True if at least one of the operands is True.\n",
    "   - NOT: Returns the opposite Boolean value of the operand."
   ]
  },
  {
   "cell_type": "markdown",
   "id": "255e5fa8",
   "metadata": {},
   "source": [
    "**3. Make a list of each Boolean operator&#39;s truth tables (i.e. every possible combination of Boolean\n",
    "values for the operator and what it evaluate ).**"
   ]
  },
  {
   "cell_type": "markdown",
   "id": "1899ff0e",
   "metadata": {},
   "source": [
    "Boolean operator truth tables:\n",
    "   - AND:\n",
    "     - True AND True = True\n",
    "     - True AND False = False\n",
    "     - False AND True = False\n",
    "     - False AND False = False\n",
    "\n",
    "   - OR:\n",
    "     - True OR True = True\n",
    "     - True OR False = True\n",
    "     - False OR True = True\n",
    "     - False OR False = False\n",
    "\n",
    "   - NOT:\n",
    "     - NOT True = False\n",
    "     - NOT False = True"
   ]
  },
  {
   "cell_type": "markdown",
   "id": "20ca5b55",
   "metadata": {},
   "source": [
    "**4. What are the values of the following expressions?\n",
    "(5 &gt; 4) and (3 == 5)\n",
    "not (5 &gt; 4)\n",
    "(5 &gt; 4) or (3 == 5)\n",
    "not ((5 &gt; 4) or (3 == 5))\n",
    "(True and True) and (True == False)\n",
    "(not False) or (not True)**"
   ]
  },
  {
   "cell_type": "markdown",
   "id": "1932866a",
   "metadata": {},
   "source": [
    "The values of the following expressions are:\n",
    "   - (5 > 4) and (3 == 5): False\n",
    "   - not (5 > 4): False\n",
    "   - (5 > 4) or (3 == 5): True\n",
    "   - not ((5 > 4) or (3 == 5)): False\n",
    "   - (True and True) and (True == False): False\n",
    "   - (not False) or (not True): True"
   ]
  },
  {
   "cell_type": "markdown",
   "id": "c866ab15",
   "metadata": {},
   "source": [
    "**5. What are the six comparison operators?**"
   ]
  },
  {
   "cell_type": "markdown",
   "id": "627420bd",
   "metadata": {},
   "source": [
    "The six comparison operators are:\n",
    "   - Equal to (==)\n",
    "   - Not equal to (!=)\n",
    "   - Greater than (>)\n",
    "   - Less than (<)\n",
    "   - Greater than or equal to (>=)\n",
    "   - Less than or equal to (<=)"
   ]
  },
  {
   "cell_type": "markdown",
   "id": "b733961c",
   "metadata": {},
   "source": [
    "**6. How do you tell the difference between the equal to and assignment operators?Describe a\n",
    "condition and when you would use one.**"
   ]
  },
  {
   "cell_type": "markdown",
   "id": "eece31f4",
   "metadata": {},
   "source": [
    "The equal to operator (==) is used to compare whether two values are equal. It returns a Boolean value of True if the values are equal and False otherwise. The assignment operator (=) is used to assign a value to a variable.\n",
    "\n",
    "Example of equal to operator: \n",
    "```\n",
    "x = 5\n",
    "y = 10\n",
    "if x == y:\n",
    "    print(\"x is equal to y\")\n",
    "```\n",
    "\n",
    "Example of assignment operator:\n",
    "```\n",
    "x = 5\n",
    "y = x\n",
    "```\n",
    "In the above example, the value of x is assigned to y.\n"
   ]
  },
  {
   "cell_type": "markdown",
   "id": "4a310c2a",
   "metadata": {},
   "source": [
    "**7. Identify the three blocks in this code:\n",
    "spam = 0\n",
    "if spam == 10:\n",
    "print(&#39;eggs&#39;)\n",
    "if spam &gt; 5:\n",
    "print(&#39;bacon&#39;)\n",
    "else:\n",
    "print(&#39;ham&#39;)\n",
    "print(&#39;spam&#39;)\n",
    "print(&#39;spam&#39;)**"
   ]
  },
  {
   "cell_type": "markdown",
   "id": "c0f09f70",
   "metadata": {},
   "source": [
    "The three blocks in the code are:\n",
    "   - Block 1:\n",
    "     ```\n",
    "     if spam == 10:\n",
    "         print('eggs')\n",
    "     ```\n",
    "   - Block 2:\n",
    "     ```\n",
    "     if spam > 5:\n",
    "         print('bacon')\n",
    "     ```\n",
    "   - Block 3:\n",
    "     ```\n",
    "     else:\n",
    "         print('ham')\n",
    "     ```"
   ]
  },
  {
   "cell_type": "markdown",
   "id": "c52c511c",
   "metadata": {},
   "source": [
    "**8. Write code that prints Hello if 1 is stored in spam, prints Howdy if 2 is stored in spam, and prints\n",
    "Greetings! if anything else is stored in spam.**"
   ]
  },
  {
   "cell_type": "markdown",
   "id": "22a2263b",
   "metadata": {},
   "source": [
    "Code that prints different messages based on the value of spam:\n",
    "   ```\n",
    "   spam = 0\n",
    "   if spam == 1:\n",
    "       print('Hello')\n",
    "   elif spam == 2:\n",
    "       print('Howdy')\n",
    "   else:\n",
    "       print('Greetings!')\n",
    "   ```"
   ]
  },
  {
   "cell_type": "markdown",
   "id": "7d1e89d7",
   "metadata": {},
   "source": [
    "**9.If your programme is stuck in an endless loop, what keys you’ll press?**"
   ]
  },
  {
   "cell_type": "markdown",
   "id": "f7f74f9f",
   "metadata": {},
   "source": [
    "If a program is stuck in an endless loop, you can press \"Ctrl + C\" (or \"Command + C\" on Mac) to interrupt the program and stop its execution."
   ]
  },
  {
   "cell_type": "markdown",
   "id": "6c40e218",
   "metadata": {},
   "source": [
    "**10. How can you tell the difference between break and continue?**"
   ]
  },
  {
   "cell_type": "markdown",
   "id": "5c97ee55",
   "metadata": {},
   "source": [
    "The difference between break and continue statements:\n",
    "   - The break statement is used to exit the current loop entirely. It terminates the loop and continues with the next statement outside the loop.\n",
    "   - The continue statement is used to skip the rest of the loop's code for the current iteration and move to the next iteration."
   ]
  },
  {
   "cell_type": "markdown",
   "id": "d3acf533",
   "metadata": {},
   "source": [
    "**11. In a for loop, what is the difference between range(10), range(0, 10), and range(0, 10, 1)?**"
   ]
  },
  {
   "cell_type": "markdown",
   "id": "648a9677",
   "metadata": {},
   "source": [
    "In a for loop:\n",
    "   - `range(10)` generates values from 0 to 9. It starts from the default value of 0 and goes up to (but does not include) the specified upper limit of 10.\n",
    "   - `range(0, 10)` generates values from 0 to 9, similar to `range(10)`. Here, the start value of \n",
    "\n",
    "0 is explicitly specified.\n",
    "   - `range(0, 10, 1)` generates values from 0 to 9 with a step of 1. The step size is optional and defaults to 1 if not specified."
   ]
  },
  {
   "cell_type": "markdown",
   "id": "156fcdc3",
   "metadata": {},
   "source": [
    "**12. Write a short program that prints the numbers 1 to 10 using a for loop. Then write an equivalent\n",
    "program that prints the numbers 1 to 10 using a while loop.**"
   ]
  },
  {
   "cell_type": "markdown",
   "id": "accdb9b0",
   "metadata": {},
   "source": [
    "Program to print numbers 1 to 10 using a for loop:\n",
    "   ```\n",
    "   for num in range(1, 11):\n",
    "       print(num)\n",
    "   ```\n",
    "\n",
    "   Program to print numbers 1 to 10 using a while loop:\n",
    "   ```\n",
    "   num = 1\n",
    "   while num <= 10:\n",
    "       print(num)\n",
    "       num += 1\n",
    "   ```"
   ]
  },
  {
   "cell_type": "markdown",
   "id": "866d2a0f",
   "metadata": {},
   "source": [
    "**13. If you had a function named bacon() inside a module named spam, how would you call it after importing spam ?**"
   ]
  },
  {
   "cell_type": "markdown",
   "id": "1d36ebc6",
   "metadata": {},
   "source": [
    "After importing the module named \"spam\" that contains the function \"bacon()\", you can call it using the following syntax:\n",
    "   ```\n",
    "   import spam\n",
    "   spam.bacon()\n",
    "   ```"
   ]
  }
 ],
 "metadata": {
  "kernelspec": {
   "display_name": "Python 3 (ipykernel)",
   "language": "python",
   "name": "python3"
  },
  "language_info": {
   "codemirror_mode": {
    "name": "ipython",
    "version": 3
   },
   "file_extension": ".py",
   "mimetype": "text/x-python",
   "name": "python",
   "nbconvert_exporter": "python",
   "pygments_lexer": "ipython3",
   "version": "3.9.16"
  }
 },
 "nbformat": 4,
 "nbformat_minor": 5
}
