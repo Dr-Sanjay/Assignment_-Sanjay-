{
 "cells": [
  {
   "cell_type": "code",
   "execution_count": null,
   "id": "077f02cb",
   "metadata": {},
   "outputs": [],
   "source": [
    "print('Hello, world 2')"
   ]
  }
 ],
 "metadata": {},
 "nbformat": 4,
 "nbformat_minor": 5
}
