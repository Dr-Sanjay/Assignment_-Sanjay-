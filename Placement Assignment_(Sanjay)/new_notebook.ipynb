{
 "cells": [
  {
   "cell_type": "code",
   "execution_count": null,
   "id": "65524a78",
   "metadata": {},
   "outputs": [],
   "source": [
    "# Your Python code here\n",
    "print(\"Hello, world!\")\n"
   ]
  }
 ],
 "metadata": {},
 "nbformat": 4,
 "nbformat_minor": 5
}
