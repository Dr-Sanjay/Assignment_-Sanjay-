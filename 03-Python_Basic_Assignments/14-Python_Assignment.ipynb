{
 "cells": [
  {
   "cell_type": "markdown",
   "id": "99b1c51a",
   "metadata": {},
   "source": [
    "# 14-Python Basic Assignment"
   ]
  },
  {
   "cell_type": "markdown",
   "id": "97e50016",
   "metadata": {},
   "source": [
    "**1. What does RGBA stand for?**"
   ]
  },
  {
   "cell_type": "markdown",
   "id": "faa71d3c",
   "metadata": {},
   "source": [
    "1. RGBA stands for Red Green Blue Alpha. It is a color model that represents colors using a combination of red, green, and blue color channels, along with an alpha channel for transparency."
   ]
  },
  {
   "cell_type": "markdown",
   "id": "85d865b8",
   "metadata": {},
   "source": [
    "**2. From the Pillow module, how do you get the RGBA value of any images?**"
   ]
  },
  {
   "cell_type": "code",
   "execution_count": 23,
   "id": "c3a5e6e3",
   "metadata": {},
   "outputs": [
    {
     "name": "stdout",
     "output_type": "stream",
     "text": [
      "(255, 255, 255, 255)\n"
     ]
    }
   ],
   "source": [
    "# To get the RGBA value of an image using the Pillow module in Python, i can use the `getpixel()` method. Here's an example:\n",
    "\n",
    "from PIL import Image\n",
    "\n",
    "# Open the image\n",
    "image = Image.open('C:\\\\Users\\\\Realme\\\\Pictures\\\\windows licence type.PNG')\n",
    "\n",
    "# Specify the pixel coordinates\n",
    "x = 10\n",
    "y = 20\n",
    "\n",
    "# Get the RGBA value at coordinates (x, y)\n",
    "rgba_value = image.getpixel((x, y))\n",
    "\n",
    "print(rgba_value)\n",
    "\n"
   ]
  },
  {
   "cell_type": "markdown",
   "id": "d5d2a2b8",
   "metadata": {},
   "source": [
    "**3. What is a box tuple, and how does it work?**"
   ]
  },
  {
   "cell_type": "markdown",
   "id": "c59c5665",
   "metadata": {},
   "source": [
    "3. A box tuple, also known as a bounding box, is a tuple that represents a rectangular region in an image. It is typically represented as a 4-tuple `(left, upper, right, lower)`, where:\n",
    "   - `left` is the x-coordinate of the left edge of the box.\n",
    "   - `upper` is the y-coordinate of the upper edge of the box.\n",
    "   - `right` is the x-coordinate of the right edge of the box.\n",
    "   - `lower` is the y-coordinate of the lower edge of the box.\n",
    "\n",
    "   The box tuple defines the region within the image where an operation or transformation should be applied. It is often used as an argument in various image processing methods in Pillow.\n"
   ]
  },
  {
   "cell_type": "markdown",
   "id": "9033ff85",
   "metadata": {},
   "source": [
    "**4. Use your image and load in notebook then, How can you find out the width and height of an Image object?**"
   ]
  },
  {
   "cell_type": "code",
   "execution_count": 19,
   "id": "88e7c322",
   "metadata": {},
   "outputs": [
    {
     "name": "stdout",
     "output_type": "stream",
     "text": [
      "Width: 546, Height: 295\n"
     ]
    }
   ],
   "source": [
    "#To find out the width and height of an Image object using the Pillow module, i can use the `size` attribute. Here's an example:\n",
    "\n",
    "from PIL import Image\n",
    "\n",
    "# Open the image\n",
    "image = Image.open('C:\\\\Users\\\\Realme\\\\Pictures\\\\windows licence type.PNG')\n",
    "\n",
    "# Get the width and height of the image\n",
    "width, height = image.size\n",
    "\n",
    "print(f\"Width: {width}, Height: {height}\")\n",
    "\n",
    "# In the example above, `'image.png'` is the filename of the image. The `size` attribute of the Image object returns a tuple `(width, height)` representing the dimensions of the image."
   ]
  },
  {
   "cell_type": "markdown",
   "id": "84c12351",
   "metadata": {},
   "source": [
    "**5. What method would you call to get Image object for a 100×100 image, excluding the lower-left quarter of it?**"
   ]
  },
  {
   "cell_type": "code",
   "execution_count": 25,
   "id": "f1164ed6",
   "metadata": {},
   "outputs": [],
   "source": [
    "from PIL import Image\n",
    "\n",
    "# Open the image\n",
    "image = Image.open('C:\\\\Users\\\\Realme\\\\Pictures\\\\windows licence type.PNG')\n",
    "\n",
    "# Crop the image to exclude the lower-left quarter\n",
    "cropped_image = image.crop((0, 0, 100, 50))\n",
    "\n",
    "# Display the cropped image\n",
    "cropped_image.show()\n"
   ]
  },
  {
   "cell_type": "markdown",
   "id": "19fac474",
   "metadata": {},
   "source": [
    "**6. After making changes to an Image object, how could you save it as an image file?**"
   ]
  },
  {
   "cell_type": "code",
   "execution_count": 21,
   "id": "336d7d91",
   "metadata": {},
   "outputs": [],
   "source": [
    "from PIL import Image\n",
    "\n",
    "# Open the image\n",
    "image = Image.open('C:\\\\Users\\\\Realme\\\\Pictures\\\\windows licence type.PNG')\n",
    "\n",
    "# Perform some operations on the image...\n",
    "\n",
    "# Save the modified image as a new file\n",
    "image.save('modified_image.png')\n"
   ]
  },
  {
   "cell_type": "markdown",
   "id": "5fd4bba9",
   "metadata": {},
   "source": [
    "**7. What module contains Pillow’s shape-drawing code?**"
   ]
  },
  {
   "cell_type": "markdown",
   "id": "fa1c5ec2",
   "metadata": {},
   "source": [
    "7. The module that contains Pillow's shape-drawing code is `PIL.ImageDraw`. It is part of the Pillow library and provides functionality for drawing shapes, lines, and text on images."
   ]
  },
  {
   "cell_type": "markdown",
   "id": "22ae3469",
   "metadata": {},
   "source": [
    "**8. Image objects do not have drawing methods. What kind of object does? How do you get this kind of object?**"
   ]
  },
  {
   "cell_type": "code",
   "execution_count": 22,
   "id": "49f3cc09",
   "metadata": {},
   "outputs": [],
   "source": [
    "from PIL import Image, ImageDraw\n",
    "\n",
    "# Open the image\n",
    "image = Image.open('C:\\\\Users\\\\Realme\\\\Pictures\\\\windows licence type.PNG')\n",
    "\n",
    "# Create an ImageDraw object\n",
    "draw = ImageDraw.Draw(image)\n",
    "\n",
    "# Specify the line's starting and ending coordinates\n",
    "x1 = 10\n",
    "y1 = 20\n",
    "x2 = 100\n",
    "y2 = 200\n",
    "\n",
    "# Use the ImageDraw object to draw a line on the image\n",
    "draw.line((x1, y1, x2, y2), fill='red', width=2)\n",
    "\n",
    "# Show or save the modified image\n",
    "image.show()\n",
    "image.save('modified_image.png')\n"
   ]
  }
 ],
 "metadata": {
  "kernelspec": {
   "display_name": "Python 3 (ipykernel)",
   "language": "python",
   "name": "python3"
  },
  "language_info": {
   "codemirror_mode": {
    "name": "ipython",
    "version": 3
   },
   "file_extension": ".py",
   "mimetype": "text/x-python",
   "name": "python",
   "nbconvert_exporter": "python",
   "pygments_lexer": "ipython3",
   "version": "3.9.16"
  }
 },
 "nbformat": 4,
 "nbformat_minor": 5
}
