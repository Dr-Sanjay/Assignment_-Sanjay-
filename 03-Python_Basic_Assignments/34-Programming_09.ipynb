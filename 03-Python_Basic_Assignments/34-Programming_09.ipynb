{
 "cells": [
  {
   "cell_type": "markdown",
   "id": "6695721d",
   "metadata": {},
   "source": [
    "# 09-Python Basic Programming"
   ]
  },
  {
   "cell_type": "markdown",
   "id": "752ffe2c",
   "metadata": {},
   "source": [
    "**1.\tWrite a Python program to check if the given number is a Disarium Number?**"
   ]
  },
  {
   "cell_type": "code",
   "execution_count": 8,
   "id": "7d855e7a",
   "metadata": {},
   "outputs": [
    {
     "name": "stdout",
     "output_type": "stream",
     "text": [
      "135 is a Disarium Number\n"
     ]
    }
   ],
   "source": [
    "def is_disarium_number(num):\n",
    "    num_str = str(num)\n",
    "    sum_of_powers = sum(int(digit) ** (index + 1) for index, digit in enumerate(num_str))\n",
    "    return sum_of_powers == num\n",
    "\n",
    "# Example usage:\n",
    "number = 135\n",
    "if is_disarium_number(number):\n",
    "    print(f\"{number} is a Disarium Number\")\n",
    "else:\n",
    "    print(f\"{number} is not a Disarium Number\")"
   ]
  },
  {
   "cell_type": "markdown",
   "id": "330681a7",
   "metadata": {},
   "source": [
    "**2.\tWrite a Python program to print all disarium numbers between 1 to 100?**"
   ]
  },
  {
   "cell_type": "code",
   "execution_count": 9,
   "id": "c558a5c5",
   "metadata": {},
   "outputs": [
    {
     "name": "stdout",
     "output_type": "stream",
     "text": [
      "Disarium numbers between 1 and 100:\n",
      "[1, 2, 3, 4, 5, 6, 7, 8, 9, 89]\n"
     ]
    }
   ],
   "source": [
    "def is_disarium_number(num):\n",
    "    num_str = str(num)\n",
    "    sum_of_powers = sum(int(digit) ** (index + 1) for index, digit in enumerate(num_str))\n",
    "    return sum_of_powers == num\n",
    "\n",
    "disarium_numbers = []\n",
    "for num in range(1, 101):\n",
    "    if is_disarium_number(num):\n",
    "        disarium_numbers.append(num)\n",
    "\n",
    "print(\"Disarium numbers between 1 and 100:\")\n",
    "print(disarium_numbers)"
   ]
  },
  {
   "cell_type": "markdown",
   "id": "1a8f2e55",
   "metadata": {},
   "source": [
    "**3.\tWrite a Python program to check if the given number is Happy Number?**"
   ]
  },
  {
   "cell_type": "code",
   "execution_count": 10,
   "id": "99b203ce",
   "metadata": {},
   "outputs": [
    {
     "name": "stdout",
     "output_type": "stream",
     "text": [
      "19 is a Happy Number\n"
     ]
    }
   ],
   "source": [
    "def is_happy_number(num):\n",
    "    visited = set()\n",
    "    while True:\n",
    "        if num == 1:\n",
    "            return True\n",
    "        elif num in visited:\n",
    "            return False\n",
    "        visited.add(num)\n",
    "        num = sum(int(digit) ** 2 for digit in str(num))\n",
    "\n",
    "# Example usage:\n",
    "number = 19\n",
    "if is_happy_number(number):\n",
    "    print(f\"{number} is a Happy Number\")\n",
    "else:\n",
    "    print(f\"{number} is not a Happy Number\")"
   ]
  },
  {
   "cell_type": "markdown",
   "id": "8ed22fae",
   "metadata": {},
   "source": [
    "**4.\tWrite a Python program to print all happy numbers between 1 and 100?**"
   ]
  },
  {
   "cell_type": "code",
   "execution_count": 11,
   "id": "38365887",
   "metadata": {},
   "outputs": [
    {
     "name": "stdout",
     "output_type": "stream",
     "text": [
      "Happy numbers between 1 and 100:\n",
      "[1, 7, 10, 13, 19, 23, 28, 31, 32, 44, 49, 68, 70, 79, 82, 86, 91, 94, 97, 100]\n"
     ]
    }
   ],
   "source": [
    "def is_happy_number(num):\n",
    "    visited = set()\n",
    "    while True:\n",
    "        if num == 1:\n",
    "            return True\n",
    "        elif num in visited:\n",
    "            return False\n",
    "        visited.add(num)\n",
    "        num = sum(int(digit) ** 2 for digit in str(num))\n",
    "\n",
    "happy_numbers = []\n",
    "for num in range(1, 101):\n",
    "    if is_happy_number(num):\n",
    "        happy_numbers.append(num)\n",
    "\n",
    "print(\"Happy numbers between 1 and 100:\")\n",
    "print(happy_numbers)\n"
   ]
  },
  {
   "cell_type": "markdown",
   "id": "349b9cd3",
   "metadata": {},
   "source": [
    "**5.\tWrite a Python program to determine whether the given number is a Harshad Number?**"
   ]
  },
  {
   "cell_type": "code",
   "execution_count": 12,
   "id": "1ab6c4bc",
   "metadata": {},
   "outputs": [
    {
     "name": "stdout",
     "output_type": "stream",
     "text": [
      "18 is a Harshad Number\n"
     ]
    }
   ],
   "source": [
    "def is_harshad_number(num):\n",
    "    digits_sum = sum(int(digit) for digit in str(num))\n",
    "    return num % digits_sum == 0\n",
    "\n",
    "# Example usage:\n",
    "number = 18\n",
    "if is_harshad_number(number):\n",
    "    print(f\"{number} is a Harshad Number\")\n",
    "else:\n",
    "    print(f\"{number} is not a Harshad Number\")"
   ]
  },
  {
   "cell_type": "markdown",
   "id": "25fd67b9",
   "metadata": {},
   "source": [
    "**6.\tWrite a Python program to print all pronic numbers between 1 and 100?**"
   ]
  },
  {
   "cell_type": "code",
   "execution_count": 13,
   "id": "e8e30ead",
   "metadata": {},
   "outputs": [
    {
     "name": "stdout",
     "output_type": "stream",
     "text": [
      "Pronic numbers between 1 and 100:\n",
      "[2, 6, 12, 20, 30, 42, 56, 72, 90]\n"
     ]
    }
   ],
   "source": [
    "def is_pronic_number(num):\n",
    "    for i in range(num):\n",
    "        if i * (i + 1) == num:\n",
    "            return True\n",
    "    return False\n",
    "\n",
    "pronic_numbers = []\n",
    "for num in range(1, 101):\n",
    "    if is_pronic_number(num):\n",
    "        pronic_numbers.append(num)\n",
    "\n",
    "print(\"Pronic numbers between 1 and 100:\")\n",
    "print(pronic_numbers)"
   ]
  }
 ],
 "metadata": {
  "kernelspec": {
   "display_name": "Python 3 (ipykernel)",
   "language": "python",
   "name": "python3"
  },
  "language_info": {
   "codemirror_mode": {
    "name": "ipython",
    "version": 3
   },
   "file_extension": ".py",
   "mimetype": "text/x-python",
   "name": "python",
   "nbconvert_exporter": "python",
   "pygments_lexer": "ipython3",
   "version": "3.9.16"
  }
 },
 "nbformat": 4,
 "nbformat_minor": 5
}
