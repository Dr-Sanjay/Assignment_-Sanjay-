{
 "cells": [
  {
   "cell_type": "markdown",
   "id": "b9e49857",
   "metadata": {},
   "source": [
    "# 10-Python Basic Assignment"
   ]
  },
  {
   "cell_type": "markdown",
   "id": "31f0a1a5",
   "metadata": {},
   "source": [
    "**1. How do you distinguish between shutil.copy() and shutil.copytree()?**"
   ]
  },
  {
   "cell_type": "markdown",
   "id": "daed4876",
   "metadata": {},
   "source": [
    "The `shutil.copy()` function is used to copy a single file from one location to another. It takes two arguments: the source file path and the destination file path. If the destination file already exists, it will be overwritten.\n",
    "\n",
    "On the other hand, the `shutil.copytree()` function is used to recursively copy an entire directory tree from one location to another. It takes two arguments: the source directory path and the destination directory path. If the destination directory already exists, a `FileExistsError` will be raised."
   ]
  },
  {
   "cell_type": "markdown",
   "id": "de634fc7",
   "metadata": {},
   "source": [
    "**2. What function is used to rename files??**"
   ]
  },
  {
   "cell_type": "markdown",
   "id": "facc3aa0",
   "metadata": {},
   "source": [
    "The `os.rename()` function is used to rename files or directories in Python. It takes two arguments: the current name of the file or directory and the new name."
   ]
  },
  {
   "cell_type": "markdown",
   "id": "a330fc23",
   "metadata": {},
   "source": [
    "**3. What is the difference between the delete functions in the send2trash and shutil modules?**"
   ]
  },
  {
   "cell_type": "markdown",
   "id": "d20f1600",
   "metadata": {},
   "source": [
    "The delete functions in the `send2trash` and `shutil` modules have different behaviors:\n",
    "\n",
    "- `send2trash`: The `send2trash` module provides a function called `send2trash()` that sends files or directories to the system trash or recycle bin instead of permanently deleting them. This allows for safer deletion, as the files can be restored if needed. The `send2trash()` function takes the path of the file or directory as an argument.\n",
    "\n",
    "- `shutil`: The `shutil` module provides various functions for file and directory operations, including deletion. The `shutil.rmtree()` function is used to recursively delete a directory and its contents, including all files and subdirectories. It permanently deletes the files and directories, bypassing the system trash or recycle bin. The `os.remove()` function is used to delete a single file."
   ]
  },
  {
   "cell_type": "markdown",
   "id": "f6d9c020",
   "metadata": {},
   "source": [
    "**4.ZipFile objects have a close() method just like File objects’ close() method. What ZipFile method is equivalent to File objects’ open() method?**"
   ]
  },
  {
   "cell_type": "markdown",
   "id": "b3649a88",
   "metadata": {},
   "source": [
    "The equivalent method in `ZipFile` objects to the `open()` method of `File` objects is the `extractall()` method. The `extractall()` method is used to extract all files and directories from a zip archive to a specified destination directory."
   ]
  },
  {
   "cell_type": "markdown",
   "id": "8008782e",
   "metadata": {},
   "source": [
    "**5. Create a programme that searches a folder tree for files with a certain file extension (such as .pdf or .jpg). Copy these files from whatever location they are in to a new folder.**"
   ]
  },
  {
   "cell_type": "code",
   "execution_count": 9,
   "id": "7429689c",
   "metadata": {},
   "outputs": [
    {
     "name": "stdout",
     "output_type": "stream",
     "text": [
      "Copied: D:\\D Downloads\\MyFlow\\demo.pdf --> D:\\New folder\\demo.pdf\n"
     ]
    }
   ],
   "source": [
    "#Here's an example program that searches for files with a specific file extension in a folder tree and copies them to a new folder:\n",
    "\n",
    "import os\n",
    "import shutil\n",
    "\n",
    "def search_and_copy_files(source_folder, target_folder, extension):\n",
    "    for root, dirs, files in os.walk(source_folder):\n",
    "        for file in files:\n",
    "            if file.endswith(extension):\n",
    "                source_path = os.path.join(root, file)\n",
    "                target_path = os.path.join(target_folder, file)\n",
    "                shutil.copy(source_path, target_path)\n",
    "                print(f\"Copied: {source_path} --> {target_path}\")\n",
    "\n",
    "# Example usage\n",
    "source_folder = \"D:\\\\D Downloads\\\\MyFlow\"\n",
    "target_folder = \"D:\\\\New folder\"\n",
    "extension = \".pdf\"\n",
    "\n",
    "search_and_copy_files(source_folder, target_folder, extension)\n"
   ]
  }
 ],
 "metadata": {
  "kernelspec": {
   "display_name": "Python 3 (ipykernel)",
   "language": "python",
   "name": "python3"
  },
  "language_info": {
   "codemirror_mode": {
    "name": "ipython",
    "version": 3
   },
   "file_extension": ".py",
   "mimetype": "text/x-python",
   "name": "python",
   "nbconvert_exporter": "python",
   "pygments_lexer": "ipython3",
   "version": "3.9.16"
  }
 },
 "nbformat": 4,
 "nbformat_minor": 5
}
