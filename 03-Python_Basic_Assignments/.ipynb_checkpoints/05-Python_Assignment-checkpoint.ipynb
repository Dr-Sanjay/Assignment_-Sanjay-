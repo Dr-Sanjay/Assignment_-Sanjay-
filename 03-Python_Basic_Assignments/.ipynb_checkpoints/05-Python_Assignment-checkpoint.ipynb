{
 "cells": [
  {
   "cell_type": "markdown",
   "id": "be847eaa",
   "metadata": {},
   "source": [
    "# 05-Python Basic Assignment"
   ]
  },
  {
   "cell_type": "markdown",
   "id": "be911f3e",
   "metadata": {},
   "source": [
    "**1. What does an empty dictionary's code look like?**"
   ]
  },
  {
   "cell_type": "markdown",
   "id": "eae7f7bb",
   "metadata": {},
   "source": [
    " An empty dictionary's code looks like this: `{}`."
   ]
  },
  {
   "cell_type": "markdown",
   "id": "7242a6bb",
   "metadata": {},
   "source": [
    "**2. What is the value of a dictionary value with the key 'foo' and the value 42?**"
   ]
  },
  {
   "cell_type": "markdown",
   "id": "ebff7499",
   "metadata": {},
   "source": [
    "The value of a dictionary with the key 'foo' and the value 42 would be `42`."
   ]
  },
  {
   "cell_type": "markdown",
   "id": "9a238c0b",
   "metadata": {},
   "source": [
    "**3. What is the most significant distinction between a dictionary and a list?**"
   ]
  },
  {
   "cell_type": "markdown",
   "id": "9255ec6d",
   "metadata": {},
   "source": [
    "The most significant distinction between a dictionary and a list is that a dictionary is an unordered collection of key-value pairs, whereas a list is an ordered collection of values. In a dictionary, the values are accessed by their corresponding keys, while in a list, the values are accessed by their indices."
   ]
  },
  {
   "cell_type": "markdown",
   "id": "d54efa70",
   "metadata": {},
   "source": [
    "**4. What happens if you try to access spam['foo'] if spam is {'bar': 100}?**"
   ]
  },
  {
   "cell_type": "markdown",
   "id": "eb4d737b",
   "metadata": {},
   "source": [
    "If you try to access `spam['foo']` when `spam` is `{'bar': 100}`, it will raise a `KeyError` because the key 'foo' does not exist in the dictionary `spam`. The code would result in an error."
   ]
  },
  {
   "cell_type": "markdown",
   "id": "0a4b1b3a",
   "metadata": {},
   "source": [
    "**5. If a dictionary is stored in spam, what is the difference between the expressions 'cat' in spam and 'cat' in spam.keys()?**"
   ]
  },
  {
   "cell_type": "markdown",
   "id": "762d5f56",
   "metadata": {},
   "source": [
    "The expression `'cat' in spam` checks if the key 'cat' exists in the dictionary `spam`. It returns `True` if the key is present and `False` otherwise. \n",
    "On the other hand, the expression `'cat' in spam.keys()` also checks if the key 'cat' exists in the dictionary `spam`. It performs the same check but explicitly accesses the keys of the dictionary using the `keys()` method. The result would be the same as `'cat' in spam`."
   ]
  },
  {
   "cell_type": "markdown",
   "id": "e03b0ed9",
   "metadata": {},
   "source": [
    "**6. If a dictionary is stored in spam, what is the difference between the expressions 'cat' in spam and 'cat' in spam.values()?**"
   ]
  },
  {
   "cell_type": "markdown",
   "id": "45589f00",
   "metadata": {},
   "source": [
    "The expression `'cat' in spam` checks if the key 'cat' exists in the dictionary `spam`. It returns `True` if the key is present and `False` otherwise.\n",
    "However, the expression `'cat' in spam.values()` checks if the value 'cat' exists in any of the values of the dictionary `spam`. It searches for the value within the dictionary's values and returns `True` if found, otherwise `False`. "
   ]
  },
  {
   "cell_type": "markdown",
   "id": "ace9e993",
   "metadata": {},
   "source": [
    "**7. What is a shortcut for the following code?\n",
    "if 'color' not in spam:\n",
    "spam['color'] = 'black'**\n"
   ]
  },
  {
   "cell_type": "markdown",
   "id": "1432bb60",
   "metadata": {},
   "source": [
    "A shortcut for the given code `if 'color' not in spam: spam['color'] = 'black'` can be achieved using the `setdefault()` method of dictionaries. The code can be shortened to:\n",
    "```\n",
    "spam.setdefault('color', 'black')\n",
    "```\n",
    "This method checks if the key 'color' is present in the dictionary `spam`. If the key is not present, it adds the key-value pair 'color': 'black' to the dictionary. If the key is already present, it does nothing"
   ]
  },
  {
   "cell_type": "markdown",
   "id": "b41c22f4",
   "metadata": {},
   "source": [
    "**8. How do you \"pretty print\" dictionary values using which module and function?**"
   ]
  },
  {
   "cell_type": "markdown",
   "id": "21be2f01",
   "metadata": {},
   "source": [
    "To \"pretty print\" dictionary values, you can use the `pprint` module in Python and its `pprint()` function. Here's an example of how to use it:\n",
    "```python\n",
    "import pprint\n",
    "\n",
    "my_dict = {'key1': 'value1', 'key2': 'value2', 'key3': 'value3'}\n",
    "pprint.pprint(my_dict)\n",
    "```\n",
    "The `pprint.pprint()` function will display the dictionary in a nicely formatted and easy-to-read manner."
   ]
  }
 ],
 "metadata": {
  "kernelspec": {
   "display_name": "Python 3 (ipykernel)",
   "language": "python",
   "name": "python3"
  },
  "language_info": {
   "codemirror_mode": {
    "name": "ipython",
    "version": 3
   },
   "file_extension": ".py",
   "mimetype": "text/x-python",
   "name": "python",
   "nbconvert_exporter": "python",
   "pygments_lexer": "ipython3",
   "version": "3.9.16"
  }
 },
 "nbformat": 4,
 "nbformat_minor": 5
}
