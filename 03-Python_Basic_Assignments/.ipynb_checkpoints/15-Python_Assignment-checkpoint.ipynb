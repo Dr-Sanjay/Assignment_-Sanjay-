{
 "cells": [
  {
   "cell_type": "markdown",
   "id": "4c2b338a",
   "metadata": {},
   "source": [
    "# 15-Python Basic Assignment"
   ]
  },
  {
   "cell_type": "markdown",
   "id": "65c85392",
   "metadata": {},
   "source": [
    "**1.How many seconds are in an hour? Use the interactive interpreter as a calculator and multiply the number of seconds in a minute (60) by the number of minutes in an hour (also 60).**"
   ]
  },
  {
   "cell_type": "markdown",
   "id": "7f18734c",
   "metadata": {},
   "source": [
    "To calculate the number of seconds in an hour, i can multiply the number of seconds in a minute (60) by the number of minutes in an hour (60). Using the interactive interpreter as a calculator:\n",
    "\n",
    "60 * 60\n",
    "\n",
    "The result is 3600 seconds."
   ]
  },
  {
   "cell_type": "markdown",
   "id": "764804c7",
   "metadata": {},
   "source": [
    "**2. Assign the result from the previous task (seconds in an hour) to a variable called seconds_per_hour.**"
   ]
  },
  {
   "cell_type": "markdown",
   "id": "ebbe87a5",
   "metadata": {},
   "source": [
    "To assign the result from the previous calculation (3600 seconds) to a variable called `seconds_per_hour`, we can use the assignment operator (`=`):\n",
    "\n",
    "```python\n",
    "seconds_per_hour = 60 * 60\n",
    "```\n",
    "\n",
    "Now the variable `seconds_per_hour` holds the value 3600."
   ]
  },
  {
   "cell_type": "markdown",
   "id": "ccffa5da",
   "metadata": {},
   "source": [
    "**3. How many seconds do you think there are in a day? Make use of the variables seconds per hour and minutes per hour.**"
   ]
  },
  {
   "cell_type": "markdown",
   "id": "e2857a71",
   "metadata": {},
   "source": [
    "To calculate the number of seconds in a day, we can multiply the `seconds_per_hour` variable by the number of hours in a day, which is 24:\n",
    "\n",
    "```python\n",
    "seconds_per_day = seconds_per_hour * 24\n",
    "```\n",
    "\n",
    "The result is 86400 seconds.\n"
   ]
  },
  {
   "cell_type": "markdown",
   "id": "159fac59",
   "metadata": {},
   "source": [
    "**4. Calculate seconds per day again, but this time save the result in a variable called seconds_per_day**"
   ]
  },
  {
   "cell_type": "markdown",
   "id": "8687fb9b",
   "metadata": {},
   "source": [
    "By saving the result of the calculation in the variable `seconds_per_day`, you can access it for further calculations or use:\n",
    "\n",
    "```python\n",
    "seconds_per_day = seconds_per_hour * 24\n",
    "```\n",
    "\n",
    "Now the variable `seconds_per_day` holds the value 86400.\n"
   ]
  },
  {
   "cell_type": "markdown",
   "id": "74d75fca",
   "metadata": {},
   "source": [
    "**5. Divide seconds_per_day by seconds_per_hour. Use floating-point (/) division.**"
   ]
  },
  {
   "cell_type": "markdown",
   "id": "bf4e61cb",
   "metadata": {},
   "source": [
    "To calculate the ratio of `seconds_per_day` to `seconds_per_hour` using floating-point division, you can divide `seconds_per_day` by `seconds_per_hour`:\n",
    "\n",
    "```python\n",
    "seconds_per_day / seconds_per_hour\n",
    "```\n",
    "\n",
    "The result is 24.0, as floating-point division provides a decimal representation."
   ]
  },
  {
   "cell_type": "markdown",
   "id": "4cd19d51",
   "metadata": {},
   "source": [
    "**6. Divide seconds_per_day by seconds_per_hour, using integer (//) division. Did this number agree with the floating-point value from the previous question, aside from the final .0?**"
   ]
  },
  {
   "cell_type": "markdown",
   "id": "b0883853",
   "metadata": {},
   "source": [
    "To calculate the ratio of `seconds_per_day` to `seconds_per_hour` using integer division, you can use the double forward slash (`//`) operator:\n",
    "\n",
    "```python\n",
    "seconds_per_day // seconds_per_hour\n",
    "```\n",
    "\n",
    "The result is 24, as integer division discards the decimal part of the division result. In this case, the integer division result matches the whole number part of the floating-point division result obtained in the previous question.\n"
   ]
  },
  {
   "cell_type": "markdown",
   "id": "cbd925fe",
   "metadata": {},
   "source": [
    "**7. Write a generator, genPrimes, that returns the sequence of prime numbers on successive calls to its next() method: 2, 3, 5, 7, 11, ...**"
   ]
  },
  {
   "cell_type": "markdown",
   "id": "3087806d",
   "metadata": {},
   "source": [
    "Here's an implementation of the `genPrimes` generator that returns the sequence of prime numbers on successive calls to its `next()` method:\n",
    "\n",
    "```python\n",
    "def genPrimes():\n",
    "    primes = []\n",
    "    num = 2\n",
    "    while True:\n",
    "        if all(num % prime != 0 for prime in primes):\n",
    "            primes.append(num)\n",
    "            yield num\n",
    "        num += 1\n",
    "```\n",
    "\n",
    "The `genPrimes` generator uses a list `primes` to keep track of the prime numbers found so far. It starts with `num = 2` and enters an infinite loop. On each iteration, it checks if `num` is divisible by any prime number in the `primes` list. If not, it adds `num` to the `primes` list and yields `num` as the next prime number. The `yield` statement allows the generator to remember its state and continue from where it left off on the next call to `next()`. The `num` variable is incremented by 1 at the end of each iteration to check the next number."
   ]
  }
 ],
 "metadata": {
  "kernelspec": {
   "display_name": "Python 3 (ipykernel)",
   "language": "python",
   "name": "python3"
  },
  "language_info": {
   "codemirror_mode": {
    "name": "ipython",
    "version": 3
   },
   "file_extension": ".py",
   "mimetype": "text/x-python",
   "name": "python",
   "nbconvert_exporter": "python",
   "pygments_lexer": "ipython3",
   "version": "3.9.16"
  }
 },
 "nbformat": 4,
 "nbformat_minor": 5
}
