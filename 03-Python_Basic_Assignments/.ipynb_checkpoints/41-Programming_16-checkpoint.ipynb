{
 "cells": [
  {
   "cell_type": "markdown",
   "id": "714be1c8",
   "metadata": {},
   "source": [
    "# 16-Python Basic Programming"
   ]
  },
  {
   "cell_type": "markdown",
   "id": "7b19d4c0",
   "metadata": {},
   "source": [
    "**Question1. Write a function that stutters a word as if someone is struggling to read it. The first two letters are repeated twice with an ellipsis ... and space after each, and then the word is pronounced with a question mark ?.**  \n",
    "Examples  \n",
    "stutter(\"incredible\") ➞ \"in... in... incredible?\"  \n",
    "\n",
    "stutter(\"enthusiastic\") ➞ \"en... en... enthusiastic?\"  \n",
    "\n",
    "stutter(\"outstanding\") ➞ \"ou... ou... outstanding?\"  \n",
    "\n",
    "Hint :- Assume all input is in lower case and at least two characters long."
   ]
  },
  {
   "cell_type": "code",
   "execution_count": 22,
   "id": "a9788c0a",
   "metadata": {},
   "outputs": [
    {
     "name": "stdout",
     "output_type": "stream",
     "text": [
      "in... in... incredible?\n",
      "en... en... enthusiastic?\n",
      "ou... ou... outstanding?\n"
     ]
    }
   ],
   "source": [
    "def stutter(word):\n",
    "    return word[:2] + \"... \" + word[:2] + \"... \" + word + \"?\"\n",
    "\n",
    "# Example usage \n",
    "\n",
    "print(stutter(\"incredible\"))\n",
    "\n",
    "print(stutter(\"enthusiastic\"))\n",
    "\n",
    "print(stutter(\"outstanding\"))\n"
   ]
  },
  {
   "cell_type": "markdown",
   "id": "ece9bcdd",
   "metadata": {},
   "source": [
    "**Question 2.Create a function that takes an angle in radians and returns the corresponding angle in degrees rounded to one decimal place.**\n",
    "Examples  \n",
    "radians_to_degrees(1) ➞ 57.3  \n",
    "\n",
    "radians_to_degrees(20) ➞ 1145.9  \n",
    "\n",
    "radians_to_degrees(50) ➞ 2864.8"
   ]
  },
  {
   "cell_type": "code",
   "execution_count": 20,
   "id": "52ca7e7c",
   "metadata": {},
   "outputs": [
    {
     "name": "stdout",
     "output_type": "stream",
     "text": [
      "57.3\n",
      "1145.9\n",
      "2864.8\n"
     ]
    }
   ],
   "source": [
    "def radians_to_degrees(radians):\n",
    "    degrees = radians * 180 / 3.14159\n",
    "    return round(degrees, 1)\n",
    "\n",
    "# Example usage\n",
    "\n",
    "print(radians_to_degrees(1))\n",
    "\n",
    "print(radians_to_degrees(20))\n",
    "\n",
    "print(radians_to_degrees(50))\n"
   ]
  },
  {
   "cell_type": "markdown",
   "id": "324e09a7",
   "metadata": {},
   "source": [
    "**Question 3. In this challenge, establish if a given integer num is a Curzon number. If 1 plus 2 elevated to num is exactly divisible by 1 plus 2 multiplied by num, then num is a Curzon number.\n",
    "Given a non-negative integer num, implement a function that returns True if num is a Curzon number, or False otherwise.**  \n",
    "\n",
    "Examples  \n",
    "is_curzon(5) ➞ True  \n",
    "2 ** 5 + 1 = 33  \n",
    "2 * 5 + 1 = 11  \n",
    "33 is a multiple of 11  \n",
    "\n",
    "is_curzon(10) ➞ False  \n",
    "2 ** 10 + 1 = 1025  \n",
    "2 * 10 + 1 = 21  \n",
    "1025 is not a multiple of 21  \n",
    "\n",
    "is_curzon(14) ➞ True  \n",
    "2 ** 14 + 1 = 16385  \n",
    "2 * 14 + 1 = 29  \n",
    "16385 is a multiple of 29  "
   ]
  },
  {
   "cell_type": "code",
   "execution_count": 19,
   "id": "7ab58577",
   "metadata": {},
   "outputs": [
    {
     "name": "stdout",
     "output_type": "stream",
     "text": [
      "True\n",
      "False\n",
      "True\n"
     ]
    }
   ],
   "source": [
    "def is_curzon(num):\n",
    "    numerator = 2 ** num + 1\n",
    "    denominator = 2 * num + 1\n",
    "    return numerator % denominator == 0\n",
    "\n",
    "# Example usage\n",
    "\n",
    "print(is_curzon(5))\n",
    "\n",
    "print(is_curzon(10))\n",
    "\n",
    "print(is_curzon(14))\n"
   ]
  },
  {
   "cell_type": "markdown",
   "id": "df160c59",
   "metadata": {},
   "source": [
    "**Question 4.Given the side length x find the area of a hexagon.**\n",
    " \n",
    "Examples\n",
    "area_of_hexagon(1) ➞ 2.6\n",
    "\n",
    "area_of_hexagon(2) ➞ 10.4\n",
    "\n",
    "area_of_hexagon(3) ➞ 23.4"
   ]
  },
  {
   "cell_type": "code",
   "execution_count": 18,
   "id": "f15736d2",
   "metadata": {},
   "outputs": [
    {
     "name": "stdout",
     "output_type": "stream",
     "text": [
      "2.6\n",
      "10.4\n",
      "23.4\n"
     ]
    }
   ],
   "source": [
    "import math\n",
    "\n",
    "def area_of_hexagon(x):\n",
    "    return round(3 * math.sqrt(3) * x ** 2 / 2, 1)\n",
    "\n",
    "# Example usage\n",
    "\n",
    "print(area_of_hexagon(1))\n",
    "\n",
    "print(area_of_hexagon(2))\n",
    "\n",
    "print(area_of_hexagon(3))\n"
   ]
  },
  {
   "cell_type": "markdown",
   "id": "4ed8f8d2",
   "metadata": {},
   "source": [
    "**Question 5. Create a function that returns a base-2 (binary) representation of a base-10 (decimal) string number. To convert is simple: ((2) means base-2 and (10) means base-10) 010101001(2) = 1 + 8 + 32 + 128.**  \n",
    "\n",
    "Going from right to left, the value of the most right bit is 1, now from that every bit to the left will be x2 the value, value of an 8 bit binary numbers are (256, 128, 64, 32, 16, 8, 4, 2, 1).  \n",
    "Examples  \n",
    "\n",
    "binary(1) ➞ \"1\"\n",
    "1*1 = 1\n",
    "\n",
    "binary(5) ➞ \"101\"\n",
    "1*1 + 1*4 = 5\n",
    "\n",
    "binary(10) ➞ \"1010\"\n",
    "1*2 + 1*8 = 10"
   ]
  },
  {
   "cell_type": "code",
   "execution_count": 17,
   "id": "e5515563",
   "metadata": {},
   "outputs": [
    {
     "name": "stdout",
     "output_type": "stream",
     "text": [
      "1\n",
      "101\n",
      "1010\n"
     ]
    }
   ],
   "source": [
    "def binary(decimal):\n",
    "    return bin(decimal)[2:]\n",
    "\n",
    "# Example usage\n",
    "\n",
    "print(binary(1))\n",
    "\n",
    "print(binary(5))\n",
    "\n",
    "print(binary(10))\n"
   ]
  }
 ],
 "metadata": {
  "kernelspec": {
   "display_name": "Python 3 (ipykernel)",
   "language": "python",
   "name": "python3"
  },
  "language_info": {
   "codemirror_mode": {
    "name": "ipython",
    "version": 3
   },
   "file_extension": ".py",
   "mimetype": "text/x-python",
   "name": "python",
   "nbconvert_exporter": "python",
   "pygments_lexer": "ipython3",
   "version": "3.9.16"
  }
 },
 "nbformat": 4,
 "nbformat_minor": 5
}
