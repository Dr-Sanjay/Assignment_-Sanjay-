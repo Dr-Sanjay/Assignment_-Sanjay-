{
 "cells": [
  {
   "cell_type": "markdown",
   "id": "97228063",
   "metadata": {},
   "source": [
    "# 07-Python Basic Assignment"
   ]
  },
  {
   "cell_type": "markdown",
   "id": "ffa19a36",
   "metadata": {},
   "source": [
    "**1. What is the name of the feature responsible for generating Regex objects?**"
   ]
  },
  {
   "cell_type": "markdown",
   "id": "f4f7ccb4",
   "metadata": {},
   "source": [
    "The feature responsible for generating Regex objects is the `re` module in Python."
   ]
  },
  {
   "cell_type": "markdown",
   "id": "40f36847",
   "metadata": {},
   "source": [
    "**2. Why do raw strings often appear in Regex objects?**"
   ]
  },
  {
   "cell_type": "markdown",
   "id": "f058cb43",
   "metadata": {},
   "source": [
    "Raw strings (prefixed with 'r') are often used in Regex objects to avoid escaping special characters. Special characters in regular expressions have meanings, and by using a raw string, you can treat the string as a literal sequence of characters without any special interpretation."
   ]
  },
  {
   "cell_type": "markdown",
   "id": "8c787a12",
   "metadata": {},
   "source": [
    "**3. What is the return value of the search() method?**"
   ]
  },
  {
   "cell_type": "markdown",
   "id": "5af12945",
   "metadata": {},
   "source": [
    "The `search()` method returns a match object if it finds a match anywhere in the string being searched, or it returns `None` if no match is found."
   ]
  },
  {
   "cell_type": "markdown",
   "id": "b7a2ef3f",
   "metadata": {},
   "source": [
    "**4. From a Match item, how do you get the actual strings that match the pattern?**"
   ]
  },
  {
   "cell_type": "markdown",
   "id": "76fb9996",
   "metadata": {},
   "source": [
    "To get the actual strings that match the pattern from a Match object, you can use the `group()` method with the argument 0 or omit the argument. For example, `match.group(0)` or simply `match.group()` returns the entire match."
   ]
  },
  {
   "cell_type": "markdown",
   "id": "13f2bae3",
   "metadata": {},
   "source": [
    "**5. In the regex which created from the r'(\\d\\d\\d)-(\\d\\d\\d-\\d\\d\\d\\d)', what does group zero cover? Group 2? Group 1?**"
   ]
  },
  {
   "cell_type": "markdown",
   "id": "d59c17fa",
   "metadata": {},
   "source": [
    "In the given regex pattern `r'(\\d\\d\\d)-(\\d\\d\\d-\\d\\d\\d\\d)'`, group 0 covers the entire match, group 1 covers the first three digits before the dash, and group 2 covers the remaining digits after the dash."
   ]
  },
  {
   "cell_type": "markdown",
   "id": "5542a909",
   "metadata": {},
   "source": [
    "**6. In standard expression syntax, parentheses and intervals have distinct meanings. How can you tell a regex that you want it to fit real parentheses and periods?**"
   ]
  },
  {
   "cell_type": "markdown",
   "id": "b2e5f31c",
   "metadata": {},
   "source": [
    "To match real parentheses and periods in a regular expression, you need to escape them by adding a backslash before them. For example, to match a literal parentheses, use `\\( \\)` and to match a literal period, use `\\.`."
   ]
  },
  {
   "cell_type": "markdown",
   "id": "38ea6177",
   "metadata": {},
   "source": [
    "**7. The findall() method returns a string list or a list of string tuples. What causes it to return one of the two options?**"
   ]
  },
  {
   "cell_type": "markdown",
   "id": "9242f3ae",
   "metadata": {},
   "source": [
    "The `findall()` method returns a list of all non-overlapping matches as strings if the pattern contains no groups. If the pattern contains groups, it returns a list of tuples, where each tuple represents a match, and each element of the tuple corresponds to a group in the pattern."
   ]
  },
  {
   "cell_type": "markdown",
   "id": "283cea8a",
   "metadata": {},
   "source": [
    "**8. In standard expressions, what does the | character mean?**"
   ]
  },
  {
   "cell_type": "markdown",
   "id": "5aa463a4",
   "metadata": {},
   "source": [
    "In standard expressions, the `|` character denotes the logical OR operation. It allows you to specify multiple alternatives and matches any one of the alternatives."
   ]
  },
  {
   "cell_type": "markdown",
   "id": "4ccf43a0",
   "metadata": {},
   "source": [
    "**9. In regular expressions, what does the character stand for?**"
   ]
  },
  {
   "cell_type": "markdown",
   "id": "4050912c",
   "metadata": {},
   "source": [
    "In regular expressions, the dot character (`.`) is a special metacharacter that matches any character except a newline character."
   ]
  },
  {
   "cell_type": "markdown",
   "id": "8ebaf7db",
   "metadata": {},
   "source": [
    "**10.In regular expressions, what is the difference between the + and * characters?**"
   ]
  },
  {
   "cell_type": "markdown",
   "id": "c5784814",
   "metadata": {},
   "source": [
    "In regular expressions, the `+` character matches one or more occurrences of the preceding element, while the `*` character matches zero or more occurrences of the preceding element."
   ]
  },
  {
   "cell_type": "markdown",
   "id": "d1873af2",
   "metadata": {},
   "source": [
    "**11. What is the difference between {4} and {4,5} in regular expression?**"
   ]
  },
  {
   "cell_type": "markdown",
   "id": "702d7e70",
   "metadata": {},
   "source": [
    "In regular expressions, `{4}` specifies exactly four occurrences of the preceding element, whereas `{4,5}` specifies between four and five occurrences of the preceding element."
   ]
  },
  {
   "cell_type": "markdown",
   "id": "921cbc31",
   "metadata": {},
   "source": [
    "**12. What do you mean by the \\d, \\w, and \\s shorthand character classes signify in regular expressions?**"
   ]
  },
  {
   "cell_type": "markdown",
   "id": "0287afb1",
   "metadata": {},
   "source": [
    "In regular expressions, the `\\d` shorthand character class matches any digit (0-9), `\\w` matches any alphanumeric character (a-z, A-Z, 0-9, and underscore), and `\\s` matches any whitespace character (space, tab, newline)."
   ]
  },
  {
   "cell_type": "markdown",
   "id": "d4030ea0",
   "metadata": {},
   "source": [
    "**13. What do means by \\D, \\W, and \\S shorthand character classes signify in regular expressions?**"
   ]
  },
  {
   "cell_type": "markdown",
   "id": "9fc8c72a",
   "metadata": {},
   "source": [
    "In regular expressions, the `\\D` shorthand character class matches any non-digit character, `\\W` matches any non-alphanumeric character, and `\\S` matches any non-whitespace character."
   ]
  },
  {
   "cell_type": "markdown",
   "id": "f373ff2f",
   "metadata": {},
   "source": [
    "**14. What is the difference between .*? and .*?**"
   ]
  },
  {
   "cell_type": "markdown",
   "id": "18e2a45c",
   "metadata": {},
   "source": [
    "The `.*?` and `.*` are both used for matching any character except a newline character, but the `.*?` performs a non-greedy or minimal match, whereas `.*` performs a greedy match and matches as much as possible."
   ]
  },
  {
   "cell_type": "markdown",
   "id": "4d88d6ac",
   "metadata": {},
   "source": [
    "**15. What is the syntax for matching both numbers and lowercase letters with a character class?**"
   ]
  },
  {
   "cell_type": "markdown",
   "id": "1ffc44db",
   "metadata": {},
   "source": [
    "To match both numbers and lowercase letters with a character class, you can use `[0-9a-z]` or `[a-z0-9]`."
   ]
  },
  {
   "cell_type": "markdown",
   "id": "79a81075",
   "metadata": {},
   "source": [
    "**16. What is the procedure for making a normal expression in regax case insensitive?**"
   ]
  },
  {
   "cell_type": "markdown",
   "id": "d24d5f5c",
   "metadata": {},
   "source": [
    "To make a regular expression case-insensitive, you can pass the `re.IGNORECASE` or `re.I` flag as the second argument to `re.compile()`. For example, `re.compile(pattern, re.IGNORECASE)`."
   ]
  },
  {
   "cell_type": "markdown",
   "id": "876fbbc8",
   "metadata": {},
   "source": [
    "**17. What does the . character normally match? What does it match if re.DOTALL is passed as 2nd argument in re.compile()?**"
   ]
  },
  {
   "cell_type": "markdown",
   "id": "f869fe69",
   "metadata": {},
   "source": [
    "The `.` character normally matches any character except a newline character. If `re.DOTALL` is passed as the second argument in `re.compile()`, the `.` character will match any character including a newline character."
   ]
  },
  {
   "cell_type": "markdown",
   "id": "a98acb32",
   "metadata": {},
   "source": [
    "**18. If numReg = re.compile(r'\\d+'), what will numRegex.sub('X', '11 drummers, 10 pipers, five rings, 4 hen') return?**"
   ]
  },
  {
   "cell_type": "markdown",
   "id": "448432cb",
   "metadata": {},
   "source": [
    "18. The `numRegex.sub('X', '11 drummers, 10 pipers, five rings,4 hen')` will return the string `'X drummers, X pipers, five rings, X hen'`."
   ]
  },
  {
   "cell_type": "markdown",
   "id": "8d87f27c",
   "metadata": {},
   "source": [
    "**19. What does passing re.VERBOSE as the 2nd argument to re.compile() allow to do?**"
   ]
  },
  {
   "cell_type": "markdown",
   "id": "8879915c",
   "metadata": {},
   "source": [
    "Passing `re.VERBOSE` as the second argument to `re.compile()` allows you to add comments and whitespace inside the regular expression pattern. It makes the expression more readable and allows you to break it into multiple lines."
   ]
  },
  {
   "cell_type": "markdown",
   "id": "a44c0eed",
   "metadata": {},
   "source": [
    "**20. How would you write a regex that match a number with comma for every three digits? It must match the given following:**\n",
    "'42'\n",
    "'1,234'\n",
    "'6,368,745'\n",
    "but not the following:\n",
    "'12,34,567' (which has only two digits between the commas)\n",
    "'1234' (which lacks commas)"
   ]
  },
  {
   "cell_type": "markdown",
   "id": "4ae5d26a",
   "metadata": {},
   "source": [
    "To match a number with commas for every three digits, you can use the regex pattern `r'^\\d{1,3}(,\\d{3})*$'`."
   ]
  },
  {
   "cell_type": "markdown",
   "id": "cd5c8fcc",
   "metadata": {},
   "source": [
    "**21. How would you write a regex that matches the full name of someone whose last name is Watanabe? You can assume that the first name that comes before it will always be one word that begins with a capital letter. The regex must match the following:**\n",
    "'Haruto Watanabe'\n",
    "'Alice Watanabe'\n",
    "'RoboCop Watanabe'\n",
    "but not the following:\n",
    "'haruto Watanabe' (where the first name is not capitalized)\n",
    "'Mr. Watanabe' (where the preceding word has a nonletter character)\n",
    "'Watanabe' (which has no first name)\n",
    "'Haruto watanabe' (where Watanabe is not capitalized)"
   ]
  },
  {
   "cell_type": "markdown",
   "id": "838aeaa9",
   "metadata": {},
   "source": [
    "To match the full name of someone whose last name is Watanabe, assuming the first name is always capitalized, you can use the regex pattern `r'[A-Z][a-zA-Z]* Watanabe'`."
   ]
  },
  {
   "cell_type": "markdown",
   "id": "8743245d",
   "metadata": {},
   "source": [
    "**22. How would you write a regex that matches a sentence where the first word is either Alice, Bob, or Carol; the second word is either eats, pets, or throws; the third word is apples, cats, or baseballs; and the sentence ends with a period? This regex should be case-insensitive. It must match the following:**\n",
    "'Alice eats apples.'\n",
    "'Bob pets cats.'\n",
    "'Carol throws baseballs.'\n",
    "'Alice throws Apples.'\n",
    "'BOB EATS CATS.'\n",
    "but not the following:\n",
    "'RoboCop eats apples.'\n",
    "'ALICE THROWS FOOTBALLS.'\n",
    "'Carol eats 7 cats.'\n"
   ]
  },
  {
   "cell_type": "markdown",
   "id": "2b0e9a84",
   "metadata": {},
   "source": [
    "To match a sentence with specific words and ending with a period, you can use the regex pattern `r'^(Alice|Bob|Carol) (eats|pets|throws) (apples|cats|baseballs)\\.$'` with the `re.IGNORECASE` flag."
   ]
  }
 ],
 "metadata": {
  "kernelspec": {
   "display_name": "Python 3 (ipykernel)",
   "language": "python",
   "name": "python3"
  },
  "language_info": {
   "codemirror_mode": {
    "name": "ipython",
    "version": 3
   },
   "file_extension": ".py",
   "mimetype": "text/x-python",
   "name": "python",
   "nbconvert_exporter": "python",
   "pygments_lexer": "ipython3",
   "version": "3.9.16"
  }
 },
 "nbformat": 4,
 "nbformat_minor": 5
}
