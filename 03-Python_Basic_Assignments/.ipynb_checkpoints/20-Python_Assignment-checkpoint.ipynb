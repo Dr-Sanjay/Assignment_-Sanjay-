{
 "cells": [
  {
   "cell_type": "markdown",
   "id": "a93693bb",
   "metadata": {},
   "source": [
    "# 20-Python Basic Assignment"
   ]
  },
  {
   "cell_type": "markdown",
   "id": "3b24b617",
   "metadata": {},
   "source": [
    "**1. Set the variable test1 to the string 'This is a test of the emergency text system,' and save test1 to a file named test.txt.**"
   ]
  },
  {
   "cell_type": "code",
   "execution_count": 1,
   "id": "08f28e6a",
   "metadata": {},
   "outputs": [],
   "source": [
    "test1 = 'This is a test of the emergency text system.'\n",
    "\n",
    "with open('test.txt', 'w') as file:\n",
    "    file.write(test1)"
   ]
  },
  {
   "cell_type": "markdown",
   "id": "f5482da1",
   "metadata": {},
   "source": [
    "**2. Read the contents of the file test.txt into the variable test2. Is there a difference between test 1 and test 2?**"
   ]
  },
  {
   "cell_type": "code",
   "execution_count": 2,
   "id": "1a8d185b",
   "metadata": {},
   "outputs": [
    {
     "name": "stdout",
     "output_type": "stream",
     "text": [
      "True\n"
     ]
    }
   ],
   "source": [
    "with open('test.txt', 'r') as file:\n",
    "    test2 = file.read()\n",
    "\n",
    "print(test1 == test2)"
   ]
  },
  {
   "cell_type": "markdown",
   "id": "c8127a4f",
   "metadata": {},
   "source": [
    "**3. Create a CSV file called books.csv by using these lines:  \n",
    "title,author,year  \n",
    "The Weirdstone of Brisingamen,Alan Garner,1960  \n",
    "Perdido Street Station,China Miéville,2000  \n",
    "Thud!,Terry Pratchett,2005  \n",
    "The Spellman Files,Lisa Lutz,2007  \n",
    "Small Gods,Terry Pratchett,1992**"
   ]
  },
  {
   "cell_type": "code",
   "execution_count": 3,
   "id": "86795f42",
   "metadata": {},
   "outputs": [],
   "source": [
    "import csv\n",
    "\n",
    "data = [\n",
    "    ['title', 'author', 'year'],\n",
    "    ['The Weirdstone of Brisingamen', 'Alan Garner', '1960'],\n",
    "    ['Perdido Street Station', 'China Miéville', '2000'],\n",
    "    ['Thud!', 'Terry Pratchett', '2005'],\n",
    "    ['The Spellman Files', 'Lisa Lutz', '2007'],\n",
    "    ['Small Gods', 'Terry Pratchett', '1992']\n",
    "]\n",
    "\n",
    "with open('books.csv', 'w', newline='') as file:\n",
    "    writer = csv.writer(file)\n",
    "    writer.writerows(data)"
   ]
  },
  {
   "cell_type": "markdown",
   "id": "60f68cb8",
   "metadata": {},
   "source": [
    "**4. Use the sqlite3 module to create a SQLite database called books.db, and a table called books with these fields: title (text), author (text), and year (integer).**"
   ]
  },
  {
   "cell_type": "code",
   "execution_count": 4,
   "id": "6edcc3ed",
   "metadata": {},
   "outputs": [],
   "source": [
    "import sqlite3\n",
    "\n",
    "conn = sqlite3.connect('books.db')\n",
    "cursor = conn.cursor()\n",
    "\n",
    "cursor.execute('''\n",
    "    CREATE TABLE books (\n",
    "        title TEXT,\n",
    "        author TEXT,\n",
    "        year INTEGER\n",
    "    )\n",
    "''')\n",
    "\n",
    "conn.commit()\n",
    "conn.close()"
   ]
  },
  {
   "cell_type": "markdown",
   "id": "ec8a196a",
   "metadata": {},
   "source": [
    "**5. Read books.csv and insert its data into the book table.**"
   ]
  },
  {
   "cell_type": "code",
   "execution_count": 5,
   "id": "2e9be8ac",
   "metadata": {},
   "outputs": [],
   "source": [
    "import csv\n",
    "import sqlite3\n",
    "\n",
    "conn = sqlite3.connect('books.db')\n",
    "cursor = conn.cursor()\n",
    "\n",
    "with open('books.csv', 'r') as file:\n",
    "    reader = csv.reader(file)\n",
    "    next(reader)  # Skip the header row\n",
    "\n",
    "    for row in reader:\n",
    "        cursor.execute('INSERT INTO books VALUES (?, ?, ?)', row)\n",
    "\n",
    "conn.commit()\n",
    "conn.close()"
   ]
  },
  {
   "cell_type": "markdown",
   "id": "a45627eb",
   "metadata": {},
   "source": [
    "**6. Select and print the title column from the book table in alphabetical order.**"
   ]
  },
  {
   "cell_type": "code",
   "execution_count": 6,
   "id": "7aa1dec5",
   "metadata": {},
   "outputs": [
    {
     "name": "stdout",
     "output_type": "stream",
     "text": [
      "Perdido Street Station\n",
      "Small Gods\n",
      "The Spellman Files\n",
      "The Weirdstone of Brisingamen\n",
      "Thud!\n"
     ]
    }
   ],
   "source": [
    "import sqlite3\n",
    "\n",
    "conn = sqlite3.connect('books.db')\n",
    "cursor = conn.cursor()\n",
    "\n",
    "cursor.execute('SELECT title FROM books ORDER BY title')\n",
    "\n",
    "for row in cursor.fetchall():\n",
    "    print(row[0])\n",
    "\n",
    "conn.close()"
   ]
  },
  {
   "cell_type": "markdown",
   "id": "b69e4aa0",
   "metadata": {},
   "source": [
    "**7. From the book table, select and print all columns in the order of publication.**"
   ]
  },
  {
   "cell_type": "code",
   "execution_count": 7,
   "id": "768fae51",
   "metadata": {},
   "outputs": [
    {
     "name": "stdout",
     "output_type": "stream",
     "text": [
      "('The Weirdstone of Brisingamen', 'Alan Garner', 1960)\n",
      "('Small Gods', 'Terry Pratchett', 1992)\n",
      "('Perdido Street Station', 'China Miéville', 2000)\n",
      "('Thud!', 'Terry Pratchett', 2005)\n",
      "('The Spellman Files', 'Lisa Lutz', 2007)\n"
     ]
    }
   ],
   "source": [
    "import sqlite3\n",
    "\n",
    "conn = sqlite3.connect('books.db')\n",
    "cursor = conn.cursor()\n",
    "\n",
    "cursor.execute('SELECT * FROM books ORDER BY year')\n",
    "\n",
    "for row in cursor.fetchall():\n",
    "    print(row)\n",
    "\n",
    "conn.close()"
   ]
  },
  {
   "cell_type": "markdown",
   "id": "d5528c86",
   "metadata": {},
   "source": [
    "**8. Use the sqlalchemy module to connect to the sqlite3 database books.db that you just made in exercise 6.**"
   ]
  },
  {
   "cell_type": "code",
   "execution_count": 8,
   "id": "25fc1408",
   "metadata": {},
   "outputs": [],
   "source": [
    "from sqlalchemy import create_engine\n",
    "\n",
    "engine = create_engine('sqlite:///books.db')\n",
    "connection = engine.connect()\n",
    "\n",
    "# Use the connection object for database operations\n",
    "\n",
    "connection.close()"
   ]
  },
  {
   "cell_type": "markdown",
   "id": "8750f8bc",
   "metadata": {},
   "source": [
    "**9. Install the Redis server and the Python redis library (pip install redis) on your computer. Create a Redis hash called test with the fields count (1) and name ('Fester Bestertester'). Print all the fields for test.**"
   ]
  },
  {
   "cell_type": "code",
   "execution_count": null,
   "id": "7abbf027",
   "metadata": {},
   "outputs": [],
   "source": [
    "import redis\n",
    "\n",
    "# Connect to Redis\n",
    "r = redis.Redis()\n",
    "\n",
    "# Set a hash field and value\n",
    "r.hset('test', 'count', 1)\n",
    "r.hset('test', 'name', 'Fester Bestertester')\n",
    "\n",
    "# Get all fields and values from the hash\n",
    "fields = r.hgetall('test')\n",
    "print(fields)\n",
    "\n",
    "# Increment the count field and print the updated value\n",
    "r.hincrby('test', 'count', 1)\n",
    "count = r.hget('test', 'count')\n",
    "print(count)"
   ]
  },
  {
   "cell_type": "markdown",
   "id": "b59b7c63",
   "metadata": {},
   "source": [
    "**10. Increment the count field of test and print it.**"
   ]
  },
  {
   "cell_type": "code",
   "execution_count": null,
   "id": "fa1ebd75",
   "metadata": {},
   "outputs": [],
   "source": [
    "import redis\n",
    "\n",
    "# Connect to Redis\n",
    "r = redis.Redis()\n",
    "\n",
    "# Increment the count field\n",
    "r.hincrby('test', 'count', 1)\n",
    "\n",
    "# Get the updated value of the count field\n",
    "count = r.hget('test', 'count')\n",
    "\n",
    "# Print the updated count value\n",
    "print(count)"
   ]
  }
 ],
 "metadata": {
  "kernelspec": {
   "display_name": "Python 3 (ipykernel)",
   "language": "python",
   "name": "python3"
  },
  "language_info": {
   "codemirror_mode": {
    "name": "ipython",
    "version": 3
   },
   "file_extension": ".py",
   "mimetype": "text/x-python",
   "name": "python",
   "nbconvert_exporter": "python",
   "pygments_lexer": "ipython3",
   "version": "3.9.16"
  }
 },
 "nbformat": 4,
 "nbformat_minor": 5
}
