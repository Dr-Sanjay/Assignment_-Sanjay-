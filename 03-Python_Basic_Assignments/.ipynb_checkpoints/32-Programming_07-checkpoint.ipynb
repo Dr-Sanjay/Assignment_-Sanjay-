{
 "cells": [
  {
   "cell_type": "markdown",
   "id": "269751c4",
   "metadata": {},
   "source": [
    "# 07-Python Basic Programming"
   ]
  },
  {
   "cell_type": "markdown",
   "id": "13bcd60e",
   "metadata": {},
   "source": [
    "**1.\tWrite a Python Program to find sum of array?**"
   ]
  },
  {
   "cell_type": "code",
   "execution_count": 1,
   "id": "fee4ed4d",
   "metadata": {},
   "outputs": [
    {
     "name": "stdout",
     "output_type": "stream",
     "text": [
      "Sum of the array: 15\n"
     ]
    }
   ],
   "source": [
    "def array_sum(arr):\n",
    "    return sum(arr)\n",
    "\n",
    "\n",
    "array = [1, 2, 3, 4, 5]\n",
    "\n",
    "sum_of_array = array_sum(array)\n",
    "\n",
    "print(\"Sum of the array:\", sum_of_array)"
   ]
  },
  {
   "cell_type": "markdown",
   "id": "5f9a6cf7",
   "metadata": {},
   "source": [
    "**2.\tWrite a Python Program to find largest element in an array?**"
   ]
  },
  {
   "cell_type": "code",
   "execution_count": 2,
   "id": "5f7032fc",
   "metadata": {},
   "outputs": [
    {
     "name": "stdout",
     "output_type": "stream",
     "text": [
      "Largest element in the array: 9\n"
     ]
    }
   ],
   "source": [
    "def find_largest(arr):\n",
    "    largest = arr[0]\n",
    "    for num in arr:\n",
    "        if num > largest:\n",
    "            largest = num\n",
    "    return largest\n",
    "\n",
    "\n",
    "array = [3, 9, 2, 5, 1, 8]\n",
    "\n",
    "largest_element = find_largest(array)\n",
    "\n",
    "print(\"Largest element in the array:\", largest_element)"
   ]
  },
  {
   "cell_type": "markdown",
   "id": "801ee36f",
   "metadata": {},
   "source": [
    "**3.\tWrite a Python Program for array rotation?**"
   ]
  },
  {
   "cell_type": "code",
   "execution_count": 3,
   "id": "0bddd326",
   "metadata": {},
   "outputs": [
    {
     "name": "stdout",
     "output_type": "stream",
     "text": [
      "Array after rotation: [3, 4, 5, 1, 2]\n"
     ]
    }
   ],
   "source": [
    "def rotate_array(arr, rotations):\n",
    "    n = len(arr)\n",
    "    rotations = rotations % n  # handle rotations greater than array length\n",
    "    rotated_array = arr[rotations:] + arr[:rotations]\n",
    "    return rotated_array\n",
    "\n",
    "\n",
    "array = [1, 2, 3, 4, 5]\n",
    "rotate_by = 2\n",
    "\n",
    "rotated_array = rotate_array(array, rotate_by)\n",
    "\n",
    "print(\"Array after rotation:\", rotated_array)"
   ]
  },
  {
   "cell_type": "markdown",
   "id": "4e1890f0",
   "metadata": {},
   "source": [
    "**4.\tWrite a Python Program to Split the array and add the first part to the end?**"
   ]
  },
  {
   "cell_type": "code",
   "execution_count": 5,
   "id": "489e89ad",
   "metadata": {},
   "outputs": [
    {
     "name": "stdout",
     "output_type": "stream",
     "text": [
      "Array after splitting and adding: [3, 4, 5, 1, 2]\n"
     ]
    }
   ],
   "source": [
    "def split_and_add(arr, split_index):\n",
    "    split_index = split_index % len(arr)  # handle split index greater than array length\n",
    "    split_array = arr[:split_index]\n",
    "    remaining_array = arr[split_index:]\n",
    "    rotated_array = remaining_array + split_array\n",
    "    return rotated_array\n",
    "\n",
    "\n",
    "array = [1, 2, 3, 4, 5]\n",
    "split_index = 2\n",
    "\n",
    "split_and_added_array = split_and_add(array, split_index)\n",
    "\n",
    "print(\"Array after splitting and adding:\", split_and_added_array)"
   ]
  },
  {
   "cell_type": "markdown",
   "id": "57b83db2",
   "metadata": {},
   "source": [
    "**5.\tWrite a Python Program to check if given array is Monotonic?**"
   ]
  },
  {
   "cell_type": "code",
   "execution_count": 6,
   "id": "4f76c8ec",
   "metadata": {},
   "outputs": [
    {
     "name": "stdout",
     "output_type": "stream",
     "text": [
      "The given array is monotonic.\n"
     ]
    }
   ],
   "source": [
    "def is_monotonic(arr):\n",
    "    increasing = decreasing = True\n",
    "    for i in range(1, len(arr)):\n",
    "        if arr[i] > arr[i - 1]:\n",
    "            decreasing = False\n",
    "        if arr[i] < arr[i - 1]:\n",
    "            increasing = False\n",
    "    return increasing or decreasing\n",
    "\n",
    "\n",
    "array = [1, 2, 3, 4, 5]\n",
    "\n",
    "if is_monotonic(array):\n",
    "    print(\"The given array is monotonic.\")\n",
    "else:\n",
    "    print(\"The given array is not monotonic.\")"
   ]
  }
 ],
 "metadata": {
  "kernelspec": {
   "display_name": "Python 3 (ipykernel)",
   "language": "python",
   "name": "python3"
  },
  "language_info": {
   "codemirror_mode": {
    "name": "ipython",
    "version": 3
   },
   "file_extension": ".py",
   "mimetype": "text/x-python",
   "name": "python",
   "nbconvert_exporter": "python",
   "pygments_lexer": "ipython3",
   "version": "3.9.16"
  }
 },
 "nbformat": 4,
 "nbformat_minor": 5
}
