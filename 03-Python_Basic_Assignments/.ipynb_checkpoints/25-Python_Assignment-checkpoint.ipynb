{
 "cells": [
  {
   "cell_type": "markdown",
   "id": "da558a6b",
   "metadata": {},
   "source": [
    "# 25-Python Basic Assignment"
   ]
  },
  {
   "cell_type": "markdown",
   "id": "9fe063c4",
   "metadata": {},
   "source": [
    "**1) . What is the difference between enclosing a list comprehension in square brackets and parentheses?**"
   ]
  },
  {
   "cell_type": "markdown",
   "id": "6008821b",
   "metadata": {},
   "source": [
    "The difference between enclosing a list comprehension in square brackets (`[]`) and parentheses (`()`) lies in the resulting object. \n",
    "\n",
    "- When using square brackets, a list comprehension is created. It evaluates the expression and generates a list containing the resulting values. For example:\n",
    "  ```python\n",
    "  squared_numbers = [x ** 2 for x in range(1, 5)]\n",
    "  print(squared_numbers)  # Output: [1, 4, 9, 16]\n",
    "  ```\n",
    "\n",
    "- When using parentheses, a generator comprehension (also known as a generator expression) is created. It evaluates the expression and generates a generator object, which is an iterable. The values are generated on-the-fly as they are requested. For example:\n",
    "  ```python\n",
    "  squared_numbers_generator = (x ** 2 for x in range(1, 5))\n",
    "  print(squared_numbers_generator)  # Output: <generator object <genexpr> at 0x...>\n",
    "  ```\n",
    "\n",
    "In summary, list comprehensions produce a list immediately, while generator comprehensions produce an iterable generator object."
   ]
  },
  {
   "cell_type": "markdown",
   "id": "87a971ab",
   "metadata": {},
   "source": [
    "**2) What is the relationship between generators and iterators?**"
   ]
  },
  {
   "cell_type": "markdown",
   "id": "599288a3",
   "metadata": {},
   "source": [
    "Generators and iterators are closely related concepts in Python:\n",
    "\n",
    "- An iterator is an object that implements the iterator protocol, which requires the presence of `__iter__()` and `__next__()` methods. \n",
    "- Iterators allow sequential access to a collection of items. They provide a way to iterate over elements one at a time, lazily fetching the next element when requested.\n",
    "\n",
    "- Generators are a type of iterator. They are defined using a special kind of function called a generator function. Generator functions use the `yield` keyword to produce a series of values one at a time. When a generator function is called, it returns a generator object, which can be iterated over. The `yield` statement pauses the execution of the generator function and yields a value to the caller. The next time the generator is iterated, it resumes execution from where it left off.\n",
    "\n",
    "In essence, generators are a concise and efficient way to create iterators in Python. They provide an easy way to generate a sequence of values without storing them all in memory at once."
   ]
  },
  {
   "cell_type": "markdown",
   "id": "b466ac1f",
   "metadata": {},
   "source": [
    "**3) What are the signs that a function is a generator function?**"
   ]
  },
  {
   "cell_type": "markdown",
   "id": "200b3968",
   "metadata": {},
   "source": [
    "There are a few signs that indicate a function is a generator function:\n",
    "\n",
    "- It uses the `yield` keyword instead of `return` to yield a value.\n",
    "- It may contain one or more `yield` statements, which can appear multiple times throughout the function body.\n",
    "- It typically uses a loop or some other control structure to determine when to yield the next value.\n",
    "- It is defined using the `def` keyword, similar to regular functions.\n",
    "- When called, it returns a generator object, rather than executing immediately.\n",
    "\n",
    "Here's an example of a generator function that generates a sequence of Fibonacci numbers:\n",
    "\n",
    "```python\n",
    "def fibonacci_generator():\n",
    "    a, b = 0, 1\n",
    "    while True:\n",
    "        yield a\n",
    "        a, b = b, a + b\n",
    "\n",
    "fib = fibonacci_generator()\n",
    "print(next(fib))  # Output: 0\n",
    "print(next(fib))  # Output: 1\n",
    "print(next(fib))  # Output: 1\n",
    "# ...\n",
    "```"
   ]
  },
  {
   "cell_type": "markdown",
   "id": "0631a1ac",
   "metadata": {},
   "source": [
    "**4) What is the purpose of a yield statement?**"
   ]
  },
  {
   "cell_type": "markdown",
   "id": "bd3215e7",
   "metadata": {},
   "source": [
    "The purpose of a `yield` statement in a generator function is to produce a value to be returned by the generator object and temporarily pause the function's execution.  \n",
    "When a `yield` statement is encountered, the value following the `yield` keyword is returned as the next item in the generator's sequence. The state of the generator function is saved, allowing it to resume execution from that point the next time it's iterated.\n",
    "\n",
    "This allows generator functions to produce a sequence of values incrementally, on-the-fly, without having to compute and store all the values upfront. Each time the generator is iterated, it executes until it reaches a `yield` statement, produces a value, and then suspends its execution. The next time it's iterated, it resumes execution from where it left off."
   ]
  },
  {
   "cell_type": "markdown",
   "id": "2c998ac4",
   "metadata": {},
   "source": [
    "**5) What is the relationship between map calls and list comprehensions? Make a comparison and contrast between the two.**"
   ]
  },
  {
   "cell_type": "markdown",
   "id": "c5e83572",
   "metadata": {},
   "source": [
    "Map calls and list comprehensions are both used to apply a function to multiple elements in a sequence, but they differ in their syntax and resulting object types:\n",
    "\n",
    "- Map: The `map()` function applies a given function to each item in an iterable (e.g., a list) and returns an iterator that yields the results. It takes two arguments: the function to apply and the iterable to apply it to. The function is applied to each element of the iterable, and the results are lazily computed as they are requested. The `map()` function returns an iterator object, and to get the results as a list, you need to explicitly convert it using `list()`.\n",
    "\n",
    "  ```python\n",
    "  numbers = [1, 2, 3, 4]\n",
    "  squared_numbers = map(lambda x: x ** 2, numbers)\n",
    "  squared_numbers_list = list(squared_numbers)\n",
    "  print(squared_numbers_list)  # Output: [1, 4, 9, 16]\n",
    "  ```\n",
    "\n",
    "- List Comprehension: List comprehensions provide a concise way to create lists by evaluating an expression for each item in an iterable. They consist of an expression followed by a `for` loop and optional `if` conditions. The resulting list is constructed immediately and returned.\n",
    "\n",
    "  ```python\n",
    "  numbers = [1, 2, 3, 4]\n",
    "  squared_numbers = [x ** 2 for x in numbers]\n",
    "  print(squared_numbers)  # Output: [1, 4, 9, 16]\n",
    "  ```\n",
    "\n",
    "Comparison and contrast:\n",
    "- Syntax: Map calls use the `map()` function and a lambda function or a defined function, while list comprehensions use a compact expression and a `for` loop.\n",
    "- Resulting object: Map returns an iterator, while list comprehensions create a list directly.\n",
    "- Eager vs. Lazy evaluation: List comprehensions evaluate the entire expression and create the list immediately, whereas map calls lazily evaluate the results as they are requested.\n",
    "- Flexibility: List comprehensions provide more flexibility in terms of adding conditions and nested loops, while map calls are more concise for simple transformations.\n",
    "\n",
    "In general, list comprehensions are often preferred when the goal is to generate a list, especially when conditions and nested loops are involved. On the other hand, map calls are useful when you want to lazily evaluate and process elements from an iterable, especially when combined with other iterator functions like `filter()`."
   ]
  }
 ],
 "metadata": {
  "kernelspec": {
   "display_name": "Python 3 (ipykernel)",
   "language": "python",
   "name": "python3"
  },
  "language_info": {
   "codemirror_mode": {
    "name": "ipython",
    "version": 3
   },
   "file_extension": ".py",
   "mimetype": "text/x-python",
   "name": "python",
   "nbconvert_exporter": "python",
   "pygments_lexer": "ipython3",
   "version": "3.9.16"
  }
 },
 "nbformat": 4,
 "nbformat_minor": 5
}
