{
 "cells": [
  {
   "cell_type": "markdown",
   "id": "7c1ebfe6",
   "metadata": {},
   "source": [
    "# 08-Python Basic Assignment"
   ]
  },
  {
   "cell_type": "markdown",
   "id": "91b82570",
   "metadata": {},
   "source": [
    "**1. Is the Python Standard Library included with PyInputPlus?**"
   ]
  },
  {
   "cell_type": "markdown",
   "id": "efa577a3",
   "metadata": {},
   "source": [
    "No, the Python Standard Library is not included with PyInputPlus. The Python Standard Library is a collection of modules that are distributed with Python itself and provide a wide range of functionality. PyInputPlus is a separate third-party library that provides additional input validation and processing features."
   ]
  },
  {
   "cell_type": "markdown",
   "id": "5d8e7e64",
   "metadata": {},
   "source": [
    "**2. Why is PyInputPlus commonly imported with import pyinputplus as pypi?**"
   ]
  },
  {
   "cell_type": "markdown",
   "id": "acf0e3a3",
   "metadata": {},
   "source": [
    "PyInputPlus is commonly imported with the alias `pypi` to make it easier and more convenient to use the library's functions. By importing it as `pypi`, you can use shorter function names like `pypi.inputInt()` or `pypi.inputStr()` instead of `pyinputplus.inputInt()` or `pyinputplus.inputStr()`, which can save typing and make the code more concise."
   ]
  },
  {
   "cell_type": "markdown",
   "id": "e9bab1e8",
   "metadata": {},
   "source": [
    "**3. How do you distinguish between inputInt() and inputFloat()?**"
   ]
  },
  {
   "cell_type": "markdown",
   "id": "395e7e0c",
   "metadata": {},
   "source": [
    "`inputInt()` is used to accept integer input from the user, while `inputFloat()` is used to accept floating-point (decimal) input from the user. The `inputInt()` function ensures that the user enters a valid integer value, and if the input is not an integer, it raises a `ValidationException`. The `inputFloat()` function ensures that the user enters a valid floating-point value, and if the input is not a float, it raises a `ValidationException`.\n"
   ]
  },
  {
   "cell_type": "markdown",
   "id": "5cd3bba1",
   "metadata": {},
   "source": [
    "**4. Using PyInputPlus, how do you ensure that the user enters a whole number between 0 and 99?**"
   ]
  },
  {
   "cell_type": "markdown",
   "id": "92aa74b1",
   "metadata": {},
   "source": [
    "Using PyInputPlus, you can ensure that the user enters a whole number between 0 and 99 by using the `inputInt()` function with additional arguments. Here's an example:\n",
    "   ```python\n",
    "   import pyinputplus as pypi\n",
    "   number = pypi.inputInt(prompt='Enter a number: ', min=0, max=99)\n",
    "   ```\n",
    "   The `min` argument specifies the minimum allowed value (0 in this case), and the `max` argument specifies the maximum allowed value (99 in this case). If the user enters a number outside the specified range, the function will keep prompting until a valid number within the range is entered."
   ]
  },
  {
   "cell_type": "markdown",
   "id": "3142019d",
   "metadata": {},
   "source": [
    "**5. What is transferred to the keyword arguments allowRegexes and blockRegexes?**"
   ]
  },
  {
   "cell_type": "markdown",
   "id": "65310b66",
   "metadata": {},
   "source": [
    "The keyword arguments `allowRegexes` and `blockRegexes` in PyInputPlus are used to specify regular expressions that allow or block certain input patterns. `allowRegexes` takes a list of regular expressions, and if any of the patterns in the list match the user's input, it is considered valid. On the other hand, `blockRegexes` takes a list of regular expressions, and if any of the patterns in the list match the user's input, it is considered invalid."
   ]
  },
  {
   "cell_type": "markdown",
   "id": "f2bbef6b",
   "metadata": {},
   "source": [
    "**6. If a blank input is entered three times, what does inputStr(limit=3) do?**"
   ]
  },
  {
   "cell_type": "markdown",
   "id": "7d60f15a",
   "metadata": {},
   "source": [
    "If a blank input is entered three times with `inputStr(limit=3)`, it will raise a `RetryLimitException`. This means that after three consecutive blank inputs, the function will give up and raise an exception indicating that the retry limit has been reached.\n"
   ]
  },
  {
   "cell_type": "markdown",
   "id": "3aadd172",
   "metadata": {},
   "source": [
    "**7. If blank input is entered three times, what does inputStr(limit=3, default='hello') do?**"
   ]
  },
  {
   "cell_type": "markdown",
   "id": "47828dd4",
   "metadata": {},
   "source": [
    "If a blank input is entered three times with `inputStr(limit=3, default='hello')`, it will return the default value `'hello'` instead of raising a `RetryLimitException`. The `default` argument specifies the value to be returned if the user reaches the retry limit without providing a valid input."
   ]
  }
 ],
 "metadata": {
  "kernelspec": {
   "display_name": "Python 3 (ipykernel)",
   "language": "python",
   "name": "python3"
  },
  "language_info": {
   "codemirror_mode": {
    "name": "ipython",
    "version": 3
   },
   "file_extension": ".py",
   "mimetype": "text/x-python",
   "name": "python",
   "nbconvert_exporter": "python",
   "pygments_lexer": "ipython3",
   "version": "3.9.16"
  }
 },
 "nbformat": 4,
 "nbformat_minor": 5
}
