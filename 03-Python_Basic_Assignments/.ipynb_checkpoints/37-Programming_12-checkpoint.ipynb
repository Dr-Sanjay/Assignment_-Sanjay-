{
 "cells": [
  {
   "cell_type": "markdown",
   "id": "7d6f2469",
   "metadata": {},
   "source": [
    "# 12-Python Basic Programming"
   ]
  },
  {
   "cell_type": "markdown",
   "id": "918ea591",
   "metadata": {},
   "source": [
    "**1.\tWrite a Python program to Extract Unique values dictionary values?**"
   ]
  },
  {
   "cell_type": "code",
   "execution_count": 2,
   "id": "1dd29bdb",
   "metadata": {},
   "outputs": [
    {
     "name": "stdout",
     "output_type": "stream",
     "text": [
      "Unique values:\n",
      "[1, 2, 3, 4]\n"
     ]
    }
   ],
   "source": [
    "def extract_unique_values(dictionary):\n",
    "    unique_values = set()\n",
    "    for values in dictionary.values():\n",
    "        if isinstance(values, list):\n",
    "            unique_values.update(values)\n",
    "        else:\n",
    "            unique_values.add(values)\n",
    "    return list(unique_values)\n",
    "\n",
    "# Example usage:\n",
    "my_dict = {'a': [1, 2, 3], 'b': [2, 3, 4], 'c': 3, 'd': 4}\n",
    "unique_values = extract_unique_values(my_dict)\n",
    "print(\"Unique values:\")\n",
    "print(unique_values)"
   ]
  },
  {
   "cell_type": "markdown",
   "id": "89d166a1",
   "metadata": {},
   "source": [
    "**2.\tWrite a Python program to find the sum of all items in a dictionary?**"
   ]
  },
  {
   "cell_type": "code",
   "execution_count": 3,
   "id": "14f141f2",
   "metadata": {},
   "outputs": [
    {
     "name": "stdout",
     "output_type": "stream",
     "text": [
      "Sum of all items: 100\n"
     ]
    }
   ],
   "source": [
    "def sum_all_items(dictionary):\n",
    "    return sum(dictionary.values())\n",
    "\n",
    "# Example usage:\n",
    "my_dict = {'a': 10, 'b': 20, 'c': 30, 'd': 40}\n",
    "result = sum_all_items(my_dict)\n",
    "print(\"Sum of all items:\", result)"
   ]
  },
  {
   "cell_type": "markdown",
   "id": "55303540",
   "metadata": {},
   "source": [
    "**3.\tWrite a Python program to Merging two Dictionaries?**"
   ]
  },
  {
   "cell_type": "code",
   "execution_count": 4,
   "id": "4065ba7a",
   "metadata": {},
   "outputs": [
    {
     "name": "stdout",
     "output_type": "stream",
     "text": [
      "Merged dictionary:\n",
      "{'a': 1, 'b': 2, 'c': 3, 'd': 4}\n"
     ]
    }
   ],
   "source": [
    "def merge_dictionaries(dict1, dict2):\n",
    "    merged_dict = {**dict1, **dict2}\n",
    "    return merged_dict\n",
    "\n",
    "# Example usage:\n",
    "dict1 = {'a': 1, 'b': 2}\n",
    "dict2 = {'c': 3, 'd': 4}\n",
    "merged_dict = merge_dictionaries(dict1, dict2)\n",
    "print(\"Merged dictionary:\")\n",
    "print(merged_dict)"
   ]
  },
  {
   "cell_type": "markdown",
   "id": "61a7c455",
   "metadata": {},
   "source": [
    "**4.\tWrite a Python program to convert key-values list to flat dictionary?**"
   ]
  },
  {
   "cell_type": "code",
   "execution_count": 5,
   "id": "1268de3b",
   "metadata": {},
   "outputs": [
    {
     "name": "stdout",
     "output_type": "stream",
     "text": [
      "Flat dictionary:\n",
      "{'a': 1, 'b': 2, 'c': 3}\n"
     ]
    }
   ],
   "source": [
    "def convert_to_flat_dictionary(key_value_list):\n",
    "    flat_dict = {}\n",
    "    for key, value in key_value_list:\n",
    "        flat_dict[key] = value\n",
    "    return flat_dict\n",
    "\n",
    "# Example usage:\n",
    "key_value_list = [('a', 1), ('b', 2), ('c', 3)]\n",
    "flat_dictionary = convert_to_flat_dictionary(key_value_list)\n",
    "print(\"Flat dictionary:\")\n",
    "print(flat_dictionary)"
   ]
  },
  {
   "cell_type": "markdown",
   "id": "1fea9f87",
   "metadata": {},
   "source": [
    "**5.\tWrite a Python program to insertion at the beginning in OrderedDict?**"
   ]
  },
  {
   "cell_type": "code",
   "execution_count": 7,
   "id": "aca8cf6b",
   "metadata": {},
   "outputs": [
    {
     "name": "stdout",
     "output_type": "stream",
     "text": [
      "OrderedDict after insertion at the beginning:\n",
      "OrderedDict([('a', 1), ('b', 2), ('c', 3), ('d', 4)])\n"
     ]
    }
   ],
   "source": [
    "from collections import OrderedDict\n",
    "\n",
    "def insert_at_beginning_ordered_dict(ordered_dict, key, value):\n",
    "    if key in ordered_dict:\n",
    "        del ordered_dict[key]\n",
    "    ordered_dict[key] = value\n",
    "\n",
    "# Example usage:\n",
    "my_ordered_dict = OrderedDict([('a', 1), ('b', 2), ('c', 3)])\n",
    "key = 'd'\n",
    "value = 4\n",
    "insert_at_beginning_ordered_dict(my_ordered_dict, key, value)\n",
    "print(\"OrderedDict after insertion at the beginning:\")\n",
    "print(my_ordered_dict)"
   ]
  },
  {
   "cell_type": "markdown",
   "id": "6e7eaa4d",
   "metadata": {},
   "source": [
    "**6.\tWrite a Python program to check order of character in string using OrderedDict()?**"
   ]
  },
  {
   "cell_type": "code",
   "execution_count": 8,
   "id": "83a9613c",
   "metadata": {},
   "outputs": [
    {
     "name": "stdout",
     "output_type": "stream",
     "text": [
      "The characters in hello are not in order.\n",
      "The characters in world are in order.\n"
     ]
    }
   ],
   "source": [
    "from collections import OrderedDict\n",
    "\n",
    "def check_character_order(string):\n",
    "    unique_characters = ''.join(OrderedDict.fromkeys(string))\n",
    "    return unique_characters == string\n",
    "\n",
    "# Example usage:\n",
    "text1 = \"hello\"\n",
    "text2 = \"world\"\n",
    "if check_character_order(text1):\n",
    "    print(f\"The characters in {text1} are in order.\")\n",
    "else:\n",
    "    print(f\"The characters in {text1} are not in order.\")\n",
    "\n",
    "if check_character_order(text2):\n",
    "    print(f\"The characters in {text2} are in order.\")\n",
    "else:\n",
    "    print(f\"The characters in {text2} are not in order.\")"
   ]
  },
  {
   "cell_type": "markdown",
   "id": "d78dbe6c",
   "metadata": {},
   "source": [
    "**7.\tWrite a Python program to sort Python Dictionaries by Key or Value?**"
   ]
  },
  {
   "cell_type": "code",
   "execution_count": 9,
   "id": "234e64b5",
   "metadata": {},
   "outputs": [
    {
     "name": "stdout",
     "output_type": "stream",
     "text": [
      "Dictionary sorted by key:\n",
      "{'a': 1, 'b': 2, 'c': 3, 'd': 4}\n",
      "Dictionary sorted by value:\n",
      "{'a': 1, 'b': 2, 'c': 3, 'd': 4}\n"
     ]
    }
   ],
   "source": [
    "def sort_dictionary(dictionary, by_key=True):\n",
    "    if by_key:\n",
    "        sorted_dict = dict(sorted(dictionary.items()))\n",
    "    else:\n",
    "        sorted_dict = dict(sorted(dictionary.items(), key=lambda item: item[1]))\n",
    "    return sorted_dict\n",
    "\n",
    "# Example usage:\n",
    "my_dict = {'b': 2, 'a': 1, 'd': 4, 'c': 3}\n",
    "sorted_by_key = sort_dictionary(my_dict)\n",
    "sorted_by_value = sort_dictionary(my_dict, by_key=False)\n",
    "print(\"Dictionary sorted by key:\")\n",
    "print(sorted_by_key)\n",
    "print(\"Dictionary sorted by value:\")\n",
    "print(sorted_by_value)"
   ]
  }
 ],
 "metadata": {
  "kernelspec": {
   "display_name": "Python 3 (ipykernel)",
   "language": "python",
   "name": "python3"
  },
  "language_info": {
   "codemirror_mode": {
    "name": "ipython",
    "version": 3
   },
   "file_extension": ".py",
   "mimetype": "text/x-python",
   "name": "python",
   "nbconvert_exporter": "python",
   "pygments_lexer": "ipython3",
   "version": "3.9.16"
  }
 },
 "nbformat": 4,
 "nbformat_minor": 5
}
