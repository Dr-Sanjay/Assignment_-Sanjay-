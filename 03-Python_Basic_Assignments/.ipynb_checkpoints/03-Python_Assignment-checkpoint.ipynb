{
 "cells": [
  {
   "cell_type": "markdown",
   "id": "6b29c25b",
   "metadata": {},
   "source": [
    "# 03-Python Basic Assignment"
   ]
  },
  {
   "cell_type": "markdown",
   "id": "3f0f1cde",
   "metadata": {},
   "source": [
    "**1. Why are functions advantageous to have in your programs?**"
   ]
  },
  {
   "cell_type": "markdown",
   "id": "58e3b96d",
   "metadata": {},
   "source": [
    "Functions are advantageous to have in programs for several reasons:\n",
    "\n",
    "   - **Code Reusability**: Functions allow you to define a block of reusable code that can be called multiple times from different parts of the program. This promotes modular and organized code, reducing redundancy and making the codebase more maintainable.\n",
    "   \n",
    "   - **Abstraction and Modularity**: Functions help in breaking down complex problems into smaller, manageable tasks. Each function can focus on a specific task, making the code easier to understand, test, and debug. Functions also promote code readability and abstraction by encapsulating implementation details behind a function name and parameters.\n",
    "   \n",
    "   - **Code Organization**: Functions allow you to logically structure and organize your code into smaller, self-contained units. This improves code maintainability, readability, and makes it easier for multiple developers to collaborate on a project.\n",
    "   \n",
    "   - **Code Maintainability**: Functions facilitate code maintenance and updates. If you need to make changes to a particular functionality, you only need to modify the function's code once, and the changes will be reflected wherever the function is called.\n",
    "   \n",
    "   - **Code Testing**: Functions make it easier to write unit tests for specific functionalities. You can test each function individually to ensure it behaves correctly, simplifying the debugging process and increasing the reliability of your code."
   ]
  },
  {
   "cell_type": "markdown",
   "id": "11deab75",
   "metadata": {},
   "source": [
    "**2. When does the code in a function run: when it's specified or when it's called?**"
   ]
  },
  {
   "cell_type": "markdown",
   "id": "0c473ab8",
   "metadata": {},
   "source": [
    "The main difference between a function and a function call is that a function is a block of reusable code that performs a specific task, while a function call is the act of invoking or executing that function. In other words, a function is the definition or blueprint, and a function call is the actual usage or execution of that function."
   ]
  },
  {
   "cell_type": "markdown",
   "id": "e9987edc",
   "metadata": {},
   "source": [
    "**3. What statement creates a function?**"
   ]
  },
  {
   "cell_type": "markdown",
   "id": "4f3d8f11",
   "metadata": {},
   "source": [
    "The statement that creates a function in Python is the `def` statement. Here's an example of how a function is created:\n",
    "\n",
    "```python\n",
    "def my_function():\n",
    "    # Function body\n",
    "    # Statements to be executed\n",
    "    pass\n",
    "```"
   ]
  },
  {
   "cell_type": "markdown",
   "id": "040dd9b3",
   "metadata": {},
   "source": [
    "**4. What is the difference between a function and a function call?**"
   ]
  },
  {
   "cell_type": "markdown",
   "id": "ff636161",
   "metadata": {},
   "source": [
    "The difference between a function and a function call is as follows:\n",
    "\n",
    "   - **Function**: A function is a block of code that performs a specific task or a set of tasks. It is a defined piece of reusable code that is designed to accomplish a particular functionality. Functions are created using the `def` statement and can have parameters, a function body, and a return statement (optional).\n",
    "   \n",
    "   - **Function Call**: A function call is the act of invoking or executing a function. It is the point in the program where the function's code is executed. When you call a function, you use the function name followed by parentheses and any required arguments. The function call passes control from the current location in the program to the function, and after the function finishes executing, the control is returned to the point immediately after the function call.\n"
   ]
  },
  {
   "cell_type": "markdown",
   "id": "773b29db",
   "metadata": {},
   "source": [
    "**5. How many global scopes are there in a Python program? How many local scopes?**"
   ]
  },
  {
   "cell_type": "markdown",
   "id": "be3c6423",
   "metadata": {},
   "source": [
    "In a Python program, there is one global scope. It is the outermost scope that encompasses the entire program. Local scopes are created when functions are called, and they exist only within the execution of those functions. The number of local scopes depends on the number of function calls made during program execution."
   ]
  },
  {
   "cell_type": "markdown",
   "id": "f70d329c",
   "metadata": {},
   "source": [
    "**6. What happens to variables in a local scope when the function call returns?**"
   ]
  },
  {
   "cell_type": "markdown",
   "id": "45dd65be",
   "metadata": {},
   "source": [
    "When a function call returns, the local scope of that function is destroyed. Variables defined within the local scope are deallocated and no longer accessible. Any changes made to those variables within the function's scope do not persist outside the function. The control flow returns to the point immediately after the function call, and the program continues executing from there."
   ]
  },
  {
   "cell_type": "markdown",
   "id": "dda0ff4e",
   "metadata": {},
   "source": [
    "**7. What is the concept of a return value? Is it possible to have a return value in an expression?**"
   ]
  },
  {
   "cell_type": "markdown",
   "id": "58f4237b",
   "metadata": {},
   "source": [
    "The concept of a return value is the value that a function can send back to the caller. It allows a function to provide a result or output that can be used for further processing or assigned to a variable. A return value is the value that follows the `return` keyword in a function. It can be any valid expression or object in Python. Yes, it is possible to have a return value in an expression.\n",
    "\n",
    " For example, a function can return the result of a mathematical operation or the concatenation of two strings."
   ]
  },
  {
   "cell_type": "markdown",
   "id": "af60f2d7",
   "metadata": {},
   "source": [
    "**8. If a function does not have a return statement, what is the return value of a call to that function?**"
   ]
  },
  {
   "cell_type": "markdown",
   "id": "8f6ba358",
   "metadata": {},
   "source": [
    "If a function does not have a return statement, the return value of a call to that function is `None`. `None` is a special built-in constant in Python that represents the absence of a value or the lack of a value. It is commonly used to indicate that a function does not return anything or that a variable has no assigned value."
   ]
  },
  {
   "cell_type": "markdown",
   "id": "ba605450",
   "metadata": {},
   "source": [
    "**9. How do you make a function variable refer to the global variable?**"
   ]
  },
  {
   "cell_type": "markdown",
   "id": "479d4135",
   "metadata": {},
   "source": [
    "To make a function variable refer to a global variable, you can use the `global` keyword within the function. This informs Python that the variable being used is a global variable, not a local one. Here's an example:\n",
    "\n",
    "x = 10  \n",
    "\n",
    "def my_function():  \n",
    "    global x  \n",
    "    x = 20  \n",
    "\n",
    "my_function()  \n",
    "print(x)  # Output: 20"
   ]
  },
  {
   "cell_type": "markdown",
   "id": "24930d75",
   "metadata": {},
   "source": [
    "**10. What is the data type of None?**"
   ]
  },
  {
   "cell_type": "markdown",
   "id": "1eacb904",
   "metadata": {},
   "source": [
    "The data type of `None` in Python is `NoneType`. It is a built-in data type representing the absence of a value. `None` is often used to indicate the lack of a value or as a placeholder when a value is not applicable or available."
   ]
  },
  {
   "cell_type": "markdown",
   "id": "b3f27e7f",
   "metadata": {},
   "source": [
    "**11. What does the sentence import areallyourpetsnamederic do?**"
   ]
  },
  {
   "cell_type": "markdown",
   "id": "d1f26acf",
   "metadata": {},
   "source": [
    "The sentence `import areallyourpetsnamederic` does not have a specific meaning in Python. It is not a standard Python module or package. It is likely an example sentence used to illustrate the syntax and usage of the `import` statement."
   ]
  },
  {
   "cell_type": "markdown",
   "id": "65544576",
   "metadata": {},
   "source": [
    "**12. If you had a bacon() feature in a spam module, what would you call it after importing spam?**"
   ]
  },
  {
   "cell_type": "markdown",
   "id": "b7fd40bc",
   "metadata": {},
   "source": [
    "If you had a `bacon()` feature in a `spam` module, you can call it after importing the `spam` module using the syntax: `spam.bacon()`. By prefixing the function name with the module name followed by a dot, you can access and call the function from the imported module"
   ]
  },
  {
   "cell_type": "markdown",
   "id": "dc4e3ee0",
   "metadata": {},
   "source": [
    "**13. What can you do to save a programme from crashing if it encounters an error?**"
   ]
  },
  {
   "cell_type": "markdown",
   "id": "106f78cd",
   "metadata": {},
   "source": [
    "To save a program from crashing when it encounters an error, you can use error handling techniques such as using a `try-except` block. By enclosing the potentially error-prone code within a `try` block, you can catch and handle any exceptions that may occur, preventing the program from terminating abruptly."
   ]
  },
  {
   "cell_type": "markdown",
   "id": "132497a2",
   "metadata": {},
   "source": [
    "**14. What is the purpose of the try clause? What is the purpose of the except clause?**"
   ]
  },
  {
   "cell_type": "markdown",
   "id": "ed90e610",
   "metadata": {},
   "source": [
    "The purpose of the `try` clause is to define a block of code in which exceptions or errors might occur. It allows you to test a block of code for exceptions. The `except` clause, on the other hand, is used to specify the action or code to be executed if a specific exception occurs within the preceding `try` block."
   ]
  }
 ],
 "metadata": {
  "kernelspec": {
   "display_name": "Python 3 (ipykernel)",
   "language": "python",
   "name": "python3"
  },
  "language_info": {
   "codemirror_mode": {
    "name": "ipython",
    "version": 3
   },
   "file_extension": ".py",
   "mimetype": "text/x-python",
   "name": "python",
   "nbconvert_exporter": "python",
   "pygments_lexer": "ipython3",
   "version": "3.9.16"
  }
 },
 "nbformat": 4,
 "nbformat_minor": 5
}
