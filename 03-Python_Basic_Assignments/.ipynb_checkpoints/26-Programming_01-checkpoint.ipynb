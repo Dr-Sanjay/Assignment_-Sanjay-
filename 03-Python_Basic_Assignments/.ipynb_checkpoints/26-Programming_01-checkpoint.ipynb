{
 "cells": [
  {
   "cell_type": "markdown",
   "id": "5789e8c5",
   "metadata": {},
   "source": [
    "# 01-Python Basic Programming "
   ]
  },
  {
   "cell_type": "markdown",
   "id": "51d607bd",
   "metadata": {},
   "source": [
    "**1.\tWrite a Python program to print \"Hello Python\"?**"
   ]
  },
  {
   "cell_type": "code",
   "execution_count": 1,
   "id": "08926fe4",
   "metadata": {},
   "outputs": [
    {
     "name": "stdout",
     "output_type": "stream",
     "text": [
      "Hello Python\n"
     ]
    }
   ],
   "source": [
    "print(\"Hello Python\")"
   ]
  },
  {
   "cell_type": "markdown",
   "id": "ebd65c9c",
   "metadata": {},
   "source": [
    "**2.\tWrite a Python program to do arithmetical operations addition and division.?**"
   ]
  },
  {
   "cell_type": "code",
   "execution_count": 2,
   "id": "d436cbf1",
   "metadata": {},
   "outputs": [
    {
     "name": "stdout",
     "output_type": "stream",
     "text": [
      "Addition: 15\n",
      "Division: 5.0\n"
     ]
    }
   ],
   "source": [
    "# Addition\n",
    "num1 = 10\n",
    "num2 = 5\n",
    "result_add = num1 + num2\n",
    "print(\"Addition:\", result_add)\n",
    "\n",
    "# Division\n",
    "num3 = 10\n",
    "num4 = 2\n",
    "result_div = num3 / num4\n",
    "print(\"Division:\", result_div)"
   ]
  },
  {
   "cell_type": "markdown",
   "id": "7437d121",
   "metadata": {},
   "source": [
    "**3.\tWrite a Python program to find the area of a triangle?**"
   ]
  },
  {
   "cell_type": "code",
   "execution_count": 3,
   "id": "de6a3501",
   "metadata": {},
   "outputs": [
    {
     "name": "stdout",
     "output_type": "stream",
     "text": [
      "Area of the triangle: 25.0\n"
     ]
    }
   ],
   "source": [
    "base = 10\n",
    "height = 5\n",
    "area = 0.5 * base * height\n",
    "print(\"Area of the triangle:\", area)"
   ]
  },
  {
   "cell_type": "markdown",
   "id": "47cdbc73",
   "metadata": {},
   "source": [
    "**4.\tWrite a Python program to swap two variables?**"
   ]
  },
  {
   "cell_type": "code",
   "execution_count": 4,
   "id": "5336f371",
   "metadata": {},
   "outputs": [
    {
     "name": "stdout",
     "output_type": "stream",
     "text": [
      "Before swapping: a = 1 b = 5\n",
      "After swapping: a = 5 b = 1\n"
     ]
    }
   ],
   "source": [
    "a = 1\n",
    "b = 5\n",
    "print(\"Before swapping: a =\", a, \"b =\", b)\n",
    "\n",
    "# Swapping using a temporary variable\n",
    "temp = a\n",
    "a = b\n",
    "b = temp\n",
    "\n",
    "print(\"After swapping: a =\", a, \"b =\", b)"
   ]
  },
  {
   "cell_type": "markdown",
   "id": "78d44b5f",
   "metadata": {},
   "source": [
    "**5.\tWrite a Python program to generate a random number?**"
   ]
  },
  {
   "cell_type": "code",
   "execution_count": 5,
   "id": "5f441b9c",
   "metadata": {},
   "outputs": [
    {
     "name": "stdout",
     "output_type": "stream",
     "text": [
      "Random number: 9\n"
     ]
    }
   ],
   "source": [
    "import random\n",
    "\n",
    "# Generate a random number between 1 and 10 (inclusive)\n",
    "random_number = random.randint(1, 10)\n",
    "print(\"Random number:\", random_number)"
   ]
  }
 ],
 "metadata": {
  "kernelspec": {
   "display_name": "Python 3 (ipykernel)",
   "language": "python",
   "name": "python3"
  },
  "language_info": {
   "codemirror_mode": {
    "name": "ipython",
    "version": 3
   },
   "file_extension": ".py",
   "mimetype": "text/x-python",
   "name": "python",
   "nbconvert_exporter": "python",
   "pygments_lexer": "ipython3",
   "version": "3.9.16"
  }
 },
 "nbformat": 4,
 "nbformat_minor": 5
}
