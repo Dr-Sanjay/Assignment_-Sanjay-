{
 "cells": [
  {
   "cell_type": "markdown",
   "id": "c4fefa1f",
   "metadata": {},
   "source": [
    "# 11-Python Basic Assignment"
   ]
  },
  {
   "cell_type": "markdown",
   "id": "a2b1c419",
   "metadata": {},
   "source": [
    "**1. Create an assert statement that throws an AssertionError if the variable spam is a negative integer.**"
   ]
  },
  {
   "cell_type": "code",
   "execution_count": 15,
   "id": "70251123",
   "metadata": {},
   "outputs": [
    {
     "ename": "AssertionError",
     "evalue": "spam should not be a negative integer",
     "output_type": "error",
     "traceback": [
      "\u001b[1;31m---------------------------------------------------------------------------\u001b[0m",
      "\u001b[1;31mAssertionError\u001b[0m                            Traceback (most recent call last)",
      "Cell \u001b[1;32mIn[15], line 3\u001b[0m\n\u001b[0;32m      1\u001b[0m spam \u001b[38;5;241m=\u001b[39m \u001b[38;5;241m-\u001b[39m\u001b[38;5;241m5\u001b[39m\n\u001b[1;32m----> 3\u001b[0m \u001b[38;5;28;01massert\u001b[39;00m spam \u001b[38;5;241m>\u001b[39m\u001b[38;5;241m=\u001b[39m \u001b[38;5;241m0\u001b[39m, \u001b[38;5;124m\"\u001b[39m\u001b[38;5;124mspam should not be a negative integer\u001b[39m\u001b[38;5;124m\"\u001b[39m\n",
      "\u001b[1;31mAssertionError\u001b[0m: spam should not be a negative integer"
     ]
    }
   ],
   "source": [
    "spam = -5\n",
    "\n",
    "assert spam >= 0, \"spam should not be a negative integer\""
   ]
  },
  {
   "cell_type": "markdown",
   "id": "0d5482e1",
   "metadata": {},
   "source": [
    "**2. Write an assert statement that triggers an AssertionError if the variables eggs and bacon contain strings that are the same as each other, even if their cases are different (that is, 'hello' and 'hello' are considered the same, and 'goodbye' and 'GOODbye' are also considered the same).**"
   ]
  },
  {
   "cell_type": "code",
   "execution_count": 16,
   "id": "a59f1ec8",
   "metadata": {},
   "outputs": [
    {
     "ename": "AssertionError",
     "evalue": "eggs and bacon should not be the same (case-insensitive)",
     "output_type": "error",
     "traceback": [
      "\u001b[1;31m---------------------------------------------------------------------------\u001b[0m",
      "\u001b[1;31mAssertionError\u001b[0m                            Traceback (most recent call last)",
      "Cell \u001b[1;32mIn[16], line 4\u001b[0m\n\u001b[0;32m      1\u001b[0m eggs \u001b[38;5;241m=\u001b[39m \u001b[38;5;124m\"\u001b[39m\u001b[38;5;124mhello\u001b[39m\u001b[38;5;124m\"\u001b[39m\n\u001b[0;32m      2\u001b[0m bacon \u001b[38;5;241m=\u001b[39m \u001b[38;5;124m\"\u001b[39m\u001b[38;5;124mHELLO\u001b[39m\u001b[38;5;124m\"\u001b[39m\n\u001b[1;32m----> 4\u001b[0m \u001b[38;5;28;01massert\u001b[39;00m eggs\u001b[38;5;241m.\u001b[39mcasefold() \u001b[38;5;241m!=\u001b[39m bacon\u001b[38;5;241m.\u001b[39mcasefold(), \u001b[38;5;124m\"\u001b[39m\u001b[38;5;124meggs and bacon should not be the same (case-insensitive)\u001b[39m\u001b[38;5;124m\"\u001b[39m\n",
      "\u001b[1;31mAssertionError\u001b[0m: eggs and bacon should not be the same (case-insensitive)"
     ]
    }
   ],
   "source": [
    "eggs = \"hello\"\n",
    "bacon = \"HELLO\"\n",
    "\n",
    "assert eggs.casefold() != bacon.casefold(), \"eggs and bacon should not be the same (case-insensitive)\"\n"
   ]
  },
  {
   "cell_type": "markdown",
   "id": "386ce2f5",
   "metadata": {},
   "source": [
    "**3. Create an assert statement that throws an AssertionError every time.**"
   ]
  },
  {
   "cell_type": "code",
   "execution_count": 17,
   "id": "ff2d15af",
   "metadata": {},
   "outputs": [
    {
     "ename": "AssertionError",
     "evalue": "This assert statement always throws an AssertionError",
     "output_type": "error",
     "traceback": [
      "\u001b[1;31m---------------------------------------------------------------------------\u001b[0m",
      "\u001b[1;31mAssertionError\u001b[0m                            Traceback (most recent call last)",
      "Cell \u001b[1;32mIn[17], line 1\u001b[0m\n\u001b[1;32m----> 1\u001b[0m \u001b[38;5;28;01massert\u001b[39;00m \u001b[38;5;28;01mFalse\u001b[39;00m, \u001b[38;5;124m\"\u001b[39m\u001b[38;5;124mThis assert statement always throws an AssertionError\u001b[39m\u001b[38;5;124m\"\u001b[39m\n",
      "\u001b[1;31mAssertionError\u001b[0m: This assert statement always throws an AssertionError"
     ]
    }
   ],
   "source": [
    "assert False, \"This assert statement always throws an AssertionError\""
   ]
  },
  {
   "cell_type": "markdown",
   "id": "25d1de71",
   "metadata": {},
   "source": [
    "**4. What are the two lines that must be present in your software in order to call logging.debug()?**"
   ]
  },
  {
   "cell_type": "code",
   "execution_count": 18,
   "id": "7eaac26b",
   "metadata": {},
   "outputs": [],
   "source": [
    "import logging\n",
    "logging.basicConfig(level=logging.DEBUG)"
   ]
  },
  {
   "cell_type": "markdown",
   "id": "88289828",
   "metadata": {},
   "source": [
    "**5. What are the two lines that your program must have in order to have logging.debug() send a logging message to a file named programLog.txt?**"
   ]
  },
  {
   "cell_type": "code",
   "execution_count": null,
   "id": "f350e4c8",
   "metadata": {},
   "outputs": [],
   "source": [
    "import logging\n",
    "logging.basicConfig(filename='programLog.txt', level=logging.DEBUG)"
   ]
  },
  {
   "cell_type": "markdown",
   "id": "80f6b3c8",
   "metadata": {},
   "source": [
    "**6. What are the five levels of logging?**"
   ]
  },
  {
   "cell_type": "markdown",
   "id": "f2ca9142",
   "metadata": {},
   "source": [
    "The five levels of logging, in increasing order of severity, are:\n",
    "\n",
    "   1. DEBUG: Detailed information, typically useful for debugging purposes.\n",
    "   2. INFO: General information about the program's execution.\n",
    "   3. WARNING: Indicates a potential issue or unexpected behavior that is not necessarily an error.\n",
    "   4. ERROR: Indicates a more serious error that caused a function or operation to fail.\n",
    "   5. CRITICAL: Indicates a critical error or failure that may result in the termination of the program."
   ]
  },
  {
   "cell_type": "markdown",
   "id": "518cdadf",
   "metadata": {},
   "source": [
    "**7. What line of code would you add to your software to disable all logging messages?**"
   ]
  },
  {
   "cell_type": "code",
   "execution_count": 19,
   "id": "7916d7b0",
   "metadata": {},
   "outputs": [],
   "source": [
    "logging.disable(logging.CRITICAL)"
   ]
  },
  {
   "cell_type": "markdown",
   "id": "289db933",
   "metadata": {},
   "source": [
    "**8.Why is using logging messages better than using print() to display the same message?**"
   ]
  },
  {
   "cell_type": "markdown",
   "id": "62fb4961",
   "metadata": {},
   "source": [
    "Using logging messages is better than using `print()` for displaying the same message because logging provides more flexibility and control over the output. With logging, you can easily enable or disable different levels of messages, direct them to different outputs (e.g., console, file), and configure the format and verbosity of the log messages. It also allows for better separation of logging and actual program output, making it easier to manage and analyze the logs."
   ]
  },
  {
   "cell_type": "markdown",
   "id": "85388844",
   "metadata": {},
   "source": [
    "**9. What are the differences between the Step Over, Step In, and Step Out buttons in the debugger?**"
   ]
  },
  {
   "cell_type": "markdown",
   "id": "3e5dacad",
   "metadata": {},
   "source": [
    "The differences between the Step Over, Step In, and Step Out buttons in the debugger are as follows:\n",
    "\n",
    "   - Step Over: Executes the current line of code and moves to the next line. If the current line contains a function call, it will execute the entire function without stepping into it and move to the next line in the calling function.\n",
    "   - Step In: If the current line of code contains a function call, it will step into that function and pause at the first line of the called function, allowing you to debug inside the called function.\n",
    "   - Step Out: When inside a function, it will execute the remaining lines of the current function and return to the calling function, pausing at the line immediately after the function call."
   ]
  },
  {
   "cell_type": "markdown",
   "id": "4deaec66",
   "metadata": {},
   "source": [
    "**10.After you click Continue, when will the debugger stop ?**"
   ]
  },
  {
   "cell_type": "markdown",
   "id": "e6c6f85b",
   "metadata": {},
   "source": [
    "After you click Continue, the debugger will stop when it encounters the next breakpoint or when the program execution completes."
   ]
  },
  {
   "cell_type": "markdown",
   "id": "4259e1ba",
   "metadata": {},
   "source": [
    "\n",
    "**11. What is the concept of a breakpoint?**"
   ]
  },
  {
   "cell_type": "markdown",
   "id": "50ee165a",
   "metadata": {},
   "source": [
    "A breakpoint is a designated point in the code where the debugger will pause the execution of the program, allowing you to inspect variables, step through the code, and analyze its behavior at that specific point. It is a useful tool for debugging and understanding the program's execution flow."
   ]
  }
 ],
 "metadata": {
  "kernelspec": {
   "display_name": "Python 3 (ipykernel)",
   "language": "python",
   "name": "python3"
  },
  "language_info": {
   "codemirror_mode": {
    "name": "ipython",
    "version": 3
   },
   "file_extension": ".py",
   "mimetype": "text/x-python",
   "name": "python",
   "nbconvert_exporter": "python",
   "pygments_lexer": "ipython3",
   "version": "3.9.16"
  }
 },
 "nbformat": 4,
 "nbformat_minor": 5
}
