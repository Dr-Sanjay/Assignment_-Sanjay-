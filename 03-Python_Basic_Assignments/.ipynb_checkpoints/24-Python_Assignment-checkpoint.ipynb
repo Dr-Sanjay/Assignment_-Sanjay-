{
 "cells": [
  {
   "cell_type": "markdown",
   "id": "f30695e3",
   "metadata": {},
   "source": [
    "# 24-Python Basic Assignment"
   ]
  },
  {
   "cell_type": "markdown",
   "id": "abf828fb",
   "metadata": {},
   "source": [
    "**1. What is the relationship between def statements and lambda expressions ?**"
   ]
  },
  {
   "cell_type": "markdown",
   "id": "9bf4fc91",
   "metadata": {},
   "source": [
    "Def statements and lambda expressions are both ways to define functions in Python. The main difference between the two is that def statements are used to define named functions, while lambda expressions are used to define anonymous functions.\n",
    "\n",
    "Named functions can be assigned to variables and called by name. Anonymous functions cannot be assigned to variables, but they can be passed as arguments to other functions or used in expressions.\n",
    "\n",
    "Here is an example of a def statement:\n",
    "\n",
    "```python\n",
    "def square(x):\n",
    "    return x * x\n",
    "\n",
    "print(square(5))  # 25\n",
    "```\n",
    "\n",
    "Here is an example of a lambda expression:\n",
    "\n",
    "```python\n",
    "square = lambda x: x * x\n",
    "\n",
    "print(square(5))  # 25\n",
    "```\n",
    "\n",
    "As we can see, the def statement and the lambda expression both define a function that squares a number. The def statement defines a named function called `square`, while the lambda expression defines an anonymous function."
   ]
  },
  {
   "cell_type": "markdown",
   "id": "922ab210",
   "metadata": {},
   "source": [
    "**2. What is the benefit of lambda?**"
   ]
  },
  {
   "cell_type": "markdown",
   "id": "692619f0",
   "metadata": {},
   "source": [
    "The benefit of lambda expressions is that they are concise and easy to use. They can be used in places where a named function would be too cumbersome, such as in list comprehensions or in expressions.\n",
    "\n",
    "For example, the following list comprehension uses a lambda expression to square each element in a list:\n",
    "\n",
    "```python\n",
    "numbers = [1, 2, 3, 4, 5]\n",
    "\n",
    "squared_numbers = [x * x for x in numbers]\n",
    "\n",
    "print(squared_numbers)  # [1, 4, 9, 16, 25]\n",
    "```\n",
    "\n",
    "If we were to define a named function called `square` and then use that function in the list comprehension, the code would be more verbose:\n",
    "\n",
    "```python\n",
    "def square(x):\n",
    "    return x * x\n",
    "\n",
    "numbers = [1, 2, 3, 4, 5]\n",
    "\n",
    "squared_numbers = [square(x) for x in numbers]\n",
    "\n",
    "print(squared_numbers)  # [1, 4, 9, 16, 25]\n",
    "```"
   ]
  },
  {
   "cell_type": "markdown",
   "id": "cb1f0bca",
   "metadata": {},
   "source": [
    "**3. Compare and contrast map, filter, and reduce.**"
   ]
  },
  {
   "cell_type": "markdown",
   "id": "c5794b55",
   "metadata": {},
   "source": [
    "Map, filter, and reduce are all higher-order functions in Python. Higher-order functions are functions that take other functions as arguments or return functions as results.\n",
    "\n",
    "- Map takes a function and a sequence as arguments and returns a new sequence where each element is the result of applying the function to the corresponding element in the sequence.\n",
    "\n",
    "- Filter takes a function and a sequence as arguments and returns a new sequence where each element is the element from the sequence for which the function returns True.\n",
    "\n",
    "- Reduce takes a function and a sequence as arguments and returns a single value, which is the result of applying the function repeatedly to the elements in the sequence, starting with the first two elements and then combining the results with the next element, and so on.\n",
    "\n",
    "Here is an example of how to use map:\n",
    "\n",
    "```python\n",
    "def square(x):\n",
    "    return x * x\n",
    "\n",
    "numbers = [1, 2, 3, 4, 5]\n",
    "\n",
    "squared_numbers = map(square, numbers)\n",
    "\n",
    "print(squared_numbers)  # [1, 4, 9, 16, 25]\n",
    "```\n",
    "\n",
    "As we can see, the map function takes the `square` function and the `numbers` sequence as arguments and returns a new sequence where each element is the square of the corresponding element in the `numbers` sequence.\n",
    "\n",
    "Here is an example of how to use filter:\n",
    "\n",
    "```python\n",
    "def is_even(x):\n",
    "    return x % 2 == 0\n",
    "\n",
    "numbers = [1, 2, 3, 4, 5]\n",
    "\n",
    "even_numbers = filter(is_even, numbers)\n",
    "\n",
    "print(even_numbers)  # [2, 4]\n",
    "```\n",
    "\n",
    "As we can see, the filter function takes the `is_even` function and the `numbers` sequence as arguments and returns a new sequence where each element is the element from the `numbers` sequence for which the `is_even` function returns True.\n",
    "\n",
    "Here is an example of how to use reduce:\n",
    "\n",
    "```python\n",
    "def sum(x, y):\n",
    "    return x + y\n",
    "\n",
    "numbers = [1, 2, 3, 4, 5]\n",
    "\n",
    "total = reduce(sum, numbers)\n",
    "\n",
    "print(total)  # 15\n",
    "```"
   ]
  },
  {
   "cell_type": "markdown",
   "id": "0f94e0f0",
   "metadata": {},
   "source": [
    "**4. What are function annotations, and how are they used?**"
   ]
  },
  {
   "cell_type": "markdown",
   "id": "4fd897cf",
   "metadata": {},
   "source": [
    "**4. What are function annotations, and how are they used?**\n",
    "\n",
    "Function annotations are a way to add metadata to functions. They can be used to specify the types of the arguments and the return value of a function.\n",
    "\n",
    "Function annotations are not part of the Python language, but they are supported by the Python interpreter. This means that you can use function annotations in your code, and the Python interpreter will ignore them. However, if you use a Python IDE, the IDE will be able to understand the function annotations and provide you with code completion and other features.\n",
    "\n",
    "Here is an example of how to use function annotations:\n",
    "\n",
    "```python\n",
    "def factorial(n: int) -> int:\n",
    "    \"\"\"\n",
    "    Calculates the factorial of a number.\n",
    "\n",
    "    Args:\n",
    "        n: The number to calculate the factorial of.\n",
    "\n",
    "    Returns:\n",
    "        The factorial of the number.\n",
    "    \"\"\"\n",
    "\n",
    "    if n < 0:\n",
    "        raise ValueError(\"n must be non-negative\")\n",
    "\n",
    "    if n == 0:\n",
    "        return 1\n",
    "\n",
    "    return n * factorial(n - 1)\n",
    "\n",
    "print(factorial(5))  # 120\n",
    "```\n",
    "\n",
    "As you can see, the `factorial` function has two annotations: one for the argument `n` and one for the return value. The annotation for the argument `n` specifies that the type of the argument must be `int`. The annotation for the return value specifies that the type of the return value must be `int`.\n",
    "\n",
    "\n",
    "\n"
   ]
  },
  {
   "cell_type": "markdown",
   "id": "4d608945",
   "metadata": {},
   "source": [
    "**5. What are recursive functions, and how are they used?**"
   ]
  },
  {
   "cell_type": "markdown",
   "id": "04569927",
   "metadata": {},
   "source": [
    "Recursive functions are functions that call themselves. They are used to solve problems that can be broken down into smaller and smaller problems of the same type.\n",
    "\n",
    "For example, the factorial function can be implemented recursively as follows:\n",
    "\n",
    "```python\n",
    "def factorial(n: int) -> int:\n",
    "    \"\"\"\n",
    "    Calculates the factorial of a number.\n",
    "\n",
    "    Args:\n",
    "        n: The number to calculate the factorial of.\n",
    "\n",
    "    Returns:\n",
    "        The factorial of the number.\n",
    "    \"\"\"\n",
    "\n",
    "    if n == 0:\n",
    "        return 1\n",
    "\n",
    "    return n * factorial(n - 1)\n",
    "```\n",
    "\n",
    "As you can see, the `factorial` function calls itself recursively. The base case is when `n == 0`, in which case the function returns 1. The recursive case is when `n > 0`, in which case the function returns `n * factorial(n - 1)`."
   ]
  },
  {
   "cell_type": "markdown",
   "id": "d69c037d",
   "metadata": {},
   "source": [
    "**6. What are some general design guidelines for coding functions?**"
   ]
  },
  {
   "cell_type": "markdown",
   "id": "3fe1e68c",
   "metadata": {},
   "source": [
    "Here are some general design guidelines for coding functions:\n",
    "\n",
    "* Use descriptive names for your functions.\n",
    "* Use parameters to pass data into your functions.\n",
    "* Use return values to return data from your functions.\n",
    "* Document your functions.\n",
    "* Test your functions."
   ]
  },
  {
   "cell_type": "markdown",
   "id": "ec8c548c",
   "metadata": {},
   "source": [
    "**7. Name three or more ways that functions can communicate results to a caller.**"
   ]
  },
  {
   "cell_type": "markdown",
   "id": "04a796d9",
   "metadata": {},
   "source": [
    "Functions can communicate results to a caller in three ways:\n",
    "\n",
    "* By returning a value.\n",
    "* By modifying a global variable.\n",
    "* By raising an exception.\n",
    "\n",
    "When a function returns a value, the value is returned to the caller. The caller can then use the value as it sees fit.\n",
    "\n",
    "When a function modifies a global variable, the change to the variable is visible to the caller. The caller can then access the changed variable as it sees fit.\n",
    "\n",
    "When a function raises an exception, the exception is passed back to the caller. The caller can then handle the exception as it sees fit.\n"
   ]
  }
 ],
 "metadata": {
  "kernelspec": {
   "display_name": "Python 3 (ipykernel)",
   "language": "python",
   "name": "python3"
  },
  "language_info": {
   "codemirror_mode": {
    "name": "ipython",
    "version": 3
   },
   "file_extension": ".py",
   "mimetype": "text/x-python",
   "name": "python",
   "nbconvert_exporter": "python",
   "pygments_lexer": "ipython3",
   "version": "3.9.16"
  }
 },
 "nbformat": 4,
 "nbformat_minor": 5
}
