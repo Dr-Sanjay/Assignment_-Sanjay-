{
 "cells": [
  {
   "cell_type": "markdown",
   "id": "d0402dfd",
   "metadata": {},
   "source": [
    "# 10-Python Basic Programming"
   ]
  },
  {
   "cell_type": "markdown",
   "id": "2242bcf1",
   "metadata": {},
   "source": [
    "**1.\tWrite a Python program to find sum of elements in list?**"
   ]
  },
  {
   "cell_type": "code",
   "execution_count": 1,
   "id": "e222e7a0",
   "metadata": {},
   "outputs": [
    {
     "name": "stdout",
     "output_type": "stream",
     "text": [
      "Sum of elements: 15\n"
     ]
    }
   ],
   "source": [
    "def sum_of_elements(lst):\n",
    "    return sum(lst)\n",
    "\n",
    "# Example usage:\n",
    "numbers = [1, 2, 3, 4, 5]\n",
    "result = sum_of_elements(numbers)\n",
    "print(\"Sum of elements:\", result)"
   ]
  },
  {
   "cell_type": "markdown",
   "id": "19d95f89",
   "metadata": {},
   "source": [
    "**2.\tWrite a Python program to  Multiply all numbers in the list?**"
   ]
  },
  {
   "cell_type": "code",
   "execution_count": 2,
   "id": "f9513a82",
   "metadata": {},
   "outputs": [
    {
     "name": "stdout",
     "output_type": "stream",
     "text": [
      "Multiplication result: 120\n"
     ]
    }
   ],
   "source": [
    "def multiply_numbers(lst):\n",
    "    result = 1\n",
    "    for num in lst:\n",
    "        result *= num\n",
    "    return result\n",
    "\n",
    "# Example usage:\n",
    "numbers = [1, 2, 3, 4, 5]\n",
    "result = multiply_numbers(numbers)\n",
    "print(\"Multiplication result:\", result)"
   ]
  },
  {
   "cell_type": "markdown",
   "id": "d84fced4",
   "metadata": {},
   "source": [
    "**3.\tWrite a Python program to find smallest number in a list?**"
   ]
  },
  {
   "cell_type": "code",
   "execution_count": 3,
   "id": "2f69f35f",
   "metadata": {},
   "outputs": [
    {
     "name": "stdout",
     "output_type": "stream",
     "text": [
      "Smallest number: 1\n"
     ]
    }
   ],
   "source": [
    "def find_smallest_number(lst):\n",
    "    return min(lst)\n",
    "\n",
    "# Example usage:\n",
    "numbers = [5, 3, 7, 1, 9]\n",
    "result = find_smallest_number(numbers)\n",
    "print(\"Smallest number:\", result)"
   ]
  },
  {
   "cell_type": "markdown",
   "id": "a5a3651b",
   "metadata": {},
   "source": [
    "**4.\tWrite a Python program to find largest number in a list?**"
   ]
  },
  {
   "cell_type": "code",
   "execution_count": 4,
   "id": "799f623e",
   "metadata": {},
   "outputs": [
    {
     "name": "stdout",
     "output_type": "stream",
     "text": [
      "Largest number: 9\n"
     ]
    }
   ],
   "source": [
    "def find_largest_number(lst):\n",
    "    return max(lst)\n",
    "\n",
    "# Example usage:\n",
    "numbers = [5, 3, 7, 1, 9]\n",
    "result = find_largest_number(numbers)\n",
    "print(\"Largest number:\", result)"
   ]
  },
  {
   "cell_type": "markdown",
   "id": "83e4fd46",
   "metadata": {},
   "source": [
    "**5.\tWrite a Python program to find second largest number in a list?**"
   ]
  },
  {
   "cell_type": "code",
   "execution_count": 5,
   "id": "b2bb0a21",
   "metadata": {},
   "outputs": [
    {
     "name": "stdout",
     "output_type": "stream",
     "text": [
      "Second largest number: 7\n"
     ]
    }
   ],
   "source": [
    "def find_second_largest_number(lst):\n",
    "    sorted_lst = sorted(lst)\n",
    "    return sorted_lst[-2]\n",
    "\n",
    "# Example usage:\n",
    "numbers = [5, 3, 7, 1, 9]\n",
    "result = find_second_largest_number(numbers)\n",
    "print(\"Second largest number:\", result)"
   ]
  },
  {
   "cell_type": "markdown",
   "id": "a89d3f78",
   "metadata": {},
   "source": [
    "**6.\tWrite a Python program to find N largest elements from a list?**"
   ]
  },
  {
   "cell_type": "code",
   "execution_count": 6,
   "id": "78fbed20",
   "metadata": {},
   "outputs": [
    {
     "name": "stdout",
     "output_type": "stream",
     "text": [
      "3 largest elements: [9, 7, 6]\n"
     ]
    }
   ],
   "source": [
    "def find_n_largest_elements(lst, n):\n",
    "    sorted_lst = sorted(lst, reverse=True)\n",
    "    return sorted_lst[:n]\n",
    "\n",
    "# Example usage:\n",
    "numbers = [5, 3, 7, 1, 9, 2, 6]\n",
    "n = 3\n",
    "result = find_n_largest_elements(numbers, n)\n",
    "print(f\"{n} largest elements:\", result)"
   ]
  },
  {
   "cell_type": "markdown",
   "id": "558ede66",
   "metadata": {},
   "source": [
    "**7.\tWrite a Python program to print even numbers in a list?**"
   ]
  },
  {
   "cell_type": "code",
   "execution_count": 7,
   "id": "6dd473a9",
   "metadata": {},
   "outputs": [
    {
     "name": "stdout",
     "output_type": "stream",
     "text": [
      "Even numbers: [2, 4, 6, 8, 10]\n"
     ]
    }
   ],
   "source": [
    "def print_even_numbers(lst):\n",
    "    even_numbers = [num for num in lst if num % 2 == 0]\n",
    "    print(\"Even numbers:\", even_numbers)\n",
    "\n",
    "# Example usage:\n",
    "numbers = [1, 2, 3, 4, 5, 6, 7, 8, 9, 10]\n",
    "print_even_numbers(numbers)"
   ]
  },
  {
   "cell_type": "markdown",
   "id": "af279e37",
   "metadata": {},
   "source": [
    "**8.\tWrite a Python program to print odd numbers in a List?**"
   ]
  },
  {
   "cell_type": "code",
   "execution_count": 8,
   "id": "b9428fd0",
   "metadata": {},
   "outputs": [
    {
     "name": "stdout",
     "output_type": "stream",
     "text": [
      "Odd numbers: [1, 3, 5, 7, 9]\n"
     ]
    }
   ],
   "source": [
    "def print_odd_numbers(lst):\n",
    "    odd_numbers = [num for num in lst if num % 2 != 0]\n",
    "    print(\"Odd numbers:\", odd_numbers)\n",
    "\n",
    "# Example usage:\n",
    "numbers = [1, 2, 3, 4, 5, 6, 7, 8, 9, 10]\n",
    "print_odd_numbers(numbers)"
   ]
  },
  {
   "cell_type": "markdown",
   "id": "eb67298c",
   "metadata": {},
   "source": [
    "**9.\tWrite a Python program to Remove empty List from List?**"
   ]
  },
  {
   "cell_type": "code",
   "execution_count": 9,
   "id": "d992246b",
   "metadata": {},
   "outputs": [
    {
     "name": "stdout",
     "output_type": "stream",
     "text": [
      "List after removing empty lists: [1, 2, [3, 4], 5, [6]]\n"
     ]
    }
   ],
   "source": [
    "def remove_empty_lists(lst):\n",
    "    return [sublst for sublst in lst if sublst]\n",
    "\n",
    "# Example usage:\n",
    "my_list = [1, 2, [], [3, 4], [], 5, [], [6], []]\n",
    "result = remove_empty_lists(my_list)\n",
    "print(\"List after removing empty lists:\", result)"
   ]
  },
  {
   "cell_type": "markdown",
   "id": "1e922905",
   "metadata": {},
   "source": [
    "**10.\tWrite a Python program to Cloning or Copying a list?**"
   ]
  },
  {
   "cell_type": "code",
   "execution_count": 10,
   "id": "370b92e5",
   "metadata": {},
   "outputs": [
    {
     "name": "stdout",
     "output_type": "stream",
     "text": [
      "Cloned list: [1, 2, 3, 4, 5]\n"
     ]
    }
   ],
   "source": [
    "def clone_list(lst):\n",
    "    return lst.copy()\n",
    "\n",
    "# Example usage:\n",
    "numbers = [1, 2, 3, 4, 5]\n",
    "cloned_list = clone_list(numbers)\n",
    "print(\"Cloned list:\", cloned_list)"
   ]
  },
  {
   "cell_type": "markdown",
   "id": "a5fa452b",
   "metadata": {},
   "source": [
    "**11.\tWrite a Python program to Count occurrences of an element in a list?**"
   ]
  },
  {
   "cell_type": "code",
   "execution_count": 11,
   "id": "6fa436fa",
   "metadata": {},
   "outputs": [
    {
     "name": "stdout",
     "output_type": "stream",
     "text": [
      "Number of occurrences of 2: 3\n"
     ]
    }
   ],
   "source": [
    "def count_occurrences(lst, element):\n",
    "    return lst.count(element)\n",
    "\n",
    "# Example usage:\n",
    "numbers = [1, 2, 3, 4, 5, 2, 2]\n",
    "element = 2\n",
    "result = count_occurrences(numbers, element)\n",
    "print(f\"Number of occurrences of {element}: {result}\")"
   ]
  }
 ],
 "metadata": {
  "kernelspec": {
   "display_name": "Python 3 (ipykernel)",
   "language": "python",
   "name": "python3"
  },
  "language_info": {
   "codemirror_mode": {
    "name": "ipython",
    "version": 3
   },
   "file_extension": ".py",
   "mimetype": "text/x-python",
   "name": "python",
   "nbconvert_exporter": "python",
   "pygments_lexer": "ipython3",
   "version": "3.9.16"
  }
 },
 "nbformat": 4,
 "nbformat_minor": 5
}
