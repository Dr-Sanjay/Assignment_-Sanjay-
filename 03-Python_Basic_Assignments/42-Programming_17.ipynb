{
 "cells": [
  {
   "cell_type": "markdown",
   "id": "14ff43e1",
   "metadata": {},
   "source": [
    "# 17-Python Basic Programming"
   ]
  },
  {
   "cell_type": "markdown",
   "id": "feb9e379",
   "metadata": {},
   "source": [
    "**Question1. Create a function that takes three arguments a, b, c and returns the sum of the numbers that are evenly divided by c from the range a, b inclusive.**  \n",
    "Examples  \n",
    "evenly_divisible(1, 10, 20) ➞ 0  \n",
    "No number between 1 and 10 can be evenly divided by 20.  \n",
    "\n",
    "evenly_divisible(1, 10, 2) ➞ 30  \n",
    "2 + 4 + 6 + 8 + 10 = 30  \n",
    "\n",
    "evenly_divisible(1, 10, 3) ➞ 18  \n",
    "3 + 6 + 9 = 18  "
   ]
  },
  {
   "cell_type": "code",
   "execution_count": 21,
   "id": "5d356edc",
   "metadata": {},
   "outputs": [
    {
     "name": "stdout",
     "output_type": "stream",
     "text": [
      "0\n",
      "30\n",
      "18\n"
     ]
    }
   ],
   "source": [
    "def evenly_divisible(a, b, c):\n",
    "    total = 0\n",
    "    for num in range(a, b+1):\n",
    "        if num % c == 0:\n",
    "            total += num\n",
    "    return total\n",
    "\n",
    "# Example usage\n",
    "print(evenly_divisible(1, 10, 20))\n",
    "print(evenly_divisible(1, 10, 2))\n",
    "print(evenly_divisible(1, 10, 3))"
   ]
  },
  {
   "cell_type": "markdown",
   "id": "b1ce1932",
   "metadata": {},
   "source": [
    "**Question2. Create a function that returns True if a given inequality expression is correct and False otherwise.**  \n",
    "Examples  \n",
    "correct_signs(\"3 < 7 < 11\") ➞ True  \n",
    "\n",
    "correct_signs(\"13 > 44 > 33 > 1\") ➞ False  \n",
    "\n",
    "correct_signs(\"1 < 2 < 6 < 9 > 3\") ➞ True  "
   ]
  },
  {
   "cell_type": "code",
   "execution_count": 22,
   "id": "e7282ca5",
   "metadata": {},
   "outputs": [
    {
     "name": "stdout",
     "output_type": "stream",
     "text": [
      "True\n",
      "False\n",
      "True\n"
     ]
    }
   ],
   "source": [
    "def correct_signs(expression):\n",
    "    parts = expression.split()\n",
    "    operators = parts[1::2]\n",
    "    numbers = [int(num) for num in parts[::2]]\n",
    "    \n",
    "    for i in range(len(operators)):\n",
    "        if operators[i] == \"<\" and numbers[i] >= numbers[i+1]:\n",
    "            return False\n",
    "        elif operators[i] == \">\" and numbers[i] <= numbers[i+1]:\n",
    "            return False\n",
    "    return True\n",
    "\n",
    "# Example usage\n",
    "print(correct_signs(\"3 < 7 < 11\"))\n",
    "print(correct_signs(\"13 > 44 > 33 > 1\"))\n",
    "print(correct_signs(\"1 < 2 < 6 < 9 > 3\"))"
   ]
  },
  {
   "cell_type": "markdown",
   "id": "a06a345c",
   "metadata": {},
   "source": [
    "**Question3. Create a function that replaces all the vowels in a string with a specified character.**  \n",
    "Examples  \n",
    "replace_vowels(\"the aardvark\", \"#\") ➞ \"th# ##rdv#rk\"  \n",
    "\n",
    "replace_vowels(\"minnie mouse\", \"?\") ➞ \"m?nn?? m??s?\"  \n",
    "\n",
    "replace_vowels(\"shakespeare\", \"*\") ➞ \"sh*k*sp**r*\"  "
   ]
  },
  {
   "cell_type": "code",
   "execution_count": 23,
   "id": "ec469ed6",
   "metadata": {},
   "outputs": [
    {
     "name": "stdout",
     "output_type": "stream",
     "text": [
      "th# ##rdv#rk\n",
      "m?nn?? m??s?\n",
      "shkspr\n"
     ]
    }
   ],
   "source": [
    "def replace_vowels(string, character):\n",
    "    vowels = \"aeiouAEIOU\"\n",
    "    return \"\".join(character if ch in vowels else ch for ch in string)\n",
    "\n",
    "# Example usage\n",
    "print(replace_vowels(\"the aardvark\", \"#\")) \n",
    "print(replace_vowels(\"minnie mouse\", \"?\")) \n",
    "print(replace_vowels(\"shakespeare\", \"\")) "
   ]
  },
  {
   "cell_type": "markdown",
   "id": "30deab20",
   "metadata": {},
   "source": [
    "**Question4. Write a function that calculates the factorial of a number recursively.**  \n",
    "Examples  \n",
    "factorial(5) ➞ 120  \n",
    "\n",
    "factorial(3) ➞ 6  \n",
    "\n",
    "factorial(1) ➞ 1  \n",
    "\n",
    "factorial(0) ➞ 1  "
   ]
  },
  {
   "cell_type": "code",
   "execution_count": 24,
   "id": "4a3cafba",
   "metadata": {},
   "outputs": [
    {
     "name": "stdout",
     "output_type": "stream",
     "text": [
      "2.6\n",
      "10.4\n",
      "23.4\n"
     ]
    }
   ],
   "source": [
    "import math\n",
    "\n",
    "def area_of_hexagon(x):\n",
    "    return round(((3 * math.sqrt(3)) / 2) * (x ** 2), 1)\n",
    "\n",
    "# Example usage\n",
    "print(area_of_hexagon(1))\n",
    "print(area_of_hexagon(2))\n",
    "print(area_of_hexagon(3))"
   ]
  },
  {
   "cell_type": "markdown",
   "id": "31f24926",
   "metadata": {},
   "source": [
    "**Question 5\n",
    "Hamming distance is the number of characters that differ between two strings.**  \n",
    "To illustrate:  \n",
    "String1: \"abcbba\"  \n",
    "String2: \"abcbda\"  \n",
    "\n",
    "Hamming Distance: 1 - \"b\" vs. \"d\" is the only difference.  \n",
    "Create a function that computes the hamming distance between two strings.  \n",
    "Examples  \n",
    "hamming_distance(\"abcde\", \"bcdef\") ➞ 5  \n",
    "\n",
    "hamming_distance(\"abcde\", \"abcde\") ➞ 0  \n",
    "\n",
    "hamming_distance(\"strong\", \"strung\") ➞ 1  "
   ]
  },
  {
   "cell_type": "code",
   "execution_count": 25,
   "id": "d7068913",
   "metadata": {},
   "outputs": [
    {
     "name": "stdout",
     "output_type": "stream",
     "text": [
      "5\n",
      "0\n",
      "1\n"
     ]
    }
   ],
   "source": [
    "def hamming_distance(str1, str2):\n",
    "    if len(str1) != len(str2):\n",
    "        return \"Strings must have equal length\"\n",
    "    \n",
    "    distance = sum(ch1 != ch2 for ch1, ch2 in zip(str1, str2))\n",
    "    return distance\n",
    "\n",
    "# Example usage\n",
    "print(hamming_distance(\"abcde\", \"bcdef\")) \n",
    "print(hamming_distance(\"abcde\", \"abcde\"))  \n",
    "print(hamming_distance(\"strong\", \"strung\"))  "
   ]
  }
 ],
 "metadata": {
  "kernelspec": {
   "display_name": "Python 3 (ipykernel)",
   "language": "python",
   "name": "python3"
  },
  "language_info": {
   "codemirror_mode": {
    "name": "ipython",
    "version": 3
   },
   "file_extension": ".py",
   "mimetype": "text/x-python",
   "name": "python",
   "nbconvert_exporter": "python",
   "pygments_lexer": "ipython3",
   "version": "3.9.16"
  }
 },
 "nbformat": 4,
 "nbformat_minor": 5
}
