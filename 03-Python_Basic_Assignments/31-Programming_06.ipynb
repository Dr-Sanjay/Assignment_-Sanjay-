{
 "cells": [
  {
   "cell_type": "markdown",
   "id": "018e4094",
   "metadata": {},
   "source": [
    "# 06-Python Basic Programming"
   ]
  },
  {
   "cell_type": "markdown",
   "id": "d3476ebf",
   "metadata": {},
   "source": [
    "**1.\tWrite a Python Program to Display Fibonacci Sequence Using Recursion?**"
   ]
  },
  {
   "cell_type": "code",
   "execution_count": 7,
   "id": "de80bd14",
   "metadata": {},
   "outputs": [
    {
     "name": "stdout",
     "output_type": "stream",
     "text": [
      "Enter the number of terms: 25\n",
      "Fibonacci sequence:\n",
      "0, 1, 1, 2, 3, 5, 8, 13, 21, 34, 55, 89, 144, 233, 377, 610, 987, 1597, 2584, 4181, 6765, 10946, 17711, 28657, 46368, "
     ]
    }
   ],
   "source": [
    "def fibonacci(n):\n",
    "    if n <= 1:\n",
    "        return n\n",
    "    else:\n",
    "        return fibonacci(n - 1) + fibonacci(n - 2)\n",
    "\n",
    "\n",
    "terms = int(input(\"Enter the number of terms: \"))\n",
    "\n",
    "if terms <= 0:\n",
    "    print(\"Number of terms should be positive.\")\n",
    "else:\n",
    "    print(\"Fibonacci sequence:\")\n",
    "    for i in range(terms):\n",
    "        print(fibonacci(i), end=\", \")"
   ]
  },
  {
   "cell_type": "markdown",
   "id": "dc31ee01",
   "metadata": {},
   "source": [
    "**2.\tWrite a Python Program to Find Factorial of Number Using Recursion?**"
   ]
  },
  {
   "cell_type": "code",
   "execution_count": 3,
   "id": "b4fff2d6",
   "metadata": {},
   "outputs": [
    {
     "name": "stdout",
     "output_type": "stream",
     "text": [
      "Enter a number: 7\n",
      "Factorial of 7 is 5040\n"
     ]
    }
   ],
   "source": [
    "def factorial(n):\n",
    "    if n == 0:\n",
    "        return 1\n",
    "    else:\n",
    "        return n * factorial(n - 1)\n",
    "\n",
    "\n",
    "num = int(input(\"Enter a number: \"))\n",
    "\n",
    "if num < 0:\n",
    "    print(\"Factorial is not defined for negative numbers.\")\n",
    "else:\n",
    "    print(\"Factorial of\", num, \"is\", factorial(num))"
   ]
  },
  {
   "cell_type": "markdown",
   "id": "1ccbf6d5",
   "metadata": {},
   "source": [
    "**3.\tWrite a Python Program to calculate your Body Mass Index?**"
   ]
  },
  {
   "cell_type": "code",
   "execution_count": 4,
   "id": "bbba23bd",
   "metadata": {},
   "outputs": [
    {
     "name": "stdout",
     "output_type": "stream",
     "text": [
      "Enter your weight in kilograms: 70\n",
      "Enter your height in meters: 1.5\n",
      "Your BMI is 31.11\n"
     ]
    }
   ],
   "source": [
    "def calculate_bmi(weight, height):\n",
    "    return weight / (height ** 2)\n",
    "\n",
    "\n",
    "weight = float(input(\"Enter your weight in kilograms: \"))\n",
    "height = float(input(\"Enter your height in meters: \"))\n",
    "\n",
    "bmi = calculate_bmi(weight, height)\n",
    "\n",
    "print(\"Your BMI is\", round(bmi, 2))"
   ]
  },
  {
   "cell_type": "markdown",
   "id": "e848449d",
   "metadata": {},
   "source": [
    "**4.\tWrite a Python Program to calculate the natural logarithm of any number?**"
   ]
  },
  {
   "cell_type": "code",
   "execution_count": 5,
   "id": "d71f47bc",
   "metadata": {},
   "outputs": [
    {
     "name": "stdout",
     "output_type": "stream",
     "text": [
      "Enter a number: 8\n",
      "Natural logarithm of 8.0 is 2.0794415416798357\n"
     ]
    }
   ],
   "source": [
    "import math\n",
    "\n",
    "num = float(input(\"Enter a number: \"))\n",
    "\n",
    "logarithm = math.log(num)\n",
    "\n",
    "print(\"Natural logarithm of\", num, \"is\", logarithm)"
   ]
  },
  {
   "cell_type": "markdown",
   "id": "c2913cc6",
   "metadata": {},
   "source": [
    "**5.\tWrite a Python Program for cube sum of first n natural numbers?**"
   ]
  },
  {
   "cell_type": "code",
   "execution_count": 6,
   "id": "ea471581",
   "metadata": {},
   "outputs": [
    {
     "name": "stdout",
     "output_type": "stream",
     "text": [
      "Enter a number: 7\n",
      "The cube sum of the first 7 natural numbers is 784\n"
     ]
    }
   ],
   "source": [
    "def cube_sum(n):\n",
    "    return sum([i ** 3 for i in range(1, n + 1)])\n",
    "\n",
    "\n",
    "num = int(input(\"Enter a number: \"))\n",
    "\n",
    "result = cube_sum(num)\n",
    "\n",
    "print(\"The cube sum of the first\", num, \"natural numbers is\", result)"
   ]
  }
 ],
 "metadata": {
  "kernelspec": {
   "display_name": "Python 3 (ipykernel)",
   "language": "python",
   "name": "python3"
  },
  "language_info": {
   "codemirror_mode": {
    "name": "ipython",
    "version": 3
   },
   "file_extension": ".py",
   "mimetype": "text/x-python",
   "name": "python",
   "nbconvert_exporter": "python",
   "pygments_lexer": "ipython3",
   "version": "3.9.16"
  }
 },
 "nbformat": 4,
 "nbformat_minor": 5
}
