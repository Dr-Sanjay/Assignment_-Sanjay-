{
 "cells": [
  {
   "cell_type": "markdown",
   "id": "a12f60de",
   "metadata": {},
   "source": [
    "# 12-Python Basic Assignment"
   ]
  },
  {
   "cell_type": "markdown",
   "id": "269e6cc7",
   "metadata": {},
   "source": [
    "**1. In what modes should the PdfFileReader() and PdfFileWriter() File objects will be opened?**"
   ]
  },
  {
   "cell_type": "markdown",
   "id": "9059f6c2",
   "metadata": {},
   "source": [
    "1. In the `PdfFileReader()` and `PdfFileWriter()` modes, the file objects should be opened in binary mode. Therefore, you should open them with the `'rb'` mode (read binary) for `PdfFileReader()` and `'wb'` mode (write binary) for `PdfFileWriter()`.\n",
    "\n",
    "\n",
    "\n"
   ]
  },
  {
   "cell_type": "markdown",
   "id": "7460df4f",
   "metadata": {},
   "source": [
    "**2. From a PdfFileReader object, how do you get a Page object for page 5?**"
   ]
  },
  {
   "cell_type": "markdown",
   "id": "52eb5c97",
   "metadata": {},
   "source": [
    "\n",
    "2. To get a `Page` object for page 5 from a `PdfFileReader` object, you can use the `getPage()` method and pass the index of the desired page (zero-based index). In this case, since you want page 5, you would use `getPage(4)`."
   ]
  },
  {
   "cell_type": "markdown",
   "id": "1905a2fb",
   "metadata": {},
   "source": [
    "**3. What PdfFileReader variable stores the number of pages in the PDF document?**"
   ]
  },
  {
   "cell_type": "markdown",
   "id": "abc26960",
   "metadata": {},
   "source": [
    "3. The `numPages` variable of a `PdfFileReader` object stores the number of pages in the PDF document. You can access it using `pdf_reader.numPages`."
   ]
  },
  {
   "cell_type": "markdown",
   "id": "79cfe2ce",
   "metadata": {},
   "source": [
    "**4. If a PdfFileReader object’s PDF is encrypted with the password swordfish, what must you do before you can obtain Page objects from it?**"
   ]
  },
  {
   "cell_type": "markdown",
   "id": "9fdba541",
   "metadata": {},
   "source": [
    "\n",
    "4. If a `PdfFileReader` object's PDF is encrypted with the password \"swordfish,\" you need to decrypt it by calling the `decrypt('swordfish')` method on the reader object before you can obtain `Page` objects from it. For example: `pdf_reader.decrypt('swordfish')`."
   ]
  },
  {
   "cell_type": "markdown",
   "id": "b1700d21",
   "metadata": {},
   "source": [
    "**5. What methods do you use to rotate a page?**"
   ]
  },
  {
   "cell_type": "markdown",
   "id": "adaae4d7",
   "metadata": {},
   "source": [
    "5. To rotate a page, you can use the `rotateClockwise()` or `rotateCounterClockwise()` methods on a `Page` object. The `rotateClockwise(degrees)` method rotates the page clockwise by the specified number of degrees, while `rotateCounterClockwise(degrees)` rotates the page counterclockwise by the specified number of degrees.\n",
    "\n",
    "\n",
    "\n",
    "\n",
    "\n",
    "\n"
   ]
  },
  {
   "cell_type": "markdown",
   "id": "04bd2a23",
   "metadata": {},
   "source": [
    "**6. What is the difference between a Run object and a Paragraph object?**"
   ]
  },
  {
   "cell_type": "markdown",
   "id": "1e285088",
   "metadata": {},
   "source": [
    "6. In the context of Word documents, a \"Run\" object represents a contiguous run of text with the same formatting. It is used to define the properties of a specific range of text within a paragraph, such as font style, size, and color. On the other hand, a \"Paragraph\" object represents a single paragraph of text and can contain multiple \"Run\" objects."
   ]
  },
  {
   "cell_type": "markdown",
   "id": "14dd0160",
   "metadata": {},
   "source": [
    "**7. How do you obtain a list of Paragraph objects for a Document object that’s stored in a variable named doc?**"
   ]
  },
  {
   "cell_type": "markdown",
   "id": "50353f9d",
   "metadata": {},
   "source": [
    "7. To obtain a list of `Paragraph` objects for a `Document` object stored in a variable named `doc`, you can use the `paragraphs` property of the `Document` object. It will return a list of `Paragraph` objects representing the paragraphs in the document. You can access it using `doc.paragraphs`."
   ]
  },
  {
   "cell_type": "markdown",
   "id": "0299fa98",
   "metadata": {},
   "source": [
    "**8. What type of object has bold, underline, italic, strike, and outline variables?**"
   ]
  },
  {
   "cell_type": "markdown",
   "id": "53ae80e1",
   "metadata": {},
   "source": [
    "8. The object that has the variables `bold`, `underline`, `italic`, `strike`, and `outline` is a `Run` object. These variables define the formatting properties of the text run represented by the `Run` object."
   ]
  },
  {
   "cell_type": "markdown",
   "id": "92ffa642",
   "metadata": {},
   "source": [
    "**9. What is the difference between False, True, and None for the bold variable?**"
   ]
  },
  {
   "cell_type": "markdown",
   "id": "1948ee75",
   "metadata": {},
   "source": [
    "In the context of the `bold` variable, `False` means the text is not bold, `True` means the text is bold, and `None` means the text's bold formatting is inherited from the style hierarchy and no explicit setting is applied to it."
   ]
  },
  {
   "cell_type": "markdown",
   "id": "ba9934d5",
   "metadata": {},
   "source": [
    "**10. How do you create a Document object for a new Word document?**"
   ]
  },
  {
   "cell_type": "markdown",
   "id": "1800556c",
   "metadata": {},
   "source": [
    "To create a `Document` object for a new Word document, you can use the `Document()` constructor without any arguments. For example: `doc = Document()`."
   ]
  },
  {
   "cell_type": "markdown",
   "id": "413c7d36",
   "metadata": {},
   "source": [
    "**11. How do you add a paragraph with the text 'Hello, there!' to a Document object stored in a variable named doc?**"
   ]
  },
  {
   "cell_type": "markdown",
   "id": "62deef86",
   "metadata": {},
   "source": [
    "To add a paragraph with the text \"Hello, there!\" to a `Document` object stored in a variable named `doc`, you can use the `add_paragraph()` method on the `doc` object. Here's an example: `doc.add_paragraph('Hello, there!')`."
   ]
  },
  {
   "cell_type": "markdown",
   "id": "c5ba70e5",
   "metadata": {},
   "source": [
    "**12. What integers represent the levels of headings available in Word documents?**"
   ]
  },
  {
   "cell_type": "markdown",
   "id": "8b2df1e2",
   "metadata": {},
   "source": [
    "The integers representing the levels of headings available in Word documents are from 1 to 9. The level 1 heading is the highest level, while level 9 is the lowest level."
   ]
  },
  {
   "cell_type": "markdown",
   "id": "ce286ff3",
   "metadata": {},
   "source": []
  },
  {
   "cell_type": "markdown",
   "id": "18cab7e2",
   "metadata": {},
   "source": []
  },
  {
   "cell_type": "markdown",
   "id": "87d37a7a",
   "metadata": {},
   "source": []
  },
  {
   "cell_type": "markdown",
   "id": "aafab044",
   "metadata": {},
   "source": []
  },
  {
   "cell_type": "markdown",
   "id": "729e2946",
   "metadata": {},
   "source": []
  },
  {
   "cell_type": "markdown",
   "id": "eb91c11f",
   "metadata": {},
   "source": []
  },
  {
   "cell_type": "markdown",
   "id": "d1e0588b",
   "metadata": {},
   "source": []
  }
 ],
 "metadata": {
  "kernelspec": {
   "display_name": "Python 3 (ipykernel)",
   "language": "python",
   "name": "python3"
  },
  "language_info": {
   "codemirror_mode": {
    "name": "ipython",
    "version": 3
   },
   "file_extension": ".py",
   "mimetype": "text/x-python",
   "name": "python",
   "nbconvert_exporter": "python",
   "pygments_lexer": "ipython3",
   "version": "3.9.16"
  }
 },
 "nbformat": 4,
 "nbformat_minor": 5
}
