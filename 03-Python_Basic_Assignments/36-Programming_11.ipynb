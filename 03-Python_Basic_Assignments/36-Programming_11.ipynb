{
 "cells": [
  {
   "cell_type": "markdown",
   "id": "c53370ed",
   "metadata": {},
   "source": [
    "# 11-Python Basic Programming"
   ]
  },
  {
   "cell_type": "markdown",
   "id": "383dcb8f",
   "metadata": {},
   "source": [
    "**1.\tWrite a Python program to find words which are greater than given length k?**"
   ]
  },
  {
   "cell_type": "code",
   "execution_count": 5,
   "id": "7aa9ab24",
   "metadata": {},
   "outputs": [
    {
     "name": "stdout",
     "output_type": "stream",
     "text": [
      "Words greater than length 4:\n",
      "['quick', 'brown', 'jumps']\n"
     ]
    }
   ],
   "source": [
    "def find_words_greater_than_length(string, k):\n",
    "    words = string.split()\n",
    "    result = [word for word in words if len(word) > k]\n",
    "    return result\n",
    "\n",
    "# Example usage:\n",
    "text = \"The quick brown fox jumps over the lazy dog\"\n",
    "k = 4\n",
    "words = find_words_greater_than_length(text, k)\n",
    "print(f\"Words greater than length {k}:\")\n",
    "print(words)"
   ]
  },
  {
   "cell_type": "markdown",
   "id": "f38e5cab",
   "metadata": {},
   "source": [
    "**2.\tWrite a Python program for removing i-th character from a string?**"
   ]
  },
  {
   "cell_type": "code",
   "execution_count": 6,
   "id": "185d2eb4",
   "metadata": {},
   "outputs": [
    {
     "name": "stdout",
     "output_type": "stream",
     "text": [
      "String after removing character at index 4:\n",
      "Hell, World!\n"
     ]
    }
   ],
   "source": [
    "def remove_ith_character(string, i):\n",
    "    result = string[:i] + string[i+1:]\n",
    "    return result\n",
    "\n",
    "# Example usage:\n",
    "text = \"Hello, World!\"\n",
    "i = 4\n",
    "new_text = remove_ith_character(text, i)\n",
    "print(f\"String after removing character at index {i}:\")\n",
    "print(new_text)"
   ]
  },
  {
   "cell_type": "markdown",
   "id": "6665c71a",
   "metadata": {},
   "source": [
    "**3.\tWrite a Python program to split and join a string?**"
   ]
  },
  {
   "cell_type": "code",
   "execution_count": 7,
   "id": "5efa9bb5",
   "metadata": {},
   "outputs": [
    {
     "name": "stdout",
     "output_type": "stream",
     "text": [
      "String after splitting and joining:\n",
      "Hello-World!\n"
     ]
    }
   ],
   "source": [
    "def split_and_join_string(string, delimiter):\n",
    "    words = string.split(delimiter)\n",
    "    result = \"-\".join(words)\n",
    "    return result\n",
    "\n",
    "# Example usage:\n",
    "text = \"Hello, World!\"\n",
    "delimiter = \", \"\n",
    "new_text = split_and_join_string(text, delimiter)\n",
    "print(\"String after splitting and joining:\")\n",
    "print(new_text)"
   ]
  },
  {
   "cell_type": "markdown",
   "id": "64c546be",
   "metadata": {},
   "source": [
    "**4.\tWrite a Python to check if a given string is binary string or not?**"
   ]
  },
  {
   "cell_type": "code",
   "execution_count": 8,
   "id": "c16e795b",
   "metadata": {},
   "outputs": [
    {
     "name": "stdout",
     "output_type": "stream",
     "text": [
      "The string is a binary string.\n"
     ]
    }
   ],
   "source": [
    "def is_binary_string(string):\n",
    "    for char in string:\n",
    "        if char != '0' and char != '1':\n",
    "            return False\n",
    "    return True\n",
    "\n",
    "# Example usage:\n",
    "text = \"10101010\"\n",
    "if is_binary_string(text):\n",
    "    print(\"The string is a binary string.\")\n",
    "else:\n",
    "    print(\"The string is not a binary string.\")"
   ]
  },
  {
   "cell_type": "markdown",
   "id": "1859f79b",
   "metadata": {},
   "source": [
    "**5.\tWrite a Python program to find uncommon words from two Strings?**"
   ]
  },
  {
   "cell_type": "code",
   "execution_count": 9,
   "id": "e60bd0ca",
   "metadata": {},
   "outputs": [
    {
     "name": "stdout",
     "output_type": "stream",
     "text": [
      "Uncommon words:\n",
      "{'you!', 'fine,', 'am', 'I', 'Hello,', 'are', 'you?', 'how', 'thank'}\n"
     ]
    }
   ],
   "source": [
    "def find_uncommon_words(string1, string2):\n",
    "    words1 = set(string1.split())\n",
    "    words2 = set(string2.split())\n",
    "    uncommon_words = words1.symmetric_difference(words2)\n",
    "    return uncommon_words\n",
    "\n",
    "# Example usage:\n",
    "text1 = \"Hello, how are you?\"\n",
    "text2 = \"I am fine, thank you!\"\n",
    "uncommon_words = find_uncommon_words(text1, text2)\n",
    "print(\"Uncommon words:\")\n",
    "print(uncommon_words)"
   ]
  },
  {
   "cell_type": "markdown",
   "id": "6a5479df",
   "metadata": {},
   "source": [
    "**6.\tWrite a Python to find all duplicate characters in string?**"
   ]
  },
  {
   "cell_type": "code",
   "execution_count": 10,
   "id": "efd681a1",
   "metadata": {},
   "outputs": [
    {
     "name": "stdout",
     "output_type": "stream",
     "text": [
      "Duplicate characters:\n",
      "['l', 'o']\n"
     ]
    }
   ],
   "source": [
    "def find_duplicate_characters(string):\n",
    "    duplicate_chars = []\n",
    "    for char in string:\n",
    "        if string.count(char) > 1 and char not in duplicate_chars:\n",
    "            duplicate_chars.append(char)\n",
    "    return duplicate_chars\n",
    "\n",
    "# Example usage:\n",
    "text = \"Hello, World!\"\n",
    "duplicate_chars = find_duplicate_characters(text)\n",
    "print(\"Duplicate characters:\")\n",
    "print(duplicate_chars)"
   ]
  },
  {
   "cell_type": "markdown",
   "id": "b25fff32",
   "metadata": {},
   "source": [
    "**7.\tWrite a Python Program to check if a string contains any special character?**"
   ]
  },
  {
   "cell_type": "code",
   "execution_count": 11,
   "id": "a7378147",
   "metadata": {},
   "outputs": [
    {
     "name": "stdout",
     "output_type": "stream",
     "text": [
      "The string contains special characters.\n"
     ]
    }
   ],
   "source": [
    "import re\n",
    "\n",
    "def contains_special_character(string):\n",
    "    special_characters = re.compile(r'[^a-zA-Z0-9\\s]')\n",
    "    if special_characters.search(string):\n",
    "        return True\n",
    "    return False\n",
    "\n",
    "# Example usage:\n",
    "text = \"Hello, World!\"\n",
    "if contains_special_character(text):\n",
    "    print(\"The string contains special characters.\")\n",
    "else:\n",
    "    print(\"The string does not contain any special characters.\")"
   ]
  }
 ],
 "metadata": {
  "kernelspec": {
   "display_name": "Python 3 (ipykernel)",
   "language": "python",
   "name": "python3"
  },
  "language_info": {
   "codemirror_mode": {
    "name": "ipython",
    "version": 3
   },
   "file_extension": ".py",
   "mimetype": "text/x-python",
   "name": "python",
   "nbconvert_exporter": "python",
   "pygments_lexer": "ipython3",
   "version": "3.9.16"
  }
 },
 "nbformat": 4,
 "nbformat_minor": 5
}
