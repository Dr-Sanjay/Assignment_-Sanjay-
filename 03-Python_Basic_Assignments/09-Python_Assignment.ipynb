{
 "cells": [
  {
   "cell_type": "markdown",
   "id": "20660232",
   "metadata": {},
   "source": [
    "# 09-Python Basic Assignment"
   ]
  },
  {
   "cell_type": "markdown",
   "id": "677d344b",
   "metadata": {},
   "source": [
    "**1. To what does a relative path refer?**"
   ]
  },
  {
   "cell_type": "markdown",
   "id": "ac396cb2",
   "metadata": {},
   "source": [
    "A relative path refers to the path of a file or directory relative to the current working directory. It does not start with the root directory and is based on the current location in the file system."
   ]
  },
  {
   "cell_type": "markdown",
   "id": "709e75a2",
   "metadata": {},
   "source": [
    "**2. What does an absolute path start with your operating system?**"
   ]
  },
  {
   "cell_type": "markdown",
   "id": "27ac1935",
   "metadata": {},
   "source": [
    "An absolute path starts with the root directory of the operating system. In most operating systems, including Windows, macOS, and Linux, an absolute path starts with a drive letter (e.g., C:\\) or a forward slash (/) in the case of Unix-like systems."
   ]
  },
  {
   "cell_type": "markdown",
   "id": "7e9063cb",
   "metadata": {},
   "source": [
    "**3. What do the functions os.getcwd() and os.chdir() do?**"
   ]
  },
  {
   "cell_type": "markdown",
   "id": "c300e0a3",
   "metadata": {},
   "source": [
    "In Python, the `os.getcwd()` function returns the current working directory, which is the directory from which the Python script is being executed. The `os.chdir()` function is used to change the current working directory to the specified directory."
   ]
  },
  {
   "cell_type": "markdown",
   "id": "da0c5858",
   "metadata": {},
   "source": [
    "**4. What are the . and .. folders?**"
   ]
  },
  {
   "cell_type": "markdown",
   "id": "d374879c",
   "metadata": {},
   "source": [
    "In file systems, the `.` (dot) folder represents the current directory, and the `..` (dot-dot) folder represents the parent directory. These special folders are used to navigate the file system hierarchy."
   ]
  },
  {
   "cell_type": "markdown",
   "id": "721ff189",
   "metadata": {},
   "source": [
    "**5. In C:\\bacon\\eggs\\spam.txt, which part is the dir name, and which part is the base name?**"
   ]
  },
  {
   "cell_type": "markdown",
   "id": "fe2f5f48",
   "metadata": {},
   "source": [
    "In the path \"C:\\bacon\\eggs\\spam.txt\", the \"C:\\bacon\\eggs\" part is the directory name, and the \"spam.txt\" part is the base name or file name."
   ]
  },
  {
   "cell_type": "markdown",
   "id": "c37adacf",
   "metadata": {},
   "source": [
    "**6. What are the three “mode” arguments that can be passed to the open() function?**"
   ]
  },
  {
   "cell_type": "markdown",
   "id": "62182f9e",
   "metadata": {},
   "source": [
    "The three \"mode\" arguments that can be passed to the `open()` function are:\n",
    "   - `'r'`: Read mode - opens a file for reading.\n",
    "   - `'w'`: Write mode - opens a file for writing. If the file already exists, its contents are truncated. If the file does not exist, a new file is created.\n",
    "   - `'a'`: Append mode - opens a file for appending. Data written to the file is added to the end. If the file does not exist, a new file is created."
   ]
  },
  {
   "cell_type": "markdown",
   "id": "54e4f816",
   "metadata": {},
   "source": [
    "**7. What happens if an existing file is opened in write mode?**"
   ]
  },
  {
   "cell_type": "markdown",
   "id": "d1999070",
   "metadata": {},
   "source": [
    "If an existing file is opened in write mode (`'w'`), its contents are truncated, and the file is essentially cleared. Any previous data in the file will be lost. The file is then ready for writing new data."
   ]
  },
  {
   "cell_type": "markdown",
   "id": "9530499b",
   "metadata": {},
   "source": [
    "**8. How do you tell the difference between read() and readlines()?**"
   ]
  },
  {
   "cell_type": "markdown",
   "id": "5372eecb",
   "metadata": {},
   "source": [
    "The `read()` function is used to read the entire contents of a file as a single string. It returns a string that includes the newline characters present in the file.\n",
    "\n",
    "   The `readlines()` function, on the other hand, is used to read the contents of a file line by line. It returns a list of strings, where each string represents a line from the file. The newline characters are included as part of each line string.\n"
   ]
  },
  {
   "cell_type": "markdown",
   "id": "cd302bf8",
   "metadata": {},
   "source": [
    "**9. What data structure does a shelf value resemble?**"
   ]
  },
  {
   "cell_type": "markdown",
   "id": "8c3a2992",
   "metadata": {},
   "source": [
    "A shelf value in Python resembles a dictionary-like data structure. It is a persistent, dictionary-like object that is stored as a file on the disk. It supports storing and retrieving key-value pairs, similar to a dictionary, and is part of the `shelve` module in Python."
   ]
  }
 ],
 "metadata": {
  "kernelspec": {
   "display_name": "Python 3 (ipykernel)",
   "language": "python",
   "name": "python3"
  },
  "language_info": {
   "codemirror_mode": {
    "name": "ipython",
    "version": 3
   },
   "file_extension": ".py",
   "mimetype": "text/x-python",
   "name": "python",
   "nbconvert_exporter": "python",
   "pygments_lexer": "ipython3",
   "version": "3.9.16"
  }
 },
 "nbformat": 4,
 "nbformat_minor": 5
}
