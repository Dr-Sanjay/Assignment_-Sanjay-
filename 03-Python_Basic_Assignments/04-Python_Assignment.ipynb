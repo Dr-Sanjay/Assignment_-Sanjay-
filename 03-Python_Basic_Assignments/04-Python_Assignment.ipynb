{
 "cells": [
  {
   "cell_type": "markdown",
   "id": "fe616fa7",
   "metadata": {},
   "source": [
    "# 04-Python Basic Assignment"
   ]
  },
  {
   "cell_type": "markdown",
   "id": "3d40763e",
   "metadata": {},
   "source": [
    "**1. What exactly is []?**"
   ]
  },
  {
   "cell_type": "markdown",
   "id": "3cb21c77",
   "metadata": {},
   "source": [
    "`[]` represents an empty list in Python. It is a built-in data structure that can hold an ordered collection of items. An empty list has no elements and is commonly used as a starting point to which elements can be added later."
   ]
  },
  {
   "cell_type": "markdown",
   "id": "780edabb",
   "metadata": {},
   "source": [
    "**2. In a list of values stored in a variable called spam, how would you assign the value 'hello' as the third value? (Assume [2, 4, 6, 8, 10] are in spam.)\n",
    "Let's pretend the spam includes the list ['a', 'b', 'c', 'd'] for the next three queries.**"
   ]
  },
  {
   "cell_type": "markdown",
   "id": "e52cbb91",
   "metadata": {},
   "source": [
    "To assign the value 'hello' as the third value in the list stored in the variable `spam`, you can use the indexing and assignment operator (`=`) as follows:\n",
    "\n",
    "   ```python\n",
    "   spam[2] = 'hello'\n",
    "   ```\n",
    "This will replace the third value (index 2) in the list `spam` with the value 'hello'."
   ]
  },
  {
   "cell_type": "markdown",
   "id": "c0f27135",
   "metadata": {},
   "source": [
    "**3. What is the value of spam[int(int('3' * 2) / 11)]?**"
   ]
  },
  {
   "cell_type": "markdown",
   "id": "0172aa55",
   "metadata": {},
   "source": [
    "The value of `spam[int(int('3' * 2) / 11)]` can be evaluated step by step:\n",
    "\n",
    "   - `'3' * 2` results in the string `'33'`.\n",
    "   - `int('33')` converts the string `'33'` to an integer value `33`.\n",
    "   - `33 / 11` performs integer division, resulting in the value `3`.\n",
    "   - `spam[3]` retrieves the item at index 3 in the list `spam`.\n",
    "   \n",
    "   Therefore, the value of `spam[int(int('3' * 2) / 11)]` is `'d'`."
   ]
  },
  {
   "cell_type": "markdown",
   "id": "060484e4",
   "metadata": {},
   "source": [
    "**4. What is the value of spam[-1]?**"
   ]
  },
  {
   "cell_type": "markdown",
   "id": "a83734af",
   "metadata": {},
   "source": [
    "The value of `spam[-1]` accesses the last item in the list `spam`. In this case, `'d'` is the last item in the list, so the value of `spam[-1]` is `'d'`."
   ]
  },
  {
   "cell_type": "markdown",
   "id": "6cf497ea",
   "metadata": {},
   "source": [
    "**5. What is the value of spam[:2]?\n",
    "Let's pretend bacon has the list [3.14, 'cat,' 11, 'cat,' True] for the next three questions.**"
   ]
  },
  {
   "cell_type": "markdown",
   "id": "50c6b086",
   "metadata": {},
   "source": [
    "The value of `spam[:2]` is a sublist of `spam` that includes all the elements from the beginning of the list up to, but not including, the element at index 2. In this case, `spam[:2]` would be `['a', 'b']`."
   ]
  },
  {
   "cell_type": "markdown",
   "id": "23f6b2dc",
   "metadata": {},
   "source": [
    "**6. What is the value of bacon.index('cat')?**"
   ]
  },
  {
   "cell_type": "markdown",
   "id": "79b36ebc",
   "metadata": {},
   "source": [
    "The value of `bacon.index('cat')` returns the index of the first occurrence of the string `'cat'` in the list `bacon`. In this case, since `'cat'` appears at index 1, the value would be `1`."
   ]
  },
  {
   "cell_type": "markdown",
   "id": "9e7e6639",
   "metadata": {},
   "source": [
    "**7. How does bacon.append(99) change the look of the list value in bacon?**"
   ]
  },
  {
   "cell_type": "markdown",
   "id": "897f72a7",
   "metadata": {},
   "source": [
    "The `bacon.append(99)` method adds the value `99` to the end of the list `bacon`. After the operation, the list `bacon` would look like `[3.14, 'cat', 11, 'cat', True, 99]`."
   ]
  },
  {
   "cell_type": "markdown",
   "id": "913e7644",
   "metadata": {},
   "source": [
    "**8. How does bacon.remove('cat') change the look of the list in bacon?**"
   ]
  },
  {
   "cell_type": "markdown",
   "id": "5f57bcd7",
   "metadata": {},
   "source": [
    "The `bacon.remove('cat')` method removes the first occurrence of the string `'cat'` from the list `bacon`. After the operation, the list `bacon` would look like `[3.14, 11, 'cat', True]`. Note that only the first occurrence of `'cat'` is removed."
   ]
  },
  {
   "cell_type": "markdown",
   "id": "f7d7d8c4",
   "metadata": {},
   "source": [
    "**9. What are the list concatenation and list replication operators?**\n"
   ]
  },
  {
   "cell_type": "markdown",
   "id": "e7b5d897",
   "metadata": {},
   "source": [
    "The list concatenation operator is `+`, which combines two or more lists to create a new list containing all the elements from each list in the order they appear.\n",
    "    \n",
    "The list replication operator is `*`, which replicates a list by a specified number of times, creating a new list that contains multiple copies of the original list."
   ]
  },
  {
   "cell_type": "markdown",
   "id": "4f8fff43",
   "metadata": {},
   "source": [
    "**10. What is difference between the list methods append() and insert()?**"
   ]
  },
  {
   "cell_type": "markdown",
   "id": "5621c370",
   "metadata": {},
   "source": [
    "The `append()` method is used to add an element to the end of a list. It modifies the original list by adding the element as the last item.\n",
    "\n",
    "The `insert()` method is used to add an element at a specific position in a list. It takes two arguments: the index at which to insert the element and the element itself. The `insert()` method shifts existing elements to the right to make space for the new element."
   ]
  },
  {
   "cell_type": "markdown",
   "id": "fd824c7d",
   "metadata": {},
   "source": [
    "**11. What are the two methods for removing items from a list?**"
   ]
  },
  {
   "cell_type": "markdown",
   "id": "61ef91b4",
   "metadata": {},
   "source": [
    "The two methods for removing items from a list are:\n",
    "    \n",
    "- The `remove()` method is used to remove the first occurrence of a specified value from the list. It modifies the list in-place.\n",
    "    \n",
    "- The `pop()` method is used to remove an item at a specific index from the list. It returns the removed item, and the list is modified in-place. If no index is specified, `pop()` removes the last item in the list."
   ]
  },
  {
   "cell_type": "markdown",
   "id": "f6d3c9c9",
   "metadata": {},
   "source": [
    "**12. Describe how list values and string values are identical.**"
   ]
  },
  {
   "cell_type": "markdown",
   "id": "307369ee",
   "metadata": {},
   "source": [
    "List values and string values are similar in that they both represent sequences of elements. However, there are some differences:\n",
    "\n",
    "   - List values are mutable, which means they can be modified by adding, removing, or changing elements. String values, on the other hand, are immutable and cannot be changed once created.\n",
    "    \n",
    "   - List values can hold elements of different data types, such as numbers, strings, or even other lists. String values, on the other hand, consist of a sequence of characters and are homogeneous, meaning they can only contain characters.\n",
    "    \n",
    "   - List values are enclosed in square brackets `[ ]`, while string values are enclosed in quotes, either single `' '` or double `\" \"`."
   ]
  },
  {
   "cell_type": "markdown",
   "id": "ab2e221e",
   "metadata": {},
   "source": [
    "**13. What's the difference between tuples and lists?**"
   ]
  },
  {
   "cell_type": "markdown",
   "id": "3f222182",
   "metadata": {},
   "source": [
    "Tuples and lists are both Python data structures used to store collections of items, but they have some differences:\n",
    "\n",
    "   - Tuples are immutable, meaning they cannot be modified once created, while lists are mutable and can be modified.\n",
    "    \n",
    "   - Tuples are typically used to represent a collection of related values, whereas lists are used for collections that can change or be extended.\n",
    "    \n",
    "   - Tuples are defined using parentheses `()`, while lists are defined using square brackets `[]`.\n",
    "    \n",
    "   - Tuples are generally used for heterogeneous data types, while lists can hold elements of any data type.\n",
    "    \n",
    "   - Tuples are generally used for fixed-size collections, while lists are used for dynamic collections."
   ]
  },
  {
   "cell_type": "markdown",
   "id": "14073719",
   "metadata": {},
   "source": [
    "**14. How do you type a tuple value that only contains the integer 42?**"
   ]
  },
  {
   "cell_type": "markdown",
   "id": "f813d9b6",
   "metadata": {},
   "source": [
    "To create a tuple that only contains the integer `42`, you can use parentheses to define a single-element tuple:\n",
    "\n",
    "    ```python\n",
    "    my_tuple = (42,)\n",
    "    ```\n",
    "Note the comma after `42` inside the parentheses. It is necessary to differentiate between parentheses used for grouping expressions and parentheses used to define a tuple."
   ]
  },
  {
   "cell_type": "markdown",
   "id": "16fe501d",
   "metadata": {},
   "source": [
    "**15. How do you get a list value's tuple form? How do you get a tuple value's list form?**"
   ]
  },
  {
   "cell_type": "markdown",
   "id": "6602166f",
   "metadata": {},
   "source": [
    "To get a list value's tuple form, you can use the `tuple()` function, passing the list as an argument. It will create a new tuple containing the same elements as the list.\n",
    "\n",
    "    ```python\n",
    "    my_list = [1, 2, 3]\n",
    "    my_tuple = tuple(my_list)  # Convert list to tuple\n",
    "    ```\n",
    "\n",
    "   To get a tuple value's list form, you can use the `list()` function, passing the tuple as an argument. It will create a new list containing the same elements as the tuple.\n",
    "\n",
    "    ```python\n",
    "    my_tuple = (1, 2, 3)\n",
    "    my_list = list(my_tuple)  # Convert tuple to list\n",
    "    ```\n"
   ]
  },
  {
   "cell_type": "markdown",
   "id": "7a89c393",
   "metadata": {},
   "source": [
    "**16. Variables that \"contain\" list values are not necessarily lists themselves. Instead, what do they contain?**"
   ]
  },
  {
   "cell_type": "markdown",
   "id": "9ad000fd",
   "metadata": {},
   "source": [
    "Variables that \"contain\" list values are actually storing references or memory addresses to the list object. The variables themselves are not lists, but rather pointers to the list in memory. This means that multiple variables can refer to the same list, and modifying the list through one variable will affect all variables that reference it."
   ]
  },
  {
   "cell_type": "markdown",
   "id": "277cb474",
   "metadata": {},
   "source": [
    "**17. How do you distinguish between copy.copy() and copy.deepcopy()?**"
   ]
  },
  {
   "cell_type": "markdown",
   "id": "0a2fcaa1",
   "metadata": {},
   "source": [
    "The `copy.copy()` function creates a shallow copy of an object, including a list. It creates a new object with a new memory address, but the individual elements within the object still refer to the same memory addresses as the original object. Therefore, changes made to the elements of the copied object will affect the original object and vice versa.\n",
    "\n",
    "On the other hand, the `copy.deepcopy()` function creates a deep copy of an object, including a list. It creates a completely independent copy of the object and all its nested objects. The copied object and its elements have their own separate memory addresses, so changes made to the copied object will not affect the original object, and vice versa."
   ]
  }
 ],
 "metadata": {
  "kernelspec": {
   "display_name": "Python 3 (ipykernel)",
   "language": "python",
   "name": "python3"
  },
  "language_info": {
   "codemirror_mode": {
    "name": "ipython",
    "version": 3
   },
   "file_extension": ".py",
   "mimetype": "text/x-python",
   "name": "python",
   "nbconvert_exporter": "python",
   "pygments_lexer": "ipython3",
   "version": "3.9.16"
  }
 },
 "nbformat": 4,
 "nbformat_minor": 5
}
