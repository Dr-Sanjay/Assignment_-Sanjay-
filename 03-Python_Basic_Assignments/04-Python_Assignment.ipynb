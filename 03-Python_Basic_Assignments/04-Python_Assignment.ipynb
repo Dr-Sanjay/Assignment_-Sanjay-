{
 "cells": [
  {
   "cell_type": "markdown",
   "id": "fc11d3c1",
   "metadata": {},
   "source": [
    "# 04-Python Basic Assignment"
   ]
  },
  {
   "cell_type": "markdown",
   "id": "260e844a",
   "metadata": {},
   "source": []
  },
  {
   "cell_type": "markdown",
   "id": "2d695c1e",
   "metadata": {},
   "source": []
  },
  {
   "cell_type": "markdown",
   "id": "04faeb61",
   "metadata": {},
   "source": []
  },
  {
   "cell_type": "markdown",
   "id": "8c4baca5",
   "metadata": {},
   "source": []
  },
  {
   "cell_type": "markdown",
   "id": "8544e419",
   "metadata": {},
   "source": []
  },
  {
   "cell_type": "markdown",
   "id": "7b0668cd",
   "metadata": {},
   "source": []
  },
  {
   "cell_type": "markdown",
   "id": "a5782a0d",
   "metadata": {},
   "source": []
  },
  {
   "cell_type": "markdown",
   "id": "366f8a0b",
   "metadata": {},
   "source": []
  },
  {
   "cell_type": "markdown",
   "id": "40599963",
   "metadata": {},
   "source": []
  },
  {
   "cell_type": "markdown",
   "id": "1e45c4fc",
   "metadata": {},
   "source": []
  },
  {
   "cell_type": "markdown",
   "id": "b03f5fb5",
   "metadata": {},
   "source": []
  },
  {
   "cell_type": "markdown",
   "id": "458a59e7",
   "metadata": {},
   "source": []
  },
  {
   "cell_type": "markdown",
   "id": "7a22f05a",
   "metadata": {},
   "source": []
  },
  {
   "cell_type": "markdown",
   "id": "b4fab7b2",
   "metadata": {},
   "source": []
  },
  {
   "cell_type": "markdown",
   "id": "9156d9e8",
   "metadata": {},
   "source": []
  },
  {
   "cell_type": "markdown",
   "id": "5e213119",
   "metadata": {},
   "source": []
  },
  {
   "cell_type": "markdown",
   "id": "7527ea61",
   "metadata": {},
   "source": []
  },
  {
   "cell_type": "markdown",
   "id": "c0e68b81",
   "metadata": {},
   "source": []
  },
  {
   "cell_type": "markdown",
   "id": "b78cad39",
   "metadata": {},
   "source": []
  },
  {
   "cell_type": "markdown",
   "id": "858197e1",
   "metadata": {},
   "source": []
  },
  {
   "cell_type": "markdown",
   "id": "69cd623c",
   "metadata": {},
   "source": []
  },
  {
   "cell_type": "markdown",
   "id": "459deabd",
   "metadata": {},
   "source": []
  },
  {
   "cell_type": "markdown",
   "id": "838fced3",
   "metadata": {},
   "source": []
  },
  {
   "cell_type": "markdown",
   "id": "67d5a173",
   "metadata": {},
   "source": []
  },
  {
   "cell_type": "markdown",
   "id": "82921c1f",
   "metadata": {},
   "source": []
  },
  {
   "cell_type": "markdown",
   "id": "806e98fd",
   "metadata": {},
   "source": []
  },
  {
   "cell_type": "markdown",
   "id": "b7385194",
   "metadata": {},
   "source": []
  },
  {
   "cell_type": "markdown",
   "id": "e8f40948",
   "metadata": {},
   "source": []
  },
  {
   "cell_type": "markdown",
   "id": "1c1cf737",
   "metadata": {},
   "source": []
  },
  {
   "cell_type": "markdown",
   "id": "956d8f37",
   "metadata": {},
   "source": []
  },
  {
   "cell_type": "markdown",
   "id": "4b4d3d80",
   "metadata": {},
   "source": []
  },
  {
   "cell_type": "markdown",
   "id": "03339925",
   "metadata": {},
   "source": []
  },
  {
   "cell_type": "markdown",
   "id": "f3ffae81",
   "metadata": {},
   "source": []
  },
  {
   "cell_type": "markdown",
   "id": "7c2fefa3",
   "metadata": {},
   "source": []
  },
  {
   "cell_type": "markdown",
   "id": "926abc03",
   "metadata": {},
   "source": []
  },
  {
   "cell_type": "markdown",
   "id": "65e2727e",
   "metadata": {},
   "source": []
  },
  {
   "cell_type": "markdown",
   "id": "b366da2d",
   "metadata": {},
   "source": []
  },
  {
   "cell_type": "markdown",
   "id": "e75ca97d",
   "metadata": {},
   "source": []
  },
  {
   "cell_type": "markdown",
   "id": "4cc6e672",
   "metadata": {},
   "source": []
  },
  {
   "cell_type": "markdown",
   "id": "8c38cbed",
   "metadata": {},
   "source": []
  },
  {
   "cell_type": "markdown",
   "id": "522686a9",
   "metadata": {},
   "source": []
  },
  {
   "cell_type": "markdown",
   "id": "0d42f569",
   "metadata": {},
   "source": []
  },
  {
   "cell_type": "markdown",
   "id": "ba52c47b",
   "metadata": {},
   "source": []
  },
  {
   "cell_type": "markdown",
   "id": "a491114f",
   "metadata": {},
   "source": []
  },
  {
   "cell_type": "markdown",
   "id": "6b561456",
   "metadata": {},
   "source": []
  },
  {
   "cell_type": "markdown",
   "id": "d23b6056",
   "metadata": {},
   "source": []
  },
  {
   "cell_type": "markdown",
   "id": "2c84fc74",
   "metadata": {},
   "source": []
  },
  {
   "cell_type": "markdown",
   "id": "c4642f48",
   "metadata": {},
   "source": []
  },
  {
   "cell_type": "markdown",
   "id": "d9803573",
   "metadata": {},
   "source": []
  },
  {
   "cell_type": "markdown",
   "id": "b5ba65d7",
   "metadata": {},
   "source": []
  },
  {
   "cell_type": "markdown",
   "id": "e721cce5",
   "metadata": {},
   "source": []
  },
  {
   "cell_type": "markdown",
   "id": "ec4bcb1f",
   "metadata": {},
   "source": []
  },
  {
   "cell_type": "markdown",
   "id": "f7da0993",
   "metadata": {},
   "source": []
  },
  {
   "cell_type": "markdown",
   "id": "1ff3cc15",
   "metadata": {},
   "source": []
  },
  {
   "cell_type": "markdown",
   "id": "8c3cdba1",
   "metadata": {},
   "source": []
  },
  {
   "cell_type": "markdown",
   "id": "98c12310",
   "metadata": {},
   "source": []
  },
  {
   "cell_type": "markdown",
   "id": "330e239d",
   "metadata": {},
   "source": []
  },
  {
   "cell_type": "markdown",
   "id": "87191620",
   "metadata": {},
   "source": []
  },
  {
   "cell_type": "markdown",
   "id": "e8238c5f",
   "metadata": {},
   "source": []
  },
  {
   "cell_type": "markdown",
   "id": "aea972b8",
   "metadata": {},
   "source": []
  },
  {
   "cell_type": "markdown",
   "id": "ff4841c5",
   "metadata": {},
   "source": []
  },
  {
   "cell_type": "markdown",
   "id": "48a1a845",
   "metadata": {},
   "source": []
  },
  {
   "cell_type": "markdown",
   "id": "f2dc2cef",
   "metadata": {},
   "source": []
  }
 ],
 "metadata": {
  "kernelspec": {
   "display_name": "Python 3 (ipykernel)",
   "language": "python",
   "name": "python3"
  },
  "language_info": {
   "codemirror_mode": {
    "name": "ipython",
    "version": 3
   },
   "file_extension": ".py",
   "mimetype": "text/x-python",
   "name": "python",
   "nbconvert_exporter": "python",
   "pygments_lexer": "ipython3",
   "version": "3.9.16"
  }
 },
 "nbformat": 4,
 "nbformat_minor": 5
}
