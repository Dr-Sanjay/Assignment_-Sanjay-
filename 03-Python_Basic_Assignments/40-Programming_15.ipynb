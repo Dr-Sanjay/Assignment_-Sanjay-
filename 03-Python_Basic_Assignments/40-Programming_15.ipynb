{
 "cells": [
  {
   "cell_type": "markdown",
   "id": "2f4dff71",
   "metadata": {},
   "source": [
    "# 15-Python Basic Progrmming"
   ]
  },
  {
   "cell_type": "markdown",
   "id": "e8dfc727",
   "metadata": {},
   "source": [
    "**Question 1:\n",
    "Please write a program using generator to print the numbers which can be divisible by 5 and 7 between 0 and n in comma separated form while n is input by console.**  \n",
    "Example:\n",
    "If the following n is given as input to the program:\n",
    "100  \n",
    "Then, the output of the program should be:\n",
    "0,35,70"
   ]
  },
  {
   "cell_type": "code",
   "execution_count": 7,
   "id": "a89606b0",
   "metadata": {},
   "outputs": [
    {
     "name": "stdout",
     "output_type": "stream",
     "text": [
      "Enter a number: 65\n",
      "0,35\n"
     ]
    }
   ],
   "source": [
    "def divisible_by_5_and_7(n):\n",
    "    for i in range(n+1):\n",
    "        if i % 5 == 0 and i % 7 == 0:\n",
    "            yield str(i)\n",
    "\n",
    "n = int(input(\"Enter a number: \"))\n",
    "result = \",\".join(divisible_by_5_and_7(n))\n",
    "print(result)\n"
   ]
  },
  {
   "cell_type": "markdown",
   "id": "37fc673f",
   "metadata": {},
   "source": [
    "**Question 2:\n",
    "Please write a program using generator to print the even numbers between 0 and n in comma separated form while n is input by console.**  \n",
    "Example:  \n",
    "If the following n is given as input to the program:\n",
    "10  \n",
    "Then, the output of the program should be:\n",
    "0,2,4,6,8,10"
   ]
  },
  {
   "cell_type": "code",
   "execution_count": 2,
   "id": "eb897ac2",
   "metadata": {},
   "outputs": [
    {
     "name": "stdout",
     "output_type": "stream",
     "text": [
      "Enter a number: 8\n",
      "0,2,4,6,8\n"
     ]
    }
   ],
   "source": [
    "def even_numbers(n):\n",
    "    for i in range(n+1):\n",
    "        if i % 2 == 0:\n",
    "            yield str(i)\n",
    "\n",
    "n = int(input(\"Enter a number: \"))\n",
    "result = \",\".join(even_numbers(n))\n",
    "print(result)"
   ]
  },
  {
   "cell_type": "markdown",
   "id": "4af24ec2",
   "metadata": {},
   "source": [
    "**Question 3:\n",
    "The Fibonacci Sequence is computed based on the following formula:\n",
    "f(n)=0 if n=0\n",
    "f(n)=1 if n=1\n",
    "f(n)=f(n-1)+f(n-2) if n>1\n",
    "Please write a program using list comprehension to print the Fibonacci Sequence in comma separated form with a given n input by console.**  \n",
    "Example:  \n",
    "If the following n is given as input to the program:\n",
    "7  \n",
    "\n",
    "Then, the output of the program should be:\n",
    "0,1,1,2,3,5,8,13"
   ]
  },
  {
   "cell_type": "code",
   "execution_count": 3,
   "id": "9f4a03d6",
   "metadata": {},
   "outputs": [
    {
     "name": "stdout",
     "output_type": "stream",
     "text": [
      "Enter a number: 8\n",
      "0,1,1,2,3,5,8,13,21\n"
     ]
    }
   ],
   "source": [
    "n = int(input(\"Enter a number: \"))\n",
    "fib_sequence = [str((lambda f: f(f, n))(lambda f, n: n if n < 2 else f(f, n - 1) + f(f, n - 2))) for n in range(n+1)]\n",
    "result = \",\".join(fib_sequence)\n",
    "print(result)"
   ]
  },
  {
   "cell_type": "markdown",
   "id": "3ebec512",
   "metadata": {},
   "source": [
    "**Question 4:\n",
    "Assuming that we have some email addresses in the \"username@companyname.com\" format, please write program to print the user name of a given email address. Both user names and company names are composed of letters only.**  \n",
    "Example:  \n",
    "If the following email address is given as input to the program:  \n",
    "john@google.com  \n",
    "Then, the output of the program should be:  \n",
    "john"
   ]
  },
  {
   "cell_type": "code",
   "execution_count": 4,
   "id": "080b0b39",
   "metadata": {},
   "outputs": [
    {
     "name": "stdout",
     "output_type": "stream",
     "text": [
      "Enter an email address: abc@gmail.com\n",
      "abc\n"
     ]
    }
   ],
   "source": [
    "email = input(\"Enter an email address: \")\n",
    "username = email.split(\"@\")[0]\n",
    "print(username)"
   ]
  },
  {
   "cell_type": "markdown",
   "id": "af1f91e6",
   "metadata": {},
   "source": [
    "**Question 5:\n",
    "Define a class named Shape and its subclass Square. The Square class has an init function which takes a length as argument. Both classes have a area function which can print the area of the shape where Shape's area is 0 by default.**"
   ]
  },
  {
   "cell_type": "code",
   "execution_count": 6,
   "id": "a6448515",
   "metadata": {},
   "outputs": [
    {
     "name": "stdout",
     "output_type": "stream",
     "text": [
      "Enter the length of the square: 9\n",
      "Area: 81.0\n"
     ]
    }
   ],
   "source": [
    "class Shape:\n",
    "    def __init__(self):\n",
    "        self.area = 0\n",
    "\n",
    "class Square(Shape):\n",
    "    def __init__(self, length):\n",
    "        super().__init__()\n",
    "        self.length = length\n",
    "\n",
    "    def calculate_area(self):\n",
    "        self.area = self.length ** 2\n",
    "\n",
    "length = float(input(\"Enter the length of the square: \"))\n",
    "square = Square(length)\n",
    "square.calculate_area()\n",
    "print(\"Area:\", square.area)\n"
   ]
  }
 ],
 "metadata": {
  "kernelspec": {
   "display_name": "Python 3 (ipykernel)",
   "language": "python",
   "name": "python3"
  },
  "language_info": {
   "codemirror_mode": {
    "name": "ipython",
    "version": 3
   },
   "file_extension": ".py",
   "mimetype": "text/x-python",
   "name": "python",
   "nbconvert_exporter": "python",
   "pygments_lexer": "ipython3",
   "version": "3.9.16"
  }
 },
 "nbformat": 4,
 "nbformat_minor": 5
}
