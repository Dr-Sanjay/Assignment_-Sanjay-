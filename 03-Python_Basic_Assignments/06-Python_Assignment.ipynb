{
 "cells": [
  {
   "cell_type": "markdown",
   "id": "9f1b59c0",
   "metadata": {},
   "source": [
    "# 06-Python Basic Assignment"
   ]
  },
  {
   "cell_type": "markdown",
   "id": "deb5879c",
   "metadata": {},
   "source": [
    "**1. What are escape characters, and how do you use them?**"
   ]
  },
  {
   "cell_type": "markdown",
   "id": "3444011d",
   "metadata": {},
   "source": [
    "Escape characters are special characters used in strings to represent characters that are difficult to type or to include characters that have a special meaning. They are preceded by a backslash (`\\`) in the string. Using escape characters allows you to include characters such as quotes, backslashes, or line breaks in a string."
   ]
  },
  {
   "cell_type": "markdown",
   "id": "23cc8b0e",
   "metadata": {},
   "source": [
    "**2. What do the escape characters n and t stand for?**"
   ]
  },
  {
   "cell_type": "markdown",
   "id": "f09e791e",
   "metadata": {},
   "source": [
    "The escape character `\\n` represents a newline, and the escape character `\\t` represents a tab."
   ]
  },
  {
   "cell_type": "markdown",
   "id": "26f29bb6",
   "metadata": {},
   "source": [
    "**3. What is the way to include backslash characters in a string?**"
   ]
  },
  {
   "cell_type": "markdown",
   "id": "ab49f6d0",
   "metadata": {},
   "source": [
    "To include a backslash character in a string, you need to escape it by using a double backslash (`\\\\`). For example, `'This is a backslash: \\\\\\\\'` would result in the string `This is a backslash: \\`."
   ]
  },
  {
   "cell_type": "markdown",
   "id": "ba6b1a39",
   "metadata": {},
   "source": [
    "**4. The string \"Howl's Moving Castle\" is a correct value. Why isn't the single quote character in the word Howl's not escaped a problem?**"
   ]
  },
  {
   "cell_type": "markdown",
   "id": "7e6c7f0f",
   "metadata": {},
   "source": [
    "The single quote character (`'`) within the word \"Howl's\" is not a problem because the string is enclosed in double quotes (`\"`). In Python, you can use either single quotes or double quotes to define a string. So when the string is enclosed in double quotes, the single quote character within it does not need to be escaped."
   ]
  },
  {
   "cell_type": "markdown",
   "id": "a4682963",
   "metadata": {},
   "source": [
    "**5. How do you write a string of newlines if you don't want to use the n character?**"
   ]
  },
  {
   "cell_type": "markdown",
   "id": "d426dbb6",
   "metadata": {},
   "source": [
    "If you don't want to use the `\\n` character to represent newlines in a string, you can use triple quotes (`'''` or `\"\"\"`) to create a multi-line string. For example:\n",
    "\n",
    "```python\n",
    "string_with_newlines = '''\n",
    "Line 1\n",
    "Line 2\n",
    "Line 3\n",
    "'''\n",
    "```\n",
    "This way, the newlines will be preserved as part of the string without using the escape character."
   ]
  },
  {
   "cell_type": "markdown",
   "id": "a9dd1b68",
   "metadata": {},
   "source": [
    "**6. What are the values of the given expressions?**\n",
    "'Hello, world!'[1]\n",
    "'Hello, world!'[0:5]\n",
    "'Hello, world!'[:5]\n",
    "'Hello, world!'[3:]"
   ]
  },
  {
   "cell_type": "markdown",
   "id": "a283c68e",
   "metadata": {},
   "source": [
    "The values of the given expressions are:\n",
    "- `'Hello, world!'[1]` returns the character at index 1, which is `'e'`.\n",
    "- `'Hello, world!'[0:5]` returns the substring from index 0 to 4 (5 is not inclusive), which is `'Hello'`.\n",
    "- `'Hello, world!'[:5]` is the same as the previous expression and also returns `'Hello'`.\n",
    "- `'Hello, world!'[3:]` returns the substring starting from index 3 to the end of the string, which is `'lo, world!'`."
   ]
  },
  {
   "cell_type": "markdown",
   "id": "cb946dad",
   "metadata": {},
   "source": [
    "**7. What are the values of the following expressions?\n",
    "'Hello'.upper()\n",
    "'Hello'.upper().isupper()\n",
    "'Hello'.upper().lower()**"
   ]
  },
  {
   "cell_type": "markdown",
   "id": "78a0e9e2",
   "metadata": {},
   "source": [
    "The values of the following expressions are:\n",
    "- `'Hello'.upper()` returns `'HELLO'`, which is the string converted to uppercase.\n",
    "- `'Hello'.upper().isupper()` returns `True` because the uppercase string `'HELLO'` is entirely composed of uppercase characters.\n",
    "- `'Hello'.upper().lower()` returns `'hello'`, which is the uppercase string converted back to lowercase."
   ]
  },
  {
   "cell_type": "markdown",
   "id": "19933fce",
   "metadata": {},
   "source": [
    "**8. What are the values of the following expressions?\n",
    "'Remember, remember, the fifth of July.'.split()\n",
    "'-'.join('There can only one.'.split())**"
   ]
  },
  {
   "cell_type": "markdown",
   "id": "1ce26817",
   "metadata": {},
   "source": [
    "The values of the following expressions are:\n",
    "- `'Remember, remember, the fifth of July.'.split()` splits the string into a list of substrings based on whitespace characters, resulting in `['Remember,', 'remember,', 'the', 'fifth', 'of', 'July.']`.\n",
    "- `'-'.join('There can only one.'.split())` splits the string into a list of substrings based on whitespace characters, and then joins them back together using a hyphen as the separator. The result is `'There-can-only-one.'`."
   ]
  },
  {
   "cell_type": "markdown",
   "id": "176a2fb0",
   "metadata": {},
   "source": [
    "**9. What are the methods for right-justifying, left-justifying, and centering a string?**"
   ]
  },
  {
   "cell_type": "markdown",
   "id": "59311e53",
   "metadata": {},
   "source": [
    "The methods for right-justifying, left-justifying, and centering a string are:\n",
    "- `rjust(width, fillchar)`: Right-justifies the string in a field of specified width by padding it with the specified fill character (default is space).\n",
    "- `ljust(width, fillchar)`: Left-justifies the string in a field of specified width by padding it with the specified fill character (default is space).\n",
    "- `center(width, fillchar)`: Centers the string in a field of specified width by padding it with the specified fill character (default is space)."
   ]
  },
  {
   "cell_type": "markdown",
   "id": "96701870",
   "metadata": {},
   "source": [
    "**10. What is the best way to remove whitespace characters from the start or end?**"
   ]
  },
  {
   "cell_type": "markdown",
   "id": "d42d8bb1",
   "metadata": {},
   "source": [
    "The best way to remove whitespace characters from the start or end of a string is by using the `strip()`\n",
    "\n",
    " method. The `strip()` method removes leading and trailing whitespace characters (spaces, tabs, newlines) from a string. If you only want to remove leading whitespace, you can use the `lstrip()` method, and if you only want to remove trailing whitespace, you can use the `rstrip()` method."
   ]
  }
 ],
 "metadata": {
  "kernelspec": {
   "display_name": "Python 3 (ipykernel)",
   "language": "python",
   "name": "python3"
  },
  "language_info": {
   "codemirror_mode": {
    "name": "ipython",
    "version": 3
   },
   "file_extension": ".py",
   "mimetype": "text/x-python",
   "name": "python",
   "nbconvert_exporter": "python",
   "pygments_lexer": "ipython3",
   "version": "3.9.16"
  }
 },
 "nbformat": 4,
 "nbformat_minor": 5
}
