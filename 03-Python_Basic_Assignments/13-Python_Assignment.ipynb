{
 "cells": [
  {
   "cell_type": "markdown",
   "id": "e812261b",
   "metadata": {},
   "source": [
    "# 13-Python Basic Asignment"
   ]
  },
  {
   "cell_type": "markdown",
   "id": "68b61b10",
   "metadata": {},
   "source": [
    "**1. What advantages do Excel spreadsheets have over CSV spreadsheets?**"
   ]
  },
  {
   "cell_type": "markdown",
   "id": "817efea8",
   "metadata": {},
   "source": [
    " Excel spreadsheets have several advantages over CSV spreadsheets:\n",
    "   - Excel spreadsheets can store multiple sheets within a single file, while CSV files are limited to a single sheet.\n",
    "   - Excel supports various formatting options, such as cell styles, colors, fonts, and formulas, whereas CSV files only contain plain text data.\n",
    "   - Excel provides built-in features for data analysis, sorting, filtering, and charting, making it more suitable for complex data manipulation.\n",
    "   - Excel supports cell references and formulas, enabling dynamic calculations and linking between cells, which CSV files cannot do.\n",
    "   - Excel allows for password protection and restricted access to the spreadsheet, providing enhanced security features that are not available in CSV files."
   ]
  },
  {
   "cell_type": "markdown",
   "id": "1ed42b94",
   "metadata": {},
   "source": [
    "**2.What do you pass to csv.reader() and csv.writer() to create reader and writer objects?**"
   ]
  },
  {
   "cell_type": "markdown",
   "id": "cef61672",
   "metadata": {},
   "source": [
    "To create reader and writer objects in the `csv` module, you need to pass a file object to the `csv.reader()` and `csv.writer()` functions. The file object represents the CSV file you want to read from or write to. Here's an example:\n",
    "\n",
    "\n",
    "   import csv\n",
    "\n",
    "-- Creating a reader object\n",
    "   with open('data.csv', 'r') as file:\n",
    "       reader = csv.reader(file)\n",
    "\n",
    "-- Creating a writer object\n",
    "   with open('output.csv', 'w') as file:\n",
    "       writer = csv.writer(file)\n",
    "\n",
    "\n",
    "   In the example above, `'data.csv'` is the name of the CSV file to read from, and `'output.csv'` is the name of the CSV file to write to."
   ]
  },
  {
   "cell_type": "markdown",
   "id": "d0a472ec",
   "metadata": {},
   "source": [
    "**3. What modes do File objects for reader and writer objects need to be opened in?**"
   ]
  },
  {
   "cell_type": "markdown",
   "id": "3ec2914d",
   "metadata": {},
   "source": [
    "3. File objects for reader and writer objects need to be opened in the following modes:\n",
    "\n",
    "   - For a reader object, the file should be opened in read mode (`'r'`).\n",
    "   - For a writer object, the file should be opened in write mode (`'w'`).\n",
    "\n",
    "   In the previous example, we can see that the file is opened with `'r'` mode for the reader object and `'w'` mode for the writer object.\n"
   ]
  },
  {
   "cell_type": "markdown",
   "id": "e8115c25",
   "metadata": {},
   "source": [
    "**4. What method takes a list argument and writes it to a CSV file?**"
   ]
  },
  {
   "cell_type": "markdown",
   "id": "4c35a8d1",
   "metadata": {},
   "source": [
    "4. The `writerow()` method of the writer object is used to write a list of values to a CSV file. Each item in the list corresponds to a column in the CSV file. Here's an example:\n",
    "\n",
    "   ```python\n",
    "   import csv\n",
    "\n",
    "   data = ['John', 'Doe', 'john.doe@example.com']\n",
    "\n",
    "   with open('output.csv', 'w') as file:\n",
    "       writer = csv.writer(file)\n",
    "       writer.writerow(data)\n",
    "   ```\n",
    "\n",
    "   In the example above, the `writerow()` method is called with the `data` list as an argument. It writes the values `'John'`, `'Doe'`, and `'john.doe@example.com'` as a row in the CSV file.\n"
   ]
  },
  {
   "cell_type": "markdown",
   "id": "5107a9fb",
   "metadata": {},
   "source": [
    "**5. What do the keyword arguments delimiter and line terminator do?**"
   ]
  },
  {
   "cell_type": "markdown",
   "id": "0920c61e",
   "metadata": {},
   "source": [
    "5. The keyword arguments `delimiter` and `lineterminator` are used in the `csv.writer()` function to specify the characters used as the delimiter and line terminator in the CSV file, respectively.\n",
    "\n",
    "   - The `delimiter` argument specifies the character that separates individual fields in the CSV file. By default, it is set to `','`. For example, `delimiter=';'` would use a semicolon as the delimiter.\n",
    "   - The `lineterminator` argument specifies the character(s) used to terminate each line in the CSV file. By default, it uses the newline character (`'\\n'`). For example, `lineterminator='\\r\\n'` would use a carriage return followed by a newline as the line terminator.\n"
   ]
  },
  {
   "cell_type": "markdown",
   "id": "c646d26c",
   "metadata": {},
   "source": [
    "**6. What function takes a string of JSON data and returns a Python data structure?**"
   ]
  },
  {
   "cell_type": "markdown",
   "id": "f792c0a8",
   "metadata": {},
   "source": [
    "6. The `json.loads()` function is used to parse a string of JSON data and convert it into a Python data structure. Here's an example:\n",
    "\n",
    "   import json\n",
    "\n",
    "   json_data = '{\"name\": \"John\", \"age\": 30, \"city\": \"New York\"}'\n",
    "   python_data = json.loads(json_data)\n",
    "\n",
    "   print(python_data)\n",
    "\n",
    "   The `json_data` variable contains a JSON string. The `json.loads()` function is called with `json_data` as the argument, and it returns a Python data structure. In this case, it will be a dictionary."
   ]
  },
  {
   "cell_type": "markdown",
   "id": "1d7fd229",
   "metadata": {},
   "source": [
    "**7. What function takes a Python data structure and returns a string of JSON data?**"
   ]
  },
  {
   "cell_type": "markdown",
   "id": "96c9e2e2",
   "metadata": {},
   "source": [
    "7. The `json.dumps()` function is used to serialize a Python data structure into a JSON-formatted string. Here's an example:\n",
    "\n",
    "   ```python\n",
    "   import json\n",
    "\n",
    "   python_data = {\"name\": \"John\", \"age\": 30, \"city\": \"New York\"}\n",
    "   json_data = json.dumps(python_data)\n",
    "\n",
    "   print(json_data)\n",
    "   ```\n",
    "\n",
    "   The `python_data` variable contains a Python dictionary. The `json.dumps()` function is called with `python_data` as the argument, and it returns a string containing the JSON representation of the data structure."
   ]
  }
 ],
 "metadata": {
  "kernelspec": {
   "display_name": "Python 3 (ipykernel)",
   "language": "python",
   "name": "python3"
  },
  "language_info": {
   "codemirror_mode": {
    "name": "ipython",
    "version": 3
   },
   "file_extension": ".py",
   "mimetype": "text/x-python",
   "name": "python",
   "nbconvert_exporter": "python",
   "pygments_lexer": "ipython3",
   "version": "3.9.16"
  }
 },
 "nbformat": 4,
 "nbformat_minor": 5
}
