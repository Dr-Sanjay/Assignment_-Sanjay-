{
 "cells": [
  {
   "cell_type": "markdown",
   "id": "87747773",
   "metadata": {},
   "source": [
    "# 05-Python Basic Programming"
   ]
  },
  {
   "cell_type": "markdown",
   "id": "eb9654c3",
   "metadata": {},
   "source": [
    "**1.\tWrite a Python Program to Find LCM?**"
   ]
  },
  {
   "cell_type": "code",
   "execution_count": 5,
   "id": "150c5cb3",
   "metadata": {},
   "outputs": [
    {
     "name": "stdout",
     "output_type": "stream",
     "text": [
      "Enter first number: 12\n",
      "Enter second number: 8\n",
      "The LCM of 12 and 8 is 24\n"
     ]
    }
   ],
   "source": [
    "def compute_lcm(x, y):\n",
    "    # Find the maximum of two numbers\n",
    "    max_num = max(x, y)\n",
    "    lcm = max_num\n",
    "\n",
    "    while True:\n",
    "        if lcm % x == 0 and lcm % y == 0:\n",
    "            return lcm\n",
    "        lcm += max_num\n",
    "\n",
    "\n",
    "num1 = int(input(\"Enter first number: \"))\n",
    "num2 = int(input(\"Enter second number: \"))\n",
    "\n",
    "lcm = compute_lcm(num1, num2)\n",
    "print(\"The LCM of\", num1, \"and\", num2, \"is\", lcm)"
   ]
  },
  {
   "cell_type": "markdown",
   "id": "eecc551a",
   "metadata": {},
   "source": [
    "**2.\tWrite a Python Program to Find HCF?**"
   ]
  },
  {
   "cell_type": "code",
   "execution_count": 12,
   "id": "3e710931",
   "metadata": {},
   "outputs": [
    {
     "name": "stdout",
     "output_type": "stream",
     "text": [
      "Enter first number: 8\n",
      "Enter second number: 12\n",
      "The HCF of 8 and 12 is 4\n"
     ]
    }
   ],
   "source": [
    "def compute_hcf(x, y):\n",
    "    while y:\n",
    "        x, y = y, x % y\n",
    "    return x\n",
    "\n",
    "\n",
    "num1 = int(input(\"Enter first number: \"))\n",
    "num2 = int(input(\"Enter second number: \"))\n",
    "\n",
    "hcf = compute_hcf(num1, num2)\n",
    "print(\"The HCF of\", num1, \"and\", num2, \"is\", hcf)"
   ]
  },
  {
   "cell_type": "markdown",
   "id": "71adc196",
   "metadata": {},
   "source": [
    "**3.\tWrite a Python Program to Convert Decimal to Binary, Octal and Hexadecimal?**"
   ]
  },
  {
   "cell_type": "code",
   "execution_count": 8,
   "id": "386b5d4a",
   "metadata": {},
   "outputs": [
    {
     "name": "stdout",
     "output_type": "stream",
     "text": [
      "Enter a decimal number: 10\n",
      "The binary representation is: 0b1010\n",
      "The octal representation is: 0o12\n",
      "The hexadecimal representation is: 0xa\n"
     ]
    }
   ],
   "source": [
    "decimal = int(input(\"Enter a decimal number: \"))\n",
    "\n",
    "binary = bin(decimal)\n",
    "octal = oct(decimal)\n",
    "hexadecimal = hex(decimal)\n",
    "\n",
    "print(\"The binary representation is:\", binary)\n",
    "print(\"The octal representation is:\", octal)\n",
    "print(\"The hexadecimal representation is:\", hexadecimal)"
   ]
  },
  {
   "cell_type": "markdown",
   "id": "2cb3b614",
   "metadata": {},
   "source": [
    "**4.\tWrite a Python Program To Find ASCII value of a character?**"
   ]
  },
  {
   "cell_type": "code",
   "execution_count": 10,
   "id": "d91a6537",
   "metadata": {},
   "outputs": [
    {
     "name": "stdout",
     "output_type": "stream",
     "text": [
      "Enter a character: Z\n",
      "The ASCII value of Z is 90\n"
     ]
    }
   ],
   "source": [
    "character = input(\"Enter a character: \")\n",
    "\n",
    "ascii_value = ord(character)\n",
    "print(\"The ASCII value of\", character, \"is\", ascii_value)"
   ]
  },
  {
   "cell_type": "markdown",
   "id": "b09afe3d",
   "metadata": {},
   "source": [
    "**5.\tWrite a Python Program to Make a Simple Calculator with 4 basic mathematical operations?**"
   ]
  },
  {
   "cell_type": "code",
   "execution_count": 11,
   "id": "ed8ce1a7",
   "metadata": {},
   "outputs": [
    {
     "name": "stdout",
     "output_type": "stream",
     "text": [
      "Select operation:\n",
      "1. Addition\n",
      "2. Subtraction\n",
      "3. Multiplication\n",
      "4. Division\n",
      "Enter your choice (1-4): 3\n",
      "Enter first number: 3\n",
      "Enter second number: 9\n",
      "3.0 * 9.0 = 27.0\n"
     ]
    }
   ],
   "source": [
    "def add(x, y):\n",
    "    return x + y\n",
    "\n",
    "def subtract(x, y):\n",
    "    return x - y\n",
    "\n",
    "def multiply(x, y):\n",
    "    return x * y\n",
    "\n",
    "def divide(x, y):\n",
    "    return x / y\n",
    "\n",
    "print(\"Select operation:\")\n",
    "print(\"1. Addition\")\n",
    "print(\"2. Subtraction\")\n",
    "print(\"3. Multiplication\")\n",
    "print(\"4. Division\")\n",
    "\n",
    "choice = int(input(\"Enter your choice (1-4): \"))\n",
    "\n",
    "num1 = float(input(\"Enter first number: \"))\n",
    "num2 = float(input(\"Enter second number: \"))\n",
    "\n",
    "if choice == 1:\n",
    "    result = add(num1, num2)\n",
    "    operation = \"+\"\n",
    "elif choice == 2:\n",
    "    result = subtract(num1, num2)\n",
    "    operation = \"-\"\n",
    "elif choice == 3:\n",
    "    result = multiply(num1, num2)\n",
    "    operation = \"*\"\n",
    "elif choice == 4:\n",
    "    result = divide(num1, num2)\n",
    "    operation = \"/\"\n",
    "\n",
    "print(num1, operation, num2, \"=\", result)"
   ]
  }
 ],
 "metadata": {
  "kernelspec": {
   "display_name": "Python 3 (ipykernel)",
   "language": "python",
   "name": "python3"
  },
  "language_info": {
   "codemirror_mode": {
    "name": "ipython",
    "version": 3
   },
   "file_extension": ".py",
   "mimetype": "text/x-python",
   "name": "python",
   "nbconvert_exporter": "python",
   "pygments_lexer": "ipython3",
   "version": "3.9.16"
  }
 },
 "nbformat": 4,
 "nbformat_minor": 5
}
