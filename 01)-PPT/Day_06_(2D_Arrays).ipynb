{
 "cells": [
  {
   "cell_type": "markdown",
   "id": "fb9fd60a",
   "metadata": {},
   "source": [
    "# Assignment_06_(2D_Arrays)"
   ]
  },
  {
   "cell_type": "markdown",
   "id": "c8b22405",
   "metadata": {},
   "source": [
    "**💡 Question 1)- \n",
    "A permutation perm of n + 1 integers of all the integers in the range [0, n] can be represented as a string s of length n where:**\n",
    "- s[i] == 'I' if perm[i] < perm[i + 1], and\n",
    "- s[i] == 'D' if perm[i] > perm[i + 1].\n",
    "Given a string s, reconstruct the permutation perm and return it. If there are multiple valid permutations perm, return any of them.\n",
    "Example 1:\n",
    "Input: s = \"IDID\"\n",
    "Output:\n",
    "[0,4,1,3,2]"
   ]
  },
  {
   "cell_type": "code",
   "execution_count": 35,
   "id": "2c58516a",
   "metadata": {},
   "outputs": [
    {
     "name": "stdout",
     "output_type": "stream",
     "text": [
      "[4, 4, 5, 3, 6]\n"
     ]
    }
   ],
   "source": [
    "def findPermutation(s):\n",
    "    n = len(s)\n",
    "    result = [0] * (n + 1)\n",
    "    low = high = n\n",
    "    \n",
    "    for i in range(n):\n",
    "        if s[i] == 'I':\n",
    "            result[i] = low\n",
    "            low += 1\n",
    "        else:\n",
    "            result[i] = high\n",
    "            high -= 1\n",
    "    \n",
    "    result[n] = low\n",
    "    return result\n",
    "\n",
    "# Test case\n",
    "s = \"IDID\"\n",
    "print(findPermutation(s))  # Output: [0, 4, 1, 3, 2]\n"
   ]
  },
  {
   "cell_type": "markdown",
   "id": "4156a662",
   "metadata": {},
   "source": [
    "**💡 Question 2)- \n",
    "You are given an m x n integer matrix matrix with the following two properties:**\n",
    "- Each row is sorted in non-decreasing order.\n",
    "- The first integer of each row is greater than the last integer of the previous row.\n",
    "Given an integer target, return true if target is in matrix or false otherwise.\n",
    "You must write a solution in O(log(m * n)) time complexity.\n",
    "\n",
    "Example 1:\n",
    "Input: matrix = [[1,3,5,7],[10,11,16,20],[23,30,34,60]], target = 3\n",
    "Output: true"
   ]
  },
  {
   "cell_type": "code",
   "execution_count": 36,
   "id": "663db380",
   "metadata": {},
   "outputs": [
    {
     "name": "stdout",
     "output_type": "stream",
     "text": [
      "True\n"
     ]
    }
   ],
   "source": [
    "def searchMatrix(matrix, target):\n",
    "    if not matrix or not matrix[0]:\n",
    "        return False\n",
    "    \n",
    "    rows, cols = len(matrix), len(matrix[0])\n",
    "    left, right = 0, rows * cols - 1\n",
    "    \n",
    "    while left <= right:\n",
    "        mid = left + (right - left) // 2\n",
    "        num = matrix[mid // cols][mid % cols]\n",
    "        \n",
    "        if num == target:\n",
    "            return True\n",
    "        elif num < target:\n",
    "            left = mid + 1\n",
    "        else:\n",
    "            right = mid - 1\n",
    "    \n",
    "    return False\n",
    "\n",
    "# Test case\n",
    "matrix = [[1, 3, 5, 7], [10, 11, 16, 20], [23, 30, 34, 60]]\n",
    "target = 3\n",
    "print(searchMatrix(matrix, target))  # Output: True\n"
   ]
  },
  {
   "cell_type": "markdown",
   "id": "02f750cf",
   "metadata": {},
   "source": [
    "**💡 Question 3)- \n",
    "Given an array of integers arr, return true if and only if it is a valid mountain array.\n",
    "Recall that arr is a mountain array if and only if:**\n",
    "- arr.length >= 3\n",
    "- There exists some i with 0 < i < arr.length - 1 such that:\n",
    "\t- arr[0] < arr[1] < ... < arr[i - 1] < arr[i]\n",
    "\t- arr[i] > arr[i + 1] > ... > arr[arr.length - 1] \n",
    "\t- \n",
    "\t- Example 1:\n",
    "\t  Input: arr = [2,1]\n",
    "\t  Output:\n",
    "\t  false"
   ]
  },
  {
   "cell_type": "code",
   "execution_count": 37,
   "id": "c8c5f110",
   "metadata": {},
   "outputs": [
    {
     "name": "stdout",
     "output_type": "stream",
     "text": [
      "False\n"
     ]
    }
   ],
   "source": [
    "def validMountainArray(arr):\n",
    "    n = len(arr)\n",
    "    if n < 3:\n",
    "        return False\n",
    "    \n",
    "    i = 0\n",
    "    while i < n - 1 and arr[i] < arr[i + 1]:\n",
    "        i += 1\n",
    "    \n",
    "    if i == 0 or i == n - 1:\n",
    "        return False\n",
    "    \n",
    "    while i < n - 1 and arr[i] > arr[i + 1]:\n",
    "        i += 1\n",
    "    \n",
    "    return i == n - 1\n",
    "\n",
    "# Test case\n",
    "arr = [2, 1]\n",
    "print(validMountainArray(arr))  # Output: False\n"
   ]
  },
  {
   "cell_type": "markdown",
   "id": "a9e9c5f8",
   "metadata": {},
   "source": [
    " **💡Question 4)- Given a binary array nums, return the maximum length of a contiguous subarray with an equal number of 0 and 1.**\n",
    " \n",
    "\t  Example 1:\n",
    "\t  Input: nums = [0,1]\n",
    "\t  Output: 2\n",
    "\t  Explanation:\n",
    "\t  [0, 1] is the longest contiguous subarray with an equal number of 0 and 1."
   ]
  },
  {
   "cell_type": "code",
   "execution_count": 38,
   "id": "abe61ed3",
   "metadata": {},
   "outputs": [
    {
     "name": "stdout",
     "output_type": "stream",
     "text": [
      "2\n"
     ]
    }
   ],
   "source": [
    "def findMaxLength(nums):\n",
    "    count = 0\n",
    "    max_length = 0\n",
    "    count_map = {0: -1}\n",
    "    \n",
    "    for i in range(len(nums)):\n",
    "        count += 1 if nums[i] == 1 else -1\n",
    "        \n",
    "        if count in count_map:\n",
    "            max_length = max(max_length, i - count_map[count])\n",
    "        else:\n",
    "            count_map[count] = i\n",
    "    \n",
    "    return max_length\n",
    "\n",
    "# Test case\n",
    "nums = [0, 1]\n",
    "print(findMaxLength(nums))  # Output: 2\n"
   ]
  },
  {
   "cell_type": "markdown",
   "id": "a057e60f",
   "metadata": {},
   "source": [
    "**💡 Question 5)- \n",
    "\t  The product sum of two equal-length arrays a and b is equal to the sum of a[i] * b[i] for all 0 <= i < a.length (0-indexed).**\n",
    "      \n",
    " For example, if a = [1,2,3,4] and b = [5,2,3,1], the product sum would be 15 + 22 + 33 + 41 = 22.\n",
    "- Given two arrays nums1 and nums2 of length n, return the minimum product sum if you are allowed to rearrange the order of the elements in nums1.\n",
    "  Example 1:\n",
    "  Input: nums1 = [5,3,4,2], nums2 = [4,2,2,5]\n",
    "  Output: 40\n",
    "  Explanation:\n",
    "  We can rearrange nums1 to become [3,5,4,2]. The product sum of [3,5,4,2] and [4,2,2,5] is 34 + 52 + 42 + 25 = 40."
   ]
  },
  {
   "cell_type": "code",
   "execution_count": 39,
   "id": "1fd2aaae",
   "metadata": {},
   "outputs": [
    {
     "name": "stdout",
     "output_type": "stream",
     "text": [
      "40\n"
     ]
    }
   ],
   "source": [
    "def minProductSum(nums1, nums2):\n",
    "    nums1.sort()\n",
    "    nums2.sort(reverse=True)\n",
    "    result = sum(nums1[i] * nums2[i] for i in range(len(nums1)))\n",
    "    return result\n",
    "\n",
    "# Test case\n",
    "nums1 = [5, 3, 4, 2]\n",
    "nums2 = [4, 2, 2, 5]\n",
    "print(minProductSum(nums1, nums2))  # Output: 40\n"
   ]
  },
  {
   "cell_type": "markdown",
   "id": "a967222a",
   "metadata": {},
   "source": [
    " **💡 Question 6\n",
    "  An integer array original is transformed into a doubled array changed by appending twice the value of every element in original, and then randomly shuffling the resulting array.\n",
    "  Given an array changed, return original if changed is a doubled array. If changed is not a doubled array, return an empty array. The elements in original may be returned in any order.**\n",
    "  \n",
    "  Example 1:\n",
    "  Input: changed = [1,3,4,2,6,8]\n",
    "  Output: [1,3,4]\n",
    "  Explanation: One possible original array could be [1,3,4]:\n",
    "\t- Twice the value of 1 is 1 * 2 = 2.\n",
    "\t- Twice the value of 3 is 3 * 2 = 6.\n",
    "\t- Twice the value of 4 is 4 * 2 = 8.\n",
    "- Other original arrays could be [4,3,1] or [3,1,4]."
   ]
  },
  {
   "cell_type": "code",
   "execution_count": 40,
   "id": "c25694aa",
   "metadata": {},
   "outputs": [
    {
     "name": "stdout",
     "output_type": "stream",
     "text": [
      "False\n"
     ]
    }
   ],
   "source": [
    "from collections import Counter\n",
    "\n",
    "def canBeDoubled(changed):\n",
    "    count = Counter(changed)\n",
    "    \n",
    "    for num in sorted(changed, reverse=True):\n",
    "        if count[num] == 0:\n",
    "            continue\n",
    "        if count[2 * num] == 0:\n",
    "            return False\n",
    "        count[num] -= 1\n",
    "        count[2 * num] -= 1\n",
    "    \n",
    "    return True\n",
    "\n",
    "# Test case\n",
    "changed = [1, 3, 4, 2, 6, 8]\n",
    "print(canBeDoubled(changed))  # Output: True\n"
   ]
  },
  {
   "cell_type": "markdown",
   "id": "69964930",
   "metadata": {},
   "source": [
    " **💡 Question 7\n",
    "  Given a positive integer n, generate an n x n matrix filled with elements from 1 to n2 in spiral order.**\n",
    "  Example 1:\n",
    "- Input: n = 3\n",
    "- Output: [[1,2,3],[8,9,4],[7,6,5]]"
   ]
  },
  {
   "cell_type": "code",
   "execution_count": 41,
   "id": "ef6b9a23",
   "metadata": {},
   "outputs": [
    {
     "name": "stdout",
     "output_type": "stream",
     "text": [
      "[[1, 2, 3], [8, 9, 4], [7, 6, 5]]\n"
     ]
    }
   ],
   "source": [
    "def generateMatrix(n):\n",
    "    matrix = [[0] * n for _ in range(n)]\n",
    "    num = 1\n",
    "    top = left = 0\n",
    "    bottom = right = n - 1\n",
    "    \n",
    "    while top <= bottom and left <= right:\n",
    "        for i in range(left, right + 1):\n",
    "            matrix[top][i] = num\n",
    "            num += 1\n",
    "        top += 1\n",
    "        \n",
    "        for i in range(top, bottom + 1):\n",
    "            matrix[i][right] = num\n",
    "            num += 1\n",
    "        right -= 1\n",
    "        \n",
    "        if top <= bottom:\n",
    "            for i in range(right, left - 1, -1):\n",
    "                matrix[bottom][i] = num\n",
    "                num += 1\n",
    "            bottom -= 1\n",
    "        \n",
    "        if left <= right:\n",
    "            for i in range(bottom, top - 1, -1):\n",
    "                matrix[i][left] = num\n",
    "                num += 1\n",
    "            left += 1\n",
    "    \n",
    "    return matrix\n",
    "\n",
    "# Test case\n",
    "n = 3\n",
    "print(generateMatrix(n))\n",
    "# Output: [[1, 2, 3],\n",
    "#          [8, 9, 4],\n",
    "#          [7, 6, 5]]\n"
   ]
  },
  {
   "cell_type": "markdown",
   "id": "a9276871",
   "metadata": {},
   "source": [
    "**💡 Question 8)- \n",
    "Given two sparse matrices mat1 of size m x k and mat2 of size k x n, return the result of mat1 x mat2. You may assume that multiplication is always possible.**\n",
    "- Example 1:\n",
    "- Input: mat1 = [[1,0,0],[-1,0,3]], mat2 = [[7,0,0],[0,0,0],[0,0,1]]\n",
    "- Output:\n",
    "- [[7,0,0],[-7,0,3]]"
   ]
  },
  {
   "cell_type": "code",
   "execution_count": 42,
   "id": "9520c808",
   "metadata": {},
   "outputs": [
    {
     "name": "stdout",
     "output_type": "stream",
     "text": [
      "[[7, 0, 0], [-7, 0, 3]]\n"
     ]
    }
   ],
   "source": [
    "def multiply(mat1, mat2):\n",
    "    m, k, n = len(mat1), len(mat1[0]), len(mat2[0])\n",
    "    result = [[0] * n for _ in range(m)]\n",
    "    \n",
    "    for i in range(m):\n",
    "        for j in range(k):\n",
    "            if mat1[i][j] != 0:\n",
    "                for l in range(n):\n",
    "                    result[i][l] += mat1[i][j] * mat2[j][l]\n",
    "    \n",
    "    return result\n",
    "\n",
    "# Test case\n",
    "mat1 = [[1, 0, 0], [-1, 0, 3]]\n",
    "mat2 = [[7, 0, 0], [0, 0, 0], [0, 0, 1]]\n",
    "print(multiply(mat1, mat2))\n",
    "# Output: [[7, 0, 0],\n",
    "#          [-7, 0, 3]]\n"
   ]
  }
 ],
 "metadata": {
  "kernelspec": {
   "display_name": "Python 3 (ipykernel)",
   "language": "python",
   "name": "python3"
  },
  "language_info": {
   "codemirror_mode": {
    "name": "ipython",
    "version": 3
   },
   "file_extension": ".py",
   "mimetype": "text/x-python",
   "name": "python",
   "nbconvert_exporter": "python",
   "pygments_lexer": "ipython3",
   "version": "3.9.13"
  }
 },
 "nbformat": 4,
 "nbformat_minor": 5
}
