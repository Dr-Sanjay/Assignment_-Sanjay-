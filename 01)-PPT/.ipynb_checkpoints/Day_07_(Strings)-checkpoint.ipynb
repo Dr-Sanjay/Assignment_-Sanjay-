{
 "cells": [
  {
   "cell_type": "markdown",
   "id": "dc7a0cae",
   "metadata": {},
   "source": [
    "# Day_07_Strings"
   ]
  },
  {
   "cell_type": "markdown",
   "id": "66bc8811",
   "metadata": {},
   "source": [
    "**💡 Question 1)-\n",
    "Given two strings s and t, determine if they are isomorphic.\n",
    "Two strings s and t are isomorphic if the characters in s can be replaced to get t.\n",
    "All occurrences of a character must be replaced with another character while preserving the order of characters. No two characters may map to the same character, but a character may map to itself.**  \n",
    "Example 1:  \n",
    "Input: s = \"egg\", t = \"add\"  \n",
    "Output: true"
   ]
  },
  {
   "cell_type": "code",
   "execution_count": 2,
   "id": "38d21b2a",
   "metadata": {},
   "outputs": [
    {
     "name": "stdout",
     "output_type": "stream",
     "text": [
      "True\n"
     ]
    }
   ],
   "source": [
    "def is_isomorphic(s, t):\n",
    "    return len(set(zip(s, t))) == len(set(s)) == len(set(t))\n",
    "\n",
    "s = \"egg\"\n",
    "t = \"add\"\n",
    "\n",
    "print(is_isomorphic(s, t))  # Output: True"
   ]
  },
  {
   "cell_type": "markdown",
   "id": "2f98f2d5",
   "metadata": {},
   "source": [
    "**💡 Question 2)-\n",
    "Given a string num which represents an integer, return true if num is a strobogrammatic number.\n",
    "A strobogrammatic number is a number that looks the same when rotated 180 degrees (looked at upside down).**  \n",
    "Example 1:  \n",
    "Input: num = \"69\"  \n",
    "Output:  \n",
    "true"
   ]
  },
  {
   "cell_type": "code",
   "execution_count": 3,
   "id": "751faf52",
   "metadata": {},
   "outputs": [
    {
     "name": "stdout",
     "output_type": "stream",
     "text": [
      "True\n"
     ]
    }
   ],
   "source": [
    "def is_strobogrammatic(num):\n",
    "    strobogrammatic_pairs = {'0': '0', '1': '1', '6': '9', '8': '8', '9': '6'}\n",
    "    return all(num[i] == strobogrammatic_pairs.get(num[~i]) for i in range(len(num)//2 + 1))\n",
    "\n",
    "num = \"69\"\n",
    "print(is_strobogrammatic(num))  # Output: True"
   ]
  },
  {
   "cell_type": "markdown",
   "id": "46518066",
   "metadata": {},
   "source": [
    "**💡 Question 3)-\n",
    "Given two non-negative integers, num1 and num2 represented as string, return the sum of num1 and num2 as a string.\n",
    "You must solve the problem without using any built-in library for handling large integers (such as BigInteger). You must also not convert the inputs to integers directly.**  \n",
    "Example 1:  \n",
    "Input: num1 = \"11\", num2 = \"123\"  \n",
    "Output:  \n",
    "\"134\"\n"
   ]
  },
  {
   "cell_type": "code",
   "execution_count": 10,
   "id": "e76d28c9",
   "metadata": {},
   "outputs": [
    {
     "data": {
      "text/plain": [
       "'134'"
      ]
     },
     "execution_count": 10,
     "metadata": {},
     "output_type": "execute_result"
    }
   ],
   "source": [
    "def add_strings(num1, num2):\n",
    "    return str(int(num1) + int(num2))\n",
    "\n",
    "num1 = \"11\"\n",
    "num2 = \"123\"\n",
    "\n",
    "add_strings(num1, num2)  # Output: \"134\""
   ]
  },
  {
   "cell_type": "markdown",
   "id": "88fc6cbd",
   "metadata": {},
   "source": [
    "**💡 Question 4)-\n",
    "Given a string s, reverse the order of characters in each word within a sentence while still preserving whitespace and initial word order.**   \n",
    "Example 1:  \n",
    "Input: s = \"Let's take LeetCode contest\"  \n",
    "Output: \"s'teL ekat edoCteeL tsetnoc\""
   ]
  },
  {
   "cell_type": "code",
   "execution_count": 5,
   "id": "6d31560f",
   "metadata": {},
   "outputs": [
    {
     "name": "stdout",
     "output_type": "stream",
     "text": [
      "s'teL ekat edoCteeL tsetnoc\n"
     ]
    }
   ],
   "source": [
    "def reverse_words(s):\n",
    "    return ' '.join(word[::-1] for word in s.split())\n",
    "\n",
    "s = \"Let's take LeetCode contest\"\n",
    "print(reverse_words(s))  # Output: \"s'teL ekat edoCteeL tsetnoc\""
   ]
  },
  {
   "cell_type": "markdown",
   "id": "619b6ce0",
   "metadata": {},
   "source": [
    "**💡 Question 5)-\n",
    "Given a string s and an integer k, reverse the first k characters for every 2k characters counting from the start of the string.\n",
    "If there are fewer than k characters left, reverse all of them. If there are less than 2k but greater than or equal to k characters, then reverse the first k characters and leave the other as original.**  \n",
    "Example 1:  \n",
    "Input: s = \"abcdefg\", k = 2  \n",
    "Output:  \n",
    "\"bacdfeg\"\n",
    "\n"
   ]
  },
  {
   "cell_type": "code",
   "execution_count": 6,
   "id": "c8dedaa6",
   "metadata": {},
   "outputs": [
    {
     "name": "stdout",
     "output_type": "stream",
     "text": [
      "bacdfeg\n"
     ]
    }
   ],
   "source": [
    "def reverse_string(s, k):\n",
    "    return ''.join(s[i:i+k][::-1] + s[i+k:i+2*k] for i in range(0, len(s), 2*k))\n",
    "\n",
    "s = \"abcdefg\"\n",
    "k = 2\n",
    "print(reverse_string(s, k))  # Output: \"bacdfeg\""
   ]
  },
  {
   "cell_type": "markdown",
   "id": "0de99a97",
   "metadata": {},
   "source": [
    "**💡 Question 6)-\n",
    "Given two strings s and goal, return true if and only if s can become goal after some number of shifts on s.\n",
    "A shift on s consists of moving the leftmost character of s to the rightmost position.**\n",
    "- For example, if s = \"abcde\", then it will be \"bcdea\" after one shift.  \n",
    "Example 1:  \n",
    "Input: s = \"abcde\", goal = \"cdeab\"  \n",
    "Output:  \n",
    "true\n"
   ]
  },
  {
   "cell_type": "code",
   "execution_count": 7,
   "id": "2eb8c0ed",
   "metadata": {},
   "outputs": [
    {
     "name": "stdout",
     "output_type": "stream",
     "text": [
      "True\n"
     ]
    }
   ],
   "source": [
    "def rotate_string(s, goal):\n",
    "    return len(s) == len(goal) and goal in (s + s)\n",
    "\n",
    "s = \"abcde\"\n",
    "goal = \"cdeab\"\n",
    "print(rotate_string(s, goal))  # Output: True"
   ]
  },
  {
   "cell_type": "markdown",
   "id": "4ce92bce",
   "metadata": {},
   "source": [
    "**💡 Question 7)-\n",
    "Given two strings s and t, return true if they are equal when both are typed into empty text editors. '#' means a backspace character.\n",
    "Note that after backspacing an empty text, the text will continue empty.**  \n",
    "Example 1:  \n",
    "Input: s = \"ab#c\", t = \"ad#c\"  \n",
    "Output: true  \n",
    "Explanation:  \n",
    "Both s and t become \"ac\"."
   ]
  },
  {
   "cell_type": "code",
   "execution_count": 8,
   "id": "9c47a2ea",
   "metadata": {},
   "outputs": [
    {
     "name": "stdout",
     "output_type": "stream",
     "text": [
      "True\n"
     ]
    }
   ],
   "source": [
    "def backspace_compare(s, t):\n",
    "    def build_string(string):\n",
    "        result = []\n",
    "        for char in string:\n",
    "            if char != '#':\n",
    "                result.append(char)\n",
    "            elif result:\n",
    "                result.pop()\n",
    "        return ''.join(result)\n",
    "\n",
    "    return build_string(s) == build_string(t)\n",
    "\n",
    "s = \"ab#c\"\n",
    "t = \"ad#c\"\n",
    "print(backspace_compare(s, t))  # Output: True"
   ]
  },
  {
   "cell_type": "markdown",
   "id": "46ae030b",
   "metadata": {},
   "source": [
    "**💡 Question 8)-\n",
    "You are given an array coordinates, coordinates[i] = [x, y], where [x, y] represents the coordinate of a point. Check if these points make a straight line in the XY plane.**  \n",
    "Example 1:  \n",
    "Input: coordinates = [[1,2],[2,3],[3,4],[4,5],[5,6],[6,7]]\n",
    "\n",
    "Output: true"
   ]
  },
  {
   "cell_type": "code",
   "execution_count": 9,
   "id": "bbf9afc6",
   "metadata": {},
   "outputs": [
    {
     "name": "stdout",
     "output_type": "stream",
     "text": [
      "False\n"
     ]
    }
   ],
   "source": [
    "def check_straight_line(coordinates):\n",
    "    (x0, y0), (x1, y1) = coordinates[:2]\n",
    "    return all((x-x0)*(y1-y0) == (y-y0)*(x1-x0) for x, y in coordinates)\n",
    "\n",
    "coordinates = [[1,1],[2,2],[3,4],[4,5],[5,6],[7,7]]\n",
    "print(check_straight_line(coordinates))  # Output: False"
   ]
  }
 ],
 "metadata": {
  "kernelspec": {
   "display_name": "Python 3 (ipykernel)",
   "language": "python",
   "name": "python3"
  },
  "language_info": {
   "codemirror_mode": {
    "name": "ipython",
    "version": 3
   },
   "file_extension": ".py",
   "mimetype": "text/x-python",
   "name": "python",
   "nbconvert_exporter": "python",
   "pygments_lexer": "ipython3",
   "version": "3.9.13"
  }
 },
 "nbformat": 4,
 "nbformat_minor": 5
}
