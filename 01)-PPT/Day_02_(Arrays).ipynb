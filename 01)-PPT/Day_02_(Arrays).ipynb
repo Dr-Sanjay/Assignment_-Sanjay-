{
 "cells": [
  {
   "cell_type": "markdown",
   "id": "1e7b50c7",
   "metadata": {},
   "source": [
    "#Assignment_02_(Arrays)"
   ]
  },
  {
   "cell_type": "markdown",
   "id": "ee852492",
   "metadata": {},
   "source": [
    "**Question 1)-\n",
    "Given an integer array nums of 2n integers, group these integers into n pairs (a1, b1), (a2, b2),..., (an, bn) such that the sum of min(ai, bi) for all i is maximized. Return the maximized sum.\n",
    "Example 1:\n",
    "Input: nums = [1,4,3,2]\n",
    "Output: 4\n",
    "Explanation: All possible pairings (ignoring the ordering of elements) are:\n",
    "\t(1, 4), (2, 3) -> min(1, 4) + min(2, 3) = 1 + 2 = 3\n",
    "\t(1, 3), (2, 4) -> min(1, 3) + min(2, 4) = 1 + 2 = 3\n",
    "    (1, 2), (3, 4) -> min(1, 2) + min(3, 4) = 1 + 3 = 4\n",
    "So the maximum possible sum is 4**"
   ]
  },
  {
   "cell_type": "code",
   "execution_count": 1,
   "id": "b62d56d5",
   "metadata": {},
   "outputs": [
    {
     "name": "stdout",
     "output_type": "stream",
     "text": [
      "4\n"
     ]
    }
   ],
   "source": [
    "def arrayPairSum(nums):\n",
    "    nums.sort()\n",
    "    max_sum = 0\n",
    "    for i in range(0, len(nums), 2):\n",
    "        max_sum += nums[i]\n",
    "    return max_sum\n",
    "\n",
    "# Test case 1\n",
    "nums = [1, 4, 3, 2]\n",
    "print(arrayPairSum(nums)) \n"
   ]
  },
  {
   "cell_type": "markdown",
   "id": "b4f20edf",
   "metadata": {},
   "source": [
    "**Question 2)-\n",
    "Alice has n candies, where the ith candy is of type candyType[i]. Alice noticed that she started to gain weight, so she visited a doctor. \n",
    "The doctor advised Alice to only eat n / 2 of the candies she has (n is always even). Alice likes her candies very much, and she wants to eat the maximum number of different types of candies while still following the doctor's advice.\n",
    "Given the integer array candyType of length n, return the maximum number of different types of candies she can eat if she only eats n / 2 of them.\n",
    "Example 1:\n",
    "Input: candyType = [1,1,2,2,3,3]\n",
    "Output: 3\n",
    "Explanation: Alice can only eat 6 / 2 = 3 candies. Since there are only 3 types, she can eat one of each type.**"
   ]
  },
  {
   "cell_type": "code",
   "execution_count": 3,
   "id": "285e31b1",
   "metadata": {},
   "outputs": [
    {
     "name": "stdout",
     "output_type": "stream",
     "text": [
      "3\n"
     ]
    }
   ],
   "source": [
    "def distributeCandies(candyType):\n",
    "    max_types = len(candyType) // 2\n",
    "    unique_types = len(set(candyType))\n",
    "    return min(max_types, unique_types)\n",
    "\n",
    "# Test case 1\n",
    "candyType = [1, 1, 2, 2, 3, 3]\n",
    "print(distributeCandies(candyType))\n"
   ]
  },
  {
   "cell_type": "markdown",
   "id": "2aea0317",
   "metadata": {},
   "source": [
    "**Question 3)-\n",
    "We define a harmonious array as an array where the difference between its maximum value\n",
    "and its minimum value is exactly 1.\n",
    "Given an integer array nums, return the length of its longest harmonious subsequence\n",
    "among all its possible subsequences.\n",
    "A subsequence of an array is a sequence that can be derived from the array by deleting some or no elements without changing the order of the remaining elements.\n",
    "Example 1:\n",
    "Input: nums = [1,3,2,2,5,2,3,7]\n",
    "Output: 5\n",
    "Explanation: The longest harmonious subsequence is [3,2,2,2,3].**"
   ]
  },
  {
   "cell_type": "code",
   "execution_count": 4,
   "id": "c6e0a347",
   "metadata": {},
   "outputs": [
    {
     "name": "stdout",
     "output_type": "stream",
     "text": [
      "5\n"
     ]
    }
   ],
   "source": [
    "def findLHS(nums):\n",
    "    num_counts = {}\n",
    "    max_length = 0\n",
    "    for num in nums:\n",
    "        num_counts[num] = num_counts.get(num, 0) + 1\n",
    "        if num + 1 in num_counts:\n",
    "            max_length = max(max_length, num_counts[num] + num_counts[num + 1])\n",
    "        if num - 1 in num_counts:\n",
    "            max_length = max(max_length, num_counts[num] + num_counts[num - 1])\n",
    "    return max_length\n",
    "\n",
    "# Test case 1\n",
    "nums = [1, 3, 2, 2, 5, 2, 3, 7]\n",
    "print(findLHS(nums))\n"
   ]
  },
  {
   "cell_type": "markdown",
   "id": "f393e4c8",
   "metadata": {},
   "source": [
    "**Question 4)-\n",
    "You have a long flowerbed in which some of the plots are planted, and some are not.\n",
    "However, flowers cannot be planted in adjacent plots.\n",
    "Given an integer array flowerbed containing 0's and 1's, where 0 means empty and 1 means not empty, and an integer n, return true if n new flowers can be planted in the flowerbed without violating the no-adjacent-flowers rule and false otherwise.\n",
    "Example 1:\n",
    "Input: flowerbed = [1,0,0,0,1], n = 1\n",
    "Output: true**"
   ]
  },
  {
   "cell_type": "code",
   "execution_count": 5,
   "id": "46cf3dc8",
   "metadata": {},
   "outputs": [
    {
     "name": "stdout",
     "output_type": "stream",
     "text": [
      "True\n"
     ]
    }
   ],
   "source": [
    "def canPlaceFlowers(flowerbed, n):\n",
    "    count = 0\n",
    "    i = 0\n",
    "    while i < len(flowerbed):\n",
    "        if (\n",
    "            flowerbed[i] == 0 and\n",
    "            (i == 0 or flowerbed[i - 1] == 0) and\n",
    "            (i == len(flowerbed) - 1 or flowerbed[i + 1] == 0)\n",
    "        ):\n",
    "            flowerbed[i] = 1\n",
    "            count += 1\n",
    "            i += 2\n",
    "        else:\n",
    "            i += 1\n",
    "    return count >= n\n",
    "\n",
    "# Test case 1\n",
    "flowerbed = [1, 0, 0, 0, 1]\n",
    "n = 1\n",
    "print(canPlaceFlowers(flowerbed, n))\n"
   ]
  },
  {
   "cell_type": "markdown",
   "id": "d8363970",
   "metadata": {},
   "source": [
    "**Question 5)-\n",
    "Given an integer array nums, find three numbers whose product is maximum and return the maximum product.\n",
    "Example 1:\n",
    "Input: nums = [1,2,3]\n",
    "Output: 6**"
   ]
  },
  {
   "cell_type": "code",
   "execution_count": 6,
   "id": "3f519b1c",
   "metadata": {},
   "outputs": [
    {
     "name": "stdout",
     "output_type": "stream",
     "text": [
      "6\n"
     ]
    }
   ],
   "source": [
    "def maximumProduct(nums):\n",
    "    nums.sort()\n",
    "    n = len(nums)\n",
    "    return max(nums[0] * nums[1] * nums[n - 1], nums[n - 3] * nums[n - 2] * nums[n - 1])\n",
    "\n",
    "# Test case 1\n",
    "nums = [1, 2, 3]\n",
    "print(maximumProduct(nums))\n"
   ]
  },
  {
   "cell_type": "markdown",
   "id": "795f53a0",
   "metadata": {},
   "source": [
    "**Question 6)-\n",
    "Given an array of integers nums which is sorted in ascending order, and an integer target,\n",
    "write a function to search target in nums. If target exists, then return its index. Otherwise,\n",
    "return -1.\n",
    "You must write an algorithm with O(log n) runtime complexity.\n",
    "Input: nums = [-1,0,3,5,9,12], target = 9\n",
    "Output: 4\n",
    "Explanation: 9 exists in nums and its index is 4**"
   ]
  },
  {
   "cell_type": "code",
   "execution_count": 10,
   "id": "8a8a9b1d",
   "metadata": {},
   "outputs": [
    {
     "name": "stdout",
     "output_type": "stream",
     "text": [
      "4\n"
     ]
    }
   ],
   "source": [
    "def search(nums, target):\n",
    "    left, right = 0, len(nums) - 1\n",
    "    while left <= right:\n",
    "        mid = (left + right) // 2\n",
    "        if nums[mid] == target:\n",
    "            return mid\n",
    "        elif nums[mid] < target:\n",
    "            left = mid + 1\n",
    "        else:\n",
    "            right = mid - 1\n",
    "    return -1\n",
    "\n",
    "# Test case 1\n",
    "nums = [-1, 0, 3, 5, 9, 12]\n",
    "target = 9\n",
    "print(search(nums, target)) \n"
   ]
  },
  {
   "cell_type": "markdown",
   "id": "916f781c",
   "metadata": {},
   "source": [
    "**Question 7)-\n",
    "An array is monotonic if it is either monotone increasing or monotone decreasing.\n",
    "An array nums is monotone increasing if for all i <= j, nums[i] <= nums[j]. An array nums is\n",
    "monotone decreasing if for all i <= j, nums[i] >= nums[j].\n",
    "Given an integer array nums, return true if the given array is monotonic, or false otherwise.\n",
    "Example 1:\n",
    "Input: nums = [1,2,2,3]\n",
    "Output: true**"
   ]
  },
  {
   "cell_type": "code",
   "execution_count": 7,
   "id": "873769da",
   "metadata": {},
   "outputs": [
    {
     "name": "stdout",
     "output_type": "stream",
     "text": [
      "True\n"
     ]
    }
   ],
   "source": [
    "def isMonotonic(nums):\n",
    "    increasing = decreasing = True\n",
    "    for i in range(1, len(nums)):\n",
    "        if nums[i] > nums[i - 1]:\n",
    "            decreasing = False\n",
    "        if nums[i] < nums[i - 1]:\n",
    "            increasing = False\n",
    "    return increasing or decreasing\n",
    "\n",
    "# Test case 1\n",
    "nums = [1, 2, 2, 3]\n",
    "print(isMonotonic(nums))\n"
   ]
  },
  {
   "cell_type": "markdown",
   "id": "8366a4fb",
   "metadata": {},
   "source": [
    "**Question 8)-\n",
    "You are given an integer array nums and an integer k.\n",
    "In one operation, you can choose any index i where 0 <= i < nums.length and change nums[i] to nums[i] + x where x is an integer from the range [-k, k]. You can apply this operation at most once for each index i.\n",
    "The score of nums is the difference between the maximum and minimum elements in nums.\n",
    "Return the minimum score of nums after applying the mentioned operation at most once for each index in it.\n",
    "Example 1:\n",
    "Input: nums = [1], k = 0\n",
    "Output: 0\n",
    "Explanation: The score is max(nums) - min(nums) = 1 - 1 = 0.**"
   ]
  },
  {
   "cell_type": "code",
   "execution_count": 8,
   "id": "92664611",
   "metadata": {},
   "outputs": [
    {
     "name": "stdout",
     "output_type": "stream",
     "text": [
      "0\n"
     ]
    }
   ],
   "source": [
    "def minScore(nums, k):\n",
    "    nums.sort()\n",
    "    n = len(nums)\n",
    "    if n <= 2 * k:\n",
    "        return nums[n - 1] - nums[0]\n",
    "    min_score = float('inf')\n",
    "    for i in range(k + 1):\n",
    "        min_score = min(min_score, nums[n - k + i - 1] - nums[i])\n",
    "    return min_score\n",
    "\n",
    "# Test case 1\n",
    "nums = [1]\n",
    "k = 0\n",
    "print(minScore(nums, k))\n"
   ]
  }
 ],
 "metadata": {
  "kernelspec": {
   "display_name": "Python 3 (ipykernel)",
   "language": "python",
   "name": "python3"
  },
  "language_info": {
   "codemirror_mode": {
    "name": "ipython",
    "version": 3
   },
   "file_extension": ".py",
   "mimetype": "text/x-python",
   "name": "python",
   "nbconvert_exporter": "python",
   "pygments_lexer": "ipython3",
   "version": "3.9.13"
  }
 },
 "nbformat": 4,
 "nbformat_minor": 5
}
