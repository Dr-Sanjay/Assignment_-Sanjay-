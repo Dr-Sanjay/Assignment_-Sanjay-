{
 "cells": [
  {
   "cell_type": "markdown",
   "id": "58178e1a",
   "metadata": {},
   "source": [
    "# Assignment 18 (Searching & Sorting)"
   ]
  },
  {
   "cell_type": "markdown",
   "id": "ef8b3539",
   "metadata": {},
   "source": [
    "**💡 1. Merge Intervals\n",
    "Given an array of intervals where intervals[i] = [starti, endi], merge all overlapping intervals, and return an array of the non-overlapping intervals that cover all the intervals in the input.**  \n",
    "Example 1:\n",
    "```\n",
    "Input: intervals = [[1,3],[2,6],[8,10],[15,18]]\n",
    "Output: [[1,6],[8,10],[15,18]]\n",
    "Explanation: Since intervals [1,3] and [2,6] overlap, merge them into [1,6].\n",
    "\n",
    "```\n",
    "Example 2:\n",
    "```\n",
    "Input: intervals = [[1,4],[4,5]]\n",
    "Output: [[1,5]]\n",
    "Explanation: Intervals [1,4] and [4,5] are considered overlapping.\n",
    "\n",
    "```\n",
    "Constraints:\n",
    "- 1 <= intervals.length <= 10000\n",
    "- intervals[i].length == 2\n",
    "- 0 <= starti <= endi <= 10000 "
   ]
  },
  {
   "cell_type": "code",
   "execution_count": 23,
   "id": "6f2643f6",
   "metadata": {},
   "outputs": [
    {
     "name": "stdout",
     "output_type": "stream",
     "text": [
      "[[1, 6], [8, 10], [15, 18]]\n"
     ]
    }
   ],
   "source": [
    "def merge(intervals):\n",
    "    intervals.sort(key=lambda x: x[0])\n",
    "    merged = []\n",
    "    for interval in intervals:\n",
    "        if not merged or interval[0] > merged[-1][1]:\n",
    "            merged.append(interval)\n",
    "        else:\n",
    "            merged[-1][1] = max(merged[-1][1], interval[1])\n",
    "    return merged\n",
    "\n",
    "# Example usage\n",
    "intervals = [[1,3],[2,6],[8,10],[15,18]]\n",
    "print(merge(intervals))  # Output: [[1, 6], [8, 10], [15, 18]]\n"
   ]
  },
  {
   "cell_type": "markdown",
   "id": "30f82097",
   "metadata": {},
   "source": [
    "**💡 2. Sort Colors\n",
    "Given an array nums with n objects colored red, white, or blue, sort them in-place so that objects of the same color are adjacent, with the colors in the order red, white, and blue.\n",
    "We will use the integers 0, 1, and 2 to represent the color red, white, and blue, respectively.\n",
    "You must solve this problem without using the library's sort function.**\n",
    "Example 1:\n",
    "```\n",
    "Input: nums = [2,0,2,1,1,0]\n",
    "Output: [0,0,1,1,2,2]\n",
    "\n",
    "```\n",
    "Example 2:\n",
    "```\n",
    "Input: nums = [2,0,1]\n",
    "Output: [0,1,2]\n",
    "\n",
    "```\n",
    "Constraints:\n",
    "- n == nums.length\n",
    "- 1 <= n <= 300\n",
    "- nums[i] is either 0, 1, or 2. "
   ]
  },
  {
   "cell_type": "code",
   "execution_count": 24,
   "id": "e0af5753",
   "metadata": {},
   "outputs": [
    {
     "name": "stdout",
     "output_type": "stream",
     "text": [
      "[0, 0, 1, 1, 2, 2]\n"
     ]
    }
   ],
   "source": [
    "def sortColors(nums):\n",
    "    count = [0] * 3\n",
    "    for num in nums:\n",
    "        count[num] += 1\n",
    "    i = 0\n",
    "    for color in range(3):\n",
    "        for _ in range(count[color]):\n",
    "            nums[i] = color\n",
    "            i += 1\n",
    "\n",
    "# Example usage\n",
    "nums = [2,0,2,1,1,0]\n",
    "sortColors(nums)\n",
    "print(nums)  \n"
   ]
  },
  {
   "cell_type": "markdown",
   "id": "d7488119",
   "metadata": {},
   "source": [
    "**💡 3. First Bad Version Solution\n",
    "You are a product manager and currently leading a team to develop a new product. Unfortunately, the latest version of your product fails the quality check. Since each version is developed based on the previous version, all the versions after a bad version are also bad.\n",
    "Suppose you have n versions [1, 2, ..., n] and you want to find out the first bad one, which causes all the following ones to be bad.\n",
    "You are given an API bool isBadVersion(version) which returns whether version is bad. Implement a function to find the first bad version. You should minimize the number of calls to the API.**  \n",
    "Example 1:\n",
    "```\n",
    "Input: n = 5, bad = 4\n",
    "Output: 4\n",
    "Explanation:\n",
    "call isBadVersion(3) -> false\n",
    "call isBadVersion(5) -> true\n",
    "call isBadVersion(4) -> true\n",
    "Then 4 is the first bad version.\n",
    "\n",
    "```\n",
    "Example 2:\n",
    "```\n",
    "Input: n = 1, bad = 1\n",
    "Output: 1\n",
    "\n",
    "```\n",
    "Constraints:\n",
    "- 1 <= bad <= n <= 2^31 - 1 "
   ]
  },
  {
   "cell_type": "code",
   "execution_count": 25,
   "id": "48f0db87",
   "metadata": {},
   "outputs": [
    {
     "name": "stdout",
     "output_type": "stream",
     "text": [
      "5\n"
     ]
    }
   ],
   "source": [
    "def isBadVersion(version):\n",
    "    # Implementation of the isBadVersion API\n",
    "    pass\n",
    "\n",
    "def firstBadVersion(n):\n",
    "    left = 1\n",
    "    right = n\n",
    "    while left < right:\n",
    "        mid = left + (right - left) // 2\n",
    "        if isBadVersion(mid):\n",
    "            right = mid\n",
    "        else:\n",
    "            left = mid + 1\n",
    "    return left\n",
    "\n",
    "# Example usage\n",
    "n = 5\n",
    "print(firstBadVersion(n)) \n"
   ]
  },
  {
   "cell_type": "markdown",
   "id": "806c01c8",
   "metadata": {},
   "source": [
    "**💡 4. Maximum Gap\n",
    "Given an integer array nums, return the maximum difference between two successive elements in its sorted form. If the array contains less than two elements, return 0.\n",
    "You must write an algorithm that runs in linear time and uses linear extra space.**  \n",
    "Example 1:\n",
    "```\n",
    "Input: nums = [3,6,9,1]\n",
    "Output: 3\n",
    "Explanation: The sorted form of the array is [1,3,6,9], either (3,6) or (6,9) has the maximum difference 3.\n",
    "\n",
    "```\n",
    "Example 2:\n",
    "```\n",
    "Input: nums = [10]\n",
    "Output: 0\n",
    "Explanation: The array contains less than 2 elements, therefore return 0.\n",
    "\n",
    "```\n",
    "Constraints:\n",
    "- 1 <= nums.length <= 10^5\n",
    "- 0 <= nums[i] <= 10^9 \n"
   ]
  },
  {
   "cell_type": "code",
   "execution_count": 26,
   "id": "585900d2",
   "metadata": {},
   "outputs": [
    {
     "name": "stdout",
     "output_type": "stream",
     "text": [
      "3\n"
     ]
    }
   ],
   "source": [
    "def maximumGap(nums):\n",
    "    if len(nums) < 2:\n",
    "        return 0\n",
    "    nums.sort()\n",
    "    max_gap = 0\n",
    "    for i in range(len(nums) - 1):\n",
    "        max_gap = max(max_gap, nums[i+1] - nums[i])\n",
    "    return max_gap\n",
    "\n",
    "# Example usage\n",
    "nums = [3,6,9,1]\n",
    "print(maximumGap(nums))  \n"
   ]
  },
  {
   "cell_type": "markdown",
   "id": "fe8e6d9a",
   "metadata": {},
   "source": [
    "**💡 5. Contains Duplicate\n",
    "Given an integer array nums, return true if any value appears at least twice in the array, and return false if every element is distinct.**  \n",
    "Example 1:\n",
    "```\n",
    "Input: nums = [1,2,3,1]\n",
    "Output: true\n",
    "\n",
    "```\n",
    "Example 2:\n",
    "```\n",
    "Input: nums = [1,2,3,4]\n",
    "Output: false\n",
    "\n",
    "```\n",
    "Example 3:\n",
    "```\n",
    "Input: nums = [1,1,1,3,3,4,3,2,4,2]\n",
    "Output: true\n",
    "\n",
    "```\n",
    "Constraints:\n",
    "- 1 <= nums.length <= 10^5\n",
    "- 109 <= nums[i] <= 10^9 \n"
   ]
  },
  {
   "cell_type": "code",
   "execution_count": 27,
   "id": "2f5e60e3",
   "metadata": {},
   "outputs": [
    {
     "name": "stdout",
     "output_type": "stream",
     "text": [
      "True\n"
     ]
    }
   ],
   "source": [
    "def containsDuplicate(nums):\n",
    "    return len(nums) != len(set(nums))\n",
    "\n",
    "# Example usage\n",
    "nums = [1,2,3,1]\n",
    "print(containsDuplicate(nums))  \n"
   ]
  },
  {
   "cell_type": "markdown",
   "id": "50376415",
   "metadata": {},
   "source": [
    "**💡 6. Minimum Number of Arrows to Burst Balloons\n",
    "There are some spherical balloons taped onto a flat wall that represents the XY-plane. The balloons are represented as a 2D integer array points where points[i] = [xstart, xend] denotes a balloon whose horizontal diameter stretches between xstart and xend. You do not know the exact y-coordinates of the balloons.\n",
    "Arrows can be shot up directly vertically (in the positive y-direction) from different points along the x-axis. A balloon with xstart and xend is burst by an arrow shot at x if xstart <= x <= xend. There is no limit to the number of arrows that can be shot. A shot arrow keeps traveling up infinitely, bursting any balloons in its path.\n",
    "Given the array points, return the minimum number of arrows that must be shot to burst all balloons.**  \n",
    "Example 1:\n",
    "```\n",
    "Input: points = [[10,16],[2,8],[1,6],[7,12]]\n",
    "Output: 2\n",
    "Explanation: The balloons can be burst by 2 arrows:\n",
    "- Shoot an arrow at x = 6, bursting the balloons [2,8] and [1,6].\n",
    "- Shoot an arrow at x = 11, bursting the balloons [10,16] and [7,12].\n",
    "\n",
    "```\n",
    "Example 2:\n",
    "```\n",
    "Input: points = [[1,2],[3,4],[5,6],[7,8]]\n",
    "Output: 4\n",
    "Explanation: One arrow needs to be shot for each balloon for a total of 4 arrows.\n",
    "\n",
    "```\n",
    "Example 3:\n",
    "```\n",
    "Input: points = [[1,2],[2,3],[3,4],[4,5]]\n",
    "Output: 2\n",
    "Explanation: The balloons can be burst by 2 arrows:\n",
    "- Shoot an arrow at x = 2, bursting the balloons [1,2] and [2,3].\n",
    "- Shoot an arrow at x = 4, bursting the balloons [3,4] and [4,5].\n",
    "\n",
    "```\n",
    "Constraints:\n",
    "- 1 <= points.length <= 10^5\n",
    "- points[i].length == 2\n",
    "- 231 <= xstart < xend <= 2^31 - 1 \n"
   ]
  },
  {
   "cell_type": "code",
   "execution_count": 28,
   "id": "632d1ae1",
   "metadata": {},
   "outputs": [
    {
     "name": "stdout",
     "output_type": "stream",
     "text": [
      "2\n"
     ]
    }
   ],
   "source": [
    "def findMinArrowShots(points):\n",
    "    if not points:\n",
    "        return 0\n",
    "    points.sort(key=lambda x: x[1])\n",
    "    arrows = 1\n",
    "    end = points[0][1]\n",
    "    for i in range(1, len(points)):\n",
    "        if points[i][0] > end:\n",
    "            arrows += 1\n",
    "            end = points[i][1]\n",
    "    return arrows\n",
    "\n",
    "# Example usage\n",
    "points = [[10,16],[2,8],[1,6],[7,12]]\n",
    "print(findMinArrowShots(points))  \n"
   ]
  },
  {
   "cell_type": "markdown",
   "id": "3f8711d8",
   "metadata": {},
   "source": [
    "**💡 7. Longest Increasing Subsequence\n",
    "Given an integer array nums, return the length of the longest strictly increasing\n",
    "subsequence**  \n",
    ".\n",
    "Example 1:\n",
    "```\n",
    "Input: nums = [10,9,2,5,3,7,101,18]\n",
    "Output: 4\n",
    "Explanation: The longest increasing subsequence is [2,3,7,101], therefore the length is 4.\n",
    "\n",
    "```\n",
    "Example 2:\n",
    "```\n",
    "Input: nums = [0,1,0,3,2,3]\n",
    "Output: 4\n",
    "\n",
    "```\n",
    "Example 3:\n",
    "```\n",
    "Input: nums = [7,7,7,7,7,7,7]\n",
    "Output: 1\n",
    "\n",
    "```\n",
    "Constraints:\n",
    "- 1 <= nums.length <= 2500\n",
    "- -10^4 <= nums[i] <= 10^4 "
   ]
  },
  {
   "cell_type": "code",
   "execution_count": 29,
   "id": "38a5d69b",
   "metadata": {},
   "outputs": [
    {
     "name": "stdout",
     "output_type": "stream",
     "text": [
      "4\n"
     ]
    }
   ],
   "source": [
    "def lengthOfLIS(nums):\n",
    "    if not nums:\n",
    "        return 0\n",
    "    dp = [1] * len(nums)\n",
    "    for i in range(1, len(nums)):\n",
    "        for j in range(i):\n",
    "            if nums[i] > nums[j]:\n",
    "                dp[i] = max(dp[i], dp[j] + 1)\n",
    "    return max(dp)\n",
    "\n",
    "# Example usage\n",
    "nums = [10,9,2,5,3,7,101,18]\n",
    "print(lengthOfLIS(nums))  \n"
   ]
  },
  {
   "cell_type": "markdown",
   "id": "2b97983c",
   "metadata": {},
   "source": [
    "**💡 8. 132 Pattern\n",
    "Given an array of n integers nums, a 132 pattern is a subsequence of three integers nums[i], nums[j] and nums[k] such that i < j < k and nums[i] < nums[k] < nums[j].\n",
    "Return true if there is a 132 pattern in nums, otherwise, return false.**  \n",
    "Example 1:\n",
    "```\n",
    "Input: nums = [1,2,3,4]\n",
    "Output: false\n",
    "Explanation: There is no 132 pattern in the sequence.\n",
    "\n",
    "```\n",
    "Example 2:\n",
    "```\n",
    "Input: nums = [3,1,4,2]\n",
    "Output: true\n",
    "Explanation: There is a 132 pattern in the sequence: [1, 4, 2].\n",
    "\n",
    "```\n",
    "Example 3:\n",
    "```\n",
    "Input: nums = [-1,3,2,0]\n",
    "Output: true\n",
    "Explanation: There are three 132 patterns in the sequence: [-1, 3, 2], [-1, 3, 0] and [-1, 2, 0].\n",
    "\n",
    "```\n",
    "Constraints:\n",
    "- n == nums.length\n",
    "- 1 <= n <= 2 * 10^5\n",
    "- -10^9 <= nums[i] <= 10^9"
   ]
  },
  {
   "cell_type": "code",
   "execution_count": 30,
   "id": "4c66bd34",
   "metadata": {},
   "outputs": [
    {
     "name": "stdout",
     "output_type": "stream",
     "text": [
      "False\n"
     ]
    }
   ],
   "source": [
    "def find132pattern(nums):\n",
    "    if len(nums) < 3:\n",
    "        return False\n",
    "    stack = []\n",
    "    s3 = float('-inf')\n",
    "    for num in reversed(nums):\n",
    "        if num < s3:\n",
    "            return True\n",
    "        while stack and num > stack[-1]:\n",
    "            s3 = stack.pop()\n",
    "        stack.append(num)\n",
    "    return False\n",
    "\n",
    "# Example usage\n",
    "nums = [1,2,3,4]\n",
    "print(find132pattern(nums))  \n"
   ]
  }
 ],
 "metadata": {
  "kernelspec": {
   "display_name": "Python 3 (ipykernel)",
   "language": "python",
   "name": "python3"
  },
  "language_info": {
   "codemirror_mode": {
    "name": "ipython",
    "version": 3
   },
   "file_extension": ".py",
   "mimetype": "text/x-python",
   "name": "python",
   "nbconvert_exporter": "python",
   "pygments_lexer": "ipython3",
   "version": "3.9.16"
  }
 },
 "nbformat": 4,
 "nbformat_minor": 5
}
