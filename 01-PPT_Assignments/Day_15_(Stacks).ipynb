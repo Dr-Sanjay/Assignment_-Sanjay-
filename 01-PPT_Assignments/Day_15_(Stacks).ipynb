{
 "cells": [
  {
   "cell_type": "markdown",
   "id": "00a18331",
   "metadata": {},
   "source": [
    "# Assignment_15_(Stacks)"
   ]
  },
  {
   "cell_type": "markdown",
   "id": "db485262",
   "metadata": {},
   "source": [
    " 💡 Question 1\n",
    "Given an array arr[ ] of size N having elements, the task is to find the next greater element for each element of the array in order of their appearance in the array.Next greater element of an element in the array is the nearest element on the right which is greater than the current element.If there does not exist next greater of current element, then next greater element for current element is -1. For example, next greater of the last element is always -1.\n",
    "Example 1:\n",
    "```\n",
    "Input:\n",
    "N = 4, arr[] = [1 3 2 4]\n",
    "Output:\n",
    "3 4 4 -1\n",
    "Explanation:\n",
    "In the array, the next larger element\n",
    "to 1 is 3 , 3 is 4 , 2 is 4 and for 4 ?\n",
    "since it doesn't exist, it is -1.\n",
    "\n",
    "```\n",
    "Example 2:\n",
    "```\n",
    "Input:\n",
    "N = 5, arr[] [6 8 0 1 3]\n",
    "Output:\n",
    "8 -1 1 3 -1\n",
    "Explanation:\n",
    "In the array, the next larger element to\n",
    "6 is 8, for 8 there is no larger elements\n",
    "hence it is -1, for 0 it is 1 , for 1 it\n",
    "is 3 and then for 3 there is no larger\n",
    "element on right and hence -1.\n",
    "\n",
    "```"
   ]
  },
  {
   "cell_type": "code",
   "execution_count": 13,
   "id": "7700f3ee",
   "metadata": {},
   "outputs": [
    {
     "name": "stdout",
     "output_type": "stream",
     "text": [
      "[3, 4, 4, -1]\n",
      "[8, -1, 1, 3, -1]\n"
     ]
    }
   ],
   "source": [
    "def findNextGreater(arr):\n",
    "    stack = []\n",
    "    result = []\n",
    "\n",
    "    for num in arr[::-1]:\n",
    "        while stack and stack[-1] <= num:\n",
    "            stack.pop()\n",
    "\n",
    "        if not stack:\n",
    "            result.append(-1)\n",
    "        else:\n",
    "            result.append(stack[-1])\n",
    "\n",
    "        stack.append(num)\n",
    "\n",
    "    return result[::-1]\n",
    "\n",
    "\n",
    "# Example usage\n",
    "arr = [1, 3, 2, 4]\n",
    "nextGreater = findNextGreater(arr)\n",
    "print(nextGreater)\n",
    "\n",
    "# Example usage 2\n",
    "arr = [6,8,0,1,3]\n",
    "nextGreater = findNextGreater(arr)\n",
    "print(nextGreater)\n",
    "\n"
   ]
  },
  {
   "cell_type": "markdown",
   "id": "01f0479b",
   "metadata": {},
   "source": [
    "💡 Question 2\n",
    "Given an array a of integers of length n, find the nearest smaller number for every element such that the smaller element is on left side.If no small element present on the left print -1.\n",
    "Example 1:\n",
    "```\n",
    "Input: n = 3\n",
    "a = {1, 6, 2}\n",
    "Output: -1 1 1\n",
    "Explaination: There is no number at the\n",
    "left of 1. Smaller number than 6 and 2 is 1.\n",
    "\n",
    "```\n",
    "Example 2:\n",
    "```\n",
    "Input: n = 6\n",
    "a = {1, 5, 0, 3, 4, 5}\n",
    "Output: -1 1 -1 0 3 4\n",
    "Explaination: Upto 3 it is easy to see\n",
    "the smaller numbers. But for 4 the smaller\n",
    "numbers are 1, 0 and 3. But among them 3\n",
    "is closest. Similary for 5 it is 4.\n",
    "\n",
    "```"
   ]
  },
  {
   "cell_type": "code",
   "execution_count": 14,
   "id": "479ecb0d",
   "metadata": {},
   "outputs": [
    {
     "name": "stdout",
     "output_type": "stream",
     "text": [
      "[-1, 1, 1]\n",
      "[-1, 1, -1, 0, 3, 4]\n"
     ]
    }
   ],
   "source": [
    "def findNearestSmaller(arr):\n",
    "    stack = []\n",
    "    result = []\n",
    "\n",
    "    for num in arr:\n",
    "        while stack and stack[-1] >= num:\n",
    "            stack.pop()\n",
    "\n",
    "        if not stack:\n",
    "            result.append(-1)\n",
    "        else:\n",
    "            result.append(stack[-1])\n",
    "\n",
    "        stack.append(num)\n",
    "\n",
    "    return result\n",
    "\n",
    "\n",
    "# Example usage\n",
    "arr = [1, 6, 2]\n",
    "nearestSmaller = findNearestSmaller(arr)\n",
    "print(nearestSmaller)\n",
    "\n",
    "#Example Usage 2\n",
    "arr = [1, 5, 0, 3, 4, 5]\n",
    "nearestSmaller = findNearestSmaller(arr)\n",
    "print(nearestSmaller)"
   ]
  },
  {
   "cell_type": "markdown",
   "id": "7a2d6826",
   "metadata": {},
   "source": [
    " 💡 Question 3\n",
    "Implement a Stack using two queues q1 and q2.\n",
    "Example 1:\n",
    "```\n",
    "Input:\n",
    "push(2)\n",
    "push(3)\n",
    "pop()\n",
    "push(4)\n",
    "pop()\n",
    "Output:3 4\n",
    "Explanation:\n",
    "push(2) the stack will be {2}\n",
    "push(3) the stack will be {2 3}\n",
    "pop()   poped element will be 3 the\n",
    "        stack will be {2}\n",
    "push(4) the stack will be {2 4}\n",
    "pop()   poped element will be 4\n",
    "\n",
    "```\n",
    "Example 2:\n",
    "```\n",
    "Input:\n",
    "push(2)\n",
    "pop()\n",
    "pop()\n",
    "push(3)\n",
    "Output:2 -1\n",
    "\n",
    "```"
   ]
  },
  {
   "cell_type": "code",
   "execution_count": 15,
   "id": "c20ea17d",
   "metadata": {},
   "outputs": [
    {
     "name": "stdout",
     "output_type": "stream",
     "text": [
      "3\n",
      "4\n",
      "2\n",
      "-1\n"
     ]
    }
   ],
   "source": [
    "class Stack:\n",
    "    def __init__(self):\n",
    "        self.q1 = []\n",
    "        self.q2 = []\n",
    "\n",
    "    def push(self, x):\n",
    "        self.q2.append(x)\n",
    "        while self.q1:\n",
    "            self.q2.append(self.q1.pop(0))\n",
    "        self.q1, self.q2 = self.q2, self.q1\n",
    "\n",
    "    def pop(self):\n",
    "        if self.q1:\n",
    "            return self.q1.pop(0)\n",
    "        return -1\n",
    "\n",
    "\n",
    "# Example usage 1\n",
    "s1 = Stack()\n",
    "s1.push(2)\n",
    "s1.push(3)\n",
    "print(s1.pop())  # Output: 3\n",
    "s1.push(4)\n",
    "print(s1.pop())  # Output: 4\n",
    "\n",
    "# Example usage 2\n",
    "s2 = Stack()\n",
    "s2.push(2)\n",
    "print(s2.pop())  # Output: 2\n",
    "print(s2.pop())  # Output: -1\n"
   ]
  },
  {
   "cell_type": "markdown",
   "id": "c3c85578",
   "metadata": {},
   "source": [
    " 💡 Question 4\n",
    "You are given a stack St. You have to reverse the stack using recursion.\n",
    "Example 1:\n",
    "```\n",
    "Input:St = {3,2,1,7,6}\n",
    "Output:{6,7,1,2,3}\n",
    "\n",
    "```\n",
    "Example 2:\n",
    "```\n",
    "Input:St = {4,3,9,6}\n",
    "Output:{6,9,3,4}\n",
    "\n",
    "```"
   ]
  },
  {
   "cell_type": "code",
   "execution_count": 16,
   "id": "4f2ee44a",
   "metadata": {},
   "outputs": [
    {
     "name": "stdout",
     "output_type": "stream",
     "text": [
      "[6, 7, 1, 2, 3]\n",
      "[6, 9, 3, 4]\n"
     ]
    }
   ],
   "source": [
    "def reverseStack(stack):\n",
    "    if not stack:\n",
    "        return\n",
    "    temp = stack.pop()\n",
    "    reverseStack(stack)\n",
    "    insertAtBottom(stack, temp)\n",
    "\n",
    "\n",
    "def insertAtBottom(stack, x):\n",
    "    if not stack:\n",
    "        stack.append(x)\n",
    "        return\n",
    "    temp = stack.pop()\n",
    "    insertAtBottom(stack, x)\n",
    "    stack.append(temp)\n",
    "\n",
    "\n",
    "# Example usage 1\n",
    "St1 = [3, 2, 1, 7, 6]\n",
    "reverseStack(St1)\n",
    "print(St1)  # Output: [6, 7, 1, 2, 3]\n",
    "\n",
    "# Example usage 2\n",
    "St2 = [4, 3, 9, 6]\n",
    "reverseStack(St2)\n",
    "print(St2)  # Output: [6, 9, 3, 4]\n"
   ]
  },
  {
   "cell_type": "markdown",
   "id": "bd00438e",
   "metadata": {},
   "source": [
    " 💡 Question 5\n",
    "You are given a string S, the task is to reverse the string using stack.\n",
    "Example 1:\n",
    "```\n",
    "Input: S=\"GeeksforGeeks\"\n",
    "Output: skeeGrofskeeG\n",
    "\n",
    "```"
   ]
  },
  {
   "cell_type": "code",
   "execution_count": 17,
   "id": "fc2ad6b0",
   "metadata": {},
   "outputs": [
    {
     "name": "stdout",
     "output_type": "stream",
     "text": [
      "skeeGrofskeeG\n",
      "!dlroW ,olleH\n"
     ]
    }
   ],
   "source": [
    "def reverseString(string):\n",
    "    stack = []\n",
    "    for char in string:\n",
    "        stack.append(char)\n",
    "    reversed_string = \"\"\n",
    "    while stack:\n",
    "        reversed_string += stack.pop()\n",
    "    return reversed_string\n",
    "\n",
    "\n",
    "# Example usage 1\n",
    "S1 = \"GeeksforGeeks\"\n",
    "reversed1 = reverseString(S1)\n",
    "print(reversed1)  # Output: skeeGrofskeeG\n",
    "\n",
    "# Example usage 2\n",
    "S2 = \"Hello, World!\"\n",
    "reversed2 = reverseString(S2)\n",
    "print(reversed2)  # Output: !dlroW ,olleH\n"
   ]
  },
  {
   "cell_type": "markdown",
   "id": "988ef5f2",
   "metadata": {},
   "source": [
    "💡 Question 6\n",
    "Given string S representing a postfix expression, the task is to evaluate the expression and find the final value. Operators will only include the basic arithmetic operators like *, /, + and -.\n",
    "Example 1:\n",
    "```\n",
    "Input: S = \"231*+9-\"\n",
    "Output: -4\n",
    "Explanation:\n",
    "After solving the given expression,\n",
    "we have -4 as result.\n",
    "\n",
    "```\n",
    "Example 2:\n",
    "```\n",
    "Input: S = \"123+*8-\"\n",
    "Output: -3\n",
    "Explanation:\n",
    "After solving the given postfix\n",
    "expression, we have -3 as result.\n",
    "\n",
    "```"
   ]
  },
  {
   "cell_type": "code",
   "execution_count": 18,
   "id": "3f8b8b0a",
   "metadata": {},
   "outputs": [
    {
     "name": "stdout",
     "output_type": "stream",
     "text": [
      "-4\n",
      "-3\n"
     ]
    }
   ],
   "source": [
    "def evaluatePostfixExpression(expression):\n",
    "    stack = []\n",
    "    operators = set(['+', '-', '*', '/'])\n",
    "\n",
    "    for char in expression:\n",
    "        if char not in operators:\n",
    "            stack.append(int(char))\n",
    "        else:\n",
    "            operand2 = stack.pop()\n",
    "            operand1 = stack.pop()\n",
    "            result = performOperation(char, operand1, operand2)\n",
    "            stack.append(result)\n",
    "\n",
    "    return stack.pop()\n",
    "\n",
    "\n",
    "def performOperation(operator, operand1, operand2):\n",
    "    if operator == '+':\n",
    "        return operand1 + operand2\n",
    "    elif operator == '-':\n",
    "        return operand1 - operand2\n",
    "    elif operator == '*':\n",
    "        return operand1 * operand2\n",
    "    elif operator == '/':\n",
    "        return operand1 // operand2  # Integer division\n",
    "\n",
    "\n",
    "# Example usage 1\n",
    "S1 = \"231*+9-\"\n",
    "result1 = evaluatePostfixExpression(S1)\n",
    "print(result1)  # Output: -4\n",
    "\n",
    "# Example usage 2\n",
    "S2 = \"123+*8-\"\n",
    "result2 = evaluatePostfixExpression(S2)\n",
    "print(result2)  # Output: -3\n"
   ]
  },
  {
   "cell_type": "markdown",
   "id": "59e4e7ee",
   "metadata": {},
   "source": [
    "💡 Question 7\n",
    "Design a stack that supports push, pop, top, and retrieving the minimum element in constant time.\n",
    "Implement the MinStack class:\n",
    "- MinStack() initializes the stack object.\n",
    "- void push(int val) pushes the element val onto the stack.\n",
    "- void pop() removes the element on the top of the stack.\n",
    "- int top() gets the top element of the stack.\n",
    "- int getMin() retrieves the minimum element in the stack.\n",
    "You must implement a solution with O(1) time complexity for each function.\n",
    "Example 1:\n",
    "```\n",
    "Input\n",
    "[\"MinStack\",\"push\",\"push\",\"push\",\"getMin\",\"pop\",\"top\",\"getMin\"]\n",
    "[[],[-2],[0],[-3],[],[],[],[]]\n",
    "\n",
    "Output\n",
    "[null,null,null,null,-3,null,0,-2]\n",
    "\n",
    "Explanation\n",
    "MinStack minStack = new MinStack();\n",
    "minStack.push(-2);\n",
    "minStack.push(0);\n",
    "minStack.push(-3);\n",
    "minStack.getMin(); // return -3\n",
    "minStack.pop();\n",
    "minStack.top();    // return 0\n",
    "minStack.getMin(); // return -2\n",
    "\n",
    "```"
   ]
  },
  {
   "cell_type": "code",
   "execution_count": 19,
   "id": "abb99d64",
   "metadata": {},
   "outputs": [
    {
     "name": "stdout",
     "output_type": "stream",
     "text": [
      "-3\n",
      "0\n",
      "-2\n",
      "3\n",
      "3\n"
     ]
    }
   ],
   "source": [
    "class MinStack:\n",
    "    def __init__(self):\n",
    "        self.stack = []\n",
    "        self.min_stack = []\n",
    "\n",
    "    def push(self, val):\n",
    "        self.stack.append(val)\n",
    "        if not self.min_stack or val <= self.min_stack[-1]:\n",
    "            self.min_stack.append(val)\n",
    "\n",
    "    def pop(self):\n",
    "        if self.stack:\n",
    "            popped = self.stack.pop()\n",
    "            if popped == self.min_stack[-1]:\n",
    "                self.min_stack.pop()\n",
    "\n",
    "    def top(self):\n",
    "        if self.stack:\n",
    "            return self.stack[-1]\n",
    "\n",
    "    def getMin(self):\n",
    "        if self.min_stack:\n",
    "            return self.min_stack[-1]\n",
    "\n",
    "\n",
    "# Example usage 1\n",
    "minStack1 = MinStack()\n",
    "minStack1.push(-2)\n",
    "minStack1.push(0)\n",
    "minStack1.push(-3)\n",
    "print(minStack1.getMin())  # Output: -3\n",
    "minStack1.pop()\n",
    "print(minStack1.top())  # Output: 0\n",
    "print(minStack1.getMin())  # Output: -2\n",
    "\n",
    "# Example usage 2\n",
    "minStack2 = MinStack()\n",
    "minStack2.push(2)\n",
    "minStack2.pop()\n",
    "minStack2.pop()\n",
    "minStack2.push(3)\n",
    "print(minStack2.top())  # Output: 3\n",
    "print(minStack2.getMin())  # Output: -1\n"
   ]
  },
  {
   "cell_type": "markdown",
   "id": "98db3335",
   "metadata": {},
   "source": [
    " 💡 Question 8\n",
    "Given n non-negative integers representing an elevation map where the width of each bar is 1, compute how much water it can trap after raining.\n",
    "Example 1:\n",
    "!https://assets.leetcode.com/uploads/2018/10/22/rainwatertrap.png\n",
    "```\n",
    "Input: height = [0,1,0,2,1,0,1,3,2,1,2,1]\n",
    "Output: 6\n",
    "Explanation: The above elevation map (black section) is represented by array [0,1,0,2,1,0,1,3,2,1,2,1]. In this case, 6 units of rain water (blue section) are being trapped.\n",
    "\n",
    "```\n",
    "Example 2:\n",
    "```\n",
    "Input: height = [4,2,0,3,2,5]\n",
    "Output: 9\n",
    "\n",
    "```"
   ]
  },
  {
   "cell_type": "code",
   "execution_count": 20,
   "id": "27eb9bf9",
   "metadata": {},
   "outputs": [
    {
     "name": "stdout",
     "output_type": "stream",
     "text": [
      "6\n",
      "9\n"
     ]
    }
   ],
   "source": [
    "def trapWater(height):\n",
    "    n = len(height)\n",
    "    left = [0] * n\n",
    "    right = [0] * n\n",
    "\n",
    "    left[0] = height[0]\n",
    "    for i in range(1, n):\n",
    "        left[i] = max(left[i - 1], height[i])\n",
    "\n",
    "    right[n - 1] = height[n - 1]\n",
    "    for i in range(n - 2, -1, -1):\n",
    "        right[i] = max(right[i + 1], height[i])\n",
    "\n",
    "    water = 0\n",
    "    for i in range(n):\n",
    "        water += min(left[i], right[i]) - height[i]\n",
    "\n",
    "    return water\n",
    "\n",
    "\n",
    "# Example usage 1\n",
    "height1 = [0, 1, 0, 2, 1, 0, 1, 3, 2, 1, 2, 1]\n",
    "water1 = trapWater(height1)\n",
    "print(water1)  # Output: 6\n",
    "\n",
    "# Example usage 2\n",
    "height2 = [4, 2, 0, 3, 2, 5]\n",
    "water2 = trapWater(height2)\n",
    "print(water2)  # Output: 9\n"
   ]
  }
 ],
 "metadata": {
  "kernelspec": {
   "display_name": "Python 3 (ipykernel)",
   "language": "python",
   "name": "python3"
  },
  "language_info": {
   "codemirror_mode": {
    "name": "ipython",
    "version": 3
   },
   "file_extension": ".py",
   "mimetype": "text/x-python",
   "name": "python",
   "nbconvert_exporter": "python",
   "pygments_lexer": "ipython3",
   "version": "3.9.16"
  }
 },
 "nbformat": 4,
 "nbformat_minor": 5
}
