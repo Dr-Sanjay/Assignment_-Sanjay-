{
 "cells": [
  {
   "attachments": {},
   "cell_type": "markdown",
   "id": "5b798764",
   "metadata": {},
   "source": [
    "#Assignment_01 (Array)."
   ]
  },
  {
   "attachments": {},
   "cell_type": "markdown",
   "id": "9503e3dc",
   "metadata": {},
   "source": [
    "**💡 Q1. Given an array of integers nums and an integer target, return indices of the two numbers such that they add up to target.\n",
    "You may assume that each input would have exactly one solution, and you may not use the same element twice.\n",
    "You can return the answer in any order.\n",
    "Example: Input: nums = [2,7,11,15], target = 9 Output0 [0,1]\n",
    "Explanation: Because nums[0] + nums[1] == 9, we return [0, 1]**"
   ]
  },
  {
   "cell_type": "code",
   "execution_count": 1,
   "id": "8a306d7c",
   "metadata": {
    "scrolled": true
   },
   "outputs": [
    {
     "data": {
      "text/plain": [
       "[0, 1]"
      ]
     },
     "execution_count": 1,
     "metadata": {},
     "output_type": "execute_result"
    }
   ],
   "source": [
    "def twoSum(nums, target):\n",
    "    num_dict = {}\n",
    "    for i, num in enumerate(nums):\n",
    "        complement = target - num\n",
    "        if complement in num_dict:\n",
    "            return [num_dict[complement], i]\n",
    "        num_dict[num] = i\n",
    "    return []\n",
    "\n",
    "#Test Case1\n",
    "\n",
    "twoSum( [2,7,11,15], 9 )"
   ]
  },
  {
   "attachments": {},
   "cell_type": "markdown",
   "id": "10cbaa3d",
   "metadata": {},
   "source": [
    "**💡 Q2. Given an integer array nums and an integer val, remove all occurrences of val in nums in-place. The order of the elements may be changed. Then return the number of elements in nums which are not equal to val.\n",
    "Consider the number of elements in nums which are not equal to val be k, to get accepted, you need to do the following things:\n",
    "-Change the array nums such that the first k elements of nums contain the elements which are not equal to val. The remaining elements of nums are not important as well as the size of nums.\n",
    "-Return k.\n",
    "Example : Input: nums = [3,2,2,3], val = 3 Output: 2, nums = [2,2,*,*]\n",
    "Explanation: Your function should return k = 2, with the first two elements of nums being 2. It does not matter what you leave beyond the returned k (hence they are underscores)**"
   ]
  },
  {
   "cell_type": "code",
   "execution_count": 2,
   "id": "007a1da0",
   "metadata": {
    "scrolled": true
   },
   "outputs": [
    {
     "data": {
      "text/plain": [
       "2"
      ]
     },
     "execution_count": 2,
     "metadata": {},
     "output_type": "execute_result"
    }
   ],
   "source": [
    "def removeElement(nums, val):\n",
    "    k = 0\n",
    "    for i in range(len(nums)):\n",
    "        if nums[i] != val:\n",
    "            nums[k] = nums[i]\n",
    "            k += 1\n",
    "    return k\n",
    "\n",
    "#Test Case 1\n",
    "\n",
    "removeElement( [3,2,2,3],3 )"
   ]
  },
  {
   "attachments": {},
   "cell_type": "markdown",
   "id": "6b5a52b7",
   "metadata": {},
   "source": [
    "**💡 Q3. Given a sorted array of distinct integers and a target value, return the index if the target is found. If not, return the index where it would be if it were inserted in order.\n",
    "You must write an algorithm with O(log n) runtime complexity.\n",
    "Example 1: Input: nums = [1,3,5,6], target = 5\n",
    "Output: 2**"
   ]
  },
  {
   "cell_type": "code",
   "execution_count": 3,
   "id": "3a78497a",
   "metadata": {
    "scrolled": true
   },
   "outputs": [
    {
     "data": {
      "text/plain": [
       "2"
      ]
     },
     "execution_count": 3,
     "metadata": {},
     "output_type": "execute_result"
    }
   ],
   "source": [
    "def searchInsert(nums, target):\n",
    "    left, right = 0, len(nums) - 1\n",
    "    while left <= right:\n",
    "        mid = left + (right - left) // 2\n",
    "        if nums[mid] == target:\n",
    "            return mid\n",
    "        elif nums[mid] < target:\n",
    "            left = mid + 1\n",
    "        else:\n",
    "            right = mid - 1\n",
    "    return left\n",
    "\n",
    "#Test Case 1\n",
    "\n",
    "searchInsert([1,3,5,6], 5)"
   ]
  },
  {
   "attachments": {},
   "cell_type": "markdown",
   "id": "fc8b0576",
   "metadata": {},
   "source": [
    "**💡 Q4. You are given a large integer represented as an integer array digits, where each digits[i] is the ith digit of the integer. The digits are ordered from most significant to least significant in left-to-right order. The large integer does not contain any leading 0's.\n",
    "Increment the large integer by one and return the resulting array of digits.\n",
    "Example 1: Input: digits = [1,2,3] Output: [1,2,4]\n",
    "Explanation: The array represents the integer 123.\n",
    "Incrementing by one gives 123 + 1 = 124. Thus, the result should be [1,2,4].**"
   ]
  },
  {
   "cell_type": "code",
   "execution_count": 4,
   "id": "76fae06c",
   "metadata": {
    "scrolled": true
   },
   "outputs": [
    {
     "data": {
      "text/plain": [
       "[1, 2, 4]"
      ]
     },
     "execution_count": 4,
     "metadata": {},
     "output_type": "execute_result"
    }
   ],
   "source": [
    "def plusOne(digits):\n",
    "    for i in range(len(digits) - 1, -1, -1):\n",
    "        if digits[i] < 9:\n",
    "            digits[i] += 1\n",
    "            return digits\n",
    "        digits[i] = 0\n",
    "    return [1] + digits\n",
    "\n",
    "#Test Case 1\n",
    "\n",
    "plusOne([1,2,3])\n"
   ]
  },
  {
   "attachments": {},
   "cell_type": "markdown",
   "id": "b41b6b49",
   "metadata": {},
   "source": [
    "**💡 Q5. You are given two integer arrays nums1 and nums2, sorted in non-decreasing order, and two integers m and n, representing the number of elements in nums1 and nums2 respectively.\n",
    "Merge nums1 and nums2 into a single array sorted in non-decreasing order.\n",
    "The final sorted array should not be returned by the function, but instead be stored inside the array nums1. To accommodate this, nums1 has a length of m + n, where the first m elements denote the elements that should be merged, and the last n elements are set to 0 and should be ignored. nums2 has a length of n.\n",
    "Example 1: Input: nums1 = [1,2,3,0,0,0], m = 3, nums2 = [2,5,6], n = 3 Output: [1,2,2,3,5,6]\n",
    "Explanation: The arrays we are merging are [1,2,3] and [2,5,6]. The result of the merge is [1,2,2,3,5,6] with the underlined elements coming from nums1.**"
   ]
  },
  {
   "cell_type": "code",
   "execution_count": 5,
   "id": "54f1ef24",
   "metadata": {
    "scrolled": true
   },
   "outputs": [
    {
     "name": "stdout",
     "output_type": "stream",
     "text": [
      "[1, 2, 2, 3, 5, 6]\n"
     ]
    }
   ],
   "source": [
    "def merge(nums1, m, nums2, n):\n",
    "    i, j, k = m - 1, n - 1, m + n - 1\n",
    "    while i >= 0 and j >= 0:\n",
    "        if nums1[i] > nums2[j]:\n",
    "            nums1[k] = nums1[i]\n",
    "            i -= 1\n",
    "        else:\n",
    "            nums1[k] = nums2[j]\n",
    "            j -= 1\n",
    "        k -= 1\n",
    "    while j >= 0:\n",
    "        nums1[k] = nums2[j]\n",
    "        j -= 1\n",
    "        k -= 1\n",
    "        \n",
    "#Test case 1\n",
    "\n",
    "nums1 = [1, 2, 3, 0, 0, 0]\n",
    "m = 3\n",
    "nums2 = [2, 5, 6]\n",
    "n = 3\n",
    "\n",
    "merge(nums1, m, nums2, n)\n",
    "print(nums1)\n"
   ]
  },
  {
   "attachments": {},
   "cell_type": "markdown",
   "id": "f1b6d1fb",
   "metadata": {},
   "source": [
    "**💡 Q6. Given an integer array nums, return true if any value appears at least twice in the array, and return false if every element is distinct.\n",
    "Example 1: Input: nums = [1,2,3,1]\n",
    "Output: true**"
   ]
  },
  {
   "cell_type": "code",
   "execution_count": 6,
   "id": "632f5348",
   "metadata": {
    "scrolled": true
   },
   "outputs": [
    {
     "data": {
      "text/plain": [
       "True"
      ]
     },
     "execution_count": 6,
     "metadata": {},
     "output_type": "execute_result"
    }
   ],
   "source": [
    "def containsDuplicate(nums):\n",
    "    num_set = set()\n",
    "    for num in nums:\n",
    "        if num in num_set:\n",
    "            return True\n",
    "        num_set.add(num)\n",
    "    return False\n",
    "\n",
    " #Test Case 1\n",
    "    \n",
    "containsDuplicate( [1,2,3,1] )"
   ]
  },
  {
   "attachments": {},
   "cell_type": "markdown",
   "id": "88daec2f",
   "metadata": {},
   "source": [
    "**💡 Q7. Given an integer array nums, move all 0's to the end of it while maintaining the relative order of the nonzero elements.\n",
    "Note that you must do this in-place without making a copy of the array.\n",
    "Example 1: Input: nums = [0,1,0,3,12] Output: [1,3,12,0,0]**"
   ]
  },
  {
   "cell_type": "code",
   "execution_count": 7,
   "id": "fa0f61e6",
   "metadata": {
    "scrolled": true
   },
   "outputs": [
    {
     "name": "stdout",
     "output_type": "stream",
     "text": [
      "[1, 3, 12, 0, 0]\n"
     ]
    }
   ],
   "source": [
    "def moveZeroes(nums):\n",
    "    zero_index = 0\n",
    "    for i in range(len(nums)):\n",
    "        if nums[i] != 0:\n",
    "            nums[i], nums[zero_index] = nums[zero_index], nums[i]\n",
    "            zero_index += 1\n",
    "            \n",
    "#Test Case 1\n",
    "\n",
    "nums = [0, 1, 0, 3, 12]\n",
    "moveZeroes(nums)\n",
    "print(nums)"
   ]
  },
  {
   "attachments": {},
   "cell_type": "markdown",
   "id": "b9b28cc9",
   "metadata": {},
   "source": [
    "**💡 Q8. You have a set of integers s, which originally contains all the numbers from 1 to n. Unfortunately, due to some error, one of the numbers in s got duplicated to another number in the set, which results in repetition of one number and loss of another number.\n",
    "You are given an integer array nums representing the data status of this set after the error.\n",
    "Find the number that occurs twice and the number that is missing and return them in the form of an array.\n",
    "Example 1: Input: nums = [1,2,2,4] Output: [2,3]**"
   ]
  },
  {
   "cell_type": "code",
   "execution_count": 8,
   "id": "157ce78f",
   "metadata": {
    "scrolled": true
   },
   "outputs": [
    {
     "data": {
      "text/plain": [
       "[2, 3]"
      ]
     },
     "execution_count": 8,
     "metadata": {},
     "output_type": "execute_result"
    }
   ],
   "source": [
    "def findErrorNums(nums):\n",
    "    n = len(nums)\n",
    "    duplicate = -1\n",
    "    missing = -1\n",
    "    for num in nums:\n",
    "        if nums[abs(num) - 1] < 0:\n",
    "            duplicate = abs(num)\n",
    "        else:\n",
    "            nums[abs(num) - 1] *= -1\n",
    "    for i in range(n):\n",
    "        if nums[i] > 0:\n",
    "            missing = i + 1\n",
    "            break\n",
    "    return [duplicate, missing]\n",
    "\n",
    "#Test Case 1\n",
    "\n",
    "findErrorNums([1,2,2,4])"
   ]
  }
 ],
 "metadata": {
  "kernelspec": {
   "display_name": "Python 3 (ipykernel)",
   "language": "python",
   "name": "python3"
  },
  "language_info": {
   "codemirror_mode": {
    "name": "ipython",
    "version": 3
   },
   "file_extension": ".py",
   "mimetype": "text/x-python",
   "name": "python",
   "nbconvert_exporter": "python",
   "pygments_lexer": "ipython3",
   "version": "3.9.13"
  },
  "widgets": {
   "application/vnd.jupyter.widget-state+json": {
    "state": {},
    "version_major": 2,
    "version_minor": 0
   }
  }
 },
 "nbformat": 4,
 "nbformat_minor": 5
}
