{
 "cells": [
  {
   "cell_type": "markdown",
   "id": "c1681220",
   "metadata": {},
   "source": [
    "# ML Lifecycle Q & A (Assignment-7)"
   ]
  },
  {
   "cell_type": "markdown",
   "id": "ddd9e5fd",
   "metadata": {},
   "source": [
    "\n",
    "\n",
    "Data Pipelining:\n",
    "1. Q: What is the importance of a well-designed data pipeline in machine learning projects?\n",
    "   \n",
    "\n",
    "Training and Validation:\n",
    "2. Q: What are the key steps involved in training and validating machine learning models?\n",
    "\n",
    "Deployment:\n",
    "3. Q: How do you ensure seamless deployment of machine learning models in a product environment?\n",
    "   \n",
    "\n",
    "Infrastructure Design:\n",
    "4. Q: What factors should be considered when designing the infrastructure for machine learning projects?\n",
    "   \n",
    "\n",
    "Team Building:\n",
    "5. Q: What are the key roles and skills required in a machine learning team?\n",
    "   \n",
    "\n",
    "Cost Optimization:\n",
    "6. Q: How can cost optimization be achieved in machine learning projects?\n",
    "\n",
    "7. Q: How do you balance cost optimization and model performance in machine learning projects?\n",
    "\n",
    "Data Pipelining:\n",
    "8. Q: How would you handle real-time streaming data in a data pipeline for machine learning?\n",
    "   \n",
    "\n",
    "9. Q: What are the challenges involved in integrating data from multiple sources in a data pipeline, and how would you address them?\n",
    "\n",
    "Training and Validation:\n",
    "10. Q: How do you ensure the generalization ability of a trained machine learning model?\n",
    "\n",
    "11. Q: How do you handle imbalanced datasets during model training and validation?\n",
    "\n",
    "Deployment:\n",
    "12. Q: How do you ensure the reliability and scalability of deployed machine learning models?\n",
    "\n",
    "13. Q: What steps would you take to monitor the performance of deployed machine learning models and detect anomalies?\n",
    "\n",
    "Infrastructure Design:\n",
    "14. Q: What factors would you consider when designing the infrastructure for machine learning models that require high availability?\n",
    "\n",
    "15. Q: How would you ensure data security and privacy in the infrastructure design for machine learning projects?\n",
    "    \n",
    "\n",
    "Team Building:\n",
    "16. Q: How would you foster collaboration and knowledge sharing among team members in a machine learning project?\n",
    "\n",
    "17. Q: How do you address conflicts or disagreements within a machine learning team?\n",
    "    \n",
    "\n",
    "Cost Optimization:\n",
    "18. Q: How would you identify areas of cost optimization in a machine learning project?\n",
    "    \n",
    "\n",
    "19. Q: What techniques or strategies would you suggest for optimizing the cost of cloud infrastructure in a machine learning project?\n",
    "\n",
    "20. Q: How do you ensure cost optimization while maintaining high-performance levels in a machine learning project?\n",
    "\n",
    "\n"
   ]
  }
 ],
 "metadata": {
  "kernelspec": {
   "display_name": "Python 3 (ipykernel)",
   "language": "python",
   "name": "python3"
  },
  "language_info": {
   "codemirror_mode": {
    "name": "ipython",
    "version": 3
   },
   "file_extension": ".py",
   "mimetype": "text/x-python",
   "name": "python",
   "nbconvert_exporter": "python",
   "pygments_lexer": "ipython3",
   "version": "3.9.16"
  }
 },
 "nbformat": 4,
 "nbformat_minor": 5
}
