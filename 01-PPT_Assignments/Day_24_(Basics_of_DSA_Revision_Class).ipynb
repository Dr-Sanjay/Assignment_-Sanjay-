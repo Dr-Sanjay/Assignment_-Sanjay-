{
 "cells": [
  {
   "cell_type": "markdown",
   "id": "ae45cb94",
   "metadata": {},
   "source": [
    "# Assignment 24 (Basics of DSA : Revision Class)"
   ]
  },
  {
   "cell_type": "markdown",
   "id": "45897808",
   "metadata": {},
   "source": [
    " **💡 1. Roman to Integer\n",
    "Roman numerals are represented by seven different symbols: I, V, X, L, C, D and M.**\n",
    "```\n",
    "SymbolValue\n",
    "I             1\n",
    "V             5\n",
    "X             10\n",
    "L             50\n",
    "C             100\n",
    "D             500\n",
    "M             1000\n",
    "\n",
    "```\n",
    "For example, 2 is written as II in Roman numeral, just two ones added together. 12 is written as XII, which is simply X + II. The number 27 is written as XXVII, which is XX + V + II.\n",
    "Roman numerals are usually written largest to smallest from left to right. However, the numeral for four is not IIII. Instead, the number four is written as IV. Because the one is before the five we subtract it making four. The same principle applies to the number nine, which is written as IX. There are six instances where subtraction is used:\n",
    "- I can be placed before V (5) and X (10) to make 4 and 9.\n",
    "- X can be placed before L (50) and C (100) to make 40 and 90.\n",
    "- C can be placed before D (500) and M (1000) to make 400 and 900.\n",
    "Given a roman numeral, convert it to an integer.\n",
    "Example 1:\n",
    "```\n",
    "Input: s = \"III\"\n",
    "Output: 3\n",
    "Explanation: III = 3.\n",
    "\n",
    "```\n",
    "Example 2:\n",
    "```\n",
    "Input: s = \"LVIII\"\n",
    "Output: 58\n",
    "Explanation: L = 50, V= 5, III = 3.\n",
    "\n",
    "```\n",
    "Constraints:\n",
    "- 1 <= s.length <= 15\n",
    "- s contains only the characters ('I', 'V', 'X', 'L', 'C', 'D', 'M').\n",
    "- It is guaranteed that s is a valid roman numeral in the range [1, 3999].\n",
    "---"
   ]
  },
  {
   "cell_type": "code",
   "execution_count": 12,
   "id": "284175fe",
   "metadata": {},
   "outputs": [
    {
     "name": "stdout",
     "output_type": "stream",
     "text": [
      "3\n",
      "58\n"
     ]
    }
   ],
   "source": [
    "def romanToInt(s):\n",
    "    roman_values = {\n",
    "        'I': 1,\n",
    "        'V': 5,\n",
    "        'X': 10,\n",
    "        'L': 50,\n",
    "        'C': 100,\n",
    "        'D': 500,\n",
    "        'M': 1000\n",
    "    }\n",
    "    \n",
    "    total = 0\n",
    "    prev_value = 0\n",
    "    \n",
    "    for i in range(len(s)-1, -1, -1):\n",
    "        curr_value = roman_values[s[i]]\n",
    "        \n",
    "        if curr_value >= prev_value:\n",
    "            total += curr_value\n",
    "        else:\n",
    "            total -= curr_value\n",
    "        \n",
    "        prev_value = curr_value\n",
    "    \n",
    "    return total\n",
    "\n",
    "# Test case 1\n",
    "s1 = \"III\"\n",
    "print(romanToInt(s1))  # Output: 3\n",
    "\n",
    "# Test case 2\n",
    "s2 = \"LVIII\"\n",
    "print(romanToInt(s2))  # Output: 58\n"
   ]
  },
  {
   "cell_type": "markdown",
   "id": "f36ae353",
   "metadata": {},
   "source": [
    "**💡 2. Longest Substring Without Repeating Characters\n",
    "Given a string s, find the length of the longest substring without repeating characters.\n",
    "Example 1:**\n",
    "```\n",
    "Input: s = \"abcabcbb\"\n",
    "Output: 3\n",
    "Explanation: The answer is \"abc\", with the length of 3.\n",
    "\n",
    "```\n",
    "Example 2:\n",
    "```\n",
    "Input: s = \"bbbbb\"\n",
    "Output: 1\n",
    "Explanation: The answer is \"b\", with the length of 1.\n",
    "\n",
    "```\n",
    "Example 3:\n",
    "```\n",
    "Input: s = \"pwwkew\"\n",
    "Output: 3\n",
    "Explanation: The answer is \"wke\", with the length of 3.\n",
    "Notice that the answer must be a substring, \"pwke\" is a subsequence and not a substring.\n",
    "\n",
    "```\n",
    "Constraints:\n",
    "- 0 <= s.length <= 50000\n",
    "- s consists of English letters, digits, symbols and spaces. "
   ]
  },
  {
   "cell_type": "code",
   "execution_count": 13,
   "id": "6d8913f7",
   "metadata": {},
   "outputs": [
    {
     "name": "stdout",
     "output_type": "stream",
     "text": [
      "3\n",
      "1\n"
     ]
    }
   ],
   "source": [
    "def lengthOfLongestSubstring(s):\n",
    "    seen = {}\n",
    "    max_length = 0\n",
    "    start = 0\n",
    "    \n",
    "    for end in range(len(s)):\n",
    "        if s[end] in seen:\n",
    "            start = max(start, seen[s[end]] + 1)\n",
    "        \n",
    "        seen[s[end]] = end\n",
    "        max_length = max(max_length, end - start + 1)\n",
    "    \n",
    "    return max_length\n",
    "\n",
    "# Test case 1\n",
    "s3 = \"abcabcbb\"\n",
    "print(lengthOfLongestSubstring(s3))  # Output: 3\n",
    "\n",
    "# Test case 2\n",
    "s4 = \"bbbbb\"\n",
    "print(lengthOfLongestSubstring(s4))  # Output: 1\n"
   ]
  },
  {
   "cell_type": "markdown",
   "id": "2cc66b9f",
   "metadata": {},
   "source": [
    "**💡 3. Majority Element\n",
    "Given an array nums of size n, return the majority element.\n",
    "The majority element is the element that appears more than ⌊n / 2⌋ times. You may assume that the majority element always exists in the array.**  \n",
    "\n",
    "Example 1:  \n",
    "```\n",
    "Input: nums = [3,2,3]\n",
    "Output: 3\n",
    "\n",
    "```\n",
    "Example 2:\n",
    "```\n",
    "Input: nums = [2,2,1,1,1,2,2]\n",
    "Output: 2\n",
    "\n",
    "```\n",
    "Constraints:\n",
    "- n == nums.length\n",
    "- 1 <= n <= 5 * 10^4\n",
    "- -10^9 <= nums[i] <= 10^9 "
   ]
  },
  {
   "cell_type": "code",
   "execution_count": 14,
   "id": "1c715c7c",
   "metadata": {},
   "outputs": [
    {
     "name": "stdout",
     "output_type": "stream",
     "text": [
      "3\n",
      "2\n"
     ]
    }
   ],
   "source": [
    "from collections import Counter\n",
    "\n",
    "def majorityElement(nums):\n",
    "    counts = Counter(nums)\n",
    "    \n",
    "    for num, count in counts.items():\n",
    "        if count > len(nums) // 2:\n",
    "            return num\n",
    "    \n",
    "    return None\n",
    "\n",
    "# Test case 1\n",
    "nums1 = [3, 2, 3]\n",
    "print(majorityElement(nums1))  # Output: 3\n",
    "\n",
    "# Test case 2\n",
    "nums2 = [2, 2, 1, 1, 1, 2, 2]\n",
    "print(majorityElement(nums2))  # Output: 2"
   ]
  },
  {
   "cell_type": "markdown",
   "id": "126dc918",
   "metadata": {},
   "source": [
    "**💡 4. Group Anagram\n",
    "Given an array of strings strs, group the anagrams together. You can return the answer in any order.\n",
    "An Anagram is a word or phrase formed by rearranging the letters of a different word or phrase, typically using all the original letters exactly once.**\n",
    "\n",
    "Example 1:  \n",
    "```\n",
    "Input: strs = [\"eat\",\"tea\",\"tan\",\"ate\",\"nat\",\"bat\"]\n",
    "Output: [[\"bat\"],[\"nat\",\"tan\"],[\"ate\",\"eat\",\"tea\"]]\n",
    "\n",
    "```\n",
    "Example 2:\n",
    "```\n",
    "Input: strs = [\"\"]\n",
    "Output: [[\"\"]]\n",
    "\n",
    "```\n",
    "Example 3:\n",
    "```\n",
    "Input: strs = [\"a\"]\n",
    "Output: [[\"a\"]]\n",
    "\n",
    "```\n",
    "Constraints:\n",
    "- 1 <= strs.length <= 10000\n",
    "- 0 <= strs[i].length <= 100\n",
    "- strs[i] consists of lowercase English letters. "
   ]
  },
  {
   "cell_type": "code",
   "execution_count": 15,
   "id": "89cd2a12",
   "metadata": {},
   "outputs": [
    {
     "name": "stdout",
     "output_type": "stream",
     "text": [
      "[['eat', 'tea', 'ate'], ['tan', 'nat'], ['bat']]\n",
      "[['']]\n",
      "[['a']]\n"
     ]
    }
   ],
   "source": [
    "from collections import defaultdict\n",
    "\n",
    "def groupAnagrams(strs):\n",
    "    anagram_groups = defaultdict(list)\n",
    "    \n",
    "    for word in strs:\n",
    "        sorted_word = ''.join(sorted(word))\n",
    "        anagram_groups[sorted_word].append(word)\n",
    "    \n",
    "    return list(anagram_groups.values())\n",
    "\n",
    "# Test case 1\n",
    "strs1 = [\"eat\", \"tea\", \"tan\", \"ate\", \"nat\", \"bat\"]\n",
    "print(groupAnagrams(strs1))  # Output: [[\"eat\", \"tea\", \"ate\"], [\"tan\", \"nat\"], [\"bat\"]]\n",
    "\n",
    "# Test case 2\n",
    "strs2 = [\"\"]\n",
    "print(groupAnagrams(strs2))  # Output: [[\"\"]]\n",
    "\n",
    "# Test case 3\n",
    "strs3 = [\"a\"]\n",
    "print(groupAnagrams(strs3))  # Output: [[\"a\"]]"
   ]
  },
  {
   "cell_type": "markdown",
   "id": "6d88f456",
   "metadata": {},
   "source": [
    "**💡 5. Ugly Numbers\n",
    "An ugly number is a positive integer whose prime factors are limited to 2, 3, and 5.\n",
    "Given an integer n, return the nth ugly number.**  \n",
    "\n",
    "Example 1:\n",
    "```\n",
    "Input: n = 10\n",
    "Output: 12\n",
    "Explanation: [1, 2, 3, 4, 5, 6, 8, 9, 10, 12] is the sequence of the first 10 ugly numbers.\n",
    "\n",
    "```\n",
    "Example 2:\n",
    "```\n",
    "Input: n = 1\n",
    "Output: 1\n",
    "Explanation: 1 has no prime factors, therefore all of its prime factors are limited to 2, 3, and 5.\n",
    "\n",
    "```\n",
    "Constraints:\n",
    "- 1 <= n <= 1690 "
   ]
  },
  {
   "cell_type": "code",
   "execution_count": 16,
   "id": "f2138a4f",
   "metadata": {},
   "outputs": [
    {
     "name": "stdout",
     "output_type": "stream",
     "text": [
      "12\n",
      "1\n"
     ]
    }
   ],
   "source": [
    "def nthUglyNumber(n):\n",
    "    ugly_numbers = [1]\n",
    "    i2 = i3 = i5 = 0\n",
    "    \n",
    "    while len(ugly_numbers) < n:\n",
    "        next_ugly = min(ugly_numbers[i2] * 2, ugly_numbers[i3] * 3, ugly_numbers[i5] * 5)\n",
    "        \n",
    "        if next_ugly == ugly_numbers[i2] * 2:\n",
    "            i2 += 1\n",
    "        \n",
    "        if next_ugly == ugly_numbers[i3] * 3:\n",
    "            i3 += 1\n",
    "        \n",
    "        if next_ugly == ugly_numbers[i5] * 5:\n",
    "            i5 += 1\n",
    "        \n",
    "        ugly_numbers.append(next_ugly)\n",
    "    \n",
    "    return ugly_numbers[-1]\n",
    "\n",
    "# Test case 1\n",
    "n1 = 10\n",
    "print(nthUglyNumber(n1))  # Output: 12\n",
    "\n",
    "# Test case 2\n",
    "n2 = 1\n",
    "print(nthUglyNumber(n2))  # Output: 1"
   ]
  },
  {
   "cell_type": "markdown",
   "id": "6a76a74a",
   "metadata": {},
   "source": [
    "**💡 6. Top K Frequent Words\n",
    "Given an array of strings words and an integer k, return the k most frequent strings.\n",
    "Return the answer sorted by the frequency from highest to lowest. Sort the words with the same frequency by their lexicographical order.**  \n",
    "\n",
    "Example 1:\n",
    "```\n",
    "Input: words = [\"i\",\"love\",\"leetcode\",\"i\",\"love\",\"coding\"], k = 2\n",
    "Output: [\"i\",\"love\"]\n",
    "Explanation: \"i\" and \"love\" are the two most frequent words.\n",
    "Note that \"i\" comes before \"love\" due to a lower alphabetical order.\n",
    "\n",
    "```\n",
    "Example 2:\n",
    "```\n",
    "Input: words = [\"the\",\"day\",\"is\",\"sunny\",\"the\",\"the\",\"the\",\"sunny\",\"is\",\"is\"], k = 4\n",
    "Output: [\"the\",\"is\",\"sunny\",\"day\"]\n",
    "Explanation: \"the\", \"is\", \"sunny\" and \"day\" are the four most frequent words, with the number of occurrence being 4, 3, 2 and 1 respectively.\n",
    "\n",
    "```\n",
    "Constraints:\n",
    "- 1 <= words.length <= 500\n",
    "- 1 <= words[i].length <= 10\n",
    "- words[i] consists of lowercase English letters.\n",
    "- k is in the range [1, The number of **unique** words[i]] "
   ]
  },
  {
   "cell_type": "code",
   "execution_count": 20,
   "id": "0c8c1f62",
   "metadata": {},
   "outputs": [
    {
     "name": "stdout",
     "output_type": "stream",
     "text": [
      "['i', 'love']\n",
      "['day', 'is', 'sunny', 'the']\n"
     ]
    }
   ],
   "source": [
    "from collections import Counter\n",
    "\n",
    "def topKFrequent(words, k):\n",
    "    counts = Counter(words)\n",
    "    top_k = sorted(counts.keys(), key=lambda x: (-counts[x], x))[:k]\n",
    "    top_k.sort()  # Sort the words in lexicographical order\n",
    "    \n",
    "    return top_k\n",
    "\n",
    "# Test case 1\n",
    "words1 = [\"i\", \"love\", \"leetcode\", \"i\", \"love\", \"coding\"]\n",
    "k1 = 2\n",
    "print(topKFrequent(words1, k1))  # Output: [\"i\", \"love\"]\n",
    "\n",
    "# Test case 2\n",
    "words2 = [\"the\", \"day\", \"is\", \"sunny\", \"the\", \"the\", \"the\", \"sunny\", \"is\", \"is\"]\n",
    "k2 = 4\n",
    "print(topKFrequent(words2, k2))  # Output: [\"day\", \"is\", \"sunny\", \"the\"]"
   ]
  },
  {
   "cell_type": "markdown",
   "id": "afad1ecf",
   "metadata": {},
   "source": [
    "**💡 7. Sliding Window Maximum\n",
    "You are given an array of integers nums, there is a sliding window of size k which is moving from the very left of the array to the very right. You can only see the k numbers in the window. Each time the sliding window moves right by one position.\n",
    "Return the max sliding window.**  \n",
    "\n",
    "Example 1:  \n",
    "```\n",
    "Input: nums = [1,3,-1,-3,5,3,6,7], k = 3\n",
    "Output: [3,3,5,5,6,7]\n",
    "Explanation:\n",
    "Window position                Max\n",
    "---------------               -----\n",
    "[1  3  -1] -3  5  3  6 7         3\n",
    " 1 [3  -1  -3] 5  3  6 7         3\n",
    " 1  3 [-1  -3  5] 3  6 7         5\n",
    " 1  3  -1 [-3  5  3] 6 7         5\n",
    " 1  3  -1  -3 [5  3  6]7         6\n",
    " 1  3  -1  -3  5 [3  6  7]       7\n",
    "\n",
    "```\n",
    "Example 2:\n",
    "```\n",
    "Input: nums = [1], k = 1\n",
    "Output: [1]\n",
    "\n",
    "```\n",
    "Constraints:\n",
    "- 1 <= nums.length <= 100000\n",
    "- -10000 <= nums[i] <= 10000\n",
    "- 1 <= k <= nums.length "
   ]
  },
  {
   "cell_type": "code",
   "execution_count": 18,
   "id": "3d4ba674",
   "metadata": {},
   "outputs": [
    {
     "name": "stdout",
     "output_type": "stream",
     "text": [
      "[3, 3, 5, 5, 6, 7]\n",
      "[1]\n"
     ]
    }
   ],
   "source": [
    "from collections import deque\n",
    "\n",
    "def maxSlidingWindow(nums, k):\n",
    "    result = []\n",
    "    window = deque()\n",
    "    \n",
    "    for i in range(len(nums)):\n",
    "        while window and nums[i] >= nums[window[-1]]:\n",
    "            window.pop()\n",
    "        \n",
    "        window.append(i)\n",
    "        \n",
    "        if window[0] <= i - k:\n",
    "            window.popleft()\n",
    "        \n",
    "        if i >= k - 1:\n",
    "            result.append(nums[window[0]])\n",
    "    \n",
    "    return result\n",
    "\n",
    "# Test case 1\n",
    "nums3 = [1, 3, -1, -3, 5, 3, 6, 7]\n",
    "k3 = 3\n",
    "print(maxSlidingWindow(nums3, k3))  # Output: [3, 3, 5, 5, 6, 7]\n",
    "\n",
    "# Test case 2\n",
    "nums4 = [1]\n",
    "k4 = 1\n",
    "print(maxSlidingWindow(nums4, k4))  # Output: [1]"
   ]
  },
  {
   "cell_type": "markdown",
   "id": "050767fd",
   "metadata": {},
   "source": [
    "**💡 8. Find K Closest Elements\n",
    "Given a sorted integer array arr, two integers k and x, return the k closest integers to x in the array. The result should also be sorted in ascending order.**   \n",
    "\n",
    "An integer a is closer to x than an integer b if:\n",
    "- |a - x| < |b - x|, or\n",
    "- |a - x| == |b - x| and a < b\n",
    "Example 1:\n",
    "```\n",
    "Input: arr = [1,2,3,4,5], k = 4, x = 3\n",
    "Output: [1,2,3,4]\n",
    "\n",
    "```\n",
    "Example 2:\n",
    "```\n",
    "Input: arr = [1,2,3,4,5], k = 4, x = -1\n",
    "Output: [1,2,3,4]\n",
    "\n",
    "```\n",
    "Constraints:\n",
    "- 1 <= k <= arr.length\n",
    "- 1 <= arr.length <= 10000\n",
    "- arr is sorted in ascending order.\n",
    "- -10000 <= arr[i], x <= 10000"
   ]
  },
  {
   "cell_type": "code",
   "execution_count": 19,
   "id": "4c4f6cda",
   "metadata": {},
   "outputs": [
    {
     "name": "stdout",
     "output_type": "stream",
     "text": [
      "[1, 2, 3, 4]\n",
      "[1, 2, 3, 4]\n"
     ]
    }
   ],
   "source": [
    "def findClosestElements(arr, k, x):\n",
    "    left = 0\n",
    "    right = len(arr) - k\n",
    "    \n",
    "    while left < right:\n",
    "        mid = left + (right - left) // 2\n",
    "        \n",
    "        if x - arr[mid] > arr[mid + k] - x:\n",
    "            left = mid + 1\n",
    "        else:\n",
    "            right = mid\n",
    "    \n",
    "    return arr[left:left+k]\n",
    "\n",
    "# Test case 1\n",
    "arr1 = [1, 2, 3, 4, 5]\n",
    "k1 = 4\n",
    "x1 = 3\n",
    "print(findClosestElements(arr1, k1, x1))  # Output: [1, 2, 3, 4]\n",
    "\n",
    "# Test case 2\n",
    "arr2 = [1, 2, 3, 4, 5]\n",
    "k2 = 4\n",
    "x2 = -1\n",
    "print(findClosestElements(arr2, k2, x2))  # Output: [1, 2, 3, 4]"
   ]
  }
 ],
 "metadata": {
  "kernelspec": {
   "display_name": "Python 3 (ipykernel)",
   "language": "python",
   "name": "python3"
  },
  "language_info": {
   "codemirror_mode": {
    "name": "ipython",
    "version": 3
   },
   "file_extension": ".py",
   "mimetype": "text/x-python",
   "name": "python",
   "nbconvert_exporter": "python",
   "pygments_lexer": "ipython3",
   "version": "3.9.16"
  }
 },
 "nbformat": 4,
 "nbformat_minor": 5
}
