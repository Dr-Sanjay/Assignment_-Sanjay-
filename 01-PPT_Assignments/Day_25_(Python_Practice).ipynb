{
 "cells": [
  {
   "cell_type": "markdown",
   "id": "1b991a55",
   "metadata": {},
   "source": [
    "# Day-25 (Python Revision)"
   ]
  },
  {
   "cell_type": "markdown",
   "id": "57656e1e",
   "metadata": {},
   "source": [
    "**1. Write a Python program to reverse a string without using any built-in string reversal functions.**"
   ]
  },
  {
   "cell_type": "code",
   "execution_count": 13,
   "id": "e0bd8a4f",
   "metadata": {},
   "outputs": [
    {
     "name": "stdout",
     "output_type": "stream",
     "text": [
      "52 yaD si sihT\n"
     ]
    }
   ],
   "source": [
    "string=\"This is Day 25\"\n",
    "\n",
    "def reverse_string(s):\n",
    "    reversed_str = ''\n",
    "    for i in range(len(s) - 1, -1, -1):\n",
    "        reversed_str += s[i]\n",
    "    print(reversed_str) \n",
    "    \n",
    "#Calling function With String Argument\n",
    "reverse_string(string)"
   ]
  },
  {
   "cell_type": "markdown",
   "id": "e030d8fe",
   "metadata": {},
   "source": [
    "**2. Implement a function to check if a given string is a palindrome.**"
   ]
  },
  {
   "cell_type": "code",
   "execution_count": 17,
   "id": "fabc290a",
   "metadata": {},
   "outputs": [
    {
     "name": "stdout",
     "output_type": "stream",
     "text": [
      "True\n"
     ]
    }
   ],
   "source": [
    "def is_palindrome(s):\n",
    "    s = s.lower()\n",
    "    return s == s[::-1]\n",
    "\n",
    "result = is_palindrome(\"Madam\")\n",
    "print(result)\n"
   ]
  },
  {
   "cell_type": "markdown",
   "id": "4fedc14e",
   "metadata": {},
   "source": [
    "**3. Write a program to find the largest element in a given list.**"
   ]
  },
  {
   "cell_type": "code",
   "execution_count": 19,
   "id": "d10f53b0",
   "metadata": {},
   "outputs": [
    {
     "name": "stdout",
     "output_type": "stream",
     "text": [
      "5\n"
     ]
    }
   ],
   "source": [
    "def find_largest_element(lst):\n",
    "    print(max(lst)) \n",
    "find_largest_element([1,2,3,4,5])"
   ]
  },
  {
   "cell_type": "markdown",
   "id": "378de393",
   "metadata": {},
   "source": [
    "**4. Implement a function to count the occurrence of each element in a list.**"
   ]
  },
  {
   "cell_type": "code",
   "execution_count": 20,
   "id": "a608c76d",
   "metadata": {},
   "outputs": [
    {
     "name": "stdout",
     "output_type": "stream",
     "text": [
      "{1: 2, 2: 2, 3: 2, 4: 2, 5: 1}\n",
      "{'apple': 3, 'banana': 2, 'cherry': 1}\n",
      "{}\n",
      "{1: 1, 2: 1, 3: 1, 4: 1, 5: 1}\n"
     ]
    }
   ],
   "source": [
    "def count_occurrences(lst):\n",
    "    return {element: lst.count(element) for element in lst}\n",
    "\n",
    "# Test Cases\n",
    "lst1 = [1, 2, 3, 4, 5, 4, 3, 2, 1]\n",
    "print(count_occurrences(lst1))\n",
    "# Output: {1: 2, 2: 2, 3: 2, 4: 2, 5: 1}\n",
    "\n",
    "lst2 = ['apple', 'banana', 'apple', 'cherry', 'banana', 'apple']\n",
    "print(count_occurrences(lst2))\n",
    "# Output: {'apple': 3, 'banana': 2, 'cherry': 1}\n",
    "\n",
    "lst3 = []\n",
    "print(count_occurrences(lst3))\n",
    "# Output: {}\n",
    "\n",
    "lst4 = [1, 2, 3, 4, 5]\n",
    "print(count_occurrences(lst4))\n",
    "# Output: {1: 1, 2: 1, 3: 1, 4: 1, 5: 1}\n"
   ]
  },
  {
   "cell_type": "markdown",
   "id": "bad3a634",
   "metadata": {},
   "source": [
    "**5. Write a Python program to find the second largest number in a list.**"
   ]
  },
  {
   "cell_type": "code",
   "execution_count": 21,
   "id": "d319263b",
   "metadata": {},
   "outputs": [
    {
     "name": "stdout",
     "output_type": "stream",
     "text": [
      "4\n"
     ]
    }
   ],
   "source": [
    "def find_second_largest(lst):\n",
    "    if len(lst) < 2:\n",
    "        return None\n",
    "    lst = sorted(lst, reverse=True)\n",
    "    print(lst[1])\n",
    "\n",
    "# Test the function\n",
    "find_second_largest([1, 3, 2, 5, 4])\n"
   ]
  },
  {
   "cell_type": "markdown",
   "id": "e5490393",
   "metadata": {},
   "source": [
    "**6. Implement a function to remove duplicate elements from a list.**"
   ]
  },
  {
   "cell_type": "code",
   "execution_count": 24,
   "id": "b67081d8",
   "metadata": {},
   "outputs": [
    {
     "data": {
      "text/plain": [
       "[1, 2, 3, 4, 5]"
      ]
     },
     "execution_count": 24,
     "metadata": {},
     "output_type": "execute_result"
    }
   ],
   "source": [
    "def remove_duplicates(lst):\n",
    "    return list(set(lst))\n",
    "\n",
    "# Test the function\n",
    "remove_duplicates([1, 3,1, 2, 2, 5, 4])"
   ]
  },
  {
   "cell_type": "markdown",
   "id": "f9ff3bf7",
   "metadata": {},
   "source": [
    "**7. Write a program to calculate the factorial of a given number.**"
   ]
  },
  {
   "cell_type": "code",
   "execution_count": 28,
   "id": "5f074007",
   "metadata": {},
   "outputs": [
    {
     "data": {
      "text/plain": [
       "6"
      ]
     },
     "execution_count": 28,
     "metadata": {},
     "output_type": "execute_result"
    }
   ],
   "source": [
    "def factorial(n):\n",
    "    if n == 0:\n",
    "        return 1\n",
    "    else:\n",
    "        return n * factorial(n - 1)\n",
    "factorial(3)"
   ]
  },
  {
   "cell_type": "markdown",
   "id": "5f538350",
   "metadata": {},
   "source": [
    "**8. Implement a function to check if a given number is prime.**"
   ]
  },
  {
   "cell_type": "code",
   "execution_count": null,
   "id": "382386ea",
   "metadata": {},
   "outputs": [],
   "source": [
    "def is_prime(n):\n",
    "    if n < 2:\n",
    "        return False\n",
    "    for i in range(2, int(n ** 0.5) + 1):\n",
    "        if n % i == 0:\n",
    "            return False\n",
    "    return True\n"
   ]
  },
  {
   "cell_type": "markdown",
   "id": "fbcb4062",
   "metadata": {},
   "source": [
    "**9. Write a Python program to sort a list of integers in ascending order.**"
   ]
  },
  {
   "cell_type": "code",
   "execution_count": null,
   "id": "dbccecce",
   "metadata": {},
   "outputs": [],
   "source": []
  },
  {
   "cell_type": "markdown",
   "id": "148e62ca",
   "metadata": {},
   "source": [
    "**10. Implement a function to find the sum of all numbers in a list.**"
   ]
  },
  {
   "cell_type": "code",
   "execution_count": null,
   "id": "d7ea25fd",
   "metadata": {},
   "outputs": [],
   "source": []
  },
  {
   "cell_type": "markdown",
   "id": "5b628de4",
   "metadata": {},
   "source": [
    "**11. Write a program to find the common elements between two lists.**"
   ]
  },
  {
   "cell_type": "code",
   "execution_count": null,
   "id": "4b4c57c0",
   "metadata": {},
   "outputs": [],
   "source": []
  },
  {
   "cell_type": "markdown",
   "id": "8540f869",
   "metadata": {},
   "source": [
    "**12. Implement a function to check if a given string is an anagram of another string.**"
   ]
  },
  {
   "cell_type": "code",
   "execution_count": null,
   "id": "5f13df5d",
   "metadata": {},
   "outputs": [],
   "source": []
  },
  {
   "cell_type": "markdown",
   "id": "19f346d1",
   "metadata": {},
   "source": [
    "**13. Write a Python program to generate all permutations of a given string.**"
   ]
  },
  {
   "cell_type": "code",
   "execution_count": null,
   "id": "cf3150bf",
   "metadata": {},
   "outputs": [],
   "source": []
  },
  {
   "cell_type": "markdown",
   "id": "8e3bcd89",
   "metadata": {},
   "source": [
    "**14. Implement a function to calculate the Fibonacci sequence up to a given number of terms.**"
   ]
  },
  {
   "cell_type": "code",
   "execution_count": null,
   "id": "2f29ba52",
   "metadata": {},
   "outputs": [],
   "source": []
  },
  {
   "cell_type": "markdown",
   "id": "a44d719f",
   "metadata": {},
   "source": [
    "**15. Write a program to find the median of a list of numbers.**"
   ]
  },
  {
   "cell_type": "code",
   "execution_count": null,
   "id": "cb4fdcb5",
   "metadata": {},
   "outputs": [],
   "source": []
  },
  {
   "cell_type": "markdown",
   "id": "6ef6e880",
   "metadata": {},
   "source": [
    "**16. Implement a function to check if a given list is sorted in non-decreasing order.**"
   ]
  },
  {
   "cell_type": "code",
   "execution_count": null,
   "id": "9474e133",
   "metadata": {},
   "outputs": [],
   "source": []
  },
  {
   "cell_type": "markdown",
   "id": "a8e2cb6b",
   "metadata": {},
   "source": [
    "**17. Write a Python program to find the intersection of two lists.**"
   ]
  },
  {
   "cell_type": "code",
   "execution_count": null,
   "id": "3fcd5331",
   "metadata": {},
   "outputs": [],
   "source": []
  },
  {
   "cell_type": "markdown",
   "id": "f77cdf6f",
   "metadata": {},
   "source": [
    "**18. Implement a function to find the maximum subarray sum in a given list.**"
   ]
  },
  {
   "cell_type": "code",
   "execution_count": null,
   "id": "66037d36",
   "metadata": {},
   "outputs": [],
   "source": []
  },
  {
   "cell_type": "markdown",
   "id": "60db18c7",
   "metadata": {},
   "source": [
    "**19. Write a program to remove all vowels from a given string.**"
   ]
  },
  {
   "cell_type": "code",
   "execution_count": null,
   "id": "cd3e39dc",
   "metadata": {},
   "outputs": [],
   "source": []
  },
  {
   "cell_type": "markdown",
   "id": "93984735",
   "metadata": {},
   "source": [
    "**20. Implement a function to reverse the order of words in a given sentence.**"
   ]
  },
  {
   "cell_type": "code",
   "execution_count": null,
   "id": "712808fc",
   "metadata": {},
   "outputs": [],
   "source": []
  },
  {
   "cell_type": "markdown",
   "id": "50af858f",
   "metadata": {},
   "source": [
    "**21. Write a Python program to check if two strings are anagrams of each other.**"
   ]
  },
  {
   "cell_type": "code",
   "execution_count": null,
   "id": "20ca397e",
   "metadata": {},
   "outputs": [],
   "source": []
  },
  {
   "cell_type": "markdown",
   "id": "9da18027",
   "metadata": {},
   "source": [
    "**22. Implement a function to find the first non-repeating character in a string.**"
   ]
  },
  {
   "cell_type": "code",
   "execution_count": null,
   "id": "94ea03a7",
   "metadata": {},
   "outputs": [],
   "source": []
  },
  {
   "cell_type": "markdown",
   "id": "4f332b25",
   "metadata": {},
   "source": [
    "**23. Write a program to find the prime factors of a given number.**"
   ]
  },
  {
   "cell_type": "code",
   "execution_count": null,
   "id": "819cf58b",
   "metadata": {},
   "outputs": [],
   "source": []
  },
  {
   "cell_type": "markdown",
   "id": "66fea7f0",
   "metadata": {},
   "source": [
    "**24. Implement a function to check if a given number is a power of two.**"
   ]
  },
  {
   "cell_type": "code",
   "execution_count": null,
   "id": "971a572e",
   "metadata": {},
   "outputs": [],
   "source": []
  },
  {
   "cell_type": "markdown",
   "id": "21d7d3c5",
   "metadata": {},
   "source": [
    "**25. Write a Python program to merge two sorted lists into a single sorted list.**"
   ]
  },
  {
   "cell_type": "code",
   "execution_count": null,
   "id": "93188c7d",
   "metadata": {},
   "outputs": [],
   "source": []
  },
  {
   "cell_type": "markdown",
   "id": "74e00a3c",
   "metadata": {},
   "source": [
    "**26. Implement a function to find the mode of a list of numbers.**"
   ]
  },
  {
   "cell_type": "code",
   "execution_count": null,
   "id": "4f796dc8",
   "metadata": {},
   "outputs": [],
   "source": []
  },
  {
   "cell_type": "markdown",
   "id": "8ae4fa94",
   "metadata": {},
   "source": [
    "**27. Write a program to find the greatest common divisor (GCD) of two numbers.**"
   ]
  },
  {
   "cell_type": "code",
   "execution_count": null,
   "id": "5b9ae738",
   "metadata": {},
   "outputs": [],
   "source": []
  },
  {
   "cell_type": "markdown",
   "id": "3def3c0e",
   "metadata": {},
   "source": [
    "**28. Implement a function to calculate the square root of a given number.**"
   ]
  },
  {
   "cell_type": "code",
   "execution_count": null,
   "id": "e8797221",
   "metadata": {},
   "outputs": [],
   "source": []
  },
  {
   "cell_type": "markdown",
   "id": "201d3c12",
   "metadata": {},
   "source": [
    "**29. Write a Python program to check if a given string is a valid palindrome ignoring non-alphanumeric characters.**"
   ]
  },
  {
   "cell_type": "code",
   "execution_count": null,
   "id": "8d87f33b",
   "metadata": {},
   "outputs": [],
   "source": []
  },
  {
   "cell_type": "markdown",
   "id": "e314a2a4",
   "metadata": {},
   "source": [
    "**30. Implement a function to find the minimum element in a rotated sorted list.**"
   ]
  },
  {
   "cell_type": "code",
   "execution_count": null,
   "id": "bae99c99",
   "metadata": {},
   "outputs": [],
   "source": []
  },
  {
   "cell_type": "markdown",
   "id": "9f810f3a",
   "metadata": {},
   "source": [
    "**31. Write a program to find the sum of all even numbers in a list.**"
   ]
  },
  {
   "cell_type": "code",
   "execution_count": null,
   "id": "76be36be",
   "metadata": {},
   "outputs": [],
   "source": []
  },
  {
   "cell_type": "markdown",
   "id": "a7788fd0",
   "metadata": {},
   "source": [
    "**32. Implement a function to calculate the power of a number using recursion.**"
   ]
  },
  {
   "cell_type": "code",
   "execution_count": null,
   "id": "88c7fc43",
   "metadata": {},
   "outputs": [],
   "source": []
  },
  {
   "cell_type": "markdown",
   "id": "26c14c03",
   "metadata": {},
   "source": [
    "**33. Write a Python program to remove duplicates from a list while preserving the order.**"
   ]
  },
  {
   "cell_type": "code",
   "execution_count": null,
   "id": "5697d173",
   "metadata": {},
   "outputs": [],
   "source": []
  },
  {
   "cell_type": "markdown",
   "id": "b056aded",
   "metadata": {},
   "source": [
    "**34. Implement a function to find the longest common prefix among a list of strings.**"
   ]
  },
  {
   "cell_type": "code",
   "execution_count": null,
   "id": "e29a85d3",
   "metadata": {},
   "outputs": [],
   "source": []
  },
  {
   "cell_type": "markdown",
   "id": "b1321e38",
   "metadata": {},
   "source": [
    "**35. Write a program to check if a given number is a perfect square.**"
   ]
  },
  {
   "cell_type": "code",
   "execution_count": null,
   "id": "1971d6fa",
   "metadata": {},
   "outputs": [],
   "source": []
  },
  {
   "cell_type": "markdown",
   "id": "d8ef9482",
   "metadata": {},
   "source": [
    "**36. Implement a function to calculate the product of all elements in a list.**"
   ]
  },
  {
   "cell_type": "code",
   "execution_count": null,
   "id": "1224aa2a",
   "metadata": {},
   "outputs": [],
   "source": []
  },
  {
   "cell_type": "markdown",
   "id": "a8c500ab",
   "metadata": {},
   "source": [
    "**37. Write a Python program to reverse the order of words in a sentence while preserving the word order.**"
   ]
  },
  {
   "cell_type": "code",
   "execution_count": null,
   "id": "127673aa",
   "metadata": {},
   "outputs": [],
   "source": []
  },
  {
   "cell_type": "markdown",
   "id": "cd9db588",
   "metadata": {},
   "source": [
    "**38. Implement a function to find the missing number in a given list of consecutive numbers.**"
   ]
  },
  {
   "cell_type": "code",
   "execution_count": null,
   "id": "e341e3fd",
   "metadata": {},
   "outputs": [],
   "source": []
  },
  {
   "cell_type": "markdown",
   "id": "8a7a167c",
   "metadata": {},
   "source": [
    "**39. Write a program to find the sum of digits of a given number.**"
   ]
  },
  {
   "cell_type": "code",
   "execution_count": null,
   "id": "b47919ee",
   "metadata": {},
   "outputs": [],
   "source": []
  },
  {
   "cell_type": "markdown",
   "id": "35541139",
   "metadata": {},
   "source": [
    "**40. Implement a function to check if a given string is a valid palindrome considering case sensitivity.**"
   ]
  },
  {
   "cell_type": "code",
   "execution_count": null,
   "id": "c0e8584f",
   "metadata": {},
   "outputs": [],
   "source": []
  },
  {
   "cell_type": "markdown",
   "id": "08f0d6d4",
   "metadata": {},
   "source": [
    "**41. Write a Python program to find the smallest missing positive integer in a list.**"
   ]
  },
  {
   "cell_type": "code",
   "execution_count": null,
   "id": "f60208ef",
   "metadata": {},
   "outputs": [],
   "source": []
  },
  {
   "cell_type": "markdown",
   "id": "57939b60",
   "metadata": {},
   "source": [
    "**42. Implement a function to find the longest palindrome substring in a given string.**"
   ]
  },
  {
   "cell_type": "code",
   "execution_count": null,
   "id": "fa8a6c02",
   "metadata": {},
   "outputs": [],
   "source": []
  },
  {
   "cell_type": "markdown",
   "id": "868d71c9",
   "metadata": {},
   "source": [
    "**43. Write a program to find the number of occurrences of a given element in a list.**"
   ]
  },
  {
   "cell_type": "code",
   "execution_count": null,
   "id": "41f524e6",
   "metadata": {},
   "outputs": [],
   "source": []
  },
  {
   "cell_type": "markdown",
   "id": "2896f9fe",
   "metadata": {},
   "source": [
    "**44. Implement a function to check if a given number is a perfect number.**"
   ]
  },
  {
   "cell_type": "code",
   "execution_count": null,
   "id": "d275b5f4",
   "metadata": {},
   "outputs": [],
   "source": []
  },
  {
   "cell_type": "markdown",
   "id": "e6f9c088",
   "metadata": {},
   "source": [
    "**45. Write a Python program to remove all duplicates from a string.**"
   ]
  },
  {
   "cell_type": "code",
   "execution_count": null,
   "id": "f2d81f77",
   "metadata": {},
   "outputs": [],
   "source": []
  },
  {
   "cell_type": "markdown",
   "id": "c2ed549b",
   "metadata": {},
   "source": [
    "**46. Implement a function to find the first missing positive**"
   ]
  },
  {
   "cell_type": "code",
   "execution_count": null,
   "id": "6ccabf83",
   "metadata": {},
   "outputs": [],
   "source": []
  }
 ],
 "metadata": {
  "kernelspec": {
   "display_name": "Python 3 (ipykernel)",
   "language": "python",
   "name": "python3"
  },
  "language_info": {
   "codemirror_mode": {
    "name": "ipython",
    "version": 3
   },
   "file_extension": ".py",
   "mimetype": "text/x-python",
   "name": "python",
   "nbconvert_exporter": "python",
   "pygments_lexer": "ipython3",
   "version": "3.9.16"
  }
 },
 "nbformat": 4,
 "nbformat_minor": 5
}
