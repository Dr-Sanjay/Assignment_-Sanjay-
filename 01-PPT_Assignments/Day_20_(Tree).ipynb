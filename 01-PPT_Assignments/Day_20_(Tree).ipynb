{
 "cells": [
  {
   "cell_type": "markdown",
   "id": "2f0b1a7f",
   "metadata": {},
   "source": [
    "# Assignment 20 (Tree)"
   ]
  },
  {
   "cell_type": "markdown",
   "id": "f43b6f3d",
   "metadata": {},
   "source": [
    "**Question-1:)-\n",
    "Given a binary tree, your task is to find subtree with maximum sum in tree.  \n",
    "Examples:  \n",
    "Input1 :       \n",
    "       1  \n",
    "     /   \\  \n",
    "   2      3  \n",
    "  / \\    / \\  \n",
    "4   5  6   7  \n",
    "Output1 : 28  \n",
    "As all the tree elements are positive, the largest subtree sum is equal to sum of all tree elements.  \n",
    "Input2 :  \n",
    "       1  \n",
    "     /    \\  \n",
    "  -2      3  \n",
    "  / \\    /  \\  \n",
    "4   5  -6   2  \n",
    "Output2 : 7  \n",
    "Subtree with largest sum is :  \n",
    " -2  \n",
    " / \\  \n",
    "4   5  \n",
    "Also, entire tree sum is also 7.**"
   ]
  },
  {
   "cell_type": "code",
   "execution_count": 7,
   "id": "4072327d",
   "metadata": {},
   "outputs": [
    {
     "name": "stdout",
     "output_type": "stream",
     "text": [
      "Input1: Maximum Subtree Sum: 28\n",
      "Input2: Maximum Subtree Sum: 7\n"
     ]
    }
   ],
   "source": [
    "class Node:\n",
    "    def __init__(self, val):\n",
    "        self.data = val\n",
    "        self.left = None\n",
    "        self.right = None\n",
    "\n",
    "\n",
    "def maxSubtreeSum(root):\n",
    "    if root is None:\n",
    "        return 0\n",
    "\n",
    "    left_sum = maxSubtreeSum(root.left)\n",
    "    right_sum = maxSubtreeSum(root.right)\n",
    "\n",
    "    # Calculate the sum of the subtree rooted at the current node\n",
    "    subtree_sum = left_sum + right_sum + root.data\n",
    "\n",
    "    # Update the maximum sum if the current subtree has a larger sum\n",
    "    maxSubtreeSum.maxSum = max(maxSubtreeSum.maxSum, subtree_sum)\n",
    "\n",
    "    return subtree_sum\n",
    "\n",
    "\n",
    "def findMaxSubtreeSum(root):\n",
    "    # Initialize maxSum with negative infinity\n",
    "    maxSubtreeSum.maxSum = float('-inf')\n",
    "\n",
    "    maxSubtreeSum(root)\n",
    "\n",
    "    return maxSubtreeSum.maxSum\n",
    "\n",
    "\n",
    "# Create the binary tree for Input1\n",
    "root1 = Node(1)\n",
    "root1.left = Node(2)\n",
    "root1.right = Node(3)\n",
    "root1.left.left = Node(4)\n",
    "root1.left.right = Node(5)\n",
    "root1.right.left = Node(6)\n",
    "root1.right.right = Node(7)\n",
    "\n",
    "# Find the subtree with the maximum sum for Input1\n",
    "max_sum1 = findMaxSubtreeSum(root1)\n",
    "print(\"Input1: Maximum Subtree Sum:\", max_sum1)\n",
    "\n",
    "# Create the binary tree for Input2\n",
    "root2 = Node(1)\n",
    "root2.left = Node(-2)\n",
    "root2.right = Node(3)\n",
    "root2.left.left = Node(4)\n",
    "root2.left.right = Node(5)\n",
    "root2.right.left = Node(-6)\n",
    "root2.right.right = Node(2)\n",
    "\n",
    "# Find the subtree with the maximum sum for Input2\n",
    "max_sum2 = findMaxSubtreeSum(root2)\n",
    "print(\"Input2: Maximum Subtree Sum:\", max_sum2)\n"
   ]
  },
  {
   "cell_type": "markdown",
   "id": "6c0c4702",
   "metadata": {},
   "source": [
    "**Question-2 \n",
    "Construct the BST (Binary Search Tree) from its given level order traversal.  \n",
    "Example:  \n",
    "Input: arr[] = {7, 4, 12, 3, 6, 8, 1, 5, 10}  \n",
    "Output: BST:  \n",
    "            7  \n",
    "         /    \\  \n",
    "       4     12  \n",
    "     /  \\     /  \n",
    "    3   6  8\n",
    "   /    /     \\\n",
    " 1    5      10**"
   ]
  },
  {
   "cell_type": "code",
   "execution_count": 9,
   "id": "3bd28c49",
   "metadata": {},
   "outputs": [
    {
     "name": "stdout",
     "output_type": "stream",
     "text": [
      "BST:\n",
      "1 3 5 4 6 10 7 8 12 "
     ]
    }
   ],
   "source": [
    "class Node:\n",
    "    def __init__(self, val):\n",
    "        self.data = val\n",
    "        self.left = None\n",
    "        self.right = None\n",
    "\n",
    "\n",
    "def constructBST(arr):\n",
    "    if not arr:\n",
    "        return None\n",
    "\n",
    "    root = Node(arr[0])\n",
    "    queue = [root]\n",
    "    i = 1\n",
    "\n",
    "    while queue and i < len(arr):\n",
    "        node = queue.pop(0)\n",
    "\n",
    "        if i < len(arr) and arr[i] < node.data:\n",
    "            node.left = Node(arr[i])\n",
    "            queue.append(node.left)\n",
    "            i += 1\n",
    "\n",
    "        if i < len(arr) and arr[i] >= node.data:\n",
    "            node.right = Node(arr[i])\n",
    "            queue.append(node.right)\n",
    "            i += 1\n",
    "\n",
    "    return root\n",
    "\n",
    "\n",
    "def inorder(root):\n",
    "    if root is None:\n",
    "        return\n",
    "    inorder(root.left)\n",
    "    print(root.data, end=\" \")\n",
    "    inorder(root.right)\n",
    "\n",
    "\n",
    "# Input level order traversal array\n",
    "arr = [7, 4, 12, 3, 6, 8, 1, 5, 10]\n",
    "\n",
    "# Construct the BST from the given level order traversal\n",
    "root = constructBST(arr)\n",
    "\n",
    "# Print the BST (inorder traversal)\n",
    "print(\"BST:\")\n",
    "inorder(root)\n"
   ]
  },
  {
   "cell_type": "markdown",
   "id": "4578bfde",
   "metadata": {},
   "source": [
    "**Question-3:)-  \n",
    "Given an array of size n. The problem is to check whether the given array can represent the level order traversal of a Binary Search Tree or not.\n",
    "Examples:  \n",
    "Input1 : arr[] = {7, 4, 12, 3, 6, 8, 1, 5, 10}  \n",
    "Output1 : Yes  \n",
    "For the given arr[], the Binary Search Tree is:  \n",
    "            7  \n",
    "         /    \\  \n",
    "       4     12  \n",
    "     /  \\     /  \n",
    "    3   6  8  \n",
    "   /    /     \\  \n",
    " 1    5      10  \n",
    "Input2 : arr[] = {11, 6, 13, 5, 12, 10}  \n",
    "Output2 : No  \n",
    "The given arr[] does not represent the level order traversal of a BST.**"
   ]
  },
  {
   "cell_type": "code",
   "execution_count": 10,
   "id": "7a04e29f",
   "metadata": {},
   "outputs": [
    {
     "name": "stdout",
     "output_type": "stream",
     "text": [
      "Is arr3_1 a Level Order Traversal of a BST? False\n",
      "Is arr3_2 a Level Order Traversal of a BST? False\n"
     ]
    }
   ],
   "source": [
    "# Question-3: Checking if the Given Array Represents the Level Order Traversal of a BST\n",
    "def isLevelOrderBST(arr):\n",
    "    if not arr:\n",
    "        return True\n",
    "\n",
    "    n = len(arr)\n",
    "    i = 1\n",
    "\n",
    "    while i < n and arr[i] < arr[0]:\n",
    "        i += 1\n",
    "\n",
    "    j = i\n",
    "\n",
    "    while j < n and arr[j] > arr[0]:\n",
    "        j += 1\n",
    "\n",
    "    if j < n:\n",
    "        return False\n",
    "\n",
    "    left_subtree = arr[1:i]\n",
    "    right_subtree = arr[i:]\n",
    "\n",
    "    return isLevelOrderBST(left_subtree) and isLevelOrderBST(right_subtree)\n",
    "\n",
    "# Question-3 Examples\n",
    "arr3_1 = [7, 4, 12, 3, 6, 8, 1, 5, 10]\n",
    "arr3_2 = [11, 6, 13, 5, 12, 10]\n",
    "print(\"Is arr3_1 a Level Order Traversal of a BST?\", isLevelOrderBST(arr3_1))\n",
    "print(\"Is arr3_2 a Level Order Traversal of a BST?\", isLevelOrderBST(arr3_2))"
   ]
  }
 ],
 "metadata": {
  "kernelspec": {
   "display_name": "Python 3 (ipykernel)",
   "language": "python",
   "name": "python3"
  },
  "language_info": {
   "codemirror_mode": {
    "name": "ipython",
    "version": 3
   },
   "file_extension": ".py",
   "mimetype": "text/x-python",
   "name": "python",
   "nbconvert_exporter": "python",
   "pygments_lexer": "ipython3",
   "version": "3.9.16"
  }
 },
 "nbformat": 4,
 "nbformat_minor": 5
}
