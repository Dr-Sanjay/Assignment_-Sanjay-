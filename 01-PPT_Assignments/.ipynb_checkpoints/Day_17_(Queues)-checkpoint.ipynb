{
 "cells": [
  {
   "cell_type": "markdown",
   "id": "3f3b8a32",
   "metadata": {},
   "source": [
    "# Assignment 17 (Queues)"
   ]
  },
  {
   "cell_type": "markdown",
   "id": "a4ae6fe0",
   "metadata": {},
   "source": [
    " 💡 Question 1\n",
    "Given a string s, find the first non-repeating character in it and return its index. If it does not exist, return -1.\n",
    "Example 1:\n",
    "```\n",
    "Input: s = \"leetcode\"\n",
    "Output: 0\n",
    "\n",
    "```\n",
    "Example 2:\n",
    "```\n",
    "Input: s = \"loveleetcode\"\n",
    "Output: 2\n",
    "\n",
    "```\n",
    "Example 3:\n",
    "```\n",
    "Input: s = \"aabb\"\n",
    "Output: -1\n",
    "\n",
    "```"
   ]
  },
  {
   "cell_type": "code",
   "execution_count": null,
   "id": "373cb60d",
   "metadata": {},
   "outputs": [
    {
     "name": "stdout",
     "output_type": "stream",
     "text": [
      "0\n",
      "2\n",
      "-1\n",
      "0\n",
      "2\n",
      "-1\n"
     ]
    }
   ],
   "source": [
    "def firstUniqChar(s):\n",
    "    char_count = {}\n",
    "    for char in s:\n",
    "        char_count[char] = char_count.get(char, 0) + 1\n",
    "    \n",
    "    for i, char in enumerate(s):\n",
    "        if char_count[char] == 1:\n",
    "            return i\n",
    "    \n",
    "    return -1\n",
    "\n",
    "print(firstUniqChar(\"leetcode\"))\n",
    "print(firstUniqChar(\"loveleetcode\"))\n",
    "print(firstUniqChar(\"aabb\"))  \n"
   ]
  },
  {
   "cell_type": "markdown",
   "id": "06dec3ce",
   "metadata": {},
   "source": [
    " 💡 Question 2\n",
    "Given a circular integer array nums of length n, return the maximum possible sum of a non-empty subarray of nums.\n",
    "A circular array means the end of the array connects to the beginning of the array. Formally, the next element of nums[i] is nums[(i + 1) % n] and the previous element of nums[i] is nums[(i - 1 + n) % n].\n",
    "A subarray may only include each element of the fixed buffer nums at most once. Formally, for a subarray nums[i], nums[i + 1], ..., nums[j], there does not exist i <= k1, k2 <= j with k1 % n == k2 % n.\n",
    "Example 1:\n",
    "```\n",
    "Input: nums = [1,-2,3,-2]\n",
    "Output: 3\n",
    "Explanation: Subarray [3] has maximum sum 3.\n",
    "\n",
    "```\n",
    "Example 2:\n",
    "```\n",
    "Input: nums = [5,-3,5]\n",
    "Output: 10\n",
    "Explanation: Subarray [5,5] has maximum sum 5 + 5 = 10.\n",
    "\n",
    "```\n",
    "Example 3:\n",
    "```\n",
    "Input: nums = [-3,-2,-3]\n",
    "Output: -2\n",
    "Explanation: Subarray [-2] has maximum sum -2.\n",
    "\n",
    "```"
   ]
  },
  {
   "cell_type": "code",
   "execution_count": 30,
   "id": "eb1e15f2",
   "metadata": {},
   "outputs": [
    {
     "name": "stdout",
     "output_type": "stream",
     "text": [
      "3\n",
      "10\n",
      "4\n"
     ]
    }
   ],
   "source": [
    "def maxSubarraySumCircular(nums):\n",
    "    total_sum = 0\n",
    "    max_sum = float('-inf')\n",
    "    min_sum = float('inf')\n",
    "    current_max = 0\n",
    "    current_min = 0\n",
    "    \n",
    "    for num in nums:\n",
    "        total_sum += num\n",
    "        current_max = max(current_max + num, num)\n",
    "        current_min = min(current_min + num, num)\n",
    "        max_sum = max(max_sum, current_max)\n",
    "        min_sum = min(min_sum, current_min)\n",
    "    \n",
    "    if max_sum > 0:\n",
    "        return max(max_sum, total_sum - min_sum)\n",
    "    else:\n",
    "        return max_sum\n",
    "\n",
    "print(maxSubarraySumCircular([1, -2, 3, -2]))  \n",
    "print(maxSubarraySumCircular([5, -3, 5])) \n",
    "print(maxSubarraySumCircular([3, -1, 2, -1])) \n"
   ]
  },
  {
   "cell_type": "markdown",
   "id": "74565f5e",
   "metadata": {},
   "source": [
    " 💡 Question 3\n",
    "The school cafeteria offers circular and square sandwiches at lunch break, referred to by numbers 0 and 1 respectively. All students stand in a queue. Each student either prefers square or circular sandwiches.\n",
    "The number of sandwiches in the cafeteria is equal to the number of students. The sandwiches are placed in a stack. At each step:\n",
    "- If the student at the front of the queue prefers the sandwich on the top of the stack, they will take it and leave the queue.\n",
    "- Otherwise, they will leave it and go to the queue's end.\n",
    "This continues until none of the queue students want to take the top sandwich and are thus unable to eat.\n",
    "You are given two integer arrays students and sandwiches where sandwiches[i] is the type of the ith sandwich in the stack (i = 0 is the top of the stack) and students[j] is the preference of the jth student in the initial queue (j = 0 is the front of the queue). Return the number of students that are unable to eat.\n",
    "Example 1:\n",
    "```\n",
    "Input: students = [1,1,0,0], sandwiches = [0,1,0,1]\n",
    "Output: 0\n",
    "Explanation:\n",
    "- Front student leaves the top sandwich and returns to the end of the line making students = [1,0,0,1].\n",
    "- Front student leaves the top sandwich and returns to the end of the line making students = [0,0,1,1].\n",
    "- Front student takes the top sandwich and leaves the line making students = [0,1,1] and sandwiches = [1,0,1].\n",
    "- Front student leaves the top sandwich and returns to the end of the line making students = [1,1,0].\n",
    "- Front student takes the top sandwich and leaves the line making students = [1,0] and sandwiches = [0,1].\n",
    "- Front student leaves the top sandwich and returns to the end of the line making students = [0,1].\n",
    "- Front student takes the top sandwich and leaves the line making students = [1] and sandwiches = [1].\n",
    "- Front student takes the top sandwich and leaves the line making students = [] and sandwiches = [].\n",
    "Hence all students are able to eat.\n",
    "\n",
    "```\n",
    "Example 2:\n",
    "```\n",
    "Input: students = [1,1,1,0,0,1], sandwiches = [1,0,0,0,1,1]\n",
    "Output: 3\n",
    "\n",
    "```"
   ]
  },
  {
   "cell_type": "code",
   "execution_count": 31,
   "id": "48aba9d8",
   "metadata": {},
   "outputs": [
    {
     "name": "stdout",
     "output_type": "stream",
     "text": [
      "0\n",
      "3\n"
     ]
    }
   ],
   "source": [
    "def countStudents(students, sandwiches):\n",
    "    student_count = [0, 0]\n",
    "    \n",
    "    for student in students:\n",
    "        student_count[student] += 1\n",
    "    \n",
    "    for sandwich in sandwiches:\n",
    "        if student_count[sandwich] == 0:\n",
    "            break\n",
    "        student_count[sandwich] -= 1\n",
    "    \n",
    "    return sum(student_count)\n",
    "\n",
    "print(countStudents([1, 1, 0, 0], [0, 1, 0, 1]))\n",
    "print(countStudents([1, 1, 1, 0, 0, 1], [1, 0, 0, 0, 1, 1]))\n"
   ]
  },
  {
   "cell_type": "markdown",
   "id": "419ed57d",
   "metadata": {},
   "source": [
    " 💡 Question 4\n",
    "You have a RecentCounter class which counts the number of recent requests within a certain time frame.\n",
    "Implement the RecentCounter class:\n",
    "- RecentCounter() Initializes the counter with zero recent requests.\n",
    "- int ping(int t) Adds a new request at time t, where t represents some time in milliseconds, and returns the number of requests that has happened in the past 3000 milliseconds (including the new request). Specifically, return the number of requests that have happened in the inclusive range [t - 3000, t].\n",
    "It is guaranteed that every call to ping uses a strictly larger value of t than the previous call.\n",
    "Example 1:\n",
    "```\n",
    "Input\n",
    "[\"RecentCounter\", \"ping\", \"ping\", \"ping\", \"ping\"]\n",
    "[[], [1], [100], [3001], [3002]]\n",
    "Output\n",
    "[null, 1, 2, 3, 3]\n",
    "\n",
    "Explanation\n",
    "RecentCounter recentCounter = new RecentCounter();\n",
    "recentCounter.ping(1);     // requests = [1], range is [-2999,1], return 1\n",
    "recentCounter.ping(100);   // requests = [1,100], range is [-2900,100], return 2\n",
    "recentCounter.ping(3001);  // requests = [1,100,3001], range is [1,3001], return 3\n",
    "recentCounter.ping(3002);  // requests = [1,100,3001,3002], range is [2,3002], return 3\n",
    "\n",
    "```"
   ]
  },
  {
   "cell_type": "code",
   "execution_count": 32,
   "id": "4ed4f8ed",
   "metadata": {},
   "outputs": [
    {
     "name": "stdout",
     "output_type": "stream",
     "text": [
      "1\n",
      "2\n",
      "3\n",
      "3\n"
     ]
    }
   ],
   "source": [
    "class RecentCounter:\n",
    "    def __init__(self):\n",
    "        self.requests = []\n",
    "    \n",
    "    def ping(self, t):\n",
    "        self.requests.append(t)\n",
    "        while self.requests[0] < t - 3000:\n",
    "            self.requests.pop(0)\n",
    "        return len(self.requests)\n",
    "\n",
    "obj = RecentCounter()\n",
    "print(obj.ping(1))  \n",
    "print(obj.ping(100))  \n",
    "print(obj.ping(3001))  \n",
    "print(obj.ping(3002))  \n"
   ]
  },
  {
   "cell_type": "markdown",
   "id": "31a9d86c",
   "metadata": {},
   "source": [
    " 💡 Question 5\n",
    "There are n friends that are playing a game. The friends are sitting in a circle and are numbered from 1 to n in clockwise order. More formally, moving clockwise from the ith friend brings you to the (i+1)th friend for 1 <= i < n, and moving clockwise from the nth friend brings you to the 1st friend.\n",
    "The rules of the game are as follows:\n",
    "1. Start at the 1st friend.\n",
    "2. Count the next k friends in the clockwise direction including the friend you started at. The counting wraps around the circle and may count some friends more than once.\n",
    "3. The last friend you counted leaves the circle and loses the game.\n",
    "4. If there is still more than one friend in the circle, go back to step 2 starting from the friend immediately clockwise of the friend who just lost and repeat.\n",
    "5. Else, the last friend in the circle wins the game.\n",
    "Given the number of friends, n, and an integer k, return the winner of the game.\n",
    "Example 1:\n",
    "!https://assets.leetcode.com/uploads/2021/03/25/ic234-q2-ex11.png\n",
    "```\n",
    "Input: n = 5, k = 2\n",
    "Output: 3\n",
    "Explanation: Here are the steps of the game:\n",
    "1) Start at friend 1.\n",
    "2) Count 2 friends clockwise, which are friends 1 and 2.\n",
    "3) Friend 2 leaves the circle. Next start is friend 3.\n",
    "4) Count 2 friends clockwise, which are friends 3 and 4.\n",
    "5) Friend 4 leaves the circle. Next start is friend 5.\n",
    "6) Count 2 friends clockwise, which are friends 5 and 1.\n",
    "7) Friend 1 leaves the circle. Next start is friend 3.\n",
    "8) Count 2 friends clockwise, which are friends 3 and 5.\n",
    "9) Friend 5 leaves the circle. Only friend 3 is left, so they are the winner.\n",
    "\n",
    "```\n",
    "Example 2:\n",
    "```\n",
    "Input: n = 6, k = 5\n",
    "Output: 1\n",
    "Explanation: The friends leave in this order: 5, 4, 6, 2, 3. The winner is friend 1.\n",
    "\n",
    "```"
   ]
  },
  {
   "cell_type": "code",
   "execution_count": 33,
   "id": "526ba35c",
   "metadata": {},
   "outputs": [
    {
     "name": "stdout",
     "output_type": "stream",
     "text": [
      "3\n",
      "1\n"
     ]
    }
   ],
   "source": [
    "def findTheWinner(n, k):\n",
    "    if n == 1:\n",
    "        return 1\n",
    "    else:\n",
    "        return (findTheWinner(n - 1, k) + k - 1) % n + 1\n",
    "\n",
    "print(findTheWinner(5, 2))  \n",
    "print(findTheWinner(6, 5)) \n"
   ]
  },
  {
   "cell_type": "markdown",
   "id": "fb5ef5c6",
   "metadata": {},
   "source": [
    " 💡 Question 6\n",
    "You are given an integer array deck. There is a deck of cards where every card has a unique integer. The integer on the ith card is deck[i].\n",
    "You can order the deck in any order you want. Initially, all the cards start face down (unrevealed) in one deck.\n",
    "You will do the following steps repeatedly until all cards are revealed:\n",
    "1. Take the top card of the deck, reveal it, and take it out of the deck.\n",
    "2. If there are still cards in the deck then put the next top card of the deck at the bottom of the deck.\n",
    "3. If there are still unrevealed cards, go back to step 1. Otherwise, stop.\n",
    "Return an ordering of the deck that would reveal the cards in increasing order.\n",
    "Note that the first entry in the answer is considered to be the top of the deck.\n",
    "Example 1:\n",
    "```\n",
    "Input: deck = [17,13,11,2,3,5,7]\n",
    "Output: [2,13,3,11,5,17,7]\n",
    "Explanation:\n",
    "We get the deck in the order [17,13,11,2,3,5,7] (this order does not matter), and reorder it.\n",
    "After reordering, the deck starts as [2,13,3,11,5,17,7], where 2 is the top of the deck.\n",
    "We reveal 2, and move 13 to the bottom.  The deck is now [3,11,5,17,7,13].\n",
    "We reveal 3, and move 11 to the bottom.  The deck is now [5,17,7,13,11].\n",
    "We reveal 5, and move 17 to the bottom.  The deck is now [7,13,11,17].\n",
    "We reveal 7, and move 13 to the bottom.  The deck is now [11,17,13].\n",
    "We reveal 11, and move 17 to the bottom.  The deck is now [13,17].\n",
    "We reveal 13, and move 17 to the bottom.  The deck is now [17].\n",
    "We reveal 17.\n",
    "Since all the cards revealed are in increasing order, the answer is correct.\n",
    "\n",
    "```\n",
    "Example 2:\n",
    "```\n",
    "Input: deck = [1,1000]\n",
    "Output: [1,1000]\n",
    "\n",
    "```"
   ]
  },
  {
   "cell_type": "code",
   "execution_count": 34,
   "id": "ca836e12",
   "metadata": {},
   "outputs": [
    {
     "name": "stdout",
     "output_type": "stream",
     "text": [
      "[2, 13, 3, 11, 5, 17, 7]\n",
      "[1, 1000]\n"
     ]
    }
   ],
   "source": [
    "from collections import deque\n",
    "def deckRevealedIncreasing(deck):\n",
    "    deck.sort(reverse=True)\n",
    "    result = deque()\n",
    "    result.appendleft(deck[0])\n",
    "    \n",
    "    for i in range(1, len(deck)):\n",
    "        result.appendleft(result.pop())\n",
    "        result.appendleft(deck[i])\n",
    "    \n",
    "    return list(result)\n",
    "\n",
    "# Example 1\n",
    "deck1 = [17, 13, 11, 2, 3, 5, 7]\n",
    "print(deckRevealedIncreasing(deck1))\n",
    "\n",
    "\n",
    "# Example 2\n",
    "deck2 = [1,1000]\n",
    "print(deckRevealedIncreasing(deck2))\n",
    "\n"
   ]
  },
  {
   "cell_type": "markdown",
   "id": "affb4a61",
   "metadata": {},
   "source": [
    " 💡 Question 7\n",
    "Design a queue that supports push and pop operations in the front, middle, and back.\n",
    "Implement the FrontMiddleBack class:\n",
    "- FrontMiddleBack() Initializes the queue.\n",
    "- void pushFront(int val) Adds val to the front of the queue.\n",
    "- void pushMiddle(int val) Adds val to the middle of the queue.\n",
    "- void pushBack(int val) Adds val to the back of the queue.\n",
    "- int popFront() Removes the front element of the queue and returns it. If the queue is empty, return 1.\n",
    "- int popMiddle() Removes the middle element of the queue and returns it. If the queue is empty, return 1.\n",
    "- int popBack() Removes the back element of the queue and returns it. If the queue is empty, return 1.\n",
    "Notice that when there are two middle position choices, the operation is performed on the frontmost middle position choice. For example:\n",
    "- Pushing 6 into the middle of [1, 2, 3, 4, 5] results in [1, 2, 6, 3, 4, 5].\n",
    "- Popping the middle from [1, 2, 3, 4, 5, 6] returns 3 and results in [1, 2, 4, 5, 6].\n",
    "Example 1:\n",
    "```\n",
    "Input:\n",
    "[\"FrontMiddleBackQueue\", \"pushFront\", \"pushBack\", \"pushMiddle\", \"pushMiddle\", \"popFront\", \"popMiddle\", \"popMiddle\", \"popBack\", \"popFront\"]\n",
    "[[], [1], [2], [3], [4], [], [], [], [], []]\n",
    "Output:\n",
    "[null, null, null, null, null, 1, 3, 4, 2, -1]\n",
    "\n",
    "Explanation:\n",
    "FrontMiddleBackQueue q = new FrontMiddleBackQueue();\n",
    "q.pushFront(1);   // [1]\n",
    "q.pushBack(2);    // [1,2]\n",
    "q.pushMiddle(3);  // [1,3, 2]\n",
    "q.pushMiddle(4);  // [1,4, 3, 2]\n",
    "q.popFront();     // return 1 -> [4, 3, 2]\n",
    "q.popMiddle();    // return 3 -> [4, 2]\n",
    "q.popMiddle();    // return 4 -> [2]\n",
    "q.popBack();      // return 2 -> []\n",
    "q.popFront();     // return -1 -> [] (The queue is empty)\n",
    "\n",
    "```"
   ]
  },
  {
   "cell_type": "code",
   "execution_count": 35,
   "id": "39da7f15",
   "metadata": {},
   "outputs": [
    {
     "name": "stdout",
     "output_type": "stream",
     "text": [
      "1\n",
      "3\n",
      "4\n",
      "2\n",
      "-1\n"
     ]
    }
   ],
   "source": [
    "class FrontMiddleBackQueue:\n",
    "    def __init__(self):\n",
    "        self.queue = []\n",
    "\n",
    "    def pushFront(self, val):\n",
    "        self.queue.insert(0, val)\n",
    "\n",
    "    def pushMiddle(self, val):\n",
    "        middle = len(self.queue) // 2\n",
    "        self.queue.insert(middle, val)\n",
    "\n",
    "    def pushBack(self, val):\n",
    "        self.queue.append(val)\n",
    "\n",
    "    def popFront(self):\n",
    "        if self.queue:\n",
    "            return self.queue.pop(0)\n",
    "        return -1\n",
    "\n",
    "    def popMiddle(self):\n",
    "        if self.queue:\n",
    "            middle = len(self.queue) // 2\n",
    "            return self.queue.pop(middle) if len(self.queue) % 2 != 0 else self.queue.pop(middle - 1)\n",
    "        return -1\n",
    "\n",
    "    def popBack(self):\n",
    "        if self.queue:\n",
    "            return self.queue.pop() \n",
    "        return -1\n",
    "q = FrontMiddleBackQueue()\n",
    "q.pushFront(1)\n",
    "q.pushBack(2)\n",
    "q.pushMiddle(3)\n",
    "q.pushMiddle(4)\n",
    "print(q.popFront())    \n",
    "print(q.popMiddle())  \n",
    "print(q.popMiddle())  \n",
    "print(q.popBack())     \n",
    "print(q.popFront())   \n"
   ]
  },
  {
   "cell_type": "markdown",
   "id": "5f7ba755",
   "metadata": {},
   "source": [
    " 💡 Question 8\n",
    "For a stream of integers, implement a data structure that checks if the last k integers parsed in the stream are equal to value.\n",
    "Implement the DataStream class:\n",
    "- DataStream(int value, int k) Initializes the object with an empty integer stream and the two integers value and k.\n",
    "- boolean consec(int num) Adds num to the stream of integers. Returns true if the last k integers are equal to value, and false otherwise. If there are less than k integers, the condition does not hold true, so returns false.\n",
    "Example 1:\n",
    "```\n",
    "Input\n",
    "[\"DataStream\", \"consec\", \"consec\", \"consec\", \"consec\"]\n",
    "[[4, 3], [4], [4], [4], [3]]\n",
    "Output\n",
    "[null, false, false, true, false]\n",
    "\n",
    "Explanation\n",
    "DataStream dataStream = new DataStream(4, 3); //value = 4, k = 3\n",
    "dataStream.consec(4); // Only 1 integer is parsed, so returns False.\n",
    "dataStream.consec(4); // Only 2 integers are parsed.\n",
    "                      // Since 2 is less than k, returns False.\n",
    "dataStream.consec(4); // The 3 integers parsed are all equal to value, so returns True.\n",
    "dataStream.consec(3); // The last k integers parsed in the stream are [4,4,3].\n",
    "                      // Since 3 is not equal to value, it returns False.\n",
    "\n",
    "```\n"
   ]
  },
  {
   "cell_type": "code",
   "execution_count": 36,
   "id": "0b9dc551",
   "metadata": {},
   "outputs": [
    {
     "name": "stdout",
     "output_type": "stream",
     "text": [
      "False\n",
      "False\n",
      "True\n",
      "False\n"
     ]
    }
   ],
   "source": [
    "import collections\n",
    "class DataStream:\n",
    "    def __init__(self, value, k):\n",
    "        self.value = value\n",
    "        self.k = k\n",
    "        self.deque = collections.deque()\n",
    "\n",
    "    def consec(self, num):\n",
    "        self.deque.append(num)\n",
    "        if len(self.deque) < self.k:\n",
    "            return False\n",
    "\n",
    "        i = 0\n",
    "        for x in self.deque:\n",
    "            if x != self.value:\n",
    "                return False\n",
    "            i += 1\n",
    "\n",
    "        return i == self.k\n",
    "\n",
    "\n",
    "def main():\n",
    "    data_stream = DataStream(4, 3)\n",
    "    print(data_stream.consec(4))  \n",
    "    print(data_stream.consec(4))  \n",
    "    print(data_stream.consec(4))  \n",
    "    print(data_stream.consec(3))  \n",
    "    \n",
    "if __name__ == \"__main__\":\n",
    "    main()\n",
    "\n"
   ]
  }
 ],
 "metadata": {
  "kernelspec": {
   "display_name": "Python 3 (ipykernel)",
   "language": "python",
   "name": "python3"
  },
  "language_info": {
   "codemirror_mode": {
    "name": "ipython",
    "version": 3
   },
   "file_extension": ".py",
   "mimetype": "text/x-python",
   "name": "python",
   "nbconvert_exporter": "python",
   "pygments_lexer": "ipython3",
   "version": "3.9.16"
  }
 },
 "nbformat": 4,
 "nbformat_minor": 5
}
