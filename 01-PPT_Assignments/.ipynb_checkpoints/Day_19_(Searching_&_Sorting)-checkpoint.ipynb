{
 "cells": [
  {
   "cell_type": "markdown",
   "id": "8797862f",
   "metadata": {},
   "source": [
    "# Assignment 19 (Searching & Sorting)"
   ]
  },
  {
   "cell_type": "markdown",
   "id": "05037522",
   "metadata": {},
   "source": [
    "**💡 1. Merge k Sorted Lists\n",
    "You are given an array of k linked-lists lists, each linked-list is sorted in ascending order.\n",
    "Merge all the linked-lists into one sorted linked-list and return it.**  \n",
    "Example 1:\n",
    "```\n",
    "Input: lists = [[1,4,5],[1,3,4],[2,6]]\n",
    "Output: [1,1,2,3,4,4,5,6]\n",
    "Explanation: The linked-lists are:\n",
    "[\n",
    "  1->4->5,\n",
    "  1->3->4,\n",
    "  2->6\n",
    "]\n",
    "merging them into one sorted list:\n",
    "1->1->2->3->4->4->5->6\n",
    "\n",
    "```\n",
    "Example 2:\n",
    "```\n",
    "Input: lists = []\n",
    "Output: []\n",
    "\n",
    "```\n",
    "Example 3:\n",
    "```\n",
    "Input: lists = [[]]\n",
    "Output: []\n",
    "\n",
    "```\n",
    "Constraints:\n",
    "- k == lists.length\n",
    "- 0 <= k <= 10000\n",
    "- 0 <= lists[i].length <= 500\n",
    "- -10000 <= lists[i][j] <= 10000\n",
    "- lists[i] is sorted in ascending order.\n",
    "- The sum of lists[i].length will not exceed 10000. "
   ]
  },
  {
   "cell_type": "code",
   "execution_count": 10,
   "id": "ba8a66db",
   "metadata": {},
   "outputs": [
    {
     "name": "stdout",
     "output_type": "stream",
     "text": [
      "1 1 2 3 4 4 5 6 "
     ]
    }
   ],
   "source": [
    "import heapq\n",
    "\n",
    "class ListNode:\n",
    "    def __init__(self, val=0, next=None):\n",
    "        self.val = val\n",
    "        self.next = next\n",
    "\n",
    "def mergeKLists(lists):\n",
    "    min_heap = []\n",
    "    for i in range(len(lists)):\n",
    "        if lists[i]:\n",
    "            heapq.heappush(min_heap, (lists[i].val, i))\n",
    "            lists[i] = lists[i].next\n",
    "    \n",
    "    dummy = ListNode(0)\n",
    "    curr = dummy\n",
    "    \n",
    "    while min_heap:\n",
    "        val, i = heapq.heappop(min_heap)\n",
    "        curr.next = ListNode(val)\n",
    "        curr = curr.next\n",
    "        \n",
    "        if lists[i]:\n",
    "            heapq.heappush(min_heap, (lists[i].val, i))\n",
    "            lists[i] = lists[i].next\n",
    "    \n",
    "    return dummy.next\n",
    "\n",
    "# Example usage\n",
    "list1 = ListNode(1)\n",
    "list1.next = ListNode(4)\n",
    "list1.next.next = ListNode(5)\n",
    "\n",
    "list2 = ListNode(1)\n",
    "list2.next = ListNode(3)\n",
    "list2.next.next = ListNode(4)\n",
    "\n",
    "list3 = ListNode(2)\n",
    "list3.next = ListNode(6)\n",
    "\n",
    "lists = [list1, list2, list3]\n",
    "\n",
    "merged_list = mergeKLists(lists)\n",
    "\n",
    "# Printing the merged list\n",
    "while merged_list:\n",
    "    print(merged_list.val, end=\" \")\n",
    "    merged_list = merged_list.next\n"
   ]
  },
  {
   "cell_type": "markdown",
   "id": "478b1725",
   "metadata": {},
   "source": [
    "**💡 2. Count of Smaller Numbers After Self\n",
    "Given an integer array nums, return an integer array counts where counts[i] is the number of smaller elements to the right of nums[i].**  \n",
    "Example 1:\n",
    "```\n",
    "Input: nums = [5,2,6,1]\n",
    "Output: [2,1,1,0]\n",
    "Explanation:\n",
    "To the right of 5 there are2 smaller elements (2 and 1).\n",
    "To the right of 2 there is only1 smaller element (1).\n",
    "To the right of 6 there is1 smaller element (1).\n",
    "To the right of 1 there is0 smaller element.\n",
    "\n",
    "```\n",
    "Example 2:\n",
    "```\n",
    "Input: nums = [-1]\n",
    "Output: [0]\n",
    "\n",
    "```\n",
    "Example 3:\n",
    "```\n",
    "Input: nums = [-1,-1]\n",
    "Output: [0,0]\n",
    "\n",
    "```\n",
    "Constraints:\n",
    "- 1 <= nums.length <= 100000\n",
    "- -10000 <= nums[i] <= 10000 "
   ]
  },
  {
   "cell_type": "code",
   "execution_count": 19,
   "id": "35359fad",
   "metadata": {},
   "outputs": [
    {
     "name": "stdout",
     "output_type": "stream",
     "text": [
      "[2, 1, 1, 0]\n"
     ]
    }
   ],
   "source": [
    "class Node:\n",
    "    def __init__(self, val):\n",
    "        self.val = val\n",
    "        self.count = 1\n",
    "        self.left_count = 0\n",
    "        self.left = None\n",
    "        self.right = None\n",
    "\n",
    "\n",
    "def insert(node, val, smaller_count, index, result):\n",
    "    if node is None:\n",
    "        node = Node(val)\n",
    "        result[index] = smaller_count\n",
    "    elif node.val == val:\n",
    "        node.count += 1\n",
    "        result[index] = smaller_count + node.left_count\n",
    "    elif node.val > val:\n",
    "        node.left_count += 1\n",
    "        node.left = insert(node.left, val, smaller_count, index, result)\n",
    "    else:\n",
    "        node.right = insert(node.right, val, smaller_count + node.count + node.left_count, index, result)\n",
    "    return node\n",
    "\n",
    "\n",
    "def countSmaller(nums):\n",
    "    n = len(nums)\n",
    "    result = [0] * n\n",
    "    root = None\n",
    "\n",
    "    for i in range(n - 1, -1, -1):\n",
    "        root = insert(root, nums[i], 0, i, result)\n",
    "\n",
    "    return result\n",
    "\n",
    "\n",
    "# Example usage\n",
    "nums = [5, 2, 6, 1]\n",
    "counts = countSmaller(nums)\n",
    "print(counts) \n"
   ]
  },
  {
   "cell_type": "markdown",
   "id": "124c1856",
   "metadata": {},
   "source": [
    "**💡 3. Sort an Array\n",
    "Given an array of integers nums, sort the array in ascending order and return it.\n",
    "You must solve the problem without using any built-in functions in O(nlog(n)) time complexity and with the smallest space complexity possible.**  \n",
    "\n",
    "Example 1:\n",
    "```\n",
    "Input: nums = [5,2,3,1]\n",
    "Output: [1,2,3,5]\n",
    "Explanation: After sorting the array, the positions of some numbers are not changed (for example, 2 and 3), while the positions of other numbers are changed (for example, 1 and 5).\n",
    "\n",
    "```\n",
    "Example 2:\n",
    "```\n",
    "Input: nums = [5,1,1,2,0,0]\n",
    "Output: [0,0,1,1,2,5]\n",
    "Explanation: Note that the values of nums are not necessairly unique.\n",
    "\n",
    "```\n",
    "Constraints:\n",
    "- 1 <= nums.length <= 5 * 10000\n",
    "- -5 * 104 <= nums[i] <= 5 * 10000 "
   ]
  },
  {
   "cell_type": "code",
   "execution_count": 12,
   "id": "1f25eeb3",
   "metadata": {},
   "outputs": [
    {
     "name": "stdout",
     "output_type": "stream",
     "text": [
      "[1, 2, 3, 5]\n"
     ]
    }
   ],
   "source": [
    "def merge(nums1, nums2):\n",
    "    merged = []\n",
    "    i, j = 0, 0\n",
    "    \n",
    "    while i < len(nums1) and j < len(nums2):\n",
    "        if nums1[i] < nums2[j]:\n",
    "            merged.append(nums1[i])\n",
    "            i += 1\n",
    "        else:\n",
    "            merged.append(nums2[j])\n",
    "            j += 1\n",
    "    \n",
    "    while i < len(nums1):\n",
    "        merged.append(nums1[i])\n",
    "        i += 1\n",
    "    \n",
    "    while j < len(nums2):\n",
    "        merged.append(nums2[j])\n",
    "        j += 1\n",
    "    \n",
    "    return merged\n",
    "\n",
    "def mergeSort(nums):\n",
    "    if len(nums) <= 1:\n",
    "        return nums\n",
    "    \n",
    "    mid = len(nums) // 2\n",
    "    left = mergeSort(nums[:mid])\n",
    "    right = mergeSort(nums[mid:])\n",
    "    \n",
    "    return merge(left, right)\n",
    "\n",
    "# Example usage\n",
    "nums = [5, 2, 3, 1]\n",
    "sorted_nums = mergeSort(nums)\n",
    "print(sorted_nums) \n"
   ]
  },
  {
   "cell_type": "markdown",
   "id": "5c55c970",
   "metadata": {},
   "source": [
    "**💡 4. Move all zeroes to end of array\n",
    "Given an array of random numbers, Push all the zero’s of a given array to the end of the array. For example, if the given arrays is {1, 9, 8, 4, 0, 0, 2, 7, 0, 6, 0}, it should be changed to {1, 9, 8, 4, 2, 7, 6, 0, 0, 0, 0}. The order of all other elements should be same. Expected time complexity is O(n) and extra space is O(1).**  \n",
    "Example:\n",
    "```\n",
    "Input :  arr[] = {1, 2, 0, 4, 3, 0, 5, 0};\n",
    "Output : arr[] = {1, 2, 4, 3, 5, 0, 0, 0};\n",
    "\n",
    "Input : arr[]  = {1, 2, 0, 0, 0, 3, 6};\n",
    "Output : arr[] = {1, 2, 3, 6, 0, 0, 0};\n",
    "\n",
    "```"
   ]
  },
  {
   "cell_type": "code",
   "execution_count": 13,
   "id": "7091036d",
   "metadata": {},
   "outputs": [
    {
     "name": "stdout",
     "output_type": "stream",
     "text": [
      "[1, 2, 4, 3, 5, 0, 0, 0]\n"
     ]
    }
   ],
   "source": [
    "def moveZeroes(nums):\n",
    "    n = len(nums)\n",
    "    zero_count = 0\n",
    "    \n",
    "    for i in range(n):\n",
    "        if nums[i] != 0:\n",
    "            nums[i], nums[zero_count] = nums[zero_count], nums[i]\n",
    "            zero_count += 1\n",
    "\n",
    "# Example usage\n",
    "arr = [1, 2, 0, 4, 3, 0, 5, 0]\n",
    "moveZeroes(arr)\n",
    "print(arr) \n"
   ]
  },
  {
   "cell_type": "markdown",
   "id": "205836ea",
   "metadata": {},
   "source": [
    "**💡 5. Rearrange array in alternating positive & negative items with O(1) extra space\n",
    "Given an array of positive and negative numbers, arrange them in an alternate fashion such that every positive number is followed by a negative and vice-versa maintaining the order of appearance. The number of positive and negative numbers need not be equal. If there are more positive numbers they appear at the end of the array. If there are more negative numbers, they too appear at the end of the array.**  \n",
    "Examples:\n",
    "Input:  arr[] = {1, 2, 3, -4, -1, 4} Output: arr[] = {-4, 1, -1, 2, 3, 4}\n",
    "Input:  arr[] = {-5, -2, 5, 2, 4, 7, 1, 8, 0, -8} Output: arr[] = {-5, 5, -2, 2, -8, 4, 7, 1, 8, 0}"
   ]
  },
  {
   "cell_type": "code",
   "execution_count": 14,
   "id": "7bca1ee0",
   "metadata": {},
   "outputs": [
    {
     "name": "stdout",
     "output_type": "stream",
     "text": [
      "[3, -1, 1, -4, 2, 4]\n"
     ]
    }
   ],
   "source": [
    "def rearrange(nums):\n",
    "    n = len(nums)\n",
    "    i = -1\n",
    "    \n",
    "    for j in range(n):\n",
    "        if nums[j] < 0:\n",
    "            i += 1\n",
    "            nums[i], nums[j] = nums[j], nums[i]\n",
    "    \n",
    "    pos, neg = i + 1, 0\n",
    "    \n",
    "    while pos < n and neg < pos and nums[neg] < 0:\n",
    "        nums[neg], nums[pos] = nums[pos], nums[neg]\n",
    "        pos += 1\n",
    "        neg += 2\n",
    "\n",
    "# Example usage\n",
    "arr = [1, 2, 3, -4, -1, 4]\n",
    "rearrange(arr)\n",
    "print(arr) \n"
   ]
  },
  {
   "cell_type": "markdown",
   "id": "435e0084",
   "metadata": {},
   "source": [
    "**💡 6. Merge two sorted arrays\n",
    "Given two sorted arrays, the task is to merge them in a sorted manner.**  \n",
    "Examples:\n",
    "Input: arr1[] = { 1, 3, 4, 5}, arr2[] = {2, 4, 6, 8}  Output: arr3[] = {1, 2, 3, 4, 4, 5, 6, 8}\n",
    "Input: arr1[] = { 5, 8, 9}, arr2[] = {4, 7, 8} Output: arr3[] = {4, 5, 7, 8, 8, 9}"
   ]
  },
  {
   "cell_type": "code",
   "execution_count": 17,
   "id": "01c2fc93",
   "metadata": {},
   "outputs": [
    {
     "name": "stdout",
     "output_type": "stream",
     "text": [
      "[1, 2, 3, 4, 4, 5, 6, 8]\n"
     ]
    }
   ],
   "source": [
    "def mergeArrays(arr1, arr2):\n",
    "    m, n = len(arr1), len(arr2)\n",
    "    arr3 = []\n",
    "    i, j = 0, 0\n",
    "    \n",
    "    while i < m and j < n:\n",
    "        if arr1[i] <= arr2[j]:\n",
    "            arr3.append(arr1[i])\n",
    "            i += 1\n",
    "        else:\n",
    "            arr3.append(arr2[j])\n",
    "            j += 1\n",
    "    \n",
    "    while i < m:\n",
    "        arr3.append(arr1[i])\n",
    "        i += 1\n",
    "    \n",
    "    while j < n:\n",
    "        arr3.append(arr2[j])\n",
    "        j += 1\n",
    "    \n",
    "    return arr3\n",
    "\n",
    "# Example usage\n",
    "arr1 = [1, 3, 4, 5]\n",
    "arr2 = [2, 4, 6, 8]\n",
    "merged_arr = mergeArrays(arr1, arr2)\n",
    "print(merged_arr) \n"
   ]
  },
  {
   "cell_type": "markdown",
   "id": "f2690776",
   "metadata": {},
   "source": [
    "**💡 7. Intersection of Two Arrays\n",
    "Given two integer arrays nums1 and nums2, return an array of their intersection. Each element in the result must be unique and you may return the result in any order.**  \n",
    "Example 1:\n",
    "```\n",
    "Input: nums1 = [1,2,2,1], nums2 = [2,2]\n",
    "Output: [2]\n",
    "\n",
    "```\n",
    "Example 2:\n",
    "```\n",
    "Input: nums1 = [4,9,5], nums2 = [9,4,9,8,4]\n",
    "Output: [9,4]\n",
    "Explanation: [4,9] is also accepted.\n",
    "\n",
    "```\n",
    "Constraints:\n",
    "- 1 <= nums1.length, nums2.length <= 1000\n",
    "- 0 <= nums1[i], nums2[i] <= 1000 "
   ]
  },
  {
   "cell_type": "code",
   "execution_count": 15,
   "id": "96eabe7b",
   "metadata": {},
   "outputs": [
    {
     "name": "stdout",
     "output_type": "stream",
     "text": [
      "[2]\n"
     ]
    }
   ],
   "source": [
    "def intersection(nums1, nums2):\n",
    "    set1 = set(nums1)\n",
    "    set2 = set(nums2)\n",
    "    return list(set1.intersection(set2))\n",
    "\n",
    "# Example usage\n",
    "nums1 = [1, 2, 2, 1]\n",
    "nums2 = [2, 2]\n",
    "intersection_list = intersection(nums1, nums2)\n",
    "print(intersection_list)\n"
   ]
  },
  {
   "cell_type": "markdown",
   "id": "e6e82228",
   "metadata": {},
   "source": [
    "**💡 8. Intersection of Two Arrays II\n",
    "Given two integer arrays nums1 and nums2, return an array of their intersection. Each element in the result must appear as many times as it shows in both arrays and you may return the result in any order.**  \n",
    "Example 1:\n",
    "```\n",
    "Input: nums1 = [1,2,2,1], nums2 = [2,2]\n",
    "Output: [2,2]\n",
    "\n",
    "```\n",
    "Example 2:\n",
    "```\n",
    "Input: nums1 = [4,9,5], nums2 = [9,4,9,8,4]\n",
    "Output: [4,9]\n",
    "Explanation: [9,4] is also accepted.\n",
    "\n",
    "```\n",
    "Constraints:\n",
    "- 1 <= nums1.length, nums2.length <= 1000\n",
    "- 0 <= nums1[i], nums2[i] <= 1000 "
   ]
  },
  {
   "cell_type": "code",
   "execution_count": 16,
   "id": "2816adf4",
   "metadata": {},
   "outputs": [
    {
     "name": "stdout",
     "output_type": "stream",
     "text": [
      "[2, 2]\n"
     ]
    }
   ],
   "source": [
    "def intersect(nums1, nums2):\n",
    "    count1 = {}\n",
    "    result = []\n",
    "    \n",
    "    for num in nums1:\n",
    "        count1[num] = count1.get(num, 0) + 1\n",
    "    \n",
    "    for num in nums2:\n",
    "        if num in count1 and count1[num] > 0:\n",
    "            result.append(num)\n",
    "            count1[num] -= 1\n",
    "    \n",
    "    return result\n",
    "\n",
    "# Example usage\n",
    "nums1 = [1, 2, 2, 1]\n",
    "nums2 = [2, 2]\n",
    "intersection_list = intersect(nums1, nums2)\n",
    "print(intersection_list) \n"
   ]
  }
 ],
 "metadata": {
  "kernelspec": {
   "display_name": "Python 3 (ipykernel)",
   "language": "python",
   "name": "python3"
  },
  "language_info": {
   "codemirror_mode": {
    "name": "ipython",
    "version": 3
   },
   "file_extension": ".py",
   "mimetype": "text/x-python",
   "name": "python",
   "nbconvert_exporter": "python",
   "pygments_lexer": "ipython3",
   "version": "3.9.16"
  }
 },
 "nbformat": 4,
 "nbformat_minor": 5
}
