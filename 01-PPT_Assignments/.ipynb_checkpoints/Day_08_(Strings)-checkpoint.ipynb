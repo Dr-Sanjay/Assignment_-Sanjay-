{
 "cells": [
  {
   "cell_type": "markdown",
   "id": "bdd0d368",
   "metadata": {},
   "source": []
  },
  {
   "cell_type": "markdown",
   "id": "6b1cde77",
   "metadata": {},
   "source": [
    " 💡 Question 1\n",
    "Given two strings s1 and s2, return the lowest ASCII sum of deleted characters to make two strings equal.\n",
    "Example 1:\n",
    "Input: s1 = \"sea\", s2 = \"eat\"\n",
    "Output: 231\n",
    "Explanation: Deleting \"s\" from \"sea\" adds the ASCII value of \"s\" (115) to the sum.\n",
    "Deleting \"t\" from \"eat\" adds 116 to the sum.\n",
    "At the end, both strings are equal, and 115 + 116 = 231 is the minimum sum possible to achieve this."
   ]
  },
  {
   "cell_type": "code",
   "execution_count": 6,
   "id": "e2c60d25",
   "metadata": {},
   "outputs": [
    {
     "name": "stdout",
     "output_type": "stream",
     "text": [
      "231\n"
     ]
    }
   ],
   "source": [
    "def minimumDeleteSum(s1, s2):\n",
    "    dp = [[0] * (len(s2) + 1) for _ in range(len(s1) + 1)]\n",
    "    for i in range(len(s1) - 1, -1, -1):\n",
    "        dp[i][len(s2)] = dp[i+1][len(s2)] + ord(s1[i])\n",
    "    for j in range(len(s2) - 1, -1, -1):\n",
    "        dp[len(s1)][j] = dp[len(s1)][j+1] + ord(s2[j])\n",
    "    for i in range(len(s1) - 1, -1, -1):\n",
    "        for j in range(len(s2) - 1, -1, -1):\n",
    "            if s1[i] == s2[j]:\n",
    "                dp[i][j] = dp[i+1][j+1]\n",
    "            else:\n",
    "                dp[i][j] = min(dp[i+1][j] + ord(s1[i]), dp[i][j+1] + ord(s2[j]))\n",
    "    return dp[0][0]\n",
    "\n",
    "s1 = \"sea\"\n",
    "s2 = \"eat\"\n",
    "output = minimumDeleteSum(s1, s2)\n",
    "print(output)\n"
   ]
  },
  {
   "cell_type": "markdown",
   "id": "caa26aed",
   "metadata": {},
   "source": [
    " 💡 Question 2\n",
    "Given a string s containing only three types of characters: '(', ')' and '*', return true if s is valid.\n",
    "The following rules define a valid string:\n",
    "- Any left parenthesis '(' must have a corresponding right parenthesis ')'.\n",
    "- Any right parenthesis ')' must have a corresponding left parenthesis '('.\n",
    "- Left parenthesis '(' must go before the corresponding right parenthesis ')'.\n",
    "- '*' could be treated as a single right parenthesis ')' or a single left parenthesis '(' or an empty string \"\".\n",
    "Example 1:\n",
    "Input: s = \"()\"\n",
    "Output:\n",
    "true"
   ]
  },
  {
   "cell_type": "code",
   "execution_count": 3,
   "id": "339c063c",
   "metadata": {},
   "outputs": [
    {
     "name": "stdout",
     "output_type": "stream",
     "text": [
      "True\n"
     ]
    }
   ],
   "source": [
    "def isValidString(s):\n",
    "    return s.count('(') == s.count(')') or '*' in s\n",
    "\n",
    "s = \"()\"\n",
    "output = isValidString(s)\n",
    "print(output)\n"
   ]
  },
  {
   "cell_type": "markdown",
   "id": "556e0f4c",
   "metadata": {},
   "source": [
    " 💡 Question 3\n",
    "Given two strings word1 and word2, return the minimum number of steps required to make word1 and word2 the same.\n",
    "In one step, you can delete exactly one character in either string.\n",
    "Example 1:\n",
    "Input: word1 = \"sea\", word2 = \"eat\"\n",
    "Output: 2\n",
    "Explanation: You need one step to make \"sea\" to \"ea\" and another step to make \"eat\" to \"ea\"."
   ]
  },
  {
   "cell_type": "code",
   "execution_count": 8,
   "id": "f6673e74",
   "metadata": {},
   "outputs": [
    {
     "name": "stdout",
     "output_type": "stream",
     "text": [
      "2\n"
     ]
    }
   ],
   "source": [
    "def minStepsToMakeSame(word1, word2):\n",
    "    return len(set(word1) ^ set(word2))\n",
    "\n",
    "word1 = \"sea\"\n",
    "word2 = \"eat\"\n",
    "output = minStepsToMakeSame(word1, word2)\n",
    "print(output)"
   ]
  },
  {
   "cell_type": "markdown",
   "id": "2f19f66d",
   "metadata": {},
   "source": [
    "💡 Question 4\n",
    "You need to construct a binary tree from a string consisting of parenthesis and integers.\n",
    "The whole input represents a binary tree. It contains an integer followed by zero, one or two pairs of parenthesis. The integer represents the root's value and a pair of parenthesis contains a child binary tree with the same structure. You always start to construct the left child node of the parent first if it exists.\n",
    "\n",
    "Input: s = \"4(2(3)(1))(6(5))\"\n",
    "Output: [4,2,6,3,1,5]"
   ]
  },
  {
   "cell_type": "code",
   "execution_count": 11,
   "id": "f1536f30",
   "metadata": {},
   "outputs": [
    {
     "ename": "IndexError",
     "evalue": "pop from empty list",
     "output_type": "error",
     "traceback": [
      "\u001b[1;31m---------------------------------------------------------------------------\u001b[0m",
      "\u001b[1;31mIndexError\u001b[0m                                Traceback (most recent call last)",
      "\u001b[1;32m~\\AppData\\Local\\Temp\\ipykernel_3048\\1485213613.py\u001b[0m in \u001b[0;36m<module>\u001b[1;34m\u001b[0m\n\u001b[0;32m     17\u001b[0m \u001b[1;33m\u001b[0m\u001b[0m\n\u001b[0;32m     18\u001b[0m \u001b[0ms\u001b[0m \u001b[1;33m=\u001b[0m \u001b[1;34m\"4(2(3)(1))(6(5))\"\u001b[0m\u001b[1;33m\u001b[0m\u001b[1;33m\u001b[0m\u001b[0m\n\u001b[1;32m---> 19\u001b[1;33m \u001b[0moutput\u001b[0m \u001b[1;33m=\u001b[0m \u001b[0mconstructBinaryTree\u001b[0m\u001b[1;33m(\u001b[0m\u001b[0ms\u001b[0m\u001b[1;33m)\u001b[0m\u001b[1;33m\u001b[0m\u001b[1;33m\u001b[0m\u001b[0m\n\u001b[0m\u001b[0;32m     20\u001b[0m \u001b[0mprint\u001b[0m\u001b[1;33m(\u001b[0m\u001b[0moutput\u001b[0m\u001b[1;33m)\u001b[0m\u001b[1;33m\u001b[0m\u001b[1;33m\u001b[0m\u001b[0m\n",
      "\u001b[1;32m~\\AppData\\Local\\Temp\\ipykernel_3048\\1485213613.py\u001b[0m in \u001b[0;36mconstructBinaryTree\u001b[1;34m(s)\u001b[0m\n\u001b[0;32m     11\u001b[0m         \u001b[1;32melif\u001b[0m \u001b[0mch\u001b[0m \u001b[1;33m==\u001b[0m \u001b[1;34m')'\u001b[0m\u001b[1;33m:\u001b[0m\u001b[1;33m\u001b[0m\u001b[1;33m\u001b[0m\u001b[0m\n\u001b[0;32m     12\u001b[0m             \u001b[0mright\u001b[0m \u001b[1;33m=\u001b[0m \u001b[0mstack\u001b[0m\u001b[1;33m.\u001b[0m\u001b[0mpop\u001b[0m\u001b[1;33m(\u001b[0m\u001b[1;33m)\u001b[0m\u001b[1;33m\u001b[0m\u001b[1;33m\u001b[0m\u001b[0m\n\u001b[1;32m---> 13\u001b[1;33m             \u001b[0mleft\u001b[0m \u001b[1;33m=\u001b[0m \u001b[0mstack\u001b[0m\u001b[1;33m.\u001b[0m\u001b[0mpop\u001b[0m\u001b[1;33m(\u001b[0m\u001b[1;33m)\u001b[0m\u001b[1;33m\u001b[0m\u001b[1;33m\u001b[0m\u001b[0m\n\u001b[0m\u001b[0;32m     14\u001b[0m             \u001b[0mparent\u001b[0m \u001b[1;33m=\u001b[0m \u001b[0mstack\u001b[0m\u001b[1;33m.\u001b[0m\u001b[0mpop\u001b[0m\u001b[1;33m(\u001b[0m\u001b[1;33m)\u001b[0m\u001b[1;33m\u001b[0m\u001b[1;33m\u001b[0m\u001b[0m\n\u001b[0;32m     15\u001b[0m             \u001b[0mstack\u001b[0m\u001b[1;33m.\u001b[0m\u001b[0mappend\u001b[0m\u001b[1;33m(\u001b[0m\u001b[1;33m[\u001b[0m\u001b[0mparent\u001b[0m\u001b[1;33m,\u001b[0m \u001b[0mleft\u001b[0m\u001b[1;33m,\u001b[0m \u001b[0mright\u001b[0m\u001b[1;33m]\u001b[0m\u001b[1;33m)\u001b[0m\u001b[1;33m\u001b[0m\u001b[1;33m\u001b[0m\u001b[0m\n",
      "\u001b[1;31mIndexError\u001b[0m: pop from empty list"
     ]
    }
   ],
   "source": [
    "def constructBinaryTree(s):\n",
    "    stack = []\n",
    "    for ch in s:\n",
    "        if ch.isdigit():\n",
    "            if stack and isinstance(stack[-1], int):\n",
    "                stack[-1] = stack[-1] * 10 + int(ch)\n",
    "            else:\n",
    "                stack.append(int(ch))\n",
    "        elif ch == '(':\n",
    "            continue\n",
    "        elif ch == ')':\n",
    "            right = stack.pop()\n",
    "            left = stack.pop()\n",
    "            parent = stack.pop()\n",
    "            stack.append([parent, left, right])\n",
    "    return stack[0]\n",
    "\n",
    "s = \"4(2(3)(1))(6(5))\"\n",
    "output = constructBinaryTree(s)\n",
    "print(output)\n"
   ]
  },
  {
   "cell_type": "markdown",
   "id": "92981960",
   "metadata": {},
   "source": [
    " 💡 Question 5\n",
    "Given an array of characters chars, compress it using the following algorithm:\n",
    "Begin with an empty string s. For each group of consecutive repeating characters in chars:\n",
    "- If the group's length is 1, append the character to s.\n",
    "- Otherwise, append the character followed by the group's length.\n",
    "The compressed string s should not be returned separately, but instead, be stored in the input character array chars. Note that group lengths that are 10 or longer will be split into multiple characters in chars.\n",
    "After you are done modifying the input array, return the new length of the array.\n",
    "You must write an algorithm that uses only constant extra space.\n",
    "Example 1:\n",
    "Input: chars = [\"a\",\"a\",\"b\",\"b\",\"c\",\"c\",\"c\"]\n",
    "Output: Return 6, and the first 6 characters of the input array should be: [\"a\",\"2\",\"b\",\"2\",\"c\",\"3\"]\n",
    "Explanation:\n",
    "The groups are \"aa\", \"bb\", and \"ccc\". This compresses to \"a2b2c3\"."
   ]
  },
  {
   "cell_type": "code",
   "execution_count": null,
   "id": "cede2b44",
   "metadata": {},
   "outputs": [],
   "source": []
  },
  {
   "cell_type": "markdown",
   "id": "c2181a5d",
   "metadata": {},
   "source": [
    " 💡 Question 6\n",
    "Given two strings s and p, return an array of all the start indices of p*'s anagrams in* s. You may return the answer in any order.\n",
    "An Anagram is a word or phrase formed by rearranging the letters of a different word or phrase, typically using all the original letters exactly once.\n",
    "Example 1:\n",
    "Input: s = \"cbaebabacd\", p = \"abc\"\n",
    "Output: [0,6]\n",
    "Explanation:\n",
    "The substring with start index = 0 is \"cba\", which is an anagram of \"abc\".\n",
    "The substring with start index = 6 is \"bac\", which is an anagram of \"abc\"."
   ]
  },
  {
   "cell_type": "code",
   "execution_count": null,
   "id": "3b6d2e38",
   "metadata": {},
   "outputs": [],
   "source": []
  },
  {
   "cell_type": "markdown",
   "id": "7d53d004",
   "metadata": {},
   "source": [
    " 💡 Question 7\n",
    "Given an encoded string, return its decoded string.\n",
    "The encoding rule is: k[encoded_string], where the encoded_string inside the square brackets is being repeated exactly k times. Note that k is guaranteed to be a positive integer.\n",
    "You may assume that the input string is always valid; there are no extra white spaces, square brackets are well-formed, etc. Furthermore, you may assume that the original data does not contain any digits and that digits are only for those repeat numbers, k. For example, there will not be input like 3a or 2[4].\n",
    "The test cases are generated so that the length of the output will never exceed 105.\n",
    "Example 1:\n",
    "Input: s = \"3[a]2[bc]\"\n",
    "Output: \"aaabcbc\""
   ]
  },
  {
   "cell_type": "code",
   "execution_count": null,
   "id": "9e8ac6b8",
   "metadata": {},
   "outputs": [],
   "source": []
  },
  {
   "cell_type": "markdown",
   "id": "f4b18411",
   "metadata": {},
   "source": [
    " 💡 Question 8\n",
    "Given two strings s and goal, return true if you can swap two letters in s so the result is equal to goal*, otherwise, return* false*.*\n",
    "Swapping letters is defined as taking two indices i and j (0-indexed) such that i != j and swapping the characters at s[i] and s[j].\n",
    "- For example, swapping at indices 0 and 2 in \"abcd\" results in \"cbad\".\n",
    "Example 1:\n",
    "Input: s = \"ab\", goal = \"ba\"\n",
    "Output: true\n",
    "Explanation: You can swap s[0] = 'a' and s[1] = 'b' to get \"ba\", which is equal to goal."
   ]
  },
  {
   "cell_type": "code",
   "execution_count": null,
   "id": "80dd2574",
   "metadata": {},
   "outputs": [],
   "source": []
  }
 ],
 "metadata": {
  "kernelspec": {
   "display_name": "Python 3 (ipykernel)",
   "language": "python",
   "name": "python3"
  },
  "language_info": {
   "codemirror_mode": {
    "name": "ipython",
    "version": 3
   },
   "file_extension": ".py",
   "mimetype": "text/x-python",
   "name": "python",
   "nbconvert_exporter": "python",
   "pygments_lexer": "ipython3",
   "version": "3.9.13"
  }
 },
 "nbformat": 4,
 "nbformat_minor": 5
}
