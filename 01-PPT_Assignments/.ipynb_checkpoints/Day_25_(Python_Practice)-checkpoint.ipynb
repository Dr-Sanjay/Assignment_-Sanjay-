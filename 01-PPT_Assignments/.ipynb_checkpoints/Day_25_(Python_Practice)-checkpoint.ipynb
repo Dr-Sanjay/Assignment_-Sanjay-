{
 "cells": [
  {
   "cell_type": "markdown",
   "id": "1b991a55",
   "metadata": {},
   "source": [
    "# Day-25 (Python Revision)"
   ]
  },
  {
   "cell_type": "markdown",
   "id": "d83b34b4",
   "metadata": {},
   "source": [
    "**1. Write a Python program to reverse a string without using any built-in string reversal functions.**"
   ]
  },
  {
   "cell_type": "code",
   "execution_count": 13,
   "id": "a9434a35",
   "metadata": {},
   "outputs": [
    {
     "name": "stdout",
     "output_type": "stream",
     "text": [
      "52 yaD si sihT\n"
     ]
    }
   ],
   "source": [
    "string=\"This is Day 25\"\n",
    "\n",
    "def reverse_string(s):\n",
    "    reversed_str = ''\n",
    "    for i in range(len(s) - 1, -1, -1):\n",
    "        reversed_str += s[i]\n",
    "    print(reversed_str) \n",
    "    \n",
    "#Calling function With String Argument\n",
    "reverse_string(string)"
   ]
  },
  {
   "cell_type": "markdown",
   "id": "32e2a49a",
   "metadata": {},
   "source": [
    "**2. Implement a function to check if a given string is a palindrome.**"
   ]
  },
  {
   "cell_type": "code",
   "execution_count": 17,
   "id": "68111999",
   "metadata": {},
   "outputs": [
    {
     "name": "stdout",
     "output_type": "stream",
     "text": [
      "True\n"
     ]
    }
   ],
   "source": [
    "def is_palindrome(s):\n",
    "    s = s.lower()\n",
    "    return s == s[::-1]\n",
    "\n",
    "result = is_palindrome(\"Madam\")\n",
    "print(result)\n"
   ]
  },
  {
   "cell_type": "markdown",
   "id": "2534ad23",
   "metadata": {},
   "source": [
    "**3. Write a program to find the largest element in a given list.**"
   ]
  },
  {
   "cell_type": "code",
   "execution_count": 19,
   "id": "e3ea9fe6",
   "metadata": {},
   "outputs": [
    {
     "name": "stdout",
     "output_type": "stream",
     "text": [
      "5\n"
     ]
    }
   ],
   "source": [
    "def find_largest_element(lst):\n",
    "    print(max(lst)) \n",
    "find_largest_element([1,2,3,4,5])"
   ]
  },
  {
   "cell_type": "markdown",
   "id": "f36a2ae8",
   "metadata": {},
   "source": [
    "**4. Implement a function to count the occurrence of each element in a list.**"
   ]
  },
  {
   "cell_type": "code",
   "execution_count": 20,
   "id": "69de4f1c",
   "metadata": {},
   "outputs": [
    {
     "name": "stdout",
     "output_type": "stream",
     "text": [
      "{1: 2, 2: 2, 3: 2, 4: 2, 5: 1}\n",
      "{'apple': 3, 'banana': 2, 'cherry': 1}\n",
      "{}\n",
      "{1: 1, 2: 1, 3: 1, 4: 1, 5: 1}\n"
     ]
    }
   ],
   "source": [
    "def count_occurrences(lst):\n",
    "    return {element: lst.count(element) for element in lst}\n",
    "\n",
    "# Test Cases\n",
    "lst1 = [1, 2, 3, 4, 5, 4, 3, 2, 1]\n",
    "print(count_occurrences(lst1))\n",
    "# Output: {1: 2, 2: 2, 3: 2, 4: 2, 5: 1}\n",
    "\n",
    "lst2 = ['apple', 'banana', 'apple', 'cherry', 'banana', 'apple']\n",
    "print(count_occurrences(lst2))\n",
    "# Output: {'apple': 3, 'banana': 2, 'cherry': 1}\n",
    "\n",
    "lst3 = []\n",
    "print(count_occurrences(lst3))\n",
    "# Output: {}\n",
    "\n",
    "lst4 = [1, 2, 3, 4, 5]\n",
    "print(count_occurrences(lst4))\n",
    "# Output: {1: 1, 2: 1, 3: 1, 4: 1, 5: 1}\n"
   ]
  },
  {
   "cell_type": "markdown",
   "id": "ebf5424b",
   "metadata": {},
   "source": [
    "**5. Write a Python program to find the second largest number in a list.**"
   ]
  },
  {
   "cell_type": "code",
   "execution_count": 21,
   "id": "cab21287",
   "metadata": {},
   "outputs": [
    {
     "name": "stdout",
     "output_type": "stream",
     "text": [
      "4\n"
     ]
    }
   ],
   "source": [
    "def find_second_largest(lst):\n",
    "    if len(lst) < 2:\n",
    "        return None\n",
    "    lst = sorted(lst, reverse=True)\n",
    "    print(lst[1])\n",
    "\n",
    "# Test the function\n",
    "find_second_largest([1, 3, 2, 5, 4])\n"
   ]
  },
  {
   "cell_type": "markdown",
   "id": "3bb60144",
   "metadata": {},
   "source": [
    "**6. Implement a function to remove duplicate elements from a list.**"
   ]
  },
  {
   "cell_type": "code",
   "execution_count": 24,
   "id": "739376db",
   "metadata": {},
   "outputs": [
    {
     "data": {
      "text/plain": [
       "[1, 2, 3, 4, 5]"
      ]
     },
     "execution_count": 24,
     "metadata": {},
     "output_type": "execute_result"
    }
   ],
   "source": [
    "def remove_duplicates(lst):\n",
    "    return list(set(lst))\n",
    "\n",
    "# Test the function\n",
    "remove_duplicates([1, 3,1, 2, 2, 5, 4])"
   ]
  },
  {
   "cell_type": "markdown",
   "id": "077832b3",
   "metadata": {},
   "source": [
    "**7. Write a program to calculate the factorial of a given number.**"
   ]
  },
  {
   "cell_type": "code",
   "execution_count": 28,
   "id": "87c7122b",
   "metadata": {},
   "outputs": [
    {
     "data": {
      "text/plain": [
       "6"
      ]
     },
     "execution_count": 28,
     "metadata": {},
     "output_type": "execute_result"
    }
   ],
   "source": [
    "def factorial(n):\n",
    "    if n == 0:\n",
    "        return 1\n",
    "    else:\n",
    "        return n * factorial(n - 1)\n",
    "factorial(3)"
   ]
  },
  {
   "cell_type": "markdown",
   "id": "c48b5f33",
   "metadata": {},
   "source": [
    "**8. Implement a function to check if a given number is prime.**"
   ]
  },
  {
   "cell_type": "code",
   "execution_count": 33,
   "id": "93a941b6",
   "metadata": {},
   "outputs": [
    {
     "data": {
      "text/plain": [
       "True"
      ]
     },
     "execution_count": 33,
     "metadata": {},
     "output_type": "execute_result"
    }
   ],
   "source": [
    "def is_prime(n):\n",
    "    if n < 2:\n",
    "        return False\n",
    "    for i in range(2, int(n ** 0.5) + 1):\n",
    "        if n % i == 0:\n",
    "            return False\n",
    "    return True\n",
    "\n",
    "is_prime(37)"
   ]
  },
  {
   "cell_type": "markdown",
   "id": "50a35ec2",
   "metadata": {},
   "source": [
    "**9. Write a Python program to sort a list of integers in ascending order.**"
   ]
  },
  {
   "cell_type": "code",
   "execution_count": 36,
   "id": "ed9c1a3d",
   "metadata": {},
   "outputs": [
    {
     "data": {
      "text/plain": [
       "[1, 2, 3, 4, 5]"
      ]
     },
     "execution_count": 36,
     "metadata": {},
     "output_type": "execute_result"
    }
   ],
   "source": [
    "def sort_list(lst):\n",
    "    return sorted(lst)\n",
    "\n",
    "sort_list([5,2,1,4,3])"
   ]
  },
  {
   "cell_type": "markdown",
   "id": "02d71260",
   "metadata": {},
   "source": [
    "**10. Implement a function to find the sum of all numbers in a list.**"
   ]
  },
  {
   "cell_type": "code",
   "execution_count": 37,
   "id": "15debccd",
   "metadata": {},
   "outputs": [
    {
     "data": {
      "text/plain": [
       "15"
      ]
     },
     "execution_count": 37,
     "metadata": {},
     "output_type": "execute_result"
    }
   ],
   "source": [
    "def find_sum(lst):\n",
    "    return sum(lst)\n",
    "find_sum([1,2,3,4,5])"
   ]
  },
  {
   "cell_type": "markdown",
   "id": "9c27001b",
   "metadata": {},
   "source": [
    "**11. Write a program to find the common elements between two lists.**"
   ]
  },
  {
   "cell_type": "code",
   "execution_count": 38,
   "id": "f2b644b4",
   "metadata": {},
   "outputs": [
    {
     "data": {
      "text/plain": [
       "[0, 6]"
      ]
     },
     "execution_count": 38,
     "metadata": {},
     "output_type": "execute_result"
    }
   ],
   "source": [
    "def find_common(list1, list2):\n",
    "    set1 = set(list1)\n",
    "    set2 = set(list2)\n",
    "    common_elements = set1.intersection(set2)\n",
    "    return list(common_elements)\n",
    "\n",
    "list1=[1,3,6,9,0]\n",
    "list2=[2,7,6,0,8]\n",
    "find_common(list1,list2)"
   ]
  },
  {
   "cell_type": "markdown",
   "id": "d1d3c451",
   "metadata": {},
   "source": [
    "**12. Implement a function to check if a given string is an anagram of another string.**"
   ]
  },
  {
   "cell_type": "code",
   "execution_count": 43,
   "id": "79440767",
   "metadata": {},
   "outputs": [
    {
     "data": {
      "text/plain": [
       "True"
      ]
     },
     "execution_count": 43,
     "metadata": {},
     "output_type": "execute_result"
    }
   ],
   "source": [
    "def is_anagram(str1, str2):\n",
    "    return sorted(str1) == sorted(str2)\n",
    "\n",
    "str1='car'\n",
    "str2='arc'\n",
    "is_anagram(str1,str2)"
   ]
  },
  {
   "cell_type": "markdown",
   "id": "085d5aeb",
   "metadata": {},
   "source": [
    "**13. Write a Python program to generate all permutations of a given string.**"
   ]
  },
  {
   "cell_type": "code",
   "execution_count": 46,
   "id": "35f5a886",
   "metadata": {},
   "outputs": [
    {
     "data": {
      "text/plain": [
       "['CAR', 'CRA', 'ACR', 'ARC', 'RCA', 'RAC']"
      ]
     },
     "execution_count": 46,
     "metadata": {},
     "output_type": "execute_result"
    }
   ],
   "source": [
    "import itertools\n",
    "\n",
    "def generate_permutations(s):\n",
    "    perms = [''.join(p) for p in itertools.permutations(s)]\n",
    "    return perms\n",
    "\n",
    "generate_permutations(\"CAR\")"
   ]
  },
  {
   "cell_type": "markdown",
   "id": "89b2f55e",
   "metadata": {},
   "source": [
    "**14. Implement a function to calculate the Fibonacci sequence up to a given number of terms.**"
   ]
  },
  {
   "cell_type": "code",
   "execution_count": 48,
   "id": "bf37d8b6",
   "metadata": {},
   "outputs": [
    {
     "data": {
      "text/plain": [
       "[0, 1, 1, 2, 3, 5, 8, 13, 21, 34]"
      ]
     },
     "execution_count": 48,
     "metadata": {},
     "output_type": "execute_result"
    }
   ],
   "source": [
    "def fibonacci_sequence(n):\n",
    "    sequence = [0, 1]\n",
    "    while len(sequence) < n:\n",
    "        sequence.append(sequence[-1] + sequence[-2])\n",
    "    return sequence\n",
    "\n",
    "fibonacci_sequence(10)"
   ]
  },
  {
   "cell_type": "markdown",
   "id": "487d1e59",
   "metadata": {},
   "source": [
    "**15. Write a program to find the median of a list of numbers.**"
   ]
  },
  {
   "cell_type": "code",
   "execution_count": 51,
   "id": "9296dc34",
   "metadata": {},
   "outputs": [
    {
     "data": {
      "text/plain": [
       "2.5"
      ]
     },
     "execution_count": 51,
     "metadata": {},
     "output_type": "execute_result"
    }
   ],
   "source": [
    "def find_median(lst):\n",
    "    sorted_lst = sorted(lst)\n",
    "    n = len(sorted_lst)\n",
    "    mid = n // 2\n",
    "    median = (sorted_lst[mid] + sorted_lst[mid-1]) / 2 if n % 2 == 0 else sorted_lst[mid]\n",
    "    return median\n",
    "\n",
    "find_median([1,2,3,4])"
   ]
  },
  {
   "cell_type": "markdown",
   "id": "34f6e995",
   "metadata": {},
   "source": [
    "**16. Implement a function to check if a given list is sorted in non-decreasing order.**"
   ]
  },
  {
   "cell_type": "code",
   "execution_count": null,
   "id": "827df0ad",
   "metadata": {},
   "outputs": [],
   "source": [
    "def is_sorted(lst):\n",
    "    return all(lst[i] <= lst[i+1] for i in range(len(lst) - 1))\n"
   ]
  },
  {
   "cell_type": "markdown",
   "id": "6f7ad824",
   "metadata": {},
   "source": [
    "**17. Write a Python program to find the intersection of two lists.**"
   ]
  },
  {
   "cell_type": "code",
   "execution_count": 52,
   "id": "78def03d",
   "metadata": {},
   "outputs": [
    {
     "data": {
      "text/plain": [
       "[4]"
      ]
     },
     "execution_count": 52,
     "metadata": {},
     "output_type": "execute_result"
    }
   ],
   "source": [
    "def find_intersection(list1, list2):\n",
    "    set1 = set(list1)\n",
    "    set2 = set(list2)\n",
    "    intersection = set1.intersection(set2)\n",
    "    return list(intersection)\n",
    "\n",
    "list1=[1,2,3,4]\n",
    "list2=[4,5,6,7]\n",
    "find_intersection(list1,list2)"
   ]
  },
  {
   "cell_type": "markdown",
   "id": "31e8d95f",
   "metadata": {},
   "source": [
    "**18. Implement a function to find the maximum subarray sum in a given list.**"
   ]
  },
  {
   "cell_type": "code",
   "execution_count": 55,
   "id": "5d386684",
   "metadata": {},
   "outputs": [
    {
     "data": {
      "text/plain": [
       "10"
      ]
     },
     "execution_count": 55,
     "metadata": {},
     "output_type": "execute_result"
    }
   ],
   "source": [
    "def find_maximum_subarray_sum(lst):\n",
    "    max_sum = current_sum = lst[0]\n",
    "    for num in lst[1:]:\n",
    "        current_sum = max(num, current_sum + num)\n",
    "        max_sum = max(max_sum, current_sum)\n",
    "    return max_sum\n",
    "\n",
    "find_maximum_subarray_sum([1,2,3,4])"
   ]
  },
  {
   "cell_type": "markdown",
   "id": "158eb352",
   "metadata": {},
   "source": [
    "**19. Write a program to remove all vowels from a given string.**"
   ]
  },
  {
   "cell_type": "code",
   "execution_count": 56,
   "id": "b8eca8ed",
   "metadata": {},
   "outputs": [
    {
     "data": {
      "text/plain": [
       "'Mcrsft'"
      ]
     },
     "execution_count": 56,
     "metadata": {},
     "output_type": "execute_result"
    }
   ],
   "source": [
    "def remove_vowels(s):\n",
    "    vowels = 'aeiouAEIOU'\n",
    "    return ''.join(char for char in s if char not in vowels)\n",
    "\n",
    "remove_vowels(\"Microsoft\")"
   ]
  },
  {
   "cell_type": "markdown",
   "id": "7f6799ca",
   "metadata": {},
   "source": [
    "**20. Implement a function to reverse the order of words in a given sentence.**"
   ]
  },
  {
   "cell_type": "code",
   "execution_count": 62,
   "id": "ab47594b",
   "metadata": {},
   "outputs": [
    {
     "data": {
      "text/plain": [
       "'RAC'"
      ]
     },
     "execution_count": 62,
     "metadata": {},
     "output_type": "execute_result"
    }
   ],
   "source": [
    "def reverse_string(string):\n",
    "    reversed_string = string[::-1]\n",
    "    return reversed_string\n",
    "\n",
    "\n",
    "reverse_string('CAR')"
   ]
  },
  {
   "cell_type": "markdown",
   "id": "9265298f",
   "metadata": {},
   "source": [
    "**21. Write a Python program to check if two strings are anagrams of each other.**"
   ]
  },
  {
   "cell_type": "code",
   "execution_count": 64,
   "id": "19b543b1",
   "metadata": {},
   "outputs": [
    {
     "data": {
      "text/plain": [
       "True"
      ]
     },
     "execution_count": 64,
     "metadata": {},
     "output_type": "execute_result"
    }
   ],
   "source": [
    "def are_anagrams(str1, str2):\n",
    "    return sorted(str1) == sorted(str2)\n",
    "\n",
    "are_anagrams('CAR','ARC')"
   ]
  },
  {
   "cell_type": "markdown",
   "id": "6a318c54",
   "metadata": {},
   "source": [
    "**22. Implement a function to find the first non-repeating character in a string.**"
   ]
  },
  {
   "cell_type": "code",
   "execution_count": 67,
   "id": "aaf75b91",
   "metadata": {},
   "outputs": [
    {
     "data": {
      "text/plain": [
       "'s'"
      ]
     },
     "execution_count": 67,
     "metadata": {},
     "output_type": "execute_result"
    }
   ],
   "source": [
    "def find_first_non_repeating_char(s):\n",
    "    non_repeating_chars = [char for char in s if s.count(char) == 1]\n",
    "    return non_repeating_chars[0] if non_repeating_chars else None\n",
    "\n",
    "find_first_non_repeating_char(\"sanjay\")"
   ]
  },
  {
   "cell_type": "markdown",
   "id": "531d031c",
   "metadata": {},
   "source": [
    "**23. Write a program to find the prime factors of a given number.**"
   ]
  },
  {
   "cell_type": "code",
   "execution_count": 75,
   "id": "ae36836b",
   "metadata": {},
   "outputs": [
    {
     "name": "stdout",
     "output_type": "stream",
     "text": [
      "[2, 2, 3, 3]\n"
     ]
    }
   ],
   "source": [
    "def find_prime_factors(n):\n",
    "    factors = []\n",
    "    divisor = 2\n",
    "\n",
    "    while divisor * divisor <= n:\n",
    "        while n % divisor == 0:\n",
    "            factors.append(divisor)\n",
    "            n //= divisor\n",
    "        divisor += 1\n",
    "\n",
    "    if n > 1:\n",
    "        factors.append(n)\n",
    "\n",
    "    return factors\n",
    "\n",
    "\n",
    "prime_factors = find_prime_factors(36)\n",
    "print(prime_factors)\n"
   ]
  },
  {
   "cell_type": "markdown",
   "id": "e887c48b",
   "metadata": {},
   "source": [
    "**24. Implement a function to check if a given number is a power of two.**"
   ]
  },
  {
   "cell_type": "code",
   "execution_count": 82,
   "id": "946d25e3",
   "metadata": {},
   "outputs": [
    {
     "data": {
      "text/plain": [
       "True"
      ]
     },
     "execution_count": 82,
     "metadata": {},
     "output_type": "execute_result"
    }
   ],
   "source": [
    "def is_power_of_two(n):\n",
    "    return n > 0 and (n & (n - 1)) == 0\n",
    "\n",
    "is_power_of_two(32)"
   ]
  },
  {
   "cell_type": "markdown",
   "id": "1045bf3a",
   "metadata": {},
   "source": [
    "**25. Write a Python program to merge two sorted lists into a single sorted list.**"
   ]
  },
  {
   "cell_type": "code",
   "execution_count": 86,
   "id": "9ff6e2ff",
   "metadata": {},
   "outputs": [
    {
     "data": {
      "text/plain": [
       "[1, 1, 2, 3, 4, 4, 5, 6]"
      ]
     },
     "execution_count": 86,
     "metadata": {},
     "output_type": "execute_result"
    }
   ],
   "source": [
    "def merge_sorted_lists(list1, list2):\n",
    "    return sorted(list1 + list2)\n",
    "\n",
    "list1=[1,2,3,4]\n",
    "list2=[4,5,6,1]\n",
    "merge_sorted_lists(list1, list2)"
   ]
  },
  {
   "cell_type": "markdown",
   "id": "1247e43a",
   "metadata": {},
   "source": [
    "**26. Implement a function to find the mode of a list of numbers.**"
   ]
  },
  {
   "cell_type": "code",
   "execution_count": 92,
   "id": "ba06df41",
   "metadata": {},
   "outputs": [
    {
     "data": {
      "text/plain": [
       "[1]"
      ]
     },
     "execution_count": 92,
     "metadata": {},
     "output_type": "execute_result"
    }
   ],
   "source": [
    "def find_mode(lst):\n",
    "    count_dict = {element: lst.count(element) for element in lst}\n",
    "    max_count = max(count_dict.values())\n",
    "    mode = [element for element, count in count_dict.items() if count == max_count]\n",
    "    return mode\n",
    "\n",
    "\n",
    "find_mode([1,1,2,3,3,2,1])"
   ]
  },
  {
   "cell_type": "markdown",
   "id": "0880494a",
   "metadata": {},
   "source": [
    "**27. Write a program to find the greatest common divisor (GCD) of two numbers.**"
   ]
  },
  {
   "cell_type": "code",
   "execution_count": 88,
   "id": "65a8aaee",
   "metadata": {},
   "outputs": [
    {
     "data": {
      "text/plain": [
       "4"
      ]
     },
     "execution_count": 88,
     "metadata": {},
     "output_type": "execute_result"
    }
   ],
   "source": [
    "def find_gcd(a, b):\n",
    "    return a if b == 0 else find_gcd(b, a % b)\n",
    "\n",
    "find_gcd(8, 12)"
   ]
  },
  {
   "cell_type": "markdown",
   "id": "28693010",
   "metadata": {},
   "source": [
    "**28. Implement a function to calculate the square root of a given number.**"
   ]
  },
  {
   "cell_type": "code",
   "execution_count": 93,
   "id": "065bc85a",
   "metadata": {},
   "outputs": [
    {
     "data": {
      "text/plain": [
       "8.0"
      ]
     },
     "execution_count": 93,
     "metadata": {},
     "output_type": "execute_result"
    }
   ],
   "source": [
    "def calculate_square_root(n):\n",
    "    return n ** 0.5\n",
    "\n",
    "calculate_square_root(64)"
   ]
  },
  {
   "cell_type": "markdown",
   "id": "a3ccf34c",
   "metadata": {},
   "source": [
    "**29. Write a Python program to check if a given string is a valid palindrome ignoring non-alphanumeric characters.**"
   ]
  },
  {
   "cell_type": "code",
   "execution_count": null,
   "id": "1a296071",
   "metadata": {},
   "outputs": [],
   "source": []
  },
  {
   "cell_type": "markdown",
   "id": "f5551058",
   "metadata": {},
   "source": [
    "**30. Implement a function to find the minimum element in a rotated sorted list.**"
   ]
  },
  {
   "cell_type": "code",
   "execution_count": null,
   "id": "d0b8ddb4",
   "metadata": {},
   "outputs": [],
   "source": []
  },
  {
   "cell_type": "markdown",
   "id": "4ea6f6c3",
   "metadata": {},
   "source": [
    "**31. Write a program to find the sum of all even numbers in a list.**"
   ]
  },
  {
   "cell_type": "code",
   "execution_count": null,
   "id": "34bc12f8",
   "metadata": {},
   "outputs": [],
   "source": []
  },
  {
   "cell_type": "markdown",
   "id": "2421e69b",
   "metadata": {},
   "source": [
    "**32. Implement a function to calculate the power of a number using recursion.**"
   ]
  },
  {
   "cell_type": "code",
   "execution_count": null,
   "id": "5bc9483e",
   "metadata": {},
   "outputs": [],
   "source": []
  },
  {
   "cell_type": "markdown",
   "id": "04220001",
   "metadata": {},
   "source": [
    "**33. Write a Python program to remove duplicates from a list while preserving the order.**"
   ]
  },
  {
   "cell_type": "code",
   "execution_count": null,
   "id": "83e2fbe6",
   "metadata": {},
   "outputs": [],
   "source": []
  },
  {
   "cell_type": "markdown",
   "id": "f96b49ea",
   "metadata": {},
   "source": [
    "**34. Implement a function to find the longest common prefix among a list of strings.**"
   ]
  },
  {
   "cell_type": "code",
   "execution_count": null,
   "id": "a3eb2fc8",
   "metadata": {},
   "outputs": [],
   "source": []
  },
  {
   "cell_type": "markdown",
   "id": "5863f128",
   "metadata": {},
   "source": [
    "**35. Write a program to check if a given number is a perfect square.**"
   ]
  },
  {
   "cell_type": "code",
   "execution_count": null,
   "id": "8851ca96",
   "metadata": {},
   "outputs": [],
   "source": []
  },
  {
   "cell_type": "markdown",
   "id": "138c1abd",
   "metadata": {},
   "source": [
    "**36. Implement a function to calculate the product of all elements in a list.**"
   ]
  },
  {
   "cell_type": "code",
   "execution_count": null,
   "id": "04a78354",
   "metadata": {},
   "outputs": [],
   "source": []
  },
  {
   "cell_type": "markdown",
   "id": "296dd557",
   "metadata": {},
   "source": [
    "**37. Write a Python program to reverse the order of words in a sentence while preserving the word order.**"
   ]
  },
  {
   "cell_type": "code",
   "execution_count": null,
   "id": "f9a65595",
   "metadata": {},
   "outputs": [],
   "source": []
  },
  {
   "cell_type": "markdown",
   "id": "cd1a3b28",
   "metadata": {},
   "source": [
    "**38. Implement a function to find the missing number in a given list of consecutive numbers.**"
   ]
  },
  {
   "cell_type": "code",
   "execution_count": null,
   "id": "2c983794",
   "metadata": {},
   "outputs": [],
   "source": []
  },
  {
   "cell_type": "markdown",
   "id": "13ff3571",
   "metadata": {},
   "source": [
    "**39. Write a program to find the sum of digits of a given number.**"
   ]
  },
  {
   "cell_type": "code",
   "execution_count": null,
   "id": "8e5d2fbe",
   "metadata": {},
   "outputs": [],
   "source": []
  },
  {
   "cell_type": "markdown",
   "id": "3c47af23",
   "metadata": {},
   "source": [
    "**40. Implement a function to check if a given string is a valid palindrome considering case sensitivity.**"
   ]
  },
  {
   "cell_type": "code",
   "execution_count": null,
   "id": "ae1f6eea",
   "metadata": {},
   "outputs": [],
   "source": []
  },
  {
   "cell_type": "markdown",
   "id": "f9207294",
   "metadata": {},
   "source": [
    "**41. Write a Python program to find the smallest missing positive integer in a list.**"
   ]
  },
  {
   "cell_type": "code",
   "execution_count": null,
   "id": "e7a35a95",
   "metadata": {},
   "outputs": [],
   "source": []
  },
  {
   "cell_type": "markdown",
   "id": "495a425c",
   "metadata": {},
   "source": [
    "**42. Implement a function to find the longest palindrome substring in a given string.**"
   ]
  },
  {
   "cell_type": "code",
   "execution_count": null,
   "id": "4a39dc8b",
   "metadata": {},
   "outputs": [],
   "source": []
  },
  {
   "cell_type": "markdown",
   "id": "5d8fa3f7",
   "metadata": {},
   "source": [
    "**43. Write a program to find the number of occurrences of a given element in a list.**"
   ]
  },
  {
   "cell_type": "code",
   "execution_count": null,
   "id": "dc3989c1",
   "metadata": {},
   "outputs": [],
   "source": []
  },
  {
   "cell_type": "markdown",
   "id": "db08bd5f",
   "metadata": {},
   "source": [
    "**44. Implement a function to check if a given number is a perfect number.**"
   ]
  },
  {
   "cell_type": "code",
   "execution_count": null,
   "id": "86021656",
   "metadata": {},
   "outputs": [],
   "source": []
  },
  {
   "cell_type": "markdown",
   "id": "2cc5131b",
   "metadata": {},
   "source": [
    "**45. Write a Python program to remove all duplicates from a string.**"
   ]
  },
  {
   "cell_type": "code",
   "execution_count": 99,
   "id": "172da63c",
   "metadata": {},
   "outputs": [
    {
     "data": {
      "text/plain": [
       "['s', 'a', 'n', 'j', 'y']"
      ]
     },
     "execution_count": 99,
     "metadata": {},
     "output_type": "execute_result"
    }
   ],
   "source": [
    "def remove_duplicates(lst):\n",
    "    seen = set()\n",
    "    return [x for x in lst if not (x in seen or seen.add(x))]\n",
    "\n",
    "remove_duplicates('')"
   ]
  },
  {
   "cell_type": "markdown",
   "id": "33a2a50c",
   "metadata": {},
   "source": [
    "**46. Implement a function to find the first missing positive**"
   ]
  },
  {
   "cell_type": "code",
   "execution_count": null,
   "id": "a82f8be3",
   "metadata": {},
   "outputs": [],
   "source": []
  }
 ],
 "metadata": {
  "kernelspec": {
   "display_name": "Python 3 (ipykernel)",
   "language": "python",
   "name": "python3"
  },
  "language_info": {
   "codemirror_mode": {
    "name": "ipython",
    "version": 3
   },
   "file_extension": ".py",
   "mimetype": "text/x-python",
   "name": "python",
   "nbconvert_exporter": "python",
   "pygments_lexer": "ipython3",
   "version": "3.9.16"
  }
 },
 "nbformat": 4,
 "nbformat_minor": 5
}
