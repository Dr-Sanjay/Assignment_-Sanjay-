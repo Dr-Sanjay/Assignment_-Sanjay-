{
 "cells": [
  {
   "cell_type": "markdown",
   "id": "68a4433b",
   "metadata": {},
   "source": [
    "# Assignment_09_(Recursion)"
   ]
  },
  {
   "cell_type": "markdown",
   "id": "a0fd0b9a",
   "metadata": {},
   "source": [
    "**💡 Question 1\n",
    "Given an integer n, return true if it is a power of two. Otherwise, return false.  \n",
    "An integer n is a power of two, if there exists an integer x such that n == 2x.**  \n",
    "Example 1: Input: n = 1  \n",
    "Output: true  \n",
    "Example 2: Input: n = 16  \n",
    "Output: true  \n",
    "Example 3: Input: n = 3  \n",
    "Output: false  "
   ]
  },
  {
   "cell_type": "code",
   "execution_count": 17,
   "id": "62a679d8",
   "metadata": {},
   "outputs": [
    {
     "name": "stdout",
     "output_type": "stream",
     "text": [
      "True\n",
      "True\n",
      "False\n"
     ]
    }
   ],
   "source": [
    "#Check if a number is a power of two\n",
    "\n",
    "def is_power_of_two(n):\n",
    "    if n <= 0:\n",
    "        return False\n",
    "    return (n & (n - 1)) == 0\n",
    "\n",
    "print(is_power_of_two(1))  \n",
    "print(is_power_of_two(16))  \n",
    "print(is_power_of_two(3))  "
   ]
  },
  {
   "cell_type": "markdown",
   "id": "919109d3",
   "metadata": {},
   "source": [
    "**💡Question 2\n",
    "Given a number n, find the sum of the first natural numbers.**  \n",
    "Example 1:  \n",
    "Input: n = 3  \n",
    "Output: 6  \n",
    "Example 2:  \n",
    "Input  : 5  \n",
    "Output : 15"
   ]
  },
  {
   "cell_type": "code",
   "execution_count": 18,
   "id": "84fc853d",
   "metadata": {},
   "outputs": [
    {
     "name": "stdout",
     "output_type": "stream",
     "text": [
      "6\n",
      "15\n"
     ]
    }
   ],
   "source": [
    "# Sum of first natural numbers\n",
    "\n",
    "def sum_of_natural_numbers(n):\n",
    "    return (n * (n + 1)) // 2\n",
    "\n",
    "print(sum_of_natural_numbers(3))  \n",
    "print(sum_of_natural_numbers(5)) "
   ]
  },
  {
   "cell_type": "markdown",
   "id": "2574a80d",
   "metadata": {},
   "source": [
    "**💡 Question 3\n",
    "Given a positive integer, N. Find the factorial of N.**  \n",
    "Example 1:  \n",
    "Input: N = 5  \n",
    "Output: 120  \n",
    "Example 2:  \n",
    "Input: N = 4  \n",
    "Output: 24"
   ]
  },
  {
   "cell_type": "code",
   "execution_count": 19,
   "id": "b595b9f6",
   "metadata": {},
   "outputs": [
    {
     "name": "stdout",
     "output_type": "stream",
     "text": [
      "120\n",
      "24\n"
     ]
    }
   ],
   "source": [
    "#  Factorial of a number\n",
    "\n",
    "def factorial(n):\n",
    "    if n == 0:\n",
    "        return 1\n",
    "    return n * factorial(n - 1)\n",
    "\n",
    "print(factorial(5)) \n",
    "print(factorial(4))  "
   ]
  },
  {
   "cell_type": "markdown",
   "id": "2d2b853b",
   "metadata": {},
   "source": [
    "**💡 Question 4\n",
    "Given a number N and a power P, the task is to find the exponent of this number raised to the given power, i.e. N^P.**  \n",
    "Example 1 :  \n",
    "Input: N = 5, P = 2  \n",
    "Output: 25  \n",
    "Example 2 : Input: N = 2, P = 5  \n",
    "Output: 32"
   ]
  },
  {
   "cell_type": "code",
   "execution_count": 20,
   "id": "6ce71eae",
   "metadata": {},
   "outputs": [
    {
     "name": "stdout",
     "output_type": "stream",
     "text": [
      "25\n",
      "32\n"
     ]
    }
   ],
   "source": [
    "# Exponentiation of a number\n",
    "\n",
    "def exponentiation(N, P):\n",
    "    return N ** P\n",
    "\n",
    "print(exponentiation(5, 2))  \n",
    "print(exponentiation(2, 5))  "
   ]
  },
  {
   "cell_type": "markdown",
   "id": "f3abade4",
   "metadata": {},
   "source": [
    "**💡 Question 5\n",
    "Given an array of integers arr, the task is to find maximum element of that array using recursion.**  \n",
    "Example 1:  \n",
    "Input: arr = {1, 4, 3, -5, -4, 8, 6}; Output: 8  \n",
    "Example 2:  \n",
    "Input: arr = {1, 4, 45, 6, 10, -8}; Output: 45"
   ]
  },
  {
   "cell_type": "code",
   "execution_count": 21,
   "id": "93b20943",
   "metadata": {},
   "outputs": [
    {
     "name": "stdout",
     "output_type": "stream",
     "text": [
      "8\n",
      "45\n"
     ]
    }
   ],
   "source": [
    "# Maximum element of an array using recursion\n",
    "\n",
    "def max_element(arr):\n",
    "    if len(arr) == 1:\n",
    "        return arr[0]\n",
    "    else:\n",
    "        return max(arr[0], max_element(arr[1:]))\n",
    "\n",
    "arr1 = [1, 4, 3, -5, -4, 8, 6]\n",
    "print(max_element(arr1)) \n",
    "\n",
    "arr2 = [1, 4, 45, 6, 10, -8]\n",
    "print(max_element(arr2))  "
   ]
  },
  {
   "cell_type": "markdown",
   "id": "2723d6ac",
   "metadata": {},
   "source": [
    "**💡 Question 6\n",
    "Given first term (a), common difference (d) and a integer N of the Arithmetic Progression series, the task is to find Nth term of the series.**  \n",
    "Example 1:  \n",
    "Input : a = 2 d = 1 N = 5 Output : 6 The 5th term of the series is : 6  \n",
    "Example 2:  \n",
    "Input : a = 5 d = 2 N = 10 Output : 23 The 10th term of the series is : 23"
   ]
  },
  {
   "cell_type": "code",
   "execution_count": 22,
   "id": "1a891b8f",
   "metadata": {},
   "outputs": [
    {
     "name": "stdout",
     "output_type": "stream",
     "text": [
      "6\n",
      "23\n"
     ]
    }
   ],
   "source": [
    "# Nth term of an Arithmetic Progression (AP) series\n",
    "\n",
    "def nth_term_of_ap(a, d, N):\n",
    "    return a + (N - 1) * d\n",
    "\n",
    "print(nth_term_of_ap(2, 1, 5))  \n",
    "print(nth_term_of_ap(5, 2, 10))  "
   ]
  },
  {
   "cell_type": "markdown",
   "id": "96e44926",
   "metadata": {},
   "source": [
    "**💡 Question 7\n",
    "Given a string S, the task is to write a program to print all permutations of a given string.**  \n",
    "Example 1:  \n",
    "Input:  \n",
    "S = “ABC”  \n",
    "Output:  \n",
    "“ABC”, “ACB”, “BAC”, “BCA”, “CBA”, “CAB”  \n",
    "Example 2:  \n",
    "Input:  \n",
    "S = “XY”  \n",
    "Output:  \n",
    "“XY”, “YX”"
   ]
  },
  {
   "cell_type": "code",
   "execution_count": 23,
   "id": "e42cd457",
   "metadata": {},
   "outputs": [
    {
     "name": "stdout",
     "output_type": "stream",
     "text": [
      "ABC\n",
      "ACB\n",
      "BAC\n",
      "BCA\n",
      "CAB\n",
      "CBA\n",
      "XY\n",
      "YX\n"
     ]
    }
   ],
   "source": [
    "# Print all permutations of a string \n",
    "\n",
    "from itertools import permutations\n",
    "\n",
    "def print_permutations(S):\n",
    "    perm = permutations(S)\n",
    "    for p in perm:\n",
    "        print(\"\".join(p))\n",
    "\n",
    "print_permutations(\"ABC\")  \n",
    "print_permutations(\"XY\")  "
   ]
  },
  {
   "cell_type": "markdown",
   "id": "1859789f",
   "metadata": {},
   "source": [
    "**💡 Question 8\n",
    "Given an array, find a product of all array elements.**  \n",
    "Example 1:  \n",
    "Input  : arr[] = {1, 2, 3, 4, 5} Output : 120 Example 2:  \n",
    "Input  : arr[] = {1, 6, 3} Output : 18  "
   ]
  },
  {
   "cell_type": "code",
   "execution_count": 24,
   "id": "9202b381",
   "metadata": {},
   "outputs": [
    {
     "name": "stdout",
     "output_type": "stream",
     "text": [
      "120\n",
      "18\n"
     ]
    }
   ],
   "source": [
    "# Product of all array elements \n",
    "\n",
    "def product_of_array(arr):\n",
    "    product = 1\n",
    "    for num in arr:\n",
    "        product *= num\n",
    "    return product\n",
    "\n",
    "arr3 = [1, 2, 3, 4, 5]\n",
    "print(product_of_array(arr3))  \n",
    "\n",
    "arr4 = [1, 6, 3]\n",
    "print(product_of_array(arr4))  "
   ]
  }
 ],
 "metadata": {
  "kernelspec": {
   "display_name": "Python 3 (ipykernel)",
   "language": "python",
   "name": "python3"
  },
  "language_info": {
   "codemirror_mode": {
    "name": "ipython",
    "version": 3
   },
   "file_extension": ".py",
   "mimetype": "text/x-python",
   "name": "python",
   "nbconvert_exporter": "python",
   "pygments_lexer": "ipython3",
   "version": "3.9.13"
  }
 },
 "nbformat": 4,
 "nbformat_minor": 5
}
