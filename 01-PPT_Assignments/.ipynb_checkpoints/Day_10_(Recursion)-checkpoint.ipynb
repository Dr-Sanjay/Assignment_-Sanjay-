{
 "cells": [
  {
   "cell_type": "markdown",
   "id": "a408fa62",
   "metadata": {},
   "source": [
    "# Assignment_10_(Recursion)"
   ]
  },
  {
   "cell_type": "markdown",
   "id": "7819f2c8",
   "metadata": {},
   "source": [
    "**💡 Question 1\n",
    "Given an integer n, return true if it is a power of three. Otherwise, return false.\n",
    "An integer n is a power of three, if there exists an integer x such that n == 3x.**  \n",
    "\n",
    "Example 1:\n",
    "Input: n = 27\n",
    "Output: true\n",
    "Explanation: 27 = 33  \n",
    "Example 2:\n",
    "Input: n = 0\n",
    "Output: false\n",
    "Explanation: There is no x where 3x = 0.  \n",
    "Example 3:\n",
    "Input: n = -1\n",
    "Output: false\n",
    "Explanation: There is no x where 3x = (-1)."
   ]
  },
  {
   "cell_type": "code",
   "execution_count": 1,
   "id": "6d1724d0",
   "metadata": {},
   "outputs": [
    {
     "name": "stdout",
     "output_type": "stream",
     "text": [
      "True\n",
      "False\n",
      "False\n"
     ]
    }
   ],
   "source": [
    "def isPowerOfThree(n):\n",
    "    if n <= 0:\n",
    "        return False\n",
    "    while n % 3 == 0:\n",
    "        n /= 3\n",
    "    return n == 1\n",
    "\n",
    "# Example usage:\n",
    "print(isPowerOfThree(27))  # Output: True\n",
    "print(isPowerOfThree(0))   # Output: False\n",
    "print(isPowerOfThree(-1))  # Output: False\n"
   ]
  },
  {
   "cell_type": "markdown",
   "id": "9a5f11ad",
   "metadata": {},
   "source": [
    "**💡 Question 2\n",
    "You have a list arr of all integers in the range [1, n] sorted in a strictly increasing order. Apply the following algorithm on arr:**\n",
    "- Starting from left to right, remove the first number and every other number afterward until you reach the end of the list.\n",
    "- Repeat the previous step again, but this time from right to left, remove the rightmost number and every other number from the remaining numbers.\n",
    "- Keep repeating the steps again, alternating left to right and right to left, until a single number remains.\n",
    "Given the integer n, return the last number that remains in arr.**\n",
    "Example 1:\n",
    "```\n",
    "Input: n = 9\n",
    "Output: 6\n",
    "Explanation:\n",
    "arr = [1, 2,3, 4,5, 6,7, 8,9]\n",
    "arr = [2,4, 6,8]\n",
    "arr = [2, 6]\n",
    "arr = [6]\n",
    "\n",
    "```\n",
    "Example 2:\n",
    "\n",
    "Input: n = 1\n",
    "Output: 1"
   ]
  },
  {
   "cell_type": "code",
   "execution_count": 2,
   "id": "ef109a83",
   "metadata": {},
   "outputs": [
    {
     "name": "stdout",
     "output_type": "stream",
     "text": [
      "6\n",
      "1\n"
     ]
    }
   ],
   "source": [
    "def lastRemaining(n):\n",
    "    left_to_right = True\n",
    "    remaining = n\n",
    "    step = 1\n",
    "    start = 1\n",
    "    while remaining > 1:\n",
    "        if left_to_right or remaining % 2 == 1:\n",
    "            start += step\n",
    "        remaining //= 2\n",
    "        step *= 2\n",
    "        left_to_right = not left_to_right\n",
    "    return start\n",
    "\n",
    "# Example usage:\n",
    "print(lastRemaining(9))  # Output: 6\n",
    "print(lastRemaining(1))  # Output: 1\n"
   ]
  },
  {
   "cell_type": "markdown",
   "id": "ad75c362",
   "metadata": {},
   "source": [
    "**💡 Question 3\n",
    "Given a set represented as a string, write a recursive code to print all subsets of it. The subsets can be printed in any order.**  \n",
    "Example 1:  \n",
    "Input :  set = “abc”  \n",
    "Output : { “”, “a”, “b”, “c”, “ab”, “ac”, “bc”, “abc”}  \n",
    "Example 2:  \n",
    "Input : set = “abcd”  \n",
    "Output : { “”, “a” ,”ab” ,”abc” ,”abcd”, “abd” ,”ac” ,”acd”, “ad” ,”b”, “bc” ,”bcd” ,”bd” ,”c” ,”cd” ,”d” }"
   ]
  },
  {
   "cell_type": "code",
   "execution_count": 3,
   "id": "291f9b42",
   "metadata": {},
   "outputs": [
    {
     "name": "stdout",
     "output_type": "stream",
     "text": [
      "\n",
      "c\n",
      "b\n",
      "bc\n",
      "a\n",
      "ac\n",
      "ab\n",
      "abc\n",
      "\n",
      "d\n",
      "c\n",
      "cd\n",
      "b\n",
      "bd\n",
      "bc\n",
      "bcd\n",
      "a\n",
      "ad\n",
      "ac\n",
      "acd\n",
      "ab\n",
      "abd\n",
      "abc\n",
      "abcd\n"
     ]
    }
   ],
   "source": [
    "def printSubsets(string):\n",
    "    def subsetsHelper(slate, idx):\n",
    "        if idx == len(string):\n",
    "            print(''.join(slate))\n",
    "            return\n",
    "        subsetsHelper(slate, idx + 1)\n",
    "        subsetsHelper(slate + [string[idx]], idx + 1)\n",
    "\n",
    "    subsetsHelper([], 0)\n",
    "\n",
    "# Example usage:\n",
    "printSubsets(\"abc\")\n",
    "printSubsets(\"abcd\")\n"
   ]
  },
  {
   "cell_type": "markdown",
   "id": "63e81893",
   "metadata": {},
   "source": [
    "**💡 Question 4\n",
    "Given a string calculate length of the string using recursion.**  \n",
    "Examples:\n",
    "\n",
    "Input : str = \"abcd\"\n",
    "Output :4\n",
    "\n",
    "Input : str = \"GEEKSFORGEEKS\"\n",
    "Output :13"
   ]
  },
  {
   "cell_type": "code",
   "execution_count": 4,
   "id": "54bb46e0",
   "metadata": {},
   "outputs": [
    {
     "name": "stdout",
     "output_type": "stream",
     "text": [
      "4\n",
      "13\n"
     ]
    }
   ],
   "source": [
    "def recursiveStringLength(string):\n",
    "    if string == '':\n",
    "        return 0\n",
    "    return 1 + recursiveStringLength(string[1:])\n",
    "\n",
    "# Example usage:\n",
    "print(recursiveStringLength(\"abcd\"))           # Output: 4\n",
    "print(recursiveStringLength(\"GEEKSFORGEEKS\"))  # Output: 13\n"
   ]
  },
  {
   "cell_type": "markdown",
   "id": "5241a1fe",
   "metadata": {},
   "source": [
    "**💡 Question 5\n",
    "We are given a string S, we need to find count of all contiguous substrings starting and ending with same character.**\n",
    "\n",
    "Examples :  \n",
    "Input  : S = \"abcab\"  \n",
    "Output : 7  \n",
    "There are 15 substrings of \"abcab\"  \n",
    "a, ab, abc, abca, abcab, b, bc, bca  \n",
    "bcab, c, ca, cab, a, ab, b  \n",
    "Out of the above substrings, there  \n",
    "are 7 substrings : a, abca, b, bcab,  \n",
    "c, a and b.  \n",
    "\n",
    "Input  : S = \"aba\"  \n",
    "Output : 4  \n",
    "The substrings are a, b, a and aba"
   ]
  },
  {
   "cell_type": "code",
   "execution_count": 5,
   "id": "ce22243e",
   "metadata": {},
   "outputs": [
    {
     "name": "stdout",
     "output_type": "stream",
     "text": [
      "7\n",
      "4\n"
     ]
    }
   ],
   "source": [
    "def countSubstringsWithSameEnds(string):\n",
    "    count = 0\n",
    "    for i in range(len(string)):\n",
    "        for j in range(i, len(string)):\n",
    "            if string[i] == string[j]:\n",
    "                count += 1\n",
    "    return count\n",
    "\n",
    "# Example usage:\n",
    "print(countSubstringsWithSameEnds(\"abcab\"))  # Output: 7\n",
    "print(countSubstringsWithSameEnds(\"aba\"))    # Output: 4\n"
   ]
  },
  {
   "cell_type": "markdown",
   "id": "0efac568",
   "metadata": {},
   "source": [
    "**💡 Question 6\n",
    "The tower of Hanoi is a famous puzzle where we have three rods and N disks. The objective of the puzzle is to move the entire stack to another rod. You are given the number of discs N. Initially, these discs are in the rod 1. You need to print all the steps of discs movement so that all the discs reach the 3rd rod. Also, you need to find the total moves.Note: The discs are arranged such that the top disc is numbered 1 and the bottom-most disc is numbered N. Also, all the discs have different sizes and a bigger disc cannot be put on the top of a smaller disc. Refer the provided link to get a better clarity about the puzzle.**  \n",
    "\n",
    "Example 1:\n",
    "```\n",
    "Input:\n",
    "N = 2\n",
    "Output:\n",
    "move disk 1 from rod 1 to rod 2\n",
    "move disk 2 from rod 1 to rod 3\n",
    "move disk 1 from rod 2 to rod 3\n",
    "3\n",
    "Explanation:For N=2 , steps will be\n",
    "as follows in the example and total\n",
    "3 steps will be taken.\n",
    "\n",
    "```\n",
    "Example 2:\n",
    "```\n",
    "Input:\n",
    "N = 3\n",
    "Output:\n",
    "move disk 1 from rod 1 to rod 3\n",
    "move disk 2 from rod 1 to rod 2\n",
    "move disk 1 from rod 3 to rod 2\n",
    "move disk 3 from rod 1 to rod 3\n",
    "move disk 1 from rod 2 to rod 1\n",
    "move disk 2 from rod 2 to rod 3\n",
    "move disk 1 from rod 1 to rod 3\n",
    "7\n",
    "Explanation:For N=3 , steps will be\n",
    "as follows in the example and total\n",
    "7 steps will be taken.\n"
   ]
  },
  {
   "cell_type": "code",
   "execution_count": 6,
   "id": "d3b71224",
   "metadata": {},
   "outputs": [
    {
     "name": "stdout",
     "output_type": "stream",
     "text": [
      "move disk 1 from rod 1 to rod 2\n",
      "move disk 2 from rod 1 to rod 3\n",
      "move disk 1 from rod 2 to rod 3\n",
      "3\n",
      "move disk 1 from rod 1 to rod 3\n",
      "move disk 2 from rod 1 to rod 2\n",
      "move disk 1 from rod 3 to rod 2\n",
      "move disk 3 from rod 1 to rod 3\n",
      "move disk 1 from rod 2 to rod 1\n",
      "move disk 2 from rod 2 to rod 3\n",
      "move disk 1 from rod 1 to rod 3\n",
      "7\n"
     ]
    }
   ],
   "source": [
    "def towerOfHanoi(n, source, auxiliary, destination):\n",
    "    if n == 1:\n",
    "        print(\"move disk 1 from rod\", source, \"to rod\", destination)\n",
    "        return 1\n",
    "    moves = 0\n",
    "    moves += towerOfHanoi(n-1, source, destination, auxiliary)\n",
    "    print(\"move disk\", n, \"from rod\", source, \"to rod\", destination)\n",
    "    moves += 1\n",
    "    moves += towerOfHanoi(n-1, auxiliary, source, destination)\n",
    "    return moves\n",
    "\n",
    "# Example usage:\n",
    "print(towerOfHanoi(2, 1, 2, 3))  # Output:\n",
    "                                  # move disk 1 from rod 1 to rod 2\n",
    "                                  # move disk 2 from rod 1 to rod 3\n",
    "                                  # move disk 1 from rod 2 to rod 3\n",
    "                                  # 3\n",
    "print(towerOfHanoi(3, 1, 2, 3))  # Output:\n",
    "                                  # move disk 1 from rod 1 to rod 3\n",
    "                                  # move disk 2 from rod 1 to rod 2\n",
    "                                  # move disk 1 from rod 3 to rod 2\n",
    "                                  # move disk 3 from rod 1 to rod 3\n",
    "                                  # move disk 1 from rod 2 to rod 1\n",
    "                                  # move disk 2 from rod 2 to rod 3\n",
    "                                  # move disk 1 from rod 1 to rod 3\n",
    "                                  # 7\n"
   ]
  },
  {
   "cell_type": "markdown",
   "id": "7100a8b1",
   "metadata": {},
   "source": [
    "**💡 Question 7\n",
    "Given a string str, the task is to print all the permutations of str. A permutation is an arrangement of all or part of a set of objects, with regard to the order of the arrangement. For instance, the words ‘bat’ and ‘tab’ represents two distinct permutation (or arrangements) of a similar three letter word.**  \n",
    "Examples:  \n",
    "Input: str = “cd”  \n",
    "Output: cd dc  \n",
    "Input: str = “abb”  \n",
    "Output: abb abb bab bba bab bba"
   ]
  },
  {
   "cell_type": "code",
   "execution_count": 7,
   "id": "a6d11e96",
   "metadata": {},
   "outputs": [
    {
     "name": "stdout",
     "output_type": "stream",
     "text": [
      "cd\n",
      "dc\n",
      "abb\n",
      "abb\n",
      "bab\n",
      "bba\n",
      "bab\n",
      "bba\n"
     ]
    }
   ],
   "source": [
    "def permutations(string):\n",
    "    def backtrack(slate, options):\n",
    "        if not options:\n",
    "            print(''.join(slate))\n",
    "            return\n",
    "        for i in range(len(options)):\n",
    "            new_slate = slate + [options[i]]\n",
    "            new_options = options[:i] + options[i + 1:]\n",
    "            backtrack(new_slate, new_options)\n",
    "\n",
    "    backtrack([], list(string))\n",
    "\n",
    "# Example usage:\n",
    "permutations(\"cd\")\n",
    "permutations(\"abb\")\n"
   ]
  },
  {
   "cell_type": "markdown",
   "id": "37f7c665",
   "metadata": {},
   "source": [
    "**💡 Question 8\n",
    "Given a string, count total number of consonants in it. A consonant is an English alphabet character that is not vowel (a, e, i, o and u). Examples of constants are b, c, d, f, and g.**  \n",
    "Examples :  \n",
    "\n",
    "Input : abc de  \n",
    "Output : 3  \n",
    "There are three consonants b, c and d.  \n",
    "\n",
    "Input : geeksforgeeks portal  \n",
    "Output : 12"
   ]
  },
  {
   "cell_type": "code",
   "execution_count": 8,
   "id": "7ab656ca",
   "metadata": {},
   "outputs": [
    {
     "name": "stdout",
     "output_type": "stream",
     "text": [
      "3\n",
      "12\n"
     ]
    }
   ],
   "source": [
    "def countConsonants(string):\n",
    "    vowels = \"aeiou\"\n",
    "    count = 0\n",
    "    for char in string:\n",
    "        if char.isalpha() and char.lower() not in vowels:\n",
    "            count += 1\n",
    "    return count\n",
    "\n",
    "# Example usage:\n",
    "print(countConsonants(\"abc de\"))              # Output: 3\n",
    "print(countConsonants(\"geeksforgeeks portal\")) # Output: 12"
   ]
  }
 ],
 "metadata": {
  "kernelspec": {
   "display_name": "Python 3 (ipykernel)",
   "language": "python",
   "name": "python3"
  },
  "language_info": {
   "codemirror_mode": {
    "name": "ipython",
    "version": 3
   },
   "file_extension": ".py",
   "mimetype": "text/x-python",
   "name": "python",
   "nbconvert_exporter": "python",
   "pygments_lexer": "ipython3",
   "version": "3.9.16"
  }
 },
 "nbformat": 4,
 "nbformat_minor": 5
}
