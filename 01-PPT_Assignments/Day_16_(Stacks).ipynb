{
 "cells": [
  {
   "cell_type": "markdown",
   "id": "2374a424",
   "metadata": {},
   "source": [
    "# Assignment_16_(Stacks)"
   ]
  },
  {
   "cell_type": "markdown",
   "id": "99eb9989",
   "metadata": {},
   "source": []
  },
  {
   "cell_type": "code",
   "execution_count": null,
   "id": "fc7645ab",
   "metadata": {},
   "outputs": [],
   "source": []
  },
  {
   "cell_type": "markdown",
   "id": "4ed0a0a3",
   "metadata": {},
   "source": []
  },
  {
   "cell_type": "markdown",
   "id": "6525648e",
   "metadata": {},
   "source": []
  },
  {
   "cell_type": "markdown",
   "id": "f349c397",
   "metadata": {},
   "source": []
  },
  {
   "cell_type": "markdown",
   "id": "82dc167b",
   "metadata": {},
   "source": []
  },
  {
   "cell_type": "markdown",
   "id": "2c637542",
   "metadata": {},
   "source": []
  },
  {
   "cell_type": "markdown",
   "id": "c1e1d8c8",
   "metadata": {},
   "source": []
  },
  {
   "cell_type": "markdown",
   "id": "00bdf5b4",
   "metadata": {},
   "source": []
  },
  {
   "cell_type": "markdown",
   "id": "6c4481ab",
   "metadata": {},
   "source": []
  },
  {
   "cell_type": "markdown",
   "id": "8e4f116d",
   "metadata": {},
   "source": []
  },
  {
   "cell_type": "markdown",
   "id": "12832dec",
   "metadata": {},
   "source": []
  },
  {
   "cell_type": "markdown",
   "id": "268ce283",
   "metadata": {},
   "source": []
  },
  {
   "cell_type": "markdown",
   "id": "b5051194",
   "metadata": {},
   "source": []
  },
  {
   "cell_type": "markdown",
   "id": "69f46e4f",
   "metadata": {},
   "source": []
  },
  {
   "cell_type": "markdown",
   "id": "f56116fb",
   "metadata": {},
   "source": []
  },
  {
   "cell_type": "markdown",
   "id": "98202cdc",
   "metadata": {},
   "source": []
  }
 ],
 "metadata": {
  "kernelspec": {
   "display_name": "Python 3 (ipykernel)",
   "language": "python",
   "name": "python3"
  },
  "language_info": {
   "codemirror_mode": {
    "name": "ipython",
    "version": 3
   },
   "file_extension": ".py",
   "mimetype": "text/x-python",
   "name": "python",
   "nbconvert_exporter": "python",
   "pygments_lexer": "ipython3",
   "version": "3.9.16"
  }
 },
 "nbformat": 4,
 "nbformat_minor": 5
}
