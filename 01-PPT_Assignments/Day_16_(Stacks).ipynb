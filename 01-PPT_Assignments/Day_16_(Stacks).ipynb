{
 "cells": [
  {
   "cell_type": "markdown",
   "id": "63d7c2c1",
   "metadata": {},
   "source": [
    "# Assignment_16_(Stacks)"
   ]
  },
  {
   "cell_type": "markdown",
   "id": "1f4df8af",
   "metadata": {},
   "source": [
    "**💡 Question 1\n",
    "Given an array, for each element find the value of the nearest element to the right which is having a frequency greater than that of the current element. If there does not exist an answer for a position, then make the value ‘-1’.**  \n",
    "Examples:\n",
    "```\n",
    "Input: a[] = [1, 1, 2, 3, 4, 2, 1]\n",
    "Output : [-1, -1, 1, 2, 2, 1, -1]\n",
    "\n",
    "Explanation:\n",
    "Given array a[] = [1, 1, 2, 3, 4, 2, 1]\n",
    "Frequency of each element is: 3, 3, 2, 1, 1, 2, 3\n",
    "\n",
    "Lets calls Next Greater Frequency element as NGF\n",
    "1. For element a[0] = 1 which has a frequency = 3,\n",
    "   As it has frequency of 3 and no other next element\n",
    "   has frequency more than 3 so  '-1'\n",
    "2. For element a[1] = 1 it will be -1 same logic\n",
    "   like a[0]\n",
    "3. For element a[2] = 2 which has frequency = 2,\n",
    "   NGF element is 1 at position = 6  with frequency\n",
    "   of 3 > 2\n",
    "4. For element a[3] = 3 which has frequency = 1,\n",
    "   NGF element is 2 at position = 5 with frequency\n",
    "   of 2 > 1\n",
    "5. For element a[4] = 4 which has frequency = 1,\n",
    "   NGF element is 2 at position = 5 with frequency\n",
    "   of 2 > 1\n",
    "6. For element a[5] = 2 which has frequency = 2,\n",
    "   NGF element is 1 at position = 6 with frequency\n",
    "   of 3 > 2\n",
    "7. For element a[6] = 1 there is no element to its\n",
    "   right, hence -1\n",
    "\n",
    "```\n",
    "\n",
    "```\n",
    "Input : a[] = [1, 1, 1, 2, 2, 2, 2, 11, 3, 3]\n",
    "Output : [2, 2, 2, -1, -1, -1, -1, 3, -1, -1]\n",
    "\n",
    "```"
   ]
  },
  {
   "cell_type": "code",
   "execution_count": 3,
   "id": "bbabb004",
   "metadata": {},
   "outputs": [
    {
     "name": "stdout",
     "output_type": "stream",
     "text": [
      "[-1, -1, 1, 2, 2, 1, -1]\n",
      "[2, 2, 2, -1, -1, -1, -1, 3, -1, -1]\n"
     ]
    }
   ],
   "source": [
    "from collections import Counter\n",
    "\n",
    "def find_nearest_greater_frequency(arr):\n",
    "    freq = Counter(arr)\n",
    "    result = []\n",
    "    stack = []\n",
    "    \n",
    "    for i in range(len(arr)-1, -1, -1):\n",
    "        while stack and freq[arr[i]] >= freq[stack[-1]]:\n",
    "            stack.pop()\n",
    "            \n",
    "        if stack:\n",
    "            result.append(stack[-1])\n",
    "        else:\n",
    "            result.append(-1)\n",
    "        \n",
    "        stack.append(arr[i])\n",
    "    \n",
    "    result.reverse()\n",
    "    return result\n",
    "\n",
    "# Example usage:\n",
    "arr1 = [1, 1, 2, 3, 4, 2, 1]\n",
    "output1 = find_nearest_greater_frequency(arr1)\n",
    "print(output1)  # [-1, -1, 1, 2, 2, 1, -1]\n",
    "\n",
    "arr2 = [1, 1, 1, 2, 2, 2, 2, 11, 3, 3]\n",
    "output2 = find_nearest_greater_frequency(arr2)\n",
    "print(output2)  # [2, 2, 2, -1, -1, -1, -1, 3, -1, -1]\n"
   ]
  },
  {
   "cell_type": "markdown",
   "id": "c1623ee6",
   "metadata": {},
   "source": [
    "**💡 Question 2\n",
    "Given a stack of integers, sort it in ascending order using another temporary stack.**  \n",
    "Examples:\n",
    "```\n",
    "Input : [34, 3, 31, 98, 92, 23]\n",
    "Output : [3, 23, 31, 34, 92, 98]\n",
    "\n",
    "Input : [3, 5, 1, 4, 2, 8]\n",
    "Output : [1, 2, 3, 4, 5, 8]\n",
    "\n",
    "```"
   ]
  },
  {
   "cell_type": "code",
   "execution_count": 4,
   "id": "2bf70ff6",
   "metadata": {},
   "outputs": [
    {
     "name": "stdout",
     "output_type": "stream",
     "text": [
      "[3, 23, 31, 34, 92, 98]\n",
      "[1, 2, 3, 4, 5, 8]\n"
     ]
    }
   ],
   "source": [
    "def sort_stack(stack):\n",
    "    temp_stack = []\n",
    "    \n",
    "    while stack:\n",
    "        temp = stack.pop()\n",
    "        \n",
    "        while temp_stack and temp_stack[-1] > temp:\n",
    "            stack.append(temp_stack.pop())\n",
    "            \n",
    "        temp_stack.append(temp)\n",
    "    \n",
    "    return temp_stack\n",
    "\n",
    "# Example usage:\n",
    "stack1 = [34, 3, 31, 98, 92, 23]\n",
    "output1 = sort_stack(stack1)\n",
    "print(output1)  # [3, 23, 31, 34, 92, 98]\n",
    "\n",
    "stack2 = [3, 5, 1, 4, 2, 8]\n",
    "output2 = sort_stack(stack2)\n",
    "print(output2)  # [1, 2, 3, 4, 5, 8]\n"
   ]
  },
  {
   "cell_type": "markdown",
   "id": "6a3be043",
   "metadata": {},
   "source": [
    "**💡 Question 3\n",
    "Given a stack with push(), pop(), and empty() operations, The task is to delete the middle element of it without using any additional data structure.**  \n",
    "Input  : Stack[] = [1, 2, 3, 4, 5]  \n",
    "Output : Stack[] = [1, 2, 4, 5]  \n",
    "Input  : Stack[] = [1, 2, 3, 4, 5, 6]  \n",
    "Output : Stack[] = [1, 2, 4, 5, 6]\n"
   ]
  },
  {
   "cell_type": "code",
   "execution_count": 5,
   "id": "fdf3ed64",
   "metadata": {},
   "outputs": [
    {
     "name": "stdout",
     "output_type": "stream",
     "text": [
      "[1, 2, 4, 5]\n",
      "[1, 2, 4, 5, 6]\n"
     ]
    }
   ],
   "source": [
    "def delete_middle_element(stack):\n",
    "    if len(stack) == 0:\n",
    "        return stack\n",
    "    \n",
    "    mid = len(stack) // 2 + 1\n",
    "    delete_helper(stack, mid)\n",
    "    return stack\n",
    "\n",
    "def delete_helper(stack, k):\n",
    "    if k == 1:\n",
    "        stack.pop()\n",
    "        return\n",
    "    \n",
    "    temp = stack.pop()\n",
    "    delete_helper(stack, k - 1)\n",
    "    stack.append(temp)\n",
    "\n",
    "# Example usage:\n",
    "stack1 = [1, 2, 3, 4, 5]\n",
    "output1 = delete_middle_element(stack1)\n",
    "print(output1)  # [1, 2, 4, 5]\n",
    "\n",
    "stack2 = [1, 2, 3, 4, 5, 6]\n",
    "output2 = delete_middle_element(stack2)\n",
    "print(output2)  # [1, 2, 4, 5, 6]\n"
   ]
  },
  {
   "cell_type": "markdown",
   "id": "4a0d3c78",
   "metadata": {},
   "source": [
    "**💡 Question 4\n",
    "Given a Queue consisting of first n natural numbers (in random order). The task is to check whether the given Queue elements can be arranged in increasing order in another Queue using a stack. The operation allowed are:**\n",
    "1. Push and pop elements from the stack\n",
    "2. Pop (Or Dequeue) from the given Queue.\n",
    "3. Push (Or Enqueue) in the another Queue.\n",
    "Examples :\n",
    "Input : Queue[] = { 5, 1, 2, 3, 4 }\n",
    "Output : Yes\n",
    "Pop the first element of the given Queue\n",
    "i.e 5. Push 5 into the stack.\n",
    "Now, pop all the elements of the given Queue and push them to second Queue.\n",
    "Now, pop element 5 in the stack and push it to the second Queue.\n",
    "Input : Queue[] = { 5, 1, 2, 6, 3, 4 }\n",
    "Output : No\n",
    "Push 5 to stack.\n",
    "Pop 1, 2 from given Queue and push it to another Queue.\n",
    "Pop 6 from given Queue and push to stack.\n",
    "Pop 3, 4 from given Queue and push to second Queue.\n",
    "Now, from using any of above operation, we cannot push 5 into the second Queue because it is below the 6 in the stack."
   ]
  },
  {
   "cell_type": "code",
   "execution_count": 6,
   "id": "8e9fb1bb",
   "metadata": {},
   "outputs": [
    {
     "name": "stdout",
     "output_type": "stream",
     "text": [
      "Yes\n",
      "No\n"
     ]
    }
   ],
   "source": [
    "def check_queue_elements(queue):\n",
    "    stack = []\n",
    "    expected_element = 1\n",
    "    \n",
    "    while queue:\n",
    "        front = queue.pop(0)\n",
    "        \n",
    "        if front == expected_element:\n",
    "            expected_element += 1\n",
    "        elif stack and stack[-1] == expected_element:\n",
    "            stack.pop()\n",
    "            expected_element += 1\n",
    "        else:\n",
    "            stack.append(front)\n",
    "            \n",
    "    while stack:\n",
    "        front = stack.pop()\n",
    "        \n",
    "        if front == expected_element:\n",
    "            expected_element += 1\n",
    "        else:\n",
    "            return \"No\"\n",
    "    \n",
    "    return \"Yes\"\n",
    "\n",
    "# Example usage:\n",
    "queue1 = [5, 1, 2, 3, 4]\n",
    "output1 = check_queue_elements(queue1)\n",
    "print(output1)  # Yes\n",
    "\n",
    "queue2 = [5, 1, 2, 6, 3, 4]\n",
    "output2 = check_queue_elements(queue2)\n",
    "print(output2)  # No\n"
   ]
  },
  {
   "cell_type": "markdown",
   "id": "45e84f23",
   "metadata": {},
   "source": [
    "**💡 Question 5\n",
    "Given a number , write a program to reverse this number using stack.**  \n",
    "Examples:\n",
    "```\n",
    "Input : 365\n",
    "Output : 563\n",
    "\n",
    "Input : 6899\n",
    "Output : 9986\n",
    "\n",
    "```"
   ]
  },
  {
   "cell_type": "code",
   "execution_count": 7,
   "id": "bbcc3db3",
   "metadata": {},
   "outputs": [
    {
     "name": "stdout",
     "output_type": "stream",
     "text": [
      "563\n",
      "9986\n"
     ]
    }
   ],
   "source": [
    "def reverse_number(num):\n",
    "    stack = []\n",
    "    \n",
    "    while num > 0:\n",
    "        stack.append(num % 10)\n",
    "        num //= 10\n",
    "    \n",
    "    reverse_num = 0\n",
    "    place_value = 1\n",
    "    \n",
    "    while stack:\n",
    "        reverse_num += stack.pop() * place_value\n",
    "        place_value *= 10\n",
    "    \n",
    "    return reverse_num\n",
    "\n",
    "# Example usage:\n",
    "num1 = 365\n",
    "output1 = reverse_number(num1)\n",
    "print(output1)  # 563\n",
    "\n",
    "num2 = 6899\n",
    "output2 = reverse_number(num2)\n",
    "print(output2)  # 9986\n"
   ]
  },
  {
   "cell_type": "markdown",
   "id": "8a9d5652",
   "metadata": {},
   "source": [
    "**💡 Question 6\n",
    "Given an integer k and a queue of integers, The task is to reverse the order of the first k elements of the queue, leaving the other elements in the same relative order.**  \n",
    "Only following standard operations are allowed on queue.\n",
    "- enqueue(x) : Add an item x to rear of queue\n",
    "- dequeue() : Remove an item from front of queue\n",
    "- size() : Returns number of elements in queue.\n",
    "- front() : Finds front item. "
   ]
  },
  {
   "cell_type": "code",
   "execution_count": 8,
   "id": "2a6ee03b",
   "metadata": {},
   "outputs": [
    {
     "name": "stdout",
     "output_type": "stream",
     "text": [
      "deque([3, 2, 1, 4, 5])\n",
      "deque([50, 40, 30, 20, 10, 60, 70, 80])\n"
     ]
    }
   ],
   "source": [
    "from collections import deque\n",
    "\n",
    "def reverse_k_elements(queue, k):\n",
    "    stack = []\n",
    "    \n",
    "    for _ in range(k):\n",
    "        stack.append(queue.popleft())\n",
    "    \n",
    "    while stack:\n",
    "        queue.append(stack.pop())\n",
    "    \n",
    "    for _ in range(len(queue) - k):\n",
    "        queue.append(queue.popleft())\n",
    "\n",
    "# Example usage:\n",
    "queue1 = deque([1, 2, 3, 4, 5])\n",
    "reverse_k_elements(queue1, 3)\n",
    "print(queue1)  # deque([3, 2, 1, 4, 5])\n",
    "\n",
    "queue2 = deque([10, 20, 30, 40, 50, 60, 70, 80])\n",
    "reverse_k_elements(queue2, 5)\n",
    "print(queue2)  # deque([50, 40, 30, 20, 10, 60, 70, 80])\n"
   ]
  },
  {
   "cell_type": "markdown",
   "id": "ae966a4f",
   "metadata": {},
   "source": [
    "**💡 Question 7\n",
    "Given a sequence of n strings, the task is to check if any two similar words come together and then destroy each other then print the number of words left in the sequence after this pairwise destruction.**  \n",
    "Examples:  \n",
    "Input : ab aa aa bcd ab  \n",
    "Output : 3  \n",
    "As aa, aa destroys each other so,  \n",
    "ab bcd ab is the new sequence.  \n",
    "Input :  tom jerry jerry tom  \n",
    "Output : 0  \n",
    "As first both jerry will destroy each other.  \n",
    "Then sequence will be tom, tom they will also destroy  \n",
    "each other. So, the final sequence doesn’t contain any  \n",
    "word.\n"
   ]
  },
  {
   "cell_type": "code",
   "execution_count": 9,
   "id": "d0fd89df",
   "metadata": {},
   "outputs": [
    {
     "name": "stdout",
     "output_type": "stream",
     "text": [
      "3\n",
      "0\n"
     ]
    }
   ],
   "source": [
    "def count_words_left(words):\n",
    "    stack = []\n",
    "    \n",
    "    for word in words:\n",
    "        if stack and stack[-1] == word:\n",
    "            stack.pop()\n",
    "        else:\n",
    "            stack.append(word)\n",
    "    \n",
    "    return len(stack)\n",
    "\n",
    "# Example usage:\n",
    "words1 = ['ab', 'aa', 'aa', 'bcd', 'ab']\n",
    "output1 = count_words_left(words1)\n",
    "print(output1)  # 3\n",
    "\n",
    "words2 = ['tom', 'jerry', 'jerry', 'tom']\n",
    "output2 = count_words_left(words2)\n",
    "print(output2)  # 0\n"
   ]
  },
  {
   "cell_type": "markdown",
   "id": "b277b3b4",
   "metadata": {},
   "source": [
    "**💡 Question 8\n",
    "Given an array of integers, the task is to find the maximum absolute difference between the nearest left and the right smaller element of every element in the array.\n",
    "Note: If there is no smaller element on right side or left side of any element then we take zero as the smaller element. For example for the leftmost element, the nearest smaller element on the left side is considered as 0. Similarly, for rightmost elements, the smaller element on the right side is considered as 0.**  \n",
    "Examples:\n",
    "```\n",
    "Input : arr[] = {2, 1, 8}\n",
    "Output : 1\n",
    "Left smaller  LS[] {0, 0, 1}\n",
    "Right smaller RS[] {1, 0, 0}\n",
    "Maximum Diff of abs(LS[i] - RS[i]) = 1\n",
    "\n",
    "Input  : arr[] = {2, 4, 8, 7, 7, 9, 3}\n",
    "Output : 4\n",
    "Left smaller   LS[] = {0, 2, 4, 4, 4, 7, 2}\n",
    "Right smaller  RS[] = {0, 3, 7, 3, 3, 3, 0}\n",
    "Maximum Diff of abs(LS[i] - RS[i]) = 7 - 3 = 4\n",
    "\n",
    "Input : arr[] = {5, 1, 9, 2, 5, 1, 7}\n",
    "Output : 1\n",
    "\n",
    "```"
   ]
  },
  {
   "cell_type": "code",
   "execution_count": 10,
   "id": "1f73c7e9",
   "metadata": {},
   "outputs": [
    {
     "name": "stdout",
     "output_type": "stream",
     "text": [
      "1\n",
      "6\n",
      "5\n"
     ]
    }
   ],
   "source": [
    "def max_abs_difference(arr):\n",
    "    n = len(arr)\n",
    "    left_smaller = [0] * n\n",
    "    right_smaller = [0] * n\n",
    "    \n",
    "    stack = []\n",
    "    \n",
    "    for i in range(n):\n",
    "        while stack and arr[stack[-1]] > arr[i]:\n",
    "            idx = stack.pop()\n",
    "            right_smaller[idx] = i\n",
    "            \n",
    "        stack.append(i)\n",
    "    \n",
    "    while stack:\n",
    "        idx = stack.pop()\n",
    "        right_smaller[idx] = 0\n",
    "        \n",
    "    stack = []\n",
    "    \n",
    "    for i in range(n-1, -1, -1):\n",
    "        while stack and arr[stack[-1]] > arr[i]:\n",
    "            idx = stack.pop()\n",
    "            left_smaller[idx] = i\n",
    "            \n",
    "        stack.append(i)\n",
    "    \n",
    "    while stack:\n",
    "        idx = stack.pop()\n",
    "        left_smaller[idx] = 0\n",
    "        \n",
    "    max_diff = 0\n",
    "    \n",
    "    for i in range(n):\n",
    "        diff = abs(left_smaller[i] - right_smaller[i])\n",
    "        max_diff = max(max_diff, diff)\n",
    "    \n",
    "    return max_diff\n",
    "\n",
    "# Example usage:\n",
    "arr1 = [2, 1, 8]\n",
    "output1 = max_abs_difference(arr1)\n",
    "print(output1)  # 1\n",
    "\n",
    "arr2 = [2, 4, 8, 7, 7, 9, 3]\n",
    "output2 = max_abs_difference(arr2)\n",
    "print(output2)  # 4\n",
    "\n",
    "arr3 = [5, 1, 9, 2, 5, 1, 7]\n",
    "output3 = max_abs_difference(arr3)\n",
    "print(output3)  # 1\n"
   ]
  }
 ],
 "metadata": {
  "kernelspec": {
   "display_name": "Python 3 (ipykernel)",
   "language": "python",
   "name": "python3"
  },
  "language_info": {
   "codemirror_mode": {
    "name": "ipython",
    "version": 3
   },
   "file_extension": ".py",
   "mimetype": "text/x-python",
   "name": "python",
   "nbconvert_exporter": "python",
   "pygments_lexer": "ipython3",
   "version": "3.9.16"
  }
 },
 "nbformat": 4,
 "nbformat_minor": 5
}
