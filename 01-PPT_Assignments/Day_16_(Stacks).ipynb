{
 "cells": [
  {
   "cell_type": "markdown",
   "id": "ebfa421c",
   "metadata": {},
   "source": [
    "# Assignment_16_(Stacks)"
   ]
  },
  {
   "cell_type": "markdown",
   "id": "c09c1b69",
   "metadata": {},
   "source": []
  },
  {
   "cell_type": "markdown",
   "id": "7a6fef79",
   "metadata": {},
   "source": []
  },
  {
   "cell_type": "markdown",
   "id": "54514f33",
   "metadata": {},
   "source": []
  },
  {
   "cell_type": "markdown",
   "id": "0a03db17",
   "metadata": {},
   "source": []
  },
  {
   "cell_type": "markdown",
   "id": "7bd43092",
   "metadata": {},
   "source": []
  },
  {
   "cell_type": "markdown",
   "id": "3639ea7e",
   "metadata": {},
   "source": []
  },
  {
   "cell_type": "markdown",
   "id": "54f33ce3",
   "metadata": {},
   "source": []
  },
  {
   "cell_type": "markdown",
   "id": "8ed87866",
   "metadata": {},
   "source": []
  },
  {
   "cell_type": "markdown",
   "id": "608f7e7d",
   "metadata": {},
   "source": []
  },
  {
   "cell_type": "markdown",
   "id": "909487f2",
   "metadata": {},
   "source": []
  },
  {
   "cell_type": "markdown",
   "id": "ed21ea30",
   "metadata": {},
   "source": []
  },
  {
   "cell_type": "markdown",
   "id": "37c0ff72",
   "metadata": {},
   "source": []
  },
  {
   "cell_type": "markdown",
   "id": "297c4edf",
   "metadata": {},
   "source": []
  },
  {
   "cell_type": "markdown",
   "id": "13e6ba5d",
   "metadata": {},
   "source": []
  },
  {
   "cell_type": "markdown",
   "id": "368e3587",
   "metadata": {},
   "source": []
  },
  {
   "cell_type": "markdown",
   "id": "bf8d587a",
   "metadata": {},
   "source": []
  },
  {
   "cell_type": "markdown",
   "id": "49cd7afe",
   "metadata": {},
   "source": []
  }
 ],
 "metadata": {
  "kernelspec": {
   "display_name": "Python 3 (ipykernel)",
   "language": "python",
   "name": "python3"
  },
  "language_info": {
   "codemirror_mode": {
    "name": "ipython",
    "version": 3
   },
   "file_extension": ".py",
   "mimetype": "text/x-python",
   "name": "python",
   "nbconvert_exporter": "python",
   "pygments_lexer": "ipython3",
   "version": "3.9.16"
  }
 },
 "nbformat": 4,
 "nbformat_minor": 5
}
