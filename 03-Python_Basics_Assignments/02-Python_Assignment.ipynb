{
 "cells": [
  {
   "cell_type": "markdown",
   "id": "b2a56d30",
   "metadata": {},
   "source": [
    "# 02 Python Basic Assignment"
   ]
  },
  {
   "cell_type": "markdown",
   "id": "2379b6be",
   "metadata": {},
   "source": [
    "1.What are the two values of the Boolean data type? How do you write them?"
   ]
  },
  {
   "cell_type": "markdown",
   "id": "4bdc6455",
   "metadata": {},
   "source": [
    "1. The two values of the Boolean data type are True and False. They are written as capital words without quotes.\n",
    "\n",
    "2. The three different types of Boolean operators are:\n",
    "   - AND: Returns True if both operands are True.\n",
    "   - OR: Returns True if at least one of the operands is True.\n",
    "   - NOT: Returns the opposite Boolean value of the operand.\n",
    "\n",
    "3. Boolean operator truth tables:\n",
    "   - AND:\n",
    "     - True AND True = True\n",
    "     - True AND False = False\n",
    "     - False AND True = False\n",
    "     - False AND False = False\n",
    "\n",
    "   - OR:\n",
    "     - True OR True = True\n",
    "     - True OR False = True\n",
    "     - False OR True = True\n",
    "     - False OR False = False\n",
    "\n",
    "   - NOT:\n",
    "     - NOT True = False\n",
    "     - NOT False = True\n",
    "\n",
    "4. The values of the following expressions are:\n",
    "   - (5 > 4) and (3 == 5): False\n",
    "   - not (5 > 4): False\n",
    "   - (5 > 4) or (3 == 5): True\n",
    "   - not ((5 > 4) or (3 == 5)): False\n",
    "   - (True and True) and (True == False): False\n",
    "   - (not False) or (not True): True\n",
    "\n",
    "5. The six comparison operators are:\n",
    "   - Equal to (==)\n",
    "   - Not equal to (!=)\n",
    "   - Greater than (>)\n",
    "   - Less than (<)\n",
    "   - Greater than or equal to (>=)\n",
    "   - Less than or equal to (<=)\n",
    "\n",
    "6. The equal to operator (==) is used to compare whether two values are equal. It returns a Boolean value of True if the values are equal and False otherwise. The assignment operator (=) is used to assign a value to a variable.\n",
    "\n",
    "Example of equal to operator: \n",
    "```\n",
    "x = 5\n",
    "y = 10\n",
    "if x == y:\n",
    "    print(\"x is equal to y\")\n",
    "```\n",
    "\n",
    "Example of assignment operator:\n",
    "```\n",
    "x = 5\n",
    "y = x\n",
    "```\n",
    "In the above example, the value of x is assigned to y.\n",
    "\n",
    "7. The three blocks in the code are:\n",
    "   - Block 1:\n",
    "     ```\n",
    "     if spam == 10:\n",
    "         print('eggs')\n",
    "     ```\n",
    "   - Block 2:\n",
    "     ```\n",
    "     if spam > 5:\n",
    "         print('bacon')\n",
    "     ```\n",
    "   - Block 3:\n",
    "     ```\n",
    "     else:\n",
    "         print('ham')\n",
    "     ```\n",
    "\n",
    "8. Code that prints different messages based on the value of spam:\n",
    "   ```\n",
    "   spam = 0\n",
    "   if spam == 1:\n",
    "       print('Hello')\n",
    "   elif spam == 2:\n",
    "       print('Howdy')\n",
    "   else:\n",
    "       print('Greetings!')\n",
    "   ```\n",
    "\n",
    "9. If a program is stuck in an endless loop, you can press \"Ctrl + C\" (or \"Command + C\" on Mac) to interrupt the program and stop its execution.\n",
    "\n",
    "\n",
    "\n",
    "\n",
    "\n",
    "\n",
    "\n"
   ]
  },
  {
   "cell_type": "markdown",
   "id": "96af731a",
   "metadata": {},
   "source": [
    "2. What are the three different types of Boolean operators?"
   ]
  },
  {
   "cell_type": "markdown",
   "id": "1e530f4e",
   "metadata": {},
   "source": []
  },
  {
   "cell_type": "markdown",
   "id": "af234345",
   "metadata": {},
   "source": [
    "3. Make a list of each Boolean operator&#39;s truth tables (i.e. every possible combination of Boolean\n",
    "values for the operator and what it evaluate )."
   ]
  },
  {
   "cell_type": "markdown",
   "id": "abffdc12",
   "metadata": {},
   "source": []
  },
  {
   "cell_type": "markdown",
   "id": "26f9c6f0",
   "metadata": {},
   "source": [
    "4. What are the values of the following expressions?\n",
    "(5 &gt; 4) and (3 == 5)\n",
    "not (5 &gt; 4)\n",
    "(5 &gt; 4) or (3 == 5)\n",
    "not ((5 &gt; 4) or (3 == 5))\n",
    "(True and True) and (True == False)\n",
    "(not False) or (not True)"
   ]
  },
  {
   "cell_type": "markdown",
   "id": "9b35956e",
   "metadata": {},
   "source": []
  },
  {
   "cell_type": "markdown",
   "id": "924de3a4",
   "metadata": {},
   "source": [
    "5. What are the six comparison operators?"
   ]
  },
  {
   "cell_type": "markdown",
   "id": "5ac28da4",
   "metadata": {},
   "source": []
  },
  {
   "cell_type": "markdown",
   "id": "75afd9dc",
   "metadata": {},
   "source": [
    "6. How do you tell the difference between the equal to and assignment operators?Describe a\n",
    "condition and when you would use one."
   ]
  },
  {
   "cell_type": "markdown",
   "id": "fa735d4c",
   "metadata": {},
   "source": []
  },
  {
   "cell_type": "markdown",
   "id": "ebdf53ad",
   "metadata": {},
   "source": [
    "7. Identify the three blocks in this code:\n",
    "spam = 0\n",
    "if spam == 10:\n",
    "print(&#39;eggs&#39;)\n",
    "if spam &gt; 5:\n",
    "print(&#39;bacon&#39;)\n",
    "else:\n",
    "print(&#39;ham&#39;)\n",
    "print(&#39;spam&#39;)\n",
    "print(&#39;spam&#39;)"
   ]
  },
  {
   "cell_type": "markdown",
   "id": "4249623a",
   "metadata": {},
   "source": []
  },
  {
   "cell_type": "markdown",
   "id": "ad77b037",
   "metadata": {},
   "source": [
    "8. Write code that prints Hello if 1 is stored in spam, prints Howdy if 2 is stored in spam, and prints\n",
    "Greetings! if anything else is stored in spam."
   ]
  },
  {
   "cell_type": "markdown",
   "id": "4302348a",
   "metadata": {},
   "source": []
  },
  {
   "cell_type": "markdown",
   "id": "5591ac7e",
   "metadata": {},
   "source": [
    "9.If your programme is stuck in an endless loop, what keys you’ll press?\n"
   ]
  },
  {
   "cell_type": "markdown",
   "id": "f3ef311d",
   "metadata": {},
   "source": []
  },
  {
   "cell_type": "markdown",
   "id": "ed230658",
   "metadata": {},
   "source": [
    "10. How can you tell the difference between break and continue?"
   ]
  },
  {
   "cell_type": "markdown",
   "id": "28da27b9",
   "metadata": {},
   "source": [
    "The difference between break and continue statements:\n",
    "   - The break statement is used to exit the current loop entirely. It terminates the loop and continues with the next statement outside the loop.\n",
    "   - The continue statement is used to skip the rest of the loop's code for the current iteration and move to the next iteration."
   ]
  },
  {
   "cell_type": "markdown",
   "id": "4dbaf347",
   "metadata": {},
   "source": [
    "11. In a for loop, what is the difference between range(10), range(0, 10), and range(0, 10, 1)?"
   ]
  },
  {
   "cell_type": "markdown",
   "id": "2c968196",
   "metadata": {},
   "source": [
    "11. In a for loop:\n",
    "   - `range(10)` generates values from 0 to 9. It starts from the default value of 0 and goes up to (but does not include) the specified upper limit of 10.\n",
    "   - `range(0, 10)` generates values from 0 to 9, similar to `range(10)`. Here, the start value of \n",
    "\n",
    "0 is explicitly specified.\n",
    "   - `range(0, 10, 1)` generates values from 0 to 9 with a step of 1. The step size is optional and defaults to 1 if not specified."
   ]
  },
  {
   "cell_type": "markdown",
   "id": "5e2e7b3e",
   "metadata": {},
   "source": [
    "12. Write a short program that prints the numbers 1 to 10 using a for loop. Then write an equivalent\n",
    "program that prints the numbers 1 to 10 using a while loop."
   ]
  },
  {
   "cell_type": "markdown",
   "id": "e2707f29",
   "metadata": {},
   "source": [
    "12. Program to print numbers 1 to 10 using a for loop:\n",
    "   ```\n",
    "   for num in range(1, 11):\n",
    "       print(num)\n",
    "   ```\n",
    "\n",
    "   Program to print numbers 1 to 10 using a while loop:\n",
    "   ```\n",
    "   num = 1\n",
    "   while num <= 10:\n",
    "       print(num)\n",
    "       num += 1\n",
    "   ```"
   ]
  },
  {
   "cell_type": "markdown",
   "id": "bdd7b0be",
   "metadata": {},
   "source": [
    "13. If you had a function named bacon() inside a module named spam, how would you call it after importing spam ?"
   ]
  },
  {
   "cell_type": "markdown",
   "id": "c96a3453",
   "metadata": {},
   "source": [
    "13. After importing the module named \"spam\" that contains the function \"bacon()\", you can call it using the following syntax:\n",
    "   ```\n",
    "   import spam\n",
    "   spam.bacon()\n",
    "   ```"
   ]
  }
 ],
 "metadata": {
  "kernelspec": {
   "display_name": "Python 3 (ipykernel)",
   "language": "python",
   "name": "python3"
  },
  "language_info": {
   "codemirror_mode": {
    "name": "ipython",
    "version": 3
   },
   "file_extension": ".py",
   "mimetype": "text/x-python",
   "name": "python",
   "nbconvert_exporter": "python",
   "pygments_lexer": "ipython3",
   "version": "3.9.16"
  }
 },
 "nbformat": 4,
 "nbformat_minor": 5
}
