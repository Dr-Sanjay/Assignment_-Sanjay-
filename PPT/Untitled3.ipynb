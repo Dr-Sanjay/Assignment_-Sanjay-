{
 "cells": [
  {
   "cell_type": "code",
   "execution_count": null,
   "id": "f6875dd8-7c7e-4f83-bd08-9457bbc1c91f",
   "metadata": {},
   "outputs": [],
   "source": [
    "Hi sanjay singh"
   ]
  },
  {
   "cell_type": "code",
   "execution_count": null,
   "id": "2ecbed71-104a-4a38-a6dd-fe523627b429",
   "metadata": {},
   "outputs": [],
   "source": [
    "this is my second commit"
   ]
  },
  {
   "cell_type": "markdown",
   "id": "4ccce50d-fade-4c1e-9761-1d34ca409cb6",
   "metadata": {},
   "source": [
    "**This is Markdown with 2 star**"
   ]
  },
  {
   "cell_type": "raw",
   "id": "204cf198-c6e0-4502-acc2-79ba71843ee3",
   "metadata": {},
   "source": [
    "**This is raw with 2 Star**"
   ]
  }
 ],
 "metadata": {
  "kernelspec": {
   "display_name": "Python 3 (ipykernel)",
   "language": "python",
   "name": "python3"
  },
  "language_info": {
   "codemirror_mode": {
    "name": "ipython",
    "version": 3
   },
   "file_extension": ".py",
   "mimetype": "text/x-python",
   "name": "python",
   "nbconvert_exporter": "python",
   "pygments_lexer": "ipython3",
   "version": "3.9.13"
  }
 },
 "nbformat": 4,
 "nbformat_minor": 5
}
