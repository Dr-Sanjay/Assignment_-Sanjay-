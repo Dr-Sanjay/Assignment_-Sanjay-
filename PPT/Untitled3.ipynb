{
 "cells": [
  {
   "cell_type": "code",
   "execution_count": null,
   "id": "f6875dd8-7c7e-4f83-bd08-9457bbc1c91f",
   "metadata": {},
   "outputs": [],
   "source": [
    "Hi sanjay singh"
   ]
  },
  {
   "cell_type": "code",
   "execution_count": null,
   "id": "eca0f502-3f2b-49f0-82fe-de324cd9a13f",
   "metadata": {},
   "outputs": [],
   "source": [
    "this is my second commit"
   ]
  }
 ],
 "metadata": {
  "kernelspec": {
   "display_name": "Python 3 (ipykernel)",
   "language": "python",
   "name": "python3"
  },
  "language_info": {
   "codemirror_mode": {
    "name": "ipython",
    "version": 3
   },
   "file_extension": ".py",
   "mimetype": "text/x-python",
   "name": "python",
   "nbconvert_exporter": "python",
   "pygments_lexer": "ipython3",
   "version": "3.9.13"
  }
 },
 "nbformat": 4,
 "nbformat_minor": 5
}
