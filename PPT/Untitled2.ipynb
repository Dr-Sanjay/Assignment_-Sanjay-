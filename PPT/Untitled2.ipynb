{
 "cells": [
  {
   "cell_type": "code",
   "execution_count": 1,
   "id": "8b1f88e3-ab56-4aed-8c5b-4a307eb089ac",
   "metadata": {},
   "outputs": [
    {
     "ename": "SyntaxError",
     "evalue": "invalid character '💡' (U+1F4A1) (4286665724.py, line 1)",
     "output_type": "error",
     "traceback": [
      "\u001b[1;36m  File \u001b[1;32m\"C:\\Users\\Realme\\AppData\\Local\\Temp\\ipykernel_3512\\4286665724.py\"\u001b[1;36m, line \u001b[1;32m1\u001b[0m\n\u001b[1;33m    💡 Q1. Given an array of integers nums and an integer target, return indices of the two numbers such that they add up to target.\u001b[0m\n\u001b[1;37m    ^\u001b[0m\n\u001b[1;31mSyntaxError\u001b[0m\u001b[1;31m:\u001b[0m invalid character '💡' (U+1F4A1)\n"
     ]
    }
   ],
   "source": [
    "💡 Q1. Given an array of integers nums and an integer target, return indices of the two numbers such that they add up to target.\n",
    "You may assume that each input would have exactly one solution, and you may not use the same element twice.\n",
    "You can return the answer in any order.\n",
    "Example: Input: nums = [2,7,11,15], target = 9 Output0 [0,1]\n",
    "Explanation: Because nums[0] + nums[1] == 9, we return [0, 1]\n",
    "\n",
    "\n",
    "\n",
    "\n",
    "💡 Q4. You are given a large integer represented as an integer array digits, where each digits[i] is the ith digit of the integer. The digits are ordered from most significant to least significant in left-to-right order. The large integer does not contain any leading 0's.\n",
    "Increment the large integer by one and return the resulting array of digits.\n",
    "Example 1: Input: digits = [1,2,3] Output: [1,2,4]\n",
    "Explanation: The array represents the integer 123.\n",
    "Incrementing by one gives 123 + 1 = 124. Thus, the result should be [1,2,4].\n",
    "\n",
    "💡 Q5. You are given two integer arrays nums1 and nums2, sorted in non-decreasing order, and two integers m and n, representing the number of elements in nums1 and nums2 respectively.\n",
    "Merge nums1 and nums2 into a single array sorted in non-decreasing order.\n",
    "The final sorted array should not be returned by the function, but instead be stored inside the array nums1. To accommodate this, nums1 has a length of m + n, where the first m elements denote the elements that should be merged, and the last n elements are set to 0 and should be ignored. nums2 has a length of n.\n",
    "Example 1: Input: nums1 = [1,2,3,0,0,0], m = 3, nums2 = [2,5,6], n = 3 Output: [1,2,2,3,5,6]\n",
    "Explanation: The arrays we are merging are [1,2,3] and [2,5,6]. The result of the merge is [1,2,2,3,5,6] with the underlined elements coming from nums1.\n",
    "\n",
    "💡 Q6. Given an integer array nums, return true if any value appears at least twice in the array, and return false if every element is distinct.\n",
    "Example 1: Input: nums = [1,2,3,1]\n",
    "Output: true\n",
    "\n",
    " 💡 Q7. Given an integer array nums, move all 0's to the end of it while maintaining the relative order of the nonzero elements.\n",
    "Note that you must do this in-place without making a copy of the array.\n",
    "Example 1: Input: nums = [0,1,0,3,12] Output: [1,3,12,0,0]\n",
    "\n",
    "💡 Q8. You have a set of integers s, which originally contains all the numbers from 1 to n. Unfortunately, due to some error, one of the numbers in s got duplicated to another number in the set, which results in repetition of one number and loss of another number.\n",
    "You are given an integer array nums representing the data status of this set after the error.\n",
    "Find the number that occurs twice and the number that is missing and return them in the form of an array.\n",
    "Example 1: Input: nums = [1,2,2,4] Output: [2,3]"
   ]
  },
  {
   "cell_type": "code",
   "execution_count": null,
   "id": "7a9b19c5-432b-43de-9b70-b94949a31667",
   "metadata": {},
   "outputs": [],
   "source": [
    "💡 Q2. Given an integer array nums and an integer val, remove all occurrences of val in nums in-place. The order of the elements may be changed. Then return the number of elements in nums which are not equal to val.\n",
    "Consider the number of elements in nums which are not equal to val be k, to get accepted, you need to do the following things:\n",
    "- Change the array nums such that the first k elements of nums contain the elements which are not equal to val. The remaining elements of nums are not important as well as the size of nums.\n",
    "- Return k.\n",
    "Example : Input: nums = [3,2,2,3], val = 3 Output: 2, nums = [2,2,*,*]\n",
    "Explanation: Your function should return k = 2, with the first two elements of nums being 2. It does not matter what you leave beyond the returned k (hence they are underscores)[\n"
   ]
  },
  {
   "cell_type": "code",
   "execution_count": null,
   "id": "c9b110e1-abf8-4860-82dc-4453df01fef2",
   "metadata": {},
   "outputs": [],
   "source": [
    "print(\"h\")"
   ]
  },
  {
   "cell_type": "code",
   "execution_count": null,
   "id": "d35c3b2a-76be-4afc-8198-ce71acde5b88",
   "metadata": {},
   "outputs": [],
   "source": [
    "💡 Q3. Given a sorted array of distinct integers and a target value, return the index if the target is found. If not, return the index where it would be if it were inserted in order.\n",
    "You must write an algorithm with O(log n) runtime complexity.\n",
    "Example 1: Input: nums = [1,3,5,6], target = 5\n",
    "Output: 2"
   ]
  },
  {
   "cell_type": "code",
   "execution_count": null,
   "id": "a3f01421-9cab-437c-a6df-b1dcecea89dc",
   "metadata": {},
   "outputs": [],
   "source": []
  },
  {
   "cell_type": "code",
   "execution_count": null,
   "id": "986550b5-41fd-45cc-b71d-b263a088e0b1",
   "metadata": {},
   "outputs": [],
   "source": []
  },
  {
   "cell_type": "code",
   "execution_count": null,
   "id": "a395cafe-f655-4619-bf3d-a7b9c7a8d054",
   "metadata": {},
   "outputs": [],
   "source": []
  },
  {
   "cell_type": "code",
   "execution_count": null,
   "id": "bf05472b-3f7b-4559-84b8-c1a49c2d31c1",
   "metadata": {},
   "outputs": [],
   "source": []
  },
  {
   "cell_type": "raw",
   "id": "5568cac9-6a56-4d43-9e47-618f7ac66ec2",
   "metadata": {},
   "source": [
    "hi samj"
   ]
  },
  {
   "cell_type": "markdown",
   "id": "208f5c9c-34e7-4898-b36c-f88bbfed96b5",
   "metadata": {},
   "source": [
    "#hi\n",
    "this is markdown\n",
    "Q3. Given a sorted array of distinct integers and a target value, return the index if the target is found. If not, return the index where it would be if it were inserted in order.\n",
    "You must write an algorithm with O(log n) runtime complexity.\n",
    "Example 1: Input: nums = [1,3,5,6], target = 5\n",
    "Output: 2\n"
   ]
  },
  {
   "cell_type": "raw",
   "id": "2bf6ade2-d535-44f9-a2f7-3e88eff1505e",
   "metadata": {},
   "source": [
    "#hi\n",
    "this is raw\n",
    "Q3. Given a sorted array of distinct integers and a target value, return the index if the target is found. If not, return the index where it would be if it were inserted in order.\n",
    "You must write an algorithm with O(log n) runtime complexity.\n",
    "Example 1: Input: nums = [1,3,5,6], target = 5\n",
    "Output: 2"
   ]
  }
 ],
 "metadata": {
  "kernelspec": {
   "display_name": "Python 3 (ipykernel)",
   "language": "python",
   "name": "python3"
  },
  "language_info": {
   "codemirror_mode": {
    "name": "ipython",
    "version": 3
   },
   "file_extension": ".py",
   "mimetype": "text/x-python",
   "name": "python",
   "nbconvert_exporter": "python",
   "pygments_lexer": "ipython3",
   "version": "3.9.13"
  }
 },
 "nbformat": 4,
 "nbformat_minor": 5
}
