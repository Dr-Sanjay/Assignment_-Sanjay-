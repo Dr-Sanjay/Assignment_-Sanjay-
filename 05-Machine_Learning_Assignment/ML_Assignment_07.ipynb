{
 "cells": [
  {
   "cell_type": "markdown",
   "id": "fd95606b",
   "metadata": {},
   "source": [
    "# ML_Assignment_07"
   ]
  },
  {
   "cell_type": "markdown",
   "id": "743cc7cf",
   "metadata": {},
   "source": [
    "1. What is the definition of a target function? In the sense of a real-life example, express the target\n",
    "function. How is a target function&#39;s fitness assessed?"
   ]
  },
  {
   "cell_type": "markdown",
   "id": "eb654afd",
   "metadata": {},
   "source": [
    "A target function, in the context of machine learning, refers to the objective or goal that a model aims to optimize or approximate. It represents the relationship between the input variables (features) and the output variable (target) that the model is trying to learn. The target function captures the underlying patterns or mapping within the data and is used to make predictions on new, unseen data."
   ]
  },
  {
   "cell_type": "markdown",
   "id": "e6e05444",
   "metadata": {},
   "source": [
    "2. What are predictive models, and how do they work? What are descriptive types, and how do you\n",
    "use them? Examples of both types of models should be provided. Distinguish between these two\n",
    "forms of models."
   ]
  },
  {
   "cell_type": "markdown",
   "id": "a67fa1fa",
   "metadata": {},
   "source": []
  },
  {
   "cell_type": "markdown",
   "id": "11052357",
   "metadata": {},
   "source": [
    "3. Describe the method of assessing a classification model&#39;s efficiency in detail. Describe the various\n",
    "measurement parameters."
   ]
  },
  {
   "cell_type": "markdown",
   "id": "400716f2",
   "metadata": {},
   "source": []
  },
  {
   "cell_type": "markdown",
   "id": "4c6d0534",
   "metadata": {},
   "source": [
    "4.(i). In the sense of machine learning models, what is underfitting? What is the most common\n",
    "reason for underfitting?\n",
    "(ii). What does it mean to overfit? When is it going to happen?\n",
    "(iii). In the sense of model fitting, explain the bias-variance trade-off."
   ]
  },
  {
   "cell_type": "markdown",
   "id": "85a23a88",
   "metadata": {},
   "source": []
  },
  {
   "cell_type": "markdown",
   "id": "ed06966e",
   "metadata": {},
   "source": [
    "5. Is it possible to boost the efficiency of a learning model? If so, please clarify how."
   ]
  },
  {
   "cell_type": "markdown",
   "id": "f1530cdb",
   "metadata": {},
   "source": []
  },
  {
   "cell_type": "markdown",
   "id": "265d3681",
   "metadata": {},
   "source": [
    "6. How would you rate an unsupervised learning model&#39;s success? What are the most common\n",
    "success indicators for an unsupervised learning model?"
   ]
  },
  {
   "cell_type": "markdown",
   "id": "64c8ea90",
   "metadata": {},
   "source": []
  },
  {
   "cell_type": "markdown",
   "id": "932a3091",
   "metadata": {},
   "source": [
    "7. Is it possible to use a classification model for numerical data or a regression model for categorical\n",
    "data with a classification model? Explain your answer."
   ]
  },
  {
   "cell_type": "markdown",
   "id": "d807194b",
   "metadata": {},
   "source": []
  },
  {
   "cell_type": "markdown",
   "id": "af1b1445",
   "metadata": {},
   "source": [
    "8. Describe the predictive modeling method for numerical values. What distinguishes it from\n",
    "categorical predictive modeling?"
   ]
  },
  {
   "cell_type": "markdown",
   "id": "0ac1b915",
   "metadata": {},
   "source": []
  },
  {
   "cell_type": "markdown",
   "id": "0082b6e7",
   "metadata": {},
   "source": [
    "9. The following data were collected when using a classification model to predict the malignancy of a\n",
    "group of patients&#39; tumors:\n",
    "i. Accurate estimates – 15 cancerous, 75 benign\n",
    "ii. Wrong predictions – 3 cancerous, 7 benign\n",
    "Determine the model&#39;s error rate, Kappa value, sensitivity, precision, and F-measure."
   ]
  },
  {
   "cell_type": "markdown",
   "id": "0e1c1149",
   "metadata": {},
   "source": []
  },
  {
   "cell_type": "markdown",
   "id": "469be9b5",
   "metadata": {},
   "source": [
    "10. Make quick notes on:\n",
    "1. The process of holding out\n",
    "2. Cross-validation by tenfold\n",
    "3. Adjusting the parameters"
   ]
  },
  {
   "cell_type": "markdown",
   "id": "b057ef41",
   "metadata": {},
   "source": []
  },
  {
   "cell_type": "markdown",
   "id": "1e317025",
   "metadata": {},
   "source": [
    "11. Define the following terms:\n",
    "1. Purity vs. Silhouette width\n",
    "2. Boosting vs. Bagging\n",
    "3. The eager learner vs. the lazy learner"
   ]
  },
  {
   "cell_type": "markdown",
   "id": "17f264d6",
   "metadata": {},
   "source": []
  }
 ],
 "metadata": {
  "kernelspec": {
   "display_name": "Python 3 (ipykernel)",
   "language": "python",
   "name": "python3"
  },
  "language_info": {
   "codemirror_mode": {
    "name": "ipython",
    "version": 3
   },
   "file_extension": ".py",
   "mimetype": "text/x-python",
   "name": "python",
   "nbconvert_exporter": "python",
   "pygments_lexer": "ipython3",
   "version": "3.9.16"
  }
 },
 "nbformat": 4,
 "nbformat_minor": 5
}
