{
 "cells": [
  {
   "cell_type": "markdown",
   "id": "60569bb0",
   "metadata": {},
   "source": [
    "# ML_Assignment_04"
   ]
  },
  {
   "cell_type": "markdown",
   "id": "8b1fd2c1",
   "metadata": {},
   "source": [
    "**1. What are the key tasks involved in getting ready to work with machine learning modeling?**"
   ]
  },
  {
   "cell_type": "markdown",
   "id": "28703dae",
   "metadata": {},
   "source": [
    "The key tasks involved in getting ready to work with machine learning modeling are:  \n",
    "    * **Data collection:** This involves collecting the data that will be used to train and test the machine learning model. The data can be collected from a variety of sources, such as surveys, experiments, or historical records.  \n",
    "    * **Data preparation:** This involves cleaning, formatting, and transforming the data so that it is in a format that can be used by the machine learning model. This may involve removing duplicate data, filling in missing values, or converting categorical data to numerical data.  \n",
    "    * **Model selection:** This involves choosing the right machine learning model for the data. There are many different machine learning models available, each with its own strengths and weaknesses. The model that is chosen will depend on the specific problem that is being solved and the characteristics of the data.  \n",
    "    * **Model training:** This involves training the machine learning model on the data. This is done by feeding the data to the model and allowing it to learn the relationships between the features and the target variable.  \n",
    "    * **Model evaluation:** This involves evaluating the performance of the machine learning model on a holdout dataset. The holdout dataset is a set of data that was not used to train the model. The model's performance on the holdout dataset is an indication of how well it will perform on new data.  \n",
    "    * **Model deployment:** This involves deploying the machine learning model to production. This may involve creating a web application or a software package that uses the model to make predictions."
   ]
  },
  {
   "cell_type": "markdown",
   "id": "6388e558",
   "metadata": {},
   "source": [
    "**2. What are the different forms of data used in machine learning? Give a specific example for each of them**"
   ]
  },
  {
   "cell_type": "markdown",
   "id": "d291c13b",
   "metadata": {},
   "source": [
    "The different forms of data used in machine learning are:  \n",
    "    * **Numeric data:** This is data that can be represented as numbers. Numeric data can be continuous, such as height or weight, or discrete, such as the number of siblings.  \n",
    "    * **Categorical data:** This is data that can be categorized into different groups. Categorical data can be either nominal, such as the color of a car, or ordinal, such as the rating of a movie.  \n",
    "    * **Text data:** This is data that is in the form of text. Text data can be used for a variety of machine learning tasks, such as natural language processing and sentiment analysis.  \n",
    "    * **Image data:** This is data that is in the form of images. Image data can be used for a variety of machine learning tasks, such as object detection and image classification.  \n",
    "    * **Audio data:** This is data that is in the form of audio. Audio data can be used for a variety of machine learning tasks, such as speech recognition and music classification.  \n",
    "\n",
    "Here are some specific examples of each type of data:\n",
    "\n",
    "* **Numeric data:** The height and weight of a person.\n",
    "* **Categorical data:** The color of a car (nominal) or the rating of a movie (ordinal).\n",
    "* **Text data:** The text of a book or a news article.\n",
    "* **Image data:** A photograph of a person or a landscape.\n",
    "* **Audio data:** A recording of a person speaking or a piece of music.\n"
   ]
  },
  {
   "cell_type": "markdown",
   "id": "a1c9c989",
   "metadata": {},
   "source": [
    "**3. Distinguish:**\n",
    "\n",
    "  1. Numeric vs. categorical attributes\n",
    "  2. Feature selection vs. dimensionality reduction"
   ]
  },
  {
   "cell_type": "markdown",
   "id": "b06df13f",
   "metadata": {},
   "source": [
    "The following are the key differences between numeric and categorical attributes:\n",
    "\n",
    "* **Numeric attributes:** Numeric attributes can be represented as numbers. Numeric attributes can be continuous, such as height or weight, or discrete, such as the number of siblings.\n",
    "* **Categorical attributes:** Categorical attributes can be categorized into different groups. Categorical attributes can be either nominal, such as the color of a car, or ordinal, such as the rating of a movie.\n",
    "\n",
    "The following are the key differences between feature selection and dimensionality reduction:\n",
    "\n",
    "* **Feature selection:** Feature selection is the process of selecting a subset of features from a dataset. The goal of feature selection is to improve the performance of a machine learning model.\n",
    "* **Dimensionality reduction:** Dimensionality reduction is the process of reducing the number of dimensions in a dataset. The goal of dimensionality reduction is to make the data easier to visualize and to improve the performance of a machine learning model.\n"
   ]
  },
  {
   "cell_type": "markdown",
   "id": "dbdf342c",
   "metadata": {},
   "source": [
    "**4. Make quick notes on any two of the following:**\n",
    "\n",
    "1. The histogram\n",
    "2. Use a scatter plot\n",
    "3.PCA (Personal Computer Aid)"
   ]
  },
  {
   "cell_type": "markdown",
   "id": "aa518a8c",
   "metadata": {},
   "source": [
    "Here are some quick notes on the histogram, scatter plot, and PCA:\n",
    "\n",
    "* **Histogram:** A histogram is a graphical representation of the distribution of data. A histogram is created by dividing the data into bins and then counting the number of data points in each bin.\n",
    "* **Scatter plot:** A scatter plot is a graphical representation of the relationship between two variables. A scatter plot is created by plotting the values of one variable on the x-axis and the values of the other variable on the y-axis.\n",
    "* **PCA:** Principal component analysis (PCA) is a dimensionality reduction technique. PCA is used to reduce the number of dimensions in a dataset while preserving as much of the information as possible."
   ]
  },
  {
   "cell_type": "markdown",
   "id": "6f7d1fce",
   "metadata": {},
   "source": [
    "**5. Why is it necessary to investigate data? Is there a discrepancy in how qualitative and quantitative data are explored?**"
   ]
  },
  {
   "cell_type": "markdown",
   "id": "6232485a",
   "metadata": {},
   "source": [
    "It is necessary to investigate data because it helps us to understand the data and to identify any potential problems.\n",
    "This can be done by using statistical methods, such as histograms, scatter plots, and PCA. By investigating the data, we can identify any potential problems, such as outliers, missing values, or skewed distributions. This information can then be used to improve the quality of the data and to make sure that the data is suitable for use in machine learning."
   ]
  },
  {
   "cell_type": "markdown",
   "id": "0bc9d41f",
   "metadata": {},
   "source": [
    "**6. What are the various histogram shapes? What exactly are ‘bins'?**"
   ]
  },
  {
   "cell_type": "markdown",
   "id": "57723ed1",
   "metadata": {},
   "source": [
    "There are four main types of histogram shapes:\n",
    "\n",
    "* **Normal distribution:** This is the most common type of histogram shape. It is bell-shaped and has a single peak.\n",
    "* **Bimodal distribution:** This histogram shape has two peaks. This can happen when there are two distinct populations in the data.\n",
    "* **Uniform distribution:** This histogram shape is flat. This means that all of the values in the data are equally likely.\n",
    "* **Poisson distribution:** This histogram shape has a peak at zero and then decreases as the values get larger. This is often seen in data that counts the number of events that occur in a fixed period of time.\n",
    "\n",
    "Bins are the intervals that the data is divided into in a histogram. The number of bins and the width of the bins can affect the shape of the histogram.\n"
   ]
  },
  {
   "cell_type": "markdown",
   "id": "2a8c32f9",
   "metadata": {},
   "source": [
    "**7. How do we deal with data outliers?**"
   ]
  },
  {
   "cell_type": "markdown",
   "id": "05d205be",
   "metadata": {},
   "source": [
    "Outliers are data points that are very different from the rest of the data. Outliers can be caused by errors in the data collection process or by genuine variation in the population. Outliers can affect the results of statistical analyses, so it is important to identify and deal with them.\n",
    "\n",
    "There are a number of ways to deal with outliers. One way is to simply remove them from the data. Another way is to transform the data so that the outliers are no longer outliers. Finally, it is also possible to model the outliers as a separate population.\n"
   ]
  },
  {
   "cell_type": "markdown",
   "id": "5f3e2824",
   "metadata": {},
   "source": [
    "**8. What are the various central inclination measures? Why does mean vary too much from median in certain data sets?**"
   ]
  },
  {
   "cell_type": "markdown",
   "id": "241f3f19",
   "metadata": {},
   "source": [
    "The three main central tendency measures are the mean, the median, and the mode.\n",
    "\n",
    "* **Mean:** The mean is the average of the data. It is calculated by adding up all of the values in the data and then dividing by the number of values.\n",
    "* **Median:** The median is the middle value in the data. It is calculated by sorting the data from least to greatest and then finding the value in the middle.\n",
    "* **Mode:** The mode is the most common value in the data. It is calculated by counting the number of times each value appears in the data and then finding the value that appears the most often.\n",
    "\n",
    "The mean is the most sensitive to outliers. The median is not affected by outliers. The mode is not affected by outliers or by the distribution of the data."
   ]
  },
  {
   "cell_type": "markdown",
   "id": "acaa1582",
   "metadata": {},
   "source": [
    "**9. Describe how a scatter plot can be used to investigate bivariate relationships. Is it possible to find outliers using a scatter plot?**"
   ]
  },
  {
   "cell_type": "markdown",
   "id": "409f2ba4",
   "metadata": {},
   "source": [
    "A scatter plot is a graphical representation of the relationship between two variables. The x-axis of a scatter plot represents one variable and the y-axis represents the other variable. Each data point is plotted as a point on the scatter plot.\n",
    "\n",
    "Outliers can be identified on a scatter plot by looking for data points that are far away from the rest of the data. Outliers can affect the relationship between the two variables, so it is important to identify and deal with them.\n"
   ]
  },
  {
   "cell_type": "markdown",
   "id": "7d2384c0",
   "metadata": {},
   "source": [
    "**10. Describe how cross-tabs can be used to figure out how two variables are related.**"
   ]
  },
  {
   "cell_type": "markdown",
   "id": "0f2a0340",
   "metadata": {},
   "source": [
    "Cross-tabs are a table that shows the frequency of occurrence of two or more categorical variables. Cross-tabs can be used to see how two or more variables are related to each other.\n",
    "\n",
    "Cross-tabs can be used to identify relationships between variables. For example, a cross-tab of the variable \"gender\" and the variable \"age\" can be used to see if there is a relationship between gender and age."
   ]
  }
 ],
 "metadata": {
  "kernelspec": {
   "display_name": "Python 3 (ipykernel)",
   "language": "python",
   "name": "python3"
  },
  "language_info": {
   "codemirror_mode": {
    "name": "ipython",
    "version": 3
   },
   "file_extension": ".py",
   "mimetype": "text/x-python",
   "name": "python",
   "nbconvert_exporter": "python",
   "pygments_lexer": "ipython3",
   "version": "3.9.13"
  }
 },
 "nbformat": 4,
 "nbformat_minor": 5
}
