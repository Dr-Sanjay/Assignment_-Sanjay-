{
 "cells": [
  {
   "cell_type": "markdown",
   "id": "97f94498",
   "metadata": {},
   "source": [
    "# ML_Assignment_05"
   ]
  },
  {
   "cell_type": "markdown",
   "id": "bb9794a6",
   "metadata": {},
   "source": [
    "**1. What are the key tasks that machine learning entails? What does data pre-processing imply?**"
   ]
  },
  {
   "cell_type": "markdown",
   "id": "28a29c21",
   "metadata": {},
   "source": [
    "The key tasks that machine learning entails are:\n",
    "\n",
    "* **Data preprocessing:** This is the process of cleaning and formatting the data so that it can be used by machine learning algorithms. This may involve removing noise, dealing with missing values, and transforming the data into a format that is compatible with the algorithm.\n",
    "* **Feature engineering:** This is the process of creating new features from the existing data. This may be done to improve the performance of the machine learning algorithm.\n",
    "* **Model selection:** This is the process of choosing the right machine learning algorithm for the problem at hand. This may involve trying different algorithms and evaluating their performance on a validation set.\n",
    "* **Model training:** This is the process of fitting the machine learning algorithm to the data. This is done by adjusting the parameters of the algorithm so that it minimizes the error on the training set.\n",
    "* **Model evaluation:** This is the process of assessing the performance of the machine learning algorithm on a test set. This is done to ensure that the algorithm is not overfitting the training data.\n",
    "\n",
    "Data preprocessing is a critical step in machine learning because it can have a significant impact on the performance of the machine learning algorithm. If the data is not cleaned and formatted properly, the algorithm may not be able to learn from it effectively."
   ]
  },
  {
   "cell_type": "markdown",
   "id": "24104949",
   "metadata": {},
   "source": [
    "**2. Describe quantitative and qualitative data in depth. Make a distinction between the two.**"
   ]
  },
  {
   "cell_type": "markdown",
   "id": "be37d871",
   "metadata": {},
   "source": [
    "Quantitative data is data that can be measured and expressed in numbers. Qualitative data is data that cannot be measured or expressed in numbers. For example, the height of a person is quantitative data, while the color of a person's hair is qualitative data."
   ]
  },
  {
   "cell_type": "markdown",
   "id": "ab3401c8",
   "metadata": {},
   "source": [
    "**3. Create a basic data collection that includes some sample records. Have at least one attribute from each of the machine learning data types.**"
   ]
  },
  {
   "cell_type": "markdown",
   "id": "ed618793",
   "metadata": {},
   "source": [
    "Here is an example of a basic data collection that includes some sample records:\n",
    "\n",
    "```\n",
    "| ID | Name | Age | Gender |\n",
    "|---|---|---|---|\n",
    "| 1 | John Smith | 25 | Male |\n",
    "| 2 | Jane Doe | 30 | Female |\n",
    "| 3 | Peter Jones | 40 | Male |\n",
    "```\n",
    "\n",
    "This data collection has three attributes: ID, Name, and Age. The ID is a unique identifier for each record. The Name is a string attribute. The Age is a numeric attribute.\n"
   ]
  },
  {
   "cell_type": "markdown",
   "id": "e7cdc75c",
   "metadata": {},
   "source": [
    "**4. What are the various causes of machine learning data issues? What are the ramifications?**"
   ]
  },
  {
   "cell_type": "markdown",
   "id": "7d47a4a1",
   "metadata": {},
   "source": [
    "There are many causes of machine learning data issues, including:\n",
    "\n",
    "* **Missing values:** This is when there is no data for a particular variable.\n",
    "* **Outliers:** These are data points that are significantly different from the rest of the data.\n",
    "* **Data noise:** This is when the data contains errors or inconsistencies.\n",
    "* **Data imbalance:** This is when there is a large difference in the number of data points for each class.\n",
    "\n",
    "The ramifications of machine learning data issues can include:\n",
    "\n",
    "* **Reduced accuracy:** The machine learning algorithm may not be able to learn from the data if it is incomplete, noisy, or imbalanced.\n",
    "* **Increased bias:** The machine learning algorithm may learn to favor certain classes of data over others.\n",
    "* **Inability to generalize:** The machine learning algorithm may not be able to generalize to new data if it is only trained on a small or biased dataset."
   ]
  },
  {
   "cell_type": "markdown",
   "id": "1f41ce06",
   "metadata": {},
   "source": [
    "**5. Demonstrate various approaches to categorical data exploration with appropriate examples.**"
   ]
  },
  {
   "cell_type": "markdown",
   "id": "a4daac2c",
   "metadata": {},
   "source": [
    "There are many different approaches to categorical data exploration, including:\n",
    "\n",
    "* **Frequency tables:** These tables show the number of times each category appears in the data.\n",
    "* **Bar charts:** These charts show the frequency of each category using bars.\n",
    "* **Pie charts:** These charts show the frequency of each category using a pie slice."
   ]
  },
  {
   "cell_type": "markdown",
   "id": "d1db0061",
   "metadata": {},
   "source": [
    "**6. How would the learning activity be affected if certain variables have missing values? Having said that, what can be done about it?**"
   ]
  },
  {
   "cell_type": "markdown",
   "id": "7f80eea9",
   "metadata": {},
   "source": [
    "If certain variables have missing values, the learning algorithm may not be able to learn from them effectively. This can lead to reduced accuracy and increased bias. There are a number of things that can be done to deal with missing values, including:\n",
    "\n",
    "* **Imputing the missing values:** This is the process of filling in the missing values with a guess. This can be done using a variety of methods, such as the mean, median, or mode.\n",
    "* **Deleting the records with missing values:** This can be done if the number of records with missing values is small.\n",
    "* **Using a machine learning algorithm that can handle missing values:** There are a number of machine learning algorithms that can handle missing values, such as decision trees and random forests."
   ]
  },
  {
   "cell_type": "markdown",
   "id": "e66a971c",
   "metadata": {},
   "source": [
    "**7. Describe the various methods for dealing with missing data values in depth.**"
   ]
  },
  {
   "cell_type": "markdown",
   "id": "c7afca67",
   "metadata": {},
   "source": [
    "There are a number of different methods for dealing with missing data values, including:\n",
    "\n",
    "* **Mean imputation:** This is the most common method for imputing missing values. It involves replacing the missing values with the mean of the observed values.\n",
    "* **Median imputation:** This method is similar to mean imputation, but it uses the median instead of the mean.\n",
    "* **Mode imputation:** This method replaces the missing values with the mode of the observed values.\n",
    "* **KNN imputation:** This method imputes the missing values using the k nearest neighbors of the observation with the missing value.\n",
    "* **Random forest imputation:** This method imputes the missing values using a random forest model."
   ]
  },
  {
   "cell_type": "markdown",
   "id": "a31afbd8",
   "metadata": {},
   "source": [
    "**8. What are the various data pre-processing techniques? Explain dimensionality reduction and function selection in a few words.**"
   ]
  },
  {
   "cell_type": "markdown",
   "id": "e2df5a1d",
   "metadata": {},
   "source": [
    "There are many different data pre-processing techniques, but some of the most common ones include:\n",
    "\n",
    "* **Data cleaning:** This involves identifying and correcting any errors or inconsistencies in the data.\n",
    "* **Data integration:** This involves combining multiple datasets into a single dataset.\n",
    "* **Data transformation:** This involves converting the data into a format that is more suitable for analysis.\n",
    "* **Data reduction:** This involves reducing the size of the data without losing too much information.\n",
    "* **Feature engineering:** This involves creating new features from existing features.\n",
    "\n",
    "Dimensionality reduction is a technique that is used to reduce the number of features in a dataset. This can be done by removing redundant features, or by combining multiple features into a single feature. Function selection is a technique that is used to select the best features for a machine learning model. This can be done by using a variety of methods, such as cross-validation."
   ]
  },
  {
   "cell_type": "markdown",
   "id": "300ed30b",
   "metadata": {},
   "source": [
    "**9. i. What is the IQR? What criteria are used to assess it?  \n",
    "    ii. Describe the various components of a box plot in detail? When will the lower whisker    surpass the upper whisker in length? How can box plots be used to identify outliers?**"
   ]
  },
  {
   "cell_type": "markdown",
   "id": "49052176",
   "metadata": {},
   "source": [
    "i. The IQR, or interquartile range, is a measure of variability. It is calculated by finding the difference between the third and first quartiles. The IQR is a more robust measure of variability than the standard deviation, because it is not affected by outliers.\n",
    "\n",
    "The criteria that are used to assess the IQR are:\n",
    "\n",
    "* The IQR should be large enough to capture most of the variation in the data.\n",
    "* The IQR should be relatively stable from sample to sample.\n",
    "* The IQR should be comparable to the IQRs of other datasets of similar size.\n",
    "\n",
    "ii. A box plot is a graphical representation of the distribution of data. It consists of a number of components, including:\n",
    "\n",
    "* **The median:** The median is the middle value in the dataset. It is represented by a line in the box plot.\n",
    "* **The first and third quartiles:** The first quartile is the middle value of the lower half of the dataset, and the third quartile is the middle value of the upper half of the dataset. They are represented by the ends of the box.\n",
    "* **The interquartile range:** The interquartile range is the distance between the first and third quartiles. It is represented by the length of the box.\n",
    "* **The whiskers:** The whiskers extend from the box to the farthest data point. They are used to show the range of the data.\n",
    "\n",
    "The lower whisker will surpass the upper whisker in length when there are more outliers in the lower half of the dataset than in the upper half.\n",
    "\n",
    "Box plots can be used to identify outliers by looking for data points that fall outside of the whiskers. Outliers can be caused by a number of factors, such as measurement error or data entry errors.\n",
    "\n"
   ]
  },
  {
   "cell_type": "markdown",
   "id": "b0734abd",
   "metadata": {},
   "source": [
    "**10. Make brief notes on any two of the following:**\n",
    "1. Data collected at regular intervals\n",
    "2. The gap between the quartiles\n",
    "3. Use a cross-tab\n",
    "\n",
    "\n",
    "1. Make a comparison between:\n",
    "\n",
    "1. Data with nominal and ordinal values\n",
    "\n",
    "2. Histogram and box plot\n",
    "\n",
    "3. The average and median"
   ]
  },
  {
   "cell_type": "markdown",
   "id": "ab9e4ea8",
   "metadata": {},
   "source": [
    "* **Data collected at regular intervals:** Data collected at regular intervals is called time series data. Time series data is often used to track trends over time.\n",
    "* **The gap between the quartiles:** The gap between the quartiles is called the interquartile range. The interquartile range is a measure of variability.\n",
    "* **Use a cross-tab:** A cross-tab is a table that shows the frequency of occurrence of two or more variables. Cross-tabs are often used to explore relationships between variables.\n",
    "\n",
    "Make a comparison between:\n",
    "\n",
    "* **Data with nominal and ordinal values:** Data with nominal values is categorical data. The values in nominal data do not have a natural order. Data with ordinal values is also categorical data, but the values in ordinal data have a natural order.\n",
    "* **Histogram and box plot:** A histogram is a graphical representation of the distribution of data. A box plot is a graphical representation of the distribution of data that also shows the median, quartiles, and outliers.\n",
    "* **The average and median:** The average is the sum of the values in a dataset divided by the number of values in the dataset. The median is the middle value in a dataset. The average and median are both measures of central tendency, but they can be different in some cases."
   ]
  }
 ],
 "metadata": {
  "kernelspec": {
   "display_name": "Python 3 (ipykernel)",
   "language": "python",
   "name": "python3"
  },
  "language_info": {
   "codemirror_mode": {
    "name": "ipython",
    "version": 3
   },
   "file_extension": ".py",
   "mimetype": "text/x-python",
   "name": "python",
   "nbconvert_exporter": "python",
   "pygments_lexer": "ipython3",
   "version": "3.9.13"
  }
 },
 "nbformat": 4,
 "nbformat_minor": 5
}
