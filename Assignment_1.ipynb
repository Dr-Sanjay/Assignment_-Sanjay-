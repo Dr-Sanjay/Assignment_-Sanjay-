{
  "cells": [
    {
      "cell_type": "code",
      "execution_count": null,
      "metadata": {
        "id": "BWz1YTHjNurI"
      },
      "outputs": [],
      "source": [
        "print(\"Hi a1 sanjay\")"
      ]
    }
  ],
  "metadata": {
    "colab": {
      "authorship_tag": "ABX9TyO5rnoEGWqpSSiycbXgf0E+",
      "provenance": []
    },
    "kernelspec": {
      "display_name": "Python 3",
      "name": "python3"
    },
    "language_info": {
      "name": "python"
    }
  },
  "nbformat": 4,
  "nbformat_minor": 0
}
