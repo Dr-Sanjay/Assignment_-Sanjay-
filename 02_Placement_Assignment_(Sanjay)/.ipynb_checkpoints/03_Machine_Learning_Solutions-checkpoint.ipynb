{
 "cells": [
  {
   "cell_type": "markdown",
   "id": "48626949",
   "metadata": {},
   "source": [
    "# 03_Machine_Learning_Solutions"
   ]
  },
  {
   "cell_type": "markdown",
   "id": "d594ac42",
   "metadata": {},
   "source": [
    "### INTERMEDIATE QUESTIONS :"
   ]
  },
  {
   "cell_type": "markdown",
   "id": "dc93e402",
   "metadata": {},
   "source": [
    "Q-1. Imagine you have a dataset where you have different Instagram features\n",
    "like u sername , Caption , Hashtag , Followers , Time_Since_posted , and likes , now your task is\n",
    "to predict the number of likes and Time Since posted and the rest of the features are\n",
    "your input features. Now you have to build a model which can predict the\n",
    "number of likes and Time Since posted.\n",
    "Dataset This is the Dataset You can use this dataset for this question."
   ]
  },
  {
   "cell_type": "code",
   "execution_count": null,
   "id": "61d6b278",
   "metadata": {},
   "outputs": [],
   "source": [
    "import pandas as pd\n",
    "from sklearn.model_selection import train_test_split\n",
    "from sklearn.linear_model import LinearRegression\n",
    "from sklearn.feature_extraction.text import HashingVectorizer\n",
    "from sklearn.metrics import mean_squared_error, mean_absolute_error, r2_score\n",
    "\n",
    "# Load the df\n",
    "df = pd.read_csv('/content/instagram_reach.csv')\n",
    "\n",
    "# Split the df into input features (X) and target variables (y)\n",
    "X = df[['USERNAME', 'Caption', 'Hashtags', 'Followers']]\n",
    "y_likes = df['Likes']\n",
    "y_time_since_posted = df['Time since posted']\n",
    "\n",
    "# Preprocess the input features\n",
    "# Feature hashing for 'Caption' column\n",
    "caption_vectorizer = HashingVectorizer(n_features=1000)\n",
    "X_caption = caption_vectorizer.fit_transform(X['Caption'])\n",
    "\n",
    "# Feature hashing for 'Hashtags' column\n",
    "hashtags_vectorizer = HashingVectorizer(n_features=100)\n",
    "X_hashtags = hashtags_vectorizer.fit_transform(X['Hashtags'])\n",
    "\n",
    "# Concatenate the hashed features with other numerical features\n",
    "X_processed = pd.concat([X[['USERNAME', 'Followers']], pd.DataFrame(X_caption.toarray()), pd.DataFrame(X_hashtags.toarray())], axis=1)\n",
    "\n",
    "# Split the df into training and testing sets\n",
    "X_train, X_test, y_likes_train, y_likes_test, y_time_train, y_time_test = train_test_split(\n",
    "    X_processed, y_likes, y_time_since_posted, test_size=0.2, random_state=42)\n",
    "\n",
    "# Train a linear regression model for predicting number of likes\n",
    "likes_model = LinearRegression()\n",
    "likes_model.fit(X_train, y_likes_train)\n",
    "\n",
    "# Train a linear regression model for predicting time since posted\n",
    "time_model = LinearRegression()\n",
    "time_model.fit(X_train, y_time_train)\n",
    "\n",
    "# Make predictions on the testing set for number of likes\n",
    "likes_predictions = likes_model.predict(X_test)\n",
    "\n",
    "# Make predictions on the testing set for time since posted\n",
    "time_predictions = time_model.predict(X_test)\n",
    "\n",
    "# Evaluate the model for number of likes\n",
    "likes_mse = mean_squared_error(y_likes_test, likes_predictions)\n",
    "likes_mae = mean_absolute_error(y_likes_test, likes_predictions)\n",
    "likes_r2 = r2_score(y_likes_test, likes_predictions)\n",
    "\n",
    "# Evaluate the model for time since posted\n",
    "time_mse = mean_squared_error(y_time_test, time_predictions)\n",
    "time_mae = mean_absolute_error(y_time_test, time_predictions)\n",
    "time_r2 = r2_score(y_time_test, time_predictions)\n",
    "\n",
    "# Print the evaluation metrics\n",
    "print('Number of Likes - MSE: ', likes_mse)\n",
    "print('Number of Likes - MAE: ', likes_mae)\n",
    "print('Number of Likes - R^2: ', likes_r2)\n",
    "\n",
    "print('Time Since Posted - MSE: ', time_mse)\n",
    "print('Time Since Posted - MAE: ', time_mae)\n",
    "print('Time Since Posted - R^2: ', time_r2)\n",
    "\n",
    "# Now you can use the trained models to make predictions on new data\n",
    "new_data = pd.DataFrame({'USERNAME': ['new_user'], 'Caption': ['new_caption'], 'Hashtags': ['new_hashtag'], 'Followers': [1000]})\n",
    "new_caption = caption_vectorizer.transform(new_data['Caption'])\n",
    "new_hashtags = hashtags_vectorizer.transform(new_data['Hashtags'])\n",
    "new_data_processed = pd.concat([new_data[['USERNAME', 'Followers']], pd.DataFrame(new_caption.toarray()), pd.DataFrame(new_hashtags.toarray())], axis=1)\n",
    "new_likes_prediction = likes_model.predict(new_data_processed)\n",
    "new_time_prediction = time_model.predict(new_data_processed)\n",
    "\n",
    "print('New Data - Number of Likes Prediction: ', new_likes_prediction)\n",
    "print('New Data - Time Since Posted Prediction: ', new_time_prediction)\n"
   ]
  },
  {
   "cell_type": "code",
   "execution_count": null,
   "id": "02b8ad4d",
   "metadata": {},
   "outputs": [],
   "source": [
    "Q-2. Imagine you have a dataset where you have different features like Age ,\n",
    "\n",
    "Gender , Height , Weight , BMI , and Blood Pressure and you have to classify the people into\n",
    "different classes like Normal , Overweight , Obesity , Underweight , and Extreme Obesity by using\n",
    "any 4 different classification algorithms. Now you have to build a model which\n",
    "can classify people into different classes.\n",
    "Dataset This is the Dataset You can use this dataset for this question."
   ]
  },
  {
   "cell_type": "code",
   "execution_count": null,
   "id": "d8d84e5f",
   "metadata": {},
   "outputs": [],
   "source": []
  },
  {
   "cell_type": "code",
   "execution_count": null,
   "id": "707beaa3",
   "metadata": {},
   "outputs": [],
   "source": [
    "Q-3. Imagine you have a dataset where you have different categories of data, Now\n",
    "you need to find the most similar data to the given data by using any 4 different\n",
    "similarity algorithms. Now you have to build a model which can find the most similar\n",
    "data to the given data.\n",
    "Dataset This is the Dataset You can use this dataset for this question."
   ]
  },
  {
   "cell_type": "code",
   "execution_count": null,
   "id": "b66f7f12",
   "metadata": {},
   "outputs": [],
   "source": []
  },
  {
   "cell_type": "code",
   "execution_count": null,
   "id": "77aa00d0",
   "metadata": {},
   "outputs": [],
   "source": [
    "Q-4. Imagine you working as a sale manager now you need to predict the Revenue\n",
    "and whether that particular revenue is on the weekend or not and find the\n",
    "Informational_Duration using the Ensemble learning algorithm\n",
    "Dataset This is the Dataset You can use this dataset for this question."
   ]
  },
  {
   "cell_type": "code",
   "execution_count": null,
   "id": "fd519087",
   "metadata": {},
   "outputs": [],
   "source": []
  },
  {
   "cell_type": "code",
   "execution_count": null,
   "id": "3e12dacc",
   "metadata": {},
   "outputs": [],
   "source": [
    "Q-5. Uber is a taxi service provider as we know, we need to predict the high\n",
    "booking area using an Unsupervised algorithm and price for the location using a\n",
    "supervised algorithm and use some map function to display the data\n",
    "Dataset This is the Dataset You can use this dataset for this question."
   ]
  },
  {
   "cell_type": "code",
   "execution_count": null,
   "id": "393ff381",
   "metadata": {},
   "outputs": [],
   "source": []
  },
  {
   "cell_type": "code",
   "execution_count": null,
   "id": "d3d647d6",
   "metadata": {},
   "outputs": [],
   "source": [
    "Q-6. Imagine you have a dataset where you have predicted loan Eligibility using any\n",
    "4 different classification algorithms. Now you have to build a model which can\n",
    "predict loan Eligibility and you need to find the accuracy of the model and built-in\n",
    "docker and use some library to display that in frontend\n",
    "Dataset This is the Dataset You can use this dataset for this question."
   ]
  },
  {
   "cell_type": "code",
   "execution_count": null,
   "id": "edd54db6",
   "metadata": {},
   "outputs": [],
   "source": []
  },
  {
   "cell_type": "code",
   "execution_count": null,
   "id": "7d7f410c",
   "metadata": {},
   "outputs": [],
   "source": [
    "Q-7. Imagine you have a dataset where you need to predict the Genres of Music\n",
    "using\n",
    "an Unsupervised algorithm and you need to find the accuracy of the model, built-in\n",
    "docker, and use some library to display that in frontend\n",
    "Dataset This is the Dataset You can use this dataset for this question."
   ]
  },
  {
   "cell_type": "code",
   "execution_count": null,
   "id": "ebe830c1",
   "metadata": {},
   "outputs": [],
   "source": []
  },
  {
   "cell_type": "code",
   "execution_count": null,
   "id": "4bc267ab",
   "metadata": {},
   "outputs": [],
   "source": [
    "Q-8. Quora question pair similarity, you need to find the Similarity between two\n",
    "questions by mapping the words in the questions using TF-IDF, and using a supervised\n",
    "Algorithm you need to find the similarity between the questions.\n",
    "Dataset This is the Dataset You can use this dataset for this question.\n"
   ]
  },
  {
   "cell_type": "code",
   "execution_count": null,
   "id": "87d8fd07",
   "metadata": {},
   "outputs": [],
   "source": []
  },
  {
   "cell_type": "markdown",
   "id": "5ba1826a",
   "metadata": {},
   "source": [
    "Q-9. A cyber security agent wants to check the Microsoft Malware so need he came\n",
    "to you as a Machine learning Engineering with Data, You need to find the Malware\n",
    "using a supervised algorithm and you need to find the accuracy of the model.\n",
    "Dataset This is the Dataset You can use this dataset for this question.\n",
    "1. An Ad- Agency analyzed a dataset of online ads and used a machine learning\n",
    "model to predict whether a user would click on an ad or not.\n",
    "Dataset This is the Dataset You can use this dataset for this question."
   ]
  },
  {
   "cell_type": "code",
   "execution_count": null,
   "id": "f431ca24",
   "metadata": {},
   "outputs": [],
   "source": []
  },
  {
   "cell_type": "markdown",
   "id": "a0dfb0dd",
   "metadata": {},
   "source": [
    "### ADVANCED QUESTIONS :"
   ]
  },
  {
   "cell_type": "code",
   "execution_count": null,
   "id": "8745760a",
   "metadata": {},
   "outputs": [],
   "source": [
    "\n",
    "\n",
    "Q-1. A Social Media Influencer collected data on Facebook friend requests and used\n",
    "a supervised algorithm to predict whether a user would accept a friend request or\n",
    "not. Dataset This is the Dataset You can use this dataset for this question. Note : Use\n",
    "only Dask and Use MLflow"
   ]
  },
  {
   "cell_type": "code",
   "execution_count": null,
   "id": "48edd91b",
   "metadata": {},
   "outputs": [],
   "source": []
  },
  {
   "cell_type": "code",
   "execution_count": null,
   "id": "675944c4",
   "metadata": {},
   "outputs": [],
   "source": [
    "Q-2. A chemist had two chemical flasks labeled 0 and 1 which consist of two\n",
    "different chemicals. He extracted 3 features from these chemicals in order to\n",
    "distinguish between them, you provided the results derived by the chemicals and\n",
    "your task is to create a model that will label chemical 0 or 1 given its three features\n",
    "and built-in docker and use some library to display that in frontend.\n",
    "Note : Use only pyspark\n",
    "Dataset This is the Dataset You can use this dataset for this question."
   ]
  },
  {
   "cell_type": "code",
   "execution_count": null,
   "id": "634b83be",
   "metadata": {},
   "outputs": [],
   "source": []
  },
  {
   "cell_type": "code",
   "execution_count": null,
   "id": "3c0f4942",
   "metadata": {},
   "outputs": [],
   "source": [
    "Q- 3. A company wants to predict the sales of its product based on the money spent\n",
    "on different platforms for marketing. They want you to figure out how they can\n",
    "spend money on marketing in the future in such a way that they can increase their\n",
    "profit as much as possible built-in docker and use some library to display that in\n",
    "frontend Dataset This is the Dataset You can use this dataset for this question. Note:\n",
    "Use only Dask"
   ]
  },
  {
   "cell_type": "code",
   "execution_count": null,
   "id": "fa764a4d",
   "metadata": {},
   "outputs": [],
   "source": []
  },
  {
   "cell_type": "code",
   "execution_count": null,
   "id": "e08899ec",
   "metadata": {},
   "outputs": [],
   "source": [
    "Q-4. Take any 3 questions and deploy them to AWS using GitHub Actions and\n",
    "show a demo link"
   ]
  },
  {
   "cell_type": "code",
   "execution_count": null,
   "id": "bbf1877b",
   "metadata": {},
   "outputs": [],
   "source": []
  },
  {
   "cell_type": "code",
   "execution_count": null,
   "id": "6faaa6b9",
   "metadata": {},
   "outputs": [],
   "source": [
    "\n",
    "Q-5. Take any 3 questions and deploy them to AWS using Circle-CI and show a\n",
    "demo link"
   ]
  }
 ],
 "metadata": {
  "kernelspec": {
   "display_name": "Python 3 (ipykernel)",
   "language": "python",
   "name": "python3"
  },
  "language_info": {
   "codemirror_mode": {
    "name": "ipython",
    "version": 3
   },
   "file_extension": ".py",
   "mimetype": "text/x-python",
   "name": "python",
   "nbconvert_exporter": "python",
   "pygments_lexer": "ipython3",
   "version": "3.9.13"
  }
 },
 "nbformat": 4,
 "nbformat_minor": 5
}
