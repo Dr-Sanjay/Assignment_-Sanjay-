{
 "cells": [
  {
   "cell_type": "markdown",
   "id": "77cae1f3",
   "metadata": {},
   "source": [
    "# 03_Machine_Learning_Solutions"
   ]
  },
  {
   "cell_type": "markdown",
   "id": "90ed95c3",
   "metadata": {},
   "source": [
    "### INTERMEDIATE QUESTIONS :"
   ]
  },
  {
   "cell_type": "markdown",
   "id": "b5092143",
   "metadata": {},
   "source": [
    "Q-1. Imagine you have a dataset where you have different Instagram features\n",
    "like u sername , Caption , Hashtag , Followers , Time_Since_posted , and likes , now your task is\n",
    "to predict the number of likes and Time Since posted and the rest of the features are\n",
    "your input features. Now you have to build a model which can predict the\n",
    "number of likes and Time Since posted.\n",
    "Dataset This is the Dataset You can use this dataset for this question."
   ]
  },
  {
   "cell_type": "code",
   "execution_count": null,
   "id": "85388eec",
   "metadata": {},
   "outputs": [],
   "source": []
  },
  {
   "cell_type": "code",
   "execution_count": null,
   "id": "fa9f1b19",
   "metadata": {},
   "outputs": [],
   "source": [
    "Q-2. Imagine you have a dataset where you have different features like Age ,\n",
    "\n",
    "Gender , Height , Weight , BMI , and Blood Pressure and you have to classify the people into\n",
    "different classes like Normal , Overweight , Obesity , Underweight , and Extreme Obesity by using\n",
    "any 4 different classification algorithms. Now you have to build a model which\n",
    "can classify people into different classes.\n",
    "Dataset This is the Dataset You can use this dataset for this question."
   ]
  },
  {
   "cell_type": "code",
   "execution_count": null,
   "id": "594f7607",
   "metadata": {},
   "outputs": [],
   "source": []
  },
  {
   "cell_type": "code",
   "execution_count": null,
   "id": "1576e825",
   "metadata": {},
   "outputs": [],
   "source": [
    "Q-3. Imagine you have a dataset where you have different categories of data, Now\n",
    "you need to find the most similar data to the given data by using any 4 different\n",
    "similarity algorithms. Now you have to build a model which can find the most similar\n",
    "data to the given data.\n",
    "Dataset This is the Dataset You can use this dataset for this question."
   ]
  },
  {
   "cell_type": "code",
   "execution_count": null,
   "id": "4ba5408b",
   "metadata": {},
   "outputs": [],
   "source": []
  },
  {
   "cell_type": "code",
   "execution_count": null,
   "id": "707381a7",
   "metadata": {},
   "outputs": [],
   "source": [
    "Q-4. Imagine you working as a sale manager now you need to predict the Revenue\n",
    "and whether that particular revenue is on the weekend or not and find the\n",
    "Informational_Duration using the Ensemble learning algorithm\n",
    "Dataset This is the Dataset You can use this dataset for this question."
   ]
  },
  {
   "cell_type": "code",
   "execution_count": null,
   "id": "6f3423a0",
   "metadata": {},
   "outputs": [],
   "source": []
  },
  {
   "cell_type": "code",
   "execution_count": null,
   "id": "6c0a73af",
   "metadata": {},
   "outputs": [],
   "source": [
    "Q-5. Uber is a taxi service provider as we know, we need to predict the high\n",
    "booking area using an Unsupervised algorithm and price for the location using a\n",
    "supervised algorithm and use some map function to display the data\n",
    "Dataset This is the Dataset You can use this dataset for this question."
   ]
  },
  {
   "cell_type": "code",
   "execution_count": null,
   "id": "2660e605",
   "metadata": {},
   "outputs": [],
   "source": []
  },
  {
   "cell_type": "code",
   "execution_count": null,
   "id": "20127599",
   "metadata": {},
   "outputs": [],
   "source": [
    "Q-6. Imagine you have a dataset where you have predicted loan Eligibility using any\n",
    "4 different classification algorithms. Now you have to build a model which can\n",
    "predict loan Eligibility and you need to find the accuracy of the model and built-in\n",
    "docker and use some library to display that in frontend\n",
    "Dataset This is the Dataset You can use this dataset for this question."
   ]
  },
  {
   "cell_type": "code",
   "execution_count": null,
   "id": "825acd88",
   "metadata": {},
   "outputs": [],
   "source": []
  },
  {
   "cell_type": "code",
   "execution_count": null,
   "id": "3fe030c1",
   "metadata": {},
   "outputs": [],
   "source": [
    "Q-7. Imagine you have a dataset where you need to predict the Genres of Music\n",
    "using\n",
    "an Unsupervised algorithm and you need to find the accuracy of the model, built-in\n",
    "docker, and use some library to display that in frontend\n",
    "Dataset This is the Dataset You can use this dataset for this question."
   ]
  },
  {
   "cell_type": "code",
   "execution_count": null,
   "id": "efb3bfbb",
   "metadata": {},
   "outputs": [],
   "source": []
  },
  {
   "cell_type": "code",
   "execution_count": null,
   "id": "432258dd",
   "metadata": {},
   "outputs": [],
   "source": [
    "Q-8. Quora question pair similarity, you need to find the Similarity between two\n",
    "questions by mapping the words in the questions using TF-IDF, and using a supervised\n",
    "Algorithm you need to find the similarity between the questions.\n",
    "Dataset This is the Dataset You can use this dataset for this question.\n"
   ]
  },
  {
   "cell_type": "code",
   "execution_count": null,
   "id": "eb90f167",
   "metadata": {},
   "outputs": [],
   "source": []
  },
  {
   "cell_type": "markdown",
   "id": "c0e96994",
   "metadata": {},
   "source": [
    "Q-9. A cyber security agent wants to check the Microsoft Malware so need he came\n",
    "to you as a Machine learning Engineering with Data, You need to find the Malware\n",
    "using a supervised algorithm and you need to find the accuracy of the model.\n",
    "Dataset This is the Dataset You can use this dataset for this question.\n",
    "1. An Ad- Agency analyzed a dataset of online ads and used a machine learning\n",
    "model to predict whether a user would click on an ad or not.\n",
    "Dataset This is the Dataset You can use this dataset for this question."
   ]
  },
  {
   "cell_type": "code",
   "execution_count": null,
   "id": "a829a2fc",
   "metadata": {},
   "outputs": [],
   "source": []
  },
  {
   "cell_type": "markdown",
   "id": "b35e564c",
   "metadata": {},
   "source": [
    "### Advanced Questions :"
   ]
  },
  {
   "cell_type": "code",
   "execution_count": null,
   "id": "2de62814",
   "metadata": {},
   "outputs": [],
   "source": [
    "\n",
    "\n",
    "Q-1. A Social Media Influencer collected data on Facebook friend requests and used\n",
    "a supervised algorithm to predict whether a user would accept a friend request or\n",
    "not. Dataset This is the Dataset You can use this dataset for this question. Note : Use\n",
    "only Dask and Use MLflow"
   ]
  },
  {
   "cell_type": "code",
   "execution_count": null,
   "id": "8ff4a4d9",
   "metadata": {},
   "outputs": [],
   "source": []
  },
  {
   "cell_type": "code",
   "execution_count": null,
   "id": "904a107a",
   "metadata": {},
   "outputs": [],
   "source": [
    "Q-2. A chemist had two chemical flasks labeled 0 and 1 which consist of two\n",
    "different chemicals. He extracted 3 features from these chemicals in order to\n",
    "distinguish between them, you provided the results derived by the chemicals and\n",
    "your task is to create a model that will label chemical 0 or 1 given its three features\n",
    "and built-in docker and use some library to display that in frontend.\n",
    "Note : Use only pyspark\n",
    "Dataset This is the Dataset You can use this dataset for this question."
   ]
  },
  {
   "cell_type": "code",
   "execution_count": null,
   "id": "2bf22e30",
   "metadata": {},
   "outputs": [],
   "source": []
  },
  {
   "cell_type": "code",
   "execution_count": null,
   "id": "ef0e03c3",
   "metadata": {},
   "outputs": [],
   "source": [
    "Q- 3. A company wants to predict the sales of its product based on the money spent\n",
    "on different platforms for marketing. They want you to figure out how they can\n",
    "spend money on marketing in the future in such a way that they can increase their\n",
    "profit as much as possible built-in docker and use some library to display that in\n",
    "frontend Dataset This is the Dataset You can use this dataset for this question. Note:\n",
    "Use only Dask"
   ]
  },
  {
   "cell_type": "code",
   "execution_count": null,
   "id": "afcfd29d",
   "metadata": {},
   "outputs": [],
   "source": []
  },
  {
   "cell_type": "code",
   "execution_count": null,
   "id": "97936ed6",
   "metadata": {},
   "outputs": [],
   "source": [
    "Q-4. Take any 3 questions and deploy them to AWS using GitHub Actions and\n",
    "show a demo link"
   ]
  },
  {
   "cell_type": "code",
   "execution_count": null,
   "id": "cc79c2f4",
   "metadata": {},
   "outputs": [],
   "source": []
  },
  {
   "cell_type": "code",
   "execution_count": null,
   "id": "72987c1e",
   "metadata": {},
   "outputs": [],
   "source": [
    "\n",
    "Q-5. Take any 3 questions and deploy them to AWS using Circle-CI and show a\n",
    "demo link"
   ]
  }
 ],
 "metadata": {
  "kernelspec": {
   "display_name": "Python 3 (ipykernel)",
   "language": "python",
   "name": "python3"
  },
  "language_info": {
   "codemirror_mode": {
    "name": "ipython",
    "version": 3
   },
   "file_extension": ".py",
   "mimetype": "text/x-python",
   "name": "python",
   "nbconvert_exporter": "python",
   "pygments_lexer": "ipython3",
   "version": "3.9.13"
  }
 },
 "nbformat": 4,
 "nbformat_minor": 5
}
