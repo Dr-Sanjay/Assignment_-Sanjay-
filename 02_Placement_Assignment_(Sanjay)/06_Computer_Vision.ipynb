{
 "cells": [
  {
   "cell_type": "markdown",
   "id": "025055cf",
   "metadata": {},
   "source": [
    "# 06_Computer_Vision_Solutions"
   ]
  },
  {
   "cell_type": "markdown",
   "id": "95533db2",
   "metadata": {},
   "source": [
    "**Question 1 -\n",
    "Train a deep learning model which would classify the vegetables based on the\n",
    "images provided. The dataset can be accessed from the given link.**\n",
    "\n",
    "Link-\n",
    "https://www.kaggle.com/datasets/misrakahmed/vegetable-image-dataset\n",
    "\n",
    "Note -\n",
    "1. Use PyTorch as the framework for training model\n",
    "2. Use Distributed Parallel Training technique to optimize training time.\n",
    "3. Achieve an accuracy of at least 85% on the validation dataset.\n",
    "4. Use albumentations library for image transformation\n",
    "5. Use TensorBoard logging for visualizing training performance\n",
    "6. Use custom modular Python scripts to train model\n",
    "7. Only Jupyter notebooks will not be allowed\n",
    "8. Write code comments wherever needed for understanding"
   ]
  },
  {
   "cell_type": "code",
   "execution_count": null,
   "id": "d970c69f",
   "metadata": {},
   "outputs": [],
   "source": []
  },
  {
   "cell_type": "markdown",
   "id": "357acc85",
   "metadata": {},
   "source": [
    "**Question 2 -\n",
    "From Question 1, you would get a trained model which would classify the\n",
    "vegetables based on the classes. You need to convert the trained model to ONNX\n",
    "format and achieve faster inference\n",
    "Note -**\n",
    "1. There is no set inference time, but try to achieve as low an inference time as\n",
    "possible\n",
    "2. Create a web app to interact with the model, where the user can upload the\n",
    "image and get predictions\n",
    "3. Try to reduce the model size considerably so that inference time can be faster\n",
    "4. Use modular Python scripts to train and infer the model\n",
    "5. Only Jupyter notebooks will not be allowed\n",
    "6. Write code comments whenever needed for understanding"
   ]
  },
  {
   "cell_type": "code",
   "execution_count": null,
   "id": "aec7f5c3",
   "metadata": {},
   "outputs": [],
   "source": []
  },
  {
   "cell_type": "markdown",
   "id": "6b8b3608",
   "metadata": {},
   "source": [
    "**Question 3 -\n",
    "Scrap the images from popular e-commerce websites for various product images sold\n",
    "on those websites. Your goal is to fetch the images from the website, create\n",
    "categories of different product classes and train a deep learning model to classify the\n",
    "same based on the user input.\n",
    "Note -**\n",
    "1. You can use any framework of your choice like TensorFlow or PyTorch 2. You\n",
    "have to not use any pre-trained model, but instead create your own custom\n",
    "architecture and then train the model.\n",
    "3. Write code comments wherever needed for understanding\n",
    "4. Try to use little big dataset so that model can be generalized\n",
    "5. Write modular Python scripts to train and infer the model\n",
    "6. Only Jupyter Notebook will be not allowed\n",
    "7. Write code comments wherever needed for code understanding"
   ]
  },
  {
   "cell_type": "code",
   "execution_count": null,
   "id": "9e9b4cb0",
   "metadata": {},
   "outputs": [],
   "source": []
  },
  {
   "cell_type": "markdown",
   "id": "b4220f7a",
   "metadata": {},
   "source": [
    "**Question 4 -\n",
    "You have to train a custom YOLO V7 model on the dataset which is linked below.\n",
    "Your goal is to detect different products based on the given classes based on the\n",
    "user input\n",
    "Link -\n",
    "https://drive.google.com/file/d/1MEgDYJwO_PVVfAbyfjaRHXt7qoiBBHYt/view?\n",
    "usp=share_link\n",
    "Note -\n",
    "1. You have to use PyTorch implementation of YOLO V7\n",
    "2. The dataset consists of 102 classes with train, validation, and test images\n",
    "already in the respective folders.\n",
    "3. Labeling is already done, given with the dataset, so need for annotation\n",
    "4. Since the dataset is small, try to achieve at least an mAP of 85 5. Write\n",
    "modular Python scripts to train the model\n",
    "6. Write code comments wherever needed for understanding\n",
    "Computer Vision Assessment iNeuron 3\n",
    "7. Only Jupyter Notebook will not be allowed"
   ]
  },
  {
   "cell_type": "code",
   "execution_count": null,
   "id": "84092c0a",
   "metadata": {},
   "outputs": [],
   "source": []
  },
  {
   "cell_type": "markdown",
   "id": "ed491ebf",
   "metadata": {},
   "source": [
    "Question 5 -\n",
    "From Question 4, you would have a custom-trained YOLO model. Your goal is to\n",
    "need to convert the model to ONNX format and reduce the inference time.\n",
    "Note -\n",
    "1. Reduce the inference time to as much as possible\n",
    "2. Try to reduce the model size by using techniques like Quantization, etc 3.\n",
    "Create a web app for users to interact with your model where users can upload\n",
    "images and get predictions.\n",
    "4. Write modular Python scripts to infer the model.\n",
    "\n",
    "5. Only Jupyter notebooks are not allowed.\n",
    "6. Write code comments wherever needed for code understanding\n"
   ]
  },
  {
   "cell_type": "code",
   "execution_count": null,
   "id": "cc10161a",
   "metadata": {},
   "outputs": [],
   "source": []
  },
  {
   "cell_type": "markdown",
   "id": "e7547b53",
   "metadata": {},
   "source": [
    "Question 6 -\n",
    "You have to train a custom segmentation model based on Detectron 2 framework.\n",
    "Your goal is to segment the given images based on the user input into the different\n",
    "classes\n",
    "Link -\n",
    "https://www.kaggle.com/competitions/open-images-2019-instance-segmenta\n",
    "tion/data\n",
    "Note -\n",
    "1. For this, only the Jupyter Notebook is fine\n",
    "2. Labels are in COCO format.\n",
    "3. Write code comments wherever needed for understanding"
   ]
  },
  {
   "cell_type": "code",
   "execution_count": null,
   "id": "f1b4b9da",
   "metadata": {},
   "outputs": [],
   "source": []
  },
  {
   "cell_type": "markdown",
   "id": "8c775358",
   "metadata": {},
   "source": [
    "Question 7 -\n",
    "From Question 6, you would have custom trained segmentation model. Your goal is\n",
    "to reduce the model inference time\n",
    "Note -\n",
    "1. Reduce inference time to as much as possible\n",
    "2. Create a web app for users to interact with your model where they can upload\n",
    "images and get predictions\n",
    "3. Write code comments wherever needed for code understanding.\n"
   ]
  },
  {
   "cell_type": "code",
   "execution_count": null,
   "id": "0c89fa69",
   "metadata": {},
   "outputs": [],
   "source": []
  },
  {
   "cell_type": "markdown",
   "id": "a6430c7c",
   "metadata": {},
   "source": [
    "Question 8 -\n",
    "You have to train a custom object detection model based on DETR (Detection\n",
    "Transformer)\n",
    "Link - https://www.kaggle.com/datasets/andrewmvd/helmet-detection\n",
    "Note -\n",
    "1. You need to use HuggingFace PyTorch as the framework\n",
    "2. The dataset is about detecting football players from the images provided\n",
    "3. Data Annotations are already in COCO format.\n",
    "4. Write custom Python scripts for training.\n",
    "\n",
    "5. Write code comments wherever needed for code understanding\n",
    "6. Only Jupyter Notebooks are not allowed"
   ]
  },
  {
   "cell_type": "code",
   "execution_count": null,
   "id": "f3efa0a2",
   "metadata": {},
   "outputs": [],
   "source": []
  },
  {
   "cell_type": "markdown",
   "id": "6260cff9",
   "metadata": {},
   "source": [
    "Question 9 -\n",
    "From Question 8, you would have a custom object detection model\n",
    "Note -\n",
    "1. Try to reduce the model size using quantization\n",
    "2. Create a web app where the users can interact with your model\n",
    "3. Write modular Python script for model inference\n",
    "4. Only Jupyter Notebooks are not allowed\n",
    "5. Write code comments wherever needed for code understanding\n"
   ]
  },
  {
   "cell_type": "code",
   "execution_count": null,
   "id": "580fbf38",
   "metadata": {},
   "outputs": [],
   "source": []
  },
  {
   "cell_type": "markdown",
   "id": "4db72aa3",
   "metadata": {},
   "source": [
    "Question 10 -\n",
    "From all the questions from 1 to 9, take any image classification model, object model\n",
    "detection model, and image segmentation model and deploy it in the cloud Note -\n",
    "1. Deployment of all 3 different models should be AWS, Azure, and GCP 2. A\n",
    "video demo of the application working in the cloud should be good enough 3.\n",
    "Containerization of all 3 applications is important and should be pushed to\n",
    "Docker Hub\n",
    "Computer Vision Assessment iNeuron 5\n",
    "4. CI-CD pipelines using GitHub actions that would deploy the models in all 3\n",
    "clouds are mandatory."
   ]
  },
  {
   "cell_type": "code",
   "execution_count": null,
   "id": "4665420d",
   "metadata": {},
   "outputs": [],
   "source": []
  }
 ],
 "metadata": {
  "kernelspec": {
   "display_name": "Python 3 (ipykernel)",
   "language": "python",
   "name": "python3"
  },
  "language_info": {
   "codemirror_mode": {
    "name": "ipython",
    "version": 3
   },
   "file_extension": ".py",
   "mimetype": "text/x-python",
   "name": "python",
   "nbconvert_exporter": "python",
   "pygments_lexer": "ipython3",
   "version": "3.9.13"
  }
 },
 "nbformat": 4,
 "nbformat_minor": 5
}
