{
 "cells": [
  {
   "cell_type": "markdown",
   "id": "8d553f0c",
   "metadata": {},
   "source": [
    "# Test-05-June-2023"
   ]
  },
  {
   "cell_type": "markdown",
   "id": "ff016cf1",
   "metadata": {},
   "source": [
    "**Move Zeroes\n",
    "01)- Given an integer array nums, move all 0's to the end of it while maintaining the relative order of the non-zero elements.**\n",
    "\n",
    "Note that you must do this in-place without making a copy of the array.\n",
    "\n",
    "Example 1:\n",
    "Input: nums = [0,1,0,3,12]\n",
    "Output: [1,3,12,0,0]\n",
    "\n",
    "Example 2:\n",
    "Input: nums = [0]\n",
    "Output: [0]\n",
    "\n",
    "Constraints:\n",
    "a. 1 <= nums.length <= 10^4\n",
    "b. -2^31 <= nums[i] <= 2^31 - 1\n"
   ]
  },
  {
   "cell_type": "code",
   "execution_count": 1,
   "id": "0550e965",
   "metadata": {},
   "outputs": [],
   "source": [
    "def moveZeroes(nums):\n",
    "    \"\"\"\n",
    "    :type nums: List[int]\n",
    "    :rtype: None\n",
    "    \"\"\"\n",
    "    zero_index = 0\n",
    "    \n",
    "    # Move all non-zero elements to the left\n",
    "    for i in range(len(nums)):\n",
    "        if nums[i] != 0:\n",
    "            nums[zero_index], nums[i] = nums[i], nums[zero_index]\n",
    "            zero_index += 1\n",
    "    \n",
    "    # Fill the rest with zeroes\n",
    "    for i in range(zero_index, len(nums)):\n",
    "        nums[i] = 0\n"
   ]
  },
  {
   "cell_type": "markdown",
   "id": "f9d72afe",
   "metadata": {},
   "source": [
    "**First Unique Character in a String  \n",
    "02)- Given a string s, find the first non-repeating character in it and return its index. If it does not exist, return -1.**\n",
    "\n",
    "Example 1:\n",
    "Input: s = \"leetcode\"\n",
    "Output: 0\n",
    "\n",
    "Example 2:\n",
    "Input: s = \"loveleetcode\"\n",
    "Output: 2\n",
    "\n",
    "Example 3:\n",
    "Input: s = \"aabb\"\n",
    "Output: -1\n",
    "\n",
    "Constraints:\n",
    "a. 1 <= s.length <= 10^5\n",
    "b. s consists of only lowercase English letters."
   ]
  },
  {
   "cell_type": "code",
   "execution_count": 5,
   "id": "4940227e",
   "metadata": {},
   "outputs": [],
   "source": [
    "def firstUniqChar(s):\n",
    "    \"\"\"\n",
    "    :type s: str\n",
    "    :rtype: int\n",
    "    \"\"\"\n",
    "    # Create a dictionary to count the frequency of each character\n",
    "    freq = {}\n",
    "    for c in s:\n",
    "        freq[c] = freq.get(c, 0) + 1\n",
    "    \n",
    "    # Find the first non-repeating character and return its index\n",
    "    for i in range(len(s)):\n",
    "        if freq[s[i]] == 1:\n",
    "            return i\n",
    "    \n",
    "    # If there is no such character, return -1\n",
    "    return -1"
   ]
  }
 ],
 "metadata": {
  "kernelspec": {
   "display_name": "Python 3 (ipykernel)",
   "language": "python",
   "name": "python3"
  },
  "language_info": {
   "codemirror_mode": {
    "name": "ipython",
    "version": 3
   },
   "file_extension": ".py",
   "mimetype": "text/x-python",
   "name": "python",
   "nbconvert_exporter": "python",
   "pygments_lexer": "ipython3",
   "version": "3.9.13"
  }
 },
 "nbformat": 4,
 "nbformat_minor": 5
}
