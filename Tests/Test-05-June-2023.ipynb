{
 "cells": [
  {
   "cell_type": "markdown",
   "id": "2d5fc693",
   "metadata": {},
   "source": [
    "# Test-05-June-2023"
   ]
  },
  {
   "cell_type": "markdown",
   "id": "5b510be9",
   "metadata": {},
   "source": [
    "**Move Zeroes  \n",
    "01)- Given an integer array nums, move all 0's to the end of it while maintaining the relative order of the non-zero elements.**\n",
    "\n",
    "Note that you must do this in-place without making a copy of the array.\n",
    "\n",
    "Example 1:\n",
    "Input: nums = [0,1,0,3,12]\n",
    "Output: [1,3,12,0,0]\n",
    "\n",
    "Example 2:\n",
    "Input: nums = [0]\n",
    "Output: [0]\n",
    "\n",
    "Constraints:\n",
    "a. 1 <= nums.length <= 10^4\n",
    "b. -2^31 <= nums[i] <= 2^31 - 1\n"
   ]
  },
  {
   "cell_type": "code",
   "execution_count": 15,
   "id": "75412788",
   "metadata": {},
   "outputs": [
    {
     "name": "stdout",
     "output_type": "stream",
     "text": [
      "[1, 3, 12, 0, 0]\n",
      "[0]\n"
     ]
    }
   ],
   "source": [
    "def move_zeros(nums):\n",
    "    \n",
    "  # Initializing the pointer to the first non-zero element.\n",
    "  non_zero_ptr = 0\n",
    "\n",
    "  # Iterate over the array.\n",
    "\n",
    "  for i in range(len(nums)):\n",
    "    # If the current element is not 0, swap it with the element at the non-zero\n",
    "    # pointer.\n",
    "    \n",
    "    if nums[i] != 0:\n",
    "      nums[i], nums[non_zero_ptr] = nums[non_zero_ptr], nums[i]\n",
    "      non_zero_ptr += 1\n",
    "\n",
    "  return nums\n",
    "\n",
    "print(move_zeros([0,1,0,3,12]))\n",
    "print(move_zeros([0]))"
   ]
  },
  {
   "cell_type": "markdown",
   "id": "ebbfaa77",
   "metadata": {},
   "source": [
    "**First Unique Character in a String  \n",
    "02)- Given a string s, find the first non-repeating character in it and return its index. If it does not exist, return -1.**\n",
    "\n",
    "Example 1:\n",
    "Input: s = \"leetcode\"\n",
    "Output: 0\n",
    "\n",
    "Example 2:\n",
    "Input: s = \"loveleetcode\"\n",
    "Output: 2\n",
    "\n",
    "Example 3:\n",
    "Input: s = \"aabb\"\n",
    "Output: -1\n",
    "\n",
    "Constraints:\n",
    "a. 1 <= s.length <= 10^5\n",
    "b. s consists of only lowercase English letters."
   ]
  },
  {
   "cell_type": "code",
   "execution_count": 13,
   "id": "7026d4ec",
   "metadata": {},
   "outputs": [
    {
     "name": "stdout",
     "output_type": "stream",
     "text": [
      "0\n",
      "2\n",
      "-1\n"
     ]
    }
   ],
   "source": [
    "def first_unique_char(s):\n",
    "\n",
    "  # Creating a dictionary to store the number of occurrences of each character.\n",
    "  char_counts = {}\n",
    "  for c in s:\n",
    "    if c not in char_counts:\n",
    "      char_counts[c] = 1\n",
    "    else:\n",
    "      char_counts[c] += 1\n",
    "\n",
    "  # Iterate over the string, looking for the first character with a count of 1.\n",
    "  for i in range(len(s)):\n",
    "    if char_counts[s[i]] == 1:\n",
    "      return i\n",
    "\n",
    "  # If no such character exists, return -1.\n",
    "  return -1\n",
    "\n",
    "s = \"leetcode\"\n",
    "index = first_unique_char(s)\n",
    "print(index)\n",
    "\n",
    "s = \"loveleetcode\"\n",
    "index = first_unique_char(s)\n",
    "print(index)\n",
    "\n",
    "s = \"aabb\"\n",
    "index = first_unique_char(s)\n",
    "print(index)"
   ]
  }
 ],
 "metadata": {
  "kernelspec": {
   "display_name": "Python 3 (ipykernel)",
   "language": "python",
   "name": "python3"
  },
  "language_info": {
   "codemirror_mode": {
    "name": "ipython",
    "version": 3
   },
   "file_extension": ".py",
   "mimetype": "text/x-python",
   "name": "python",
   "nbconvert_exporter": "python",
   "pygments_lexer": "ipython3",
   "version": "3.9.13"
  }
 },
 "nbformat": 4,
 "nbformat_minor": 5
}
