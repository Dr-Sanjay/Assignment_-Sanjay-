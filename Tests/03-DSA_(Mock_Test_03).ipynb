{
 "cells": [
  {
   "cell_type": "markdown",
   "id": "82c6d677",
   "metadata": {},
   "source": [
    "# DSA Mock Test 03"
   ]
  },
  {
   "cell_type": "markdown",
   "id": "26b26596",
   "metadata": {},
   "source": [
    "01-Implement a stack using a list in Python. Include the necessary methods such as push, pop, and isEmpty."
   ]
  },
  {
   "cell_type": "code",
   "execution_count": 5,
   "id": "de573029",
   "metadata": {},
   "outputs": [
    {
     "name": "stdout",
     "output_type": "stream",
     "text": [
      "True\n",
      "False\n",
      "cherry\n",
      "banana\n",
      "apple\n",
      "None\n",
      "True\n"
     ]
    }
   ],
   "source": [
    "class Stack:\n",
    "    def __init__(self):\n",
    "        self.stack = []\n",
    "\n",
    "    def push(self, item):\n",
    "        self.stack.append(item)\n",
    "\n",
    "    def pop(self):\n",
    "        if self.is_empty():\n",
    "            return None\n",
    "        return self.stack.pop()\n",
    "\n",
    "    def is_empty(self):\n",
    "        return len(self.stack) == 0\n",
    "    \n",
    "    \n",
    "stack = Stack()\n",
    "print(stack.is_empty())  # True\n",
    "\n",
    "stack.push(\"apple\")\n",
    "stack.push(\"banana\")\n",
    "stack.push(\"cherry\")\n",
    "\n",
    "print(stack.is_empty())  # False\n",
    "\n",
    "print(stack.pop())  # \"cherry\"\n",
    "print(stack.pop())  # \"banana\"\n",
    "print(stack.pop())  # \"apple\"\n",
    "print(stack.pop())  # None\n",
    "\n",
    "print(stack.is_empty())  # True\n",
    "\n"
   ]
  },
  {
   "cell_type": "markdown",
   "id": "fd4f3fee",
   "metadata": {},
   "source": [
    "In this implementation, we define a Stack class that has an __init__ method to initialize an empty list (self.items) as the stack. The isEmpty method checks if the stack is empty by comparing self.items to an empty list. The push method adds an item to the top of the stack by appending it to self.items. The pop method removes and returns the top item from the stack using the pop method of the list."
   ]
  },
  {
   "cell_type": "markdown",
   "id": "e5a6956c",
   "metadata": {},
   "source": [
    "02-Implement a queue using a list in Python. Include the necessary methods such as enqueue, dequeue, and isEmpty."
   ]
  },
  {
   "cell_type": "code",
   "execution_count": 4,
   "id": "fe3a84b8",
   "metadata": {},
   "outputs": [
    {
     "name": "stdout",
     "output_type": "stream",
     "text": [
      "True\n",
      "False\n",
      "apple\n",
      "banana\n",
      "cherry\n",
      "None\n",
      "True\n"
     ]
    }
   ],
   "source": [
    "class Queue:\n",
    "    def __init__(self):\n",
    "        self.queue = []\n",
    "\n",
    "    def enqueue(self, item):\n",
    "        self.queue.append(item)\n",
    "\n",
    "    def dequeue(self):\n",
    "        if self.is_empty():\n",
    "            return None\n",
    "        return self.queue.pop(0)\n",
    "\n",
    "    def is_empty(self):\n",
    "        return len(self.queue) == 0\n",
    "\n",
    "    \n",
    "queue = Queue()\n",
    "print(queue.is_empty())  # True\n",
    "\n",
    "queue.enqueue(\"apple\")\n",
    "queue.enqueue(\"banana\")\n",
    "queue.enqueue(\"cherry\")\n",
    "\n",
    "print(queue.is_empty())  # False\n",
    "\n",
    "print(queue.dequeue())  # \"apple\"\n",
    "print(queue.dequeue())  # \"banana\"\n",
    "print(queue.dequeue())  # \"cherry\"\n",
    "print(queue.dequeue())  # None\n",
    "\n",
    "print(queue.is_empty())  # True\n",
    "\n",
    "\n"
   ]
  },
  {
   "cell_type": "markdown",
   "id": "df2c8428",
   "metadata": {},
   "source": [
    "In this implementation, we define a Queue class that has an __init__ method to initialize an empty list (self.items) as the queue. The isEmpty method checks if the queue is empty by comparing self.items to an empty list. The enqueue method adds an item to the end of the queue by inserting it at index 0 of self.items. The dequeue method removes and returns the first item from the queue using the pop method of the list."
   ]
  }
 ],
 "metadata": {
  "kernelspec": {
   "display_name": "Python 3 (ipykernel)",
   "language": "python",
   "name": "python3"
  },
  "language_info": {
   "codemirror_mode": {
    "name": "ipython",
    "version": 3
   },
   "file_extension": ".py",
   "mimetype": "text/x-python",
   "name": "python",
   "nbconvert_exporter": "python",
   "pygments_lexer": "ipython3",
   "version": "3.9.16"
  }
 },
 "nbformat": 4,
 "nbformat_minor": 5
}
